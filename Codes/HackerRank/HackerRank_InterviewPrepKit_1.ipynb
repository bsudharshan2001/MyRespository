{
  "nbformat": 4,
  "nbformat_minor": 0,
  "metadata": {
    "colab": {
      "name": "HackerRank-InterviewPrepKit.ipynb",
      "provenance": [],
      "collapsed_sections": [],
      "authorship_tag": "ABX9TyNTC6iqqgmWU8oclTtsLJfz",
      "include_colab_link": true
    },
    "kernelspec": {
      "name": "python3",
      "display_name": "Python 3"
    },
    "language_info": {
      "name": "python"
    }
  },
  "cells": [
    {
      "cell_type": "markdown",
      "metadata": {
        "id": "view-in-github",
        "colab_type": "text"
      },
      "source": [
        "<a href=\"https://colab.research.google.com/github/bsudharshan2001/MyRespository/blob/master/Codes/HackerRank/HackerRank_InterviewPrepKit_1.ipynb\" target=\"_parent\"><img src=\"https://colab.research.google.com/assets/colab-badge.svg\" alt=\"Open In Colab\"/></a>"
      ]
    },
    {
      "cell_type": "markdown",
      "metadata": {
        "id": "aFXC84k0UJat"
      },
      "source": [
        "Plus Minus Ratio"
      ]
    },
    {
      "cell_type": "code",
      "metadata": {
        "id": "mxhZfuP8QTFs"
      },
      "source": [
        "#!/bin/python3\n",
        "\n",
        "import math\n",
        "import os\n",
        "import random\n",
        "import re\n",
        "import sys\n",
        "\n",
        "#\n",
        "# Complete the 'plusMinus' function below.\n",
        "#\n",
        "# The function accepts INTEGER_ARRAY arr as parameter.\n",
        "#\n",
        "\n",
        "def plusMinus(arr):\n",
        "    # Write your code here\n",
        "    countn=countp=countz=0\n",
        "    n=len(arr)\n",
        "    for i in range(0,n):\n",
        "        if(arr[i]>=0):\n",
        "            if(arr[i]==0):\n",
        "                countz+=1\n",
        "            else:\n",
        "                countp+=1\n",
        "        else:\n",
        "            countn+=1\n",
        "    print(countp/n)\n",
        "    print(countn/n)\n",
        "    print(countz/n)\n",
        "                \n",
        "        \n",
        "\n",
        "if __name__ == '__main__':\n",
        "    n = int(input().strip())\n",
        "\n",
        "    arr = list(map(int, input().rstrip().split()))\n",
        "\n",
        "    plusMinus(arr)"
      ],
      "execution_count": null,
      "outputs": []
    },
    {
      "cell_type": "markdown",
      "metadata": {
        "id": "qFpkXynTUQdr"
      },
      "source": [
        "Min-Max Sum"
      ]
    },
    {
      "cell_type": "code",
      "metadata": {
        "id": "Ymv1ofOARp8u"
      },
      "source": [
        "#!/bin/python3\n",
        "\n",
        "import math\n",
        "import os\n",
        "import random\n",
        "import re\n",
        "import sys\n",
        "\n",
        "#\n",
        "# Complete the 'miniMaxSum' function below.\n",
        "#\n",
        "# The function accepts INTEGER_ARRAY arr as parameter.\n",
        "#\n",
        "\n",
        "def miniMaxSum(arr):\n",
        "    # Write your code here\n",
        "    sum=0\n",
        "    sarr=[]\n",
        "    n=len(arr)\n",
        "    for i in range(0,n):\n",
        "        for j in range(0,n):\n",
        "            sum+=arr[j]\n",
        "        sum-=arr[i]\n",
        "        sarr.append(sum)\n",
        "        sum=0\n",
        "    sarr.sort()\n",
        "    print(str(sarr[0])+\" \"+str(sarr[4]))\n",
        "            \n",
        "\n",
        "if __name__ == '__main__':\n",
        "\n",
        "    arr = list(map(int, input().rstrip().split()))\n",
        "\n",
        "    miniMaxSum(arr)\n"
      ],
      "execution_count": null,
      "outputs": []
    },
    {
      "cell_type": "markdown",
      "metadata": {
        "id": "zeN4O8NRUTtu"
      },
      "source": [
        ""
      ]
    },
    {
      "cell_type": "code",
      "metadata": {
        "id": "3oS30ZfBUTFY"
      },
      "source": [
        "#!/bin/python3\n",
        "\n",
        "import math\n",
        "import os\n",
        "import random\n",
        "import re\n",
        "import sys\n",
        "\n",
        "#\n",
        "# Complete the 'timeConversion' function below.\n",
        "#\n",
        "# The function is expected to return a STRING.\n",
        "# The function accepts STRING s as parameter.\n",
        "#\n",
        "\n",
        "def timeConversion(s):\n",
        "    # Write your code here\n",
        "    if(s[8:]=='AM'):\n",
        "        if(s[:2]=='12'):\n",
        "            return '00'+s[2:8]\n",
        "        else:\n",
        "            return s[:8]\n",
        "    else:\n",
        "        if(s[:2]=='12'):\n",
        "            return s[:8]\n",
        "        else:\n",
        "            hr=int(s[:2])+12\n",
        "            return str(hr)+s[2:8]\n",
        "            \n",
        "    \n",
        "\n",
        "if __name__ == '__main__':\n",
        "    fptr = open(os.environ['OUTPUT_PATH'], 'w')\n",
        "\n",
        "    s = input()\n",
        "\n",
        "    result = timeConversion(s)\n",
        "\n",
        "    fptr.write(result + '\\n')\n",
        "\n",
        "    fptr.close()\n"
      ],
      "execution_count": null,
      "outputs": []
    },
    {
      "cell_type": "markdown",
      "metadata": {
        "id": "3N759-sxUUpc"
      },
      "source": [
        ""
      ]
    },
    {
      "cell_type": "code",
      "metadata": {
        "colab": {
          "base_uri": "https://localhost:8080/"
        },
        "id": "HcdjvNdBUUVN",
        "outputId": "eae4b630-f874-4bea-ea57-e33ca034c3a7"
      },
      "source": [
        "s=input()\n",
        "print(timeConversion(s))\n",
        "\n",
        "def timeConversion(s):\n",
        "    # Write your code here\n",
        "  if(s[8:]=='AM'):\n",
        "    if(s[:2]=='12'):\n",
        "        return '00'+s[2:8]\n",
        "    else:\n",
        "        return s[:8]\n",
        "  else:\n",
        "    if(s[:2]=='12'):\n",
        "      return s[:8]\n",
        "    else:\n",
        "      hr=int(s[:2])+12\n",
        "      return str(hr)+s[2:8]"
      ],
      "execution_count": null,
      "outputs": [
        {
          "output_type": "stream",
          "name": "stdout",
          "text": [
            "12:40:22AM\n",
            "00:40:22\n"
          ]
        }
      ]
    },
    {
      "cell_type": "markdown",
      "metadata": {
        "id": "8IQmchtGUVlG"
      },
      "source": [
        ""
      ]
    },
    {
      "cell_type": "code",
      "metadata": {
        "colab": {
          "base_uri": "https://localhost:8080/"
        },
        "id": "z00K4H65UV4r",
        "outputId": "693a3521-9768-4366-8628-918862b82584"
      },
      "source": [
        "s=input()\n",
        "print(s[2:9])\n",
        "print(s[:7])\n",
        "print(s[:8])\n",
        "print(s[:2])\n",
        "print(s[8:])\n",
        "print('00'+s[2:8])"
      ],
      "execution_count": null,
      "outputs": [
        {
          "output_type": "stream",
          "name": "stdout",
          "text": [
            "12:40:22AM\n",
            ":40:22A\n",
            "12:40:2\n",
            "12:40:22\n",
            "12\n",
            "AM\n",
            "00:40:22A\n"
          ]
        }
      ]
    },
    {
      "cell_type": "code",
      "metadata": {
        "id": "GhGrdrYdfLKM"
      },
      "source": [
        "#!/bin/python3\n",
        "\n",
        "import math\n",
        "import os\n",
        "import random\n",
        "import re\n",
        "import sys\n",
        "\n",
        "#\n",
        "# Complete the 'matchingStrings' function below.\n",
        "#\n",
        "# The function is expected to return an INTEGER_ARRAY.\n",
        "# The function accepts following parameters:\n",
        "#  1. STRING_ARRAY strings\n",
        "#  2. STRING_ARRAY queries\n",
        "#\n",
        "\n",
        "def matchingStrings(strings, queries):\n",
        "    # Write your code here\n",
        "    n=len(strings)\n",
        "    m=len(queries)\n",
        "    l=[0]*m\n",
        "    for i in range(0,m):\n",
        "        for j in range(0,n):\n",
        "            if(queries[i]==strings[j]):\n",
        "                l[i]+=1\n",
        "    return l\n",
        "                \n",
        "\n",
        "if __name__ == '__main__':\n",
        "    fptr = open(os.environ['OUTPUT_PATH'], 'w')\n",
        "\n",
        "    strings_count = int(input().strip())\n",
        "\n",
        "    strings = []\n",
        "\n",
        "    for _ in range(strings_count):\n",
        "        strings_item = input()\n",
        "        strings.append(strings_item)\n",
        "\n",
        "    queries_count = int(input().strip())\n",
        "\n",
        "    queries = []\n",
        "\n",
        "    for _ in range(queries_count):\n",
        "        queries_item = input()\n",
        "        queries.append(queries_item)\n",
        "\n",
        "    res = matchingStrings(strings, queries)\n",
        "\n",
        "    fptr.write('\\n'.join(map(str, res)))\n",
        "    fptr.write('\\n')\n",
        "\n",
        "    fptr.close()\n"
      ],
      "execution_count": null,
      "outputs": []
    },
    {
      "cell_type": "code",
      "metadata": {
        "id": "jZgaSbmLfWMT"
      },
      "source": [
        "\n",
        "def matchingStrings(strings, queries):\n",
        "    # Write your code here\n",
        "    n=len(strings)\n",
        "    m=len(queries)\n",
        "    l=[0]*m\n",
        "    for i in range(0,m):\n",
        "        for j in range(0,n):\n",
        "            if(queries[i]==strings[j]):\n",
        "                l[i]+=1\n",
        "    return l"
      ],
      "execution_count": null,
      "outputs": []
    },
    {
      "cell_type": "code",
      "metadata": {
        "colab": {
          "base_uri": "https://localhost:8080/"
        },
        "id": "u1m8NUmv2HOY",
        "outputId": "c44b6f55-470d-4bd7-fe21-dabb88fc9523"
      },
      "source": [
        "n=1\n",
        "b='{:032b}'.format(n)\n",
        "print(b)\n",
        "b=b.replace(\"0\",\"a\")\n",
        "b=b.replace(\"1\",\"b\")\n",
        "b=b.replace(\"a\",\"1\")\n",
        "b=b.replace(\"b\",\"0\")\n",
        "print(int(b,2))"
      ],
      "execution_count": 14,
      "outputs": [
        {
          "output_type": "stream",
          "name": "stdout",
          "text": [
            "00000000000000000000000000000001\n",
            "4294967294\n"
          ]
        }
      ]
    },
    {
      "cell_type": "code",
      "metadata": {
        "id": "mZ-IPCeZHhcM"
      },
      "source": [
        "#!/bin/python3\n",
        "\n",
        "import math\n",
        "import os\n",
        "import random\n",
        "import re\n",
        "import sys\n",
        "\n",
        "#\n",
        "# Complete the 'flippingBits' function below.\n",
        "#\n",
        "# The function is expected to return a LONG_INTEGER.\n",
        "# The function accepts LONG_INTEGER n as parameter.\n",
        "#\n",
        "\n",
        "def flippingBits(n):\n",
        "    # Write your code here\n",
        "    b='{:032b}'.format(n)\n",
        "    b=b.replace(\"0\",\"a\")\n",
        "    b=b.replace(\"1\",\"b\")\n",
        "    b=b.replace(\"a\",\"1\")\n",
        "    b=b.replace(\"b\",\"0\")\n",
        "    return int(b,2)\n",
        "    \n",
        "if __name__ == '__main__':\n",
        "    fptr = open(os.environ['OUTPUT_PATH'], 'w')\n",
        "\n",
        "    q = int(input().strip())\n",
        "\n",
        "    for q_itr in range(q):\n",
        "        n = int(input().strip())\n",
        "\n",
        "        result = flippingBits(n)\n",
        "\n",
        "        fptr.write(str(result) + '\\n')\n",
        "\n",
        "    fptr.close()\n"
      ],
      "execution_count": null,
      "outputs": []
    }
  ]
}