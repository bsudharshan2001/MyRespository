{
  "nbformat": 4,
  "nbformat_minor": 0,
  "metadata": {
    "colab": {
      "name": "HackerRank-InterviewPrepKit_2.ipynb",
      "provenance": [],
      "authorship_tag": "ABX9TyPJwPLzXYDZP2rImrZyAi4A",
      "include_colab_link": true
    },
    "kernelspec": {
      "name": "python3",
      "display_name": "Python 3"
    },
    "language_info": {
      "name": "python"
    }
  },
  "cells": [
    {
      "cell_type": "markdown",
      "metadata": {
        "id": "view-in-github",
        "colab_type": "text"
      },
      "source": [
        "<a href=\"https://colab.research.google.com/github/bsudharshan2001/MyRespository/blob/master/Codes/HackerRank/HackerRank_InterviewPrepKit_2.ipynb\" target=\"_parent\"><img src=\"https://colab.research.google.com/assets/colab-badge.svg\" alt=\"Open In Colab\"/></a>"
      ]
    },
    {
      "cell_type": "code",
      "metadata": {
        "colab": {
          "base_uri": "https://localhost:8080/"
        },
        "id": "W2-f0iEpIEMz",
        "outputId": "7d92862e-2a66-4285-da6a-d278ff17c2ac"
      },
      "source": [
        "n =3\n",
        "arr = [[11,2,4],\n",
        "[4,5,6],\n",
        "[10,8,-12]]\n",
        "sumL=sumR=0\n",
        "for i in range(0,n):\n",
        "  for j in range(0,n):\n",
        "    if(i==j):\n",
        "      sumL+=arr[i][j]\n",
        "    if(i+j==n-1):\n",
        "      sumR+=arr[i][j]\n",
        "print(sumL)\n",
        "print(sumR)\n",
        "ad=abs(sumL-sumR)\n",
        "print(ad)\n"
      ],
      "execution_count": null,
      "outputs": [
        {
          "output_type": "stream",
          "name": "stdout",
          "text": [
            "4\n",
            "19\n",
            "15\n"
          ]
        }
      ]
    },
    {
      "cell_type": "code",
      "metadata": {
        "id": "ulFiUZdPvAk9"
      },
      "source": [
        "#!/bin/python3\n",
        "\n",
        "import math\n",
        "import os\n",
        "import random\n",
        "import re\n",
        "import sys\n",
        "\n",
        "#\n",
        "# Complete the 'diagonalDifference' function below.\n",
        "#\n",
        "# The function is expected to return an INTEGER.\n",
        "# The function accepts 2D_INTEGER_ARRAY arr as parameter.\n",
        "#\n",
        "\n",
        "def diagonalDifference(arr):\n",
        "    # Write your code here\n",
        "    sumL=sumR=0\n",
        "    n=len(arr)\n",
        "    for i in range(0,n):\n",
        "        for j in range(0,n):\n",
        "            if(i==j):\n",
        "                sumL+=arr[i][j]\n",
        "            if(i+j==n-1):\n",
        "                sumR+=arr[i][j]\n",
        "    ad=abs(sumL-sumR)\n",
        "    return ad\n",
        "\n",
        "if __name__ == '__main__':\n",
        "    fptr = open(os.environ['OUTPUT_PATH'], 'w')\n",
        "\n",
        "    n = int(input().strip())\n",
        "\n",
        "    arr = []\n",
        "\n",
        "    for _ in range(n):\n",
        "        arr.append(list(map(int, input().rstrip().split())))\n",
        "\n",
        "    result = diagonalDifference(arr)\n",
        "\n",
        "    fptr.write(str(result) + '\\n')\n",
        "\n",
        "    fptr.close()\n"
      ],
      "execution_count": null,
      "outputs": []
    },
    {
      "cell_type": "code",
      "metadata": {
        "id": "HQt61p0bvpZE"
      },
      "source": [
        "s=input()\n",
        "alpha=['a','b','c','d','e','f','g','h','i','j','k','l','m','n','o','p','q','r','s','t','u','v','w','x','y','z','A','B','C','D','E','F','G']\n",
        "for i in range(0,len(s)):\n",
        "  if(s[i] in alpha):\n",
        "    count+=1\n",
        "    \n",
        "\n",
        "if(count==26):\n",
        "  print()\n"
      ],
      "execution_count": null,
      "outputs": []
    },
    {
      "cell_type": "code",
      "metadata": {
        "id": "q6_-1tp9f1Rf"
      },
      "source": [
        "def checkPangram(s):\n",
        "    lst=[False]*26       \n",
        "    # converting the sentence to lowercase and iterating\n",
        "    # over the sentence\n",
        "    for c in s.lower():\n",
        "        if not(c==\" \"):\n",
        "            lst[ord(c) -ord('a')]= True\n",
        "\n",
        "    for ch in List:\n",
        "        if ch == False:\n",
        "            return False\n",
        "    return True\n",
        "\n",
        "sentence = \"The quick brown fox jumps over the little lazy dog\"\n",
        " \n",
        "if (checkPangram(sentence)):\n",
        "    print \"is a pangram\"\n",
        "else:\n",
        "    print \"is not a pangram\""
      ],
      "execution_count": null,
      "outputs": []
    },
    {
      "cell_type": "code",
      "metadata": {
        "colab": {
          "base_uri": "https://localhost:8080/"
        },
        "id": "ErrjqMV7f_Yy",
        "outputId": "35fb1468-a6ea-48e5-a803-1d0c5e1bbe4f"
      },
      "source": [
        "lst=[False]*26\n",
        "print(lst)"
      ],
      "execution_count": 1,
      "outputs": [
        {
          "output_type": "stream",
          "name": "stdout",
          "text": [
            "[False, False, False, False, False, False, False, False, False, False, False, False, False, False, False, False, False, False, False, False, False, False, False, False, False, False]\n"
          ]
        }
      ]
    },
    {
      "cell_type": "code",
      "metadata": {
        "colab": {
          "base_uri": "https://localhost:8080/"
        },
        "id": "Z5dxU1FJgRzZ",
        "outputId": "4760f102-f7fe-4ab8-f7b8-ccb813bc35fc"
      },
      "source": [
        "print(ord('j')-ord('a'))"
      ],
      "execution_count": 7,
      "outputs": [
        {
          "output_type": "stream",
          "name": "stdout",
          "text": [
            "9\n"
          ]
        }
      ]
    },
    {
      "cell_type": "code",
      "metadata": {
        "id": "ZdwP_fO9gj1W"
      },
      "source": [
        "#!/bin/python3\n",
        "\n",
        "import math\n",
        "import os\n",
        "import random\n",
        "import re\n",
        "import sys\n",
        "\n",
        "#\n",
        "# Complete the 'pangrams' function below.\n",
        "#\n",
        "# The function is expected to return a STRING.\n",
        "# The function accepts STRING s as parameter.\n",
        "#\n",
        "\n",
        "def pangrams(s):\n",
        "    # Write your code here\n",
        "    lst=[False]*26\n",
        "    for c in s.lower():\n",
        "        if not(c==\" \"):\n",
        "            lst[ord(c)-ord('a')]=True\n",
        "    for ch in lst:\n",
        "        if(ch==False):\n",
        "            return 'not pangram'\n",
        "    return 'pangram'\n",
        "\n",
        "if __name__ == '__main__':\n",
        "    fptr = open(os.environ['OUTPUT_PATH'], 'w')\n",
        "\n",
        "    s = input()\n",
        "\n",
        "    result = pangrams(s)\n",
        "\n",
        "    fptr.write(result + '\\n')\n",
        "\n",
        "    fptr.close()\n"
      ],
      "execution_count": null,
      "outputs": []
    },
    {
      "cell_type": "code",
      "metadata": {
        "id": "4tfH6u-HiRUf"
      },
      "source": [
        "#!/bin/python3\n",
        "\n",
        "import math\n",
        "import os\n",
        "import random\n",
        "import re\n",
        "import sys\n",
        "\n",
        "#\n",
        "# Complete the 'twoArrays' function below.\n",
        "#\n",
        "# The function is expected to return a STRING.\n",
        "# The function accepts following parameters:\n",
        "#  1. INTEGER k\n",
        "#  2. INTEGER_ARRAY A\n",
        "#  3. INTEGER_ARRAY B\n",
        "#\n",
        "\n",
        "def twoArrays(k, A, B):\n",
        "    # Write your code here\n",
        "    A.sort(reverse=True)\n",
        "    B.sort()\n",
        "    for i in range(len(A)):\n",
        "        if(A[i]+B[i]<k):\n",
        "            return 'NO'\n",
        "    return 'YES'\n",
        "\n",
        "if __name__ == '__main__':\n",
        "    fptr = open(os.environ['OUTPUT_PATH'], 'w')\n",
        "\n",
        "    q = int(input().strip())\n",
        "\n",
        "    for q_itr in range(q):\n",
        "        first_multiple_input = input().rstrip().split()\n",
        "\n",
        "        n = int(first_multiple_input[0])\n",
        "\n",
        "        k = int(first_multiple_input[1])\n",
        "\n",
        "        A = list(map(int, input().rstrip().split()))\n",
        "\n",
        "        B = list(map(int, input().rstrip().split()))\n",
        "\n",
        "        result = twoArrays(k, A, B)\n",
        "\n",
        "        fptr.write(result + '\\n')\n",
        "\n",
        "    fptr.close()\n"
      ],
      "execution_count": null,
      "outputs": []
    }
  ]
}