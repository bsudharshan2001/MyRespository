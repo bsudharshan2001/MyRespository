{
  "nbformat": 4,
  "nbformat_minor": 0,
  "metadata": {
    "colab": {
      "name": "CodeChef-SmackDown Practice Contest-Beginner.ipynb",
      "provenance": [],
      "collapsed_sections": [],
      "authorship_tag": "ABX9TyMbacuuVb+XRYSaPmLC6Dfe",
      "include_colab_link": true
    },
    "kernelspec": {
      "name": "python3",
      "display_name": "Python 3"
    },
    "language_info": {
      "name": "python"
    }
  },
  "cells": [
    {
      "cell_type": "markdown",
      "metadata": {
        "id": "view-in-github",
        "colab_type": "text"
      },
      "source": [
        "<a href=\"https://colab.research.google.com/github/bsudharshan2001/MyRespository/blob/master/Codes/CodeChef/CodeChef_SmackDown_Practice_Contest_Beginner.ipynb\" target=\"_parent\"><img src=\"https://colab.research.google.com/assets/colab-badge.svg\" alt=\"Open In Colab\"/></a>"
      ]
    },
    {
      "cell_type": "code",
      "metadata": {
        "colab": {
          "base_uri": "https://localhost:8080/"
        },
        "id": "gK1ufjcnEarl",
        "outputId": "f12e6262-e159-4c5b-93d9-c080b8532b02"
      },
      "source": [
        "#KitchenTimetable\n",
        "tc=int(input())\n",
        "result=[]\n",
        "for i in range(tc):\n",
        "  n=int(input())\n",
        "  A=list(map(int, input().split()))\n",
        "  B=list(map(int, input().split()))\n",
        "  count=0\n",
        "  for j in range(n):\n",
        "    if(j==0):\n",
        "      if(A[j]==B[j]):\n",
        "        count+=1\n",
        "    elif((A[j]-A[j-1]>=B[j])):\n",
        "      count+=1\n",
        "  result.append(count)\n",
        "\n",
        "for i in range(tc):\n",
        "  print(result[i])"
      ],
      "execution_count": null,
      "outputs": [
        {
          "output_type": "stream",
          "name": "stdout",
          "text": [
            "2\n",
            "3\n",
            "1 10 15\n",
            "1 10 3\n",
            "3\n",
            "10 20 30\n",
            "15 5 20\n",
            "2\n",
            "1\n"
          ]
        }
      ]
    }
  ]
}