{
  "nbformat": 4,
  "nbformat_minor": 0,
  "metadata": {
    "colab": {
      "name": "CodeChef.ipynb",
      "provenance": [],
      "collapsed_sections": [],
      "authorship_tag": "ABX9TyM3HX/5PwnxSXAFgt9Q6BMT",
      "include_colab_link": true
    },
    "kernelspec": {
      "name": "python3",
      "display_name": "Python 3"
    },
    "language_info": {
      "name": "python"
    }
  },
  "cells": [
    {
      "cell_type": "markdown",
      "metadata": {
        "id": "view-in-github",
        "colab_type": "text"
      },
      "source": [
        "<a href=\"https://colab.research.google.com/github/bsudharshan2001/MyRespository/blob/master/Codes/CodeChef/CodeChef_Practice.ipynb\" target=\"_parent\"><img src=\"https://colab.research.google.com/assets/colab-badge.svg\" alt=\"Open In Colab\"/></a>"
      ]
    },
    {
      "cell_type": "code",
      "metadata": {
        "colab": {
          "base_uri": "https://localhost:8080/"
        },
        "id": "8ecm0HbnpvnH",
        "outputId": "fe808241-3e81-47e7-b1d2-98e4291499c7"
      },
      "source": [
        "#Chaat1-MiniPuri-BSudharshan\n",
        "n=int(input())\n",
        "inp=[]*n\n",
        "for i in range(0,n):\n",
        "  l=list(map(int, input().split()))\n",
        "  inp.append(l)\n",
        "for i in range(0,n):\n",
        "  if(inp[i][1]+inp[i][2]>inp[i][0]):\n",
        "    print('YES')\n",
        "  else:\n",
        "    print('NO')\n"
      ],
      "execution_count": null,
      "outputs": [
        {
          "output_type": "stream",
          "name": "stdout",
          "text": [
            "3\n",
            "25 12 5\n",
            "10 5 5\n",
            "42 24 30\n",
            "NO\n",
            "NO\n",
            "YES\n"
          ]
        }
      ]
    },
    {
      "cell_type": "code",
      "metadata": {
        "colab": {
          "base_uri": "https://localhost:8080/"
        },
        "id": "K75VufHotDxg",
        "outputId": "6f7cf9f1-3f72-4236-8826-a7327b57acd6"
      },
      "source": [
        "#Chaat2-VadaPavs-BSudharshan\n",
        "n=int(input())\n",
        "inp=[]*n\n",
        "for i in range(0,n):\n",
        "  kn=list(map(int, input().split()))\n",
        "  vp=list(map(int, input().split()))\n",
        "  vp.sort()\n",
        "  kdiff=vp[kn[1]-1]-vp[len(kn)-(kn[1]-1)]\n",
        "  print(kdiff)\n",
        "\n"
      ],
      "execution_count": null,
      "outputs": [
        {
          "output_type": "stream",
          "name": "stdout",
          "text": [
            "2\n",
            "3 2\n",
            "2 1 3\n",
            "0\n",
            "5 1\n",
            "5 2 4 1 3\n",
            "-2\n"
          ]
        }
      ]
    }
  ]
}