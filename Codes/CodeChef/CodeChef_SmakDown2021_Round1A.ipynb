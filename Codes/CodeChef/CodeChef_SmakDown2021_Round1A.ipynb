{
  "nbformat": 4,
  "nbformat_minor": 0,
  "metadata": {
    "colab": {
      "name": "CodeChef-SmakDown2021-Round1A.ipynb",
      "provenance": [],
      "collapsed_sections": [],
      "authorship_tag": "ABX9TyOezXe9Uhoazly/C/SZgdAS",
      "include_colab_link": true
    },
    "kernelspec": {
      "name": "python3",
      "display_name": "Python 3"
    },
    "language_info": {
      "name": "python"
    }
  },
  "cells": [
    {
      "cell_type": "markdown",
      "metadata": {
        "id": "view-in-github",
        "colab_type": "text"
      },
      "source": [
        "<a href=\"https://colab.research.google.com/github/bsudharshan2001/MyRespository/blob/master/Codes/CodeChef/CodeChef_SmakDown2021_Round1A.ipynb\" target=\"_parent\"><img src=\"https://colab.research.google.com/assets/colab-badge.svg\" alt=\"Open In Colab\"/></a>"
      ]
    },
    {
      "cell_type": "code",
      "metadata": {
        "colab": {
          "base_uri": "https://localhost:8080/"
        },
        "id": "wzNMAh8vquWI",
        "outputId": "04671b61-dd63-4a50-bc19-eec766160536"
      },
      "source": [
        "#MinMaxLCM\n",
        "def gcd(j,k):\n",
        "  while(k):\n",
        "    j,k=k,j%k\n",
        "  return j\n",
        "\n",
        "n=int(input())\n",
        "result=[]\n",
        "for i in range(n):\n",
        "  lt=list(map(int,input().split()))\n",
        "  r=lt[0]*lt[1]\n",
        "  lcms=[]\n",
        "  for j in range(lt[0],r+1):\n",
        "    for k in range(lt[0],r+1):\n",
        "      if(j!=k):\n",
        "        lcm=(j*k)/gcd(j,k)\n",
        "        lcms.append(lcm)\n",
        "  lcms.sort()\n",
        "  result.extend([lcms[0],lcms[len(lcms)-1]])\n",
        "result=list(map(int,result))\n",
        "for i in range(len(result)):\n",
        "  print(result[i],end=\" \")\n",
        "  if((i+1)%2==0):\n",
        "    print('')"
      ],
      "execution_count": null,
      "outputs": [
        {
          "output_type": "stream",
          "name": "stdout",
          "text": [
            "2\n",
            "4 3\n",
            "2 3\n",
            "8 132 \n",
            "4 30 \n"
          ]
        }
      ]
    },
    {
      "cell_type": "code",
      "metadata": {
        "colab": {
          "base_uri": "https://localhost:8080/"
        },
        "id": "65cn9T-oyvqP",
        "outputId": "d4b2a4c5-c195-48ba-f11c-c073099e553f"
      },
      "source": [
        "for i in range(10):\n",
        "  print(i,end=\" \")"
      ],
      "execution_count": null,
      "outputs": [
        {
          "output_type": "stream",
          "name": "stdout",
          "text": [
            "0 1 2 3 4 5 6 7 8 9 "
          ]
        }
      ]
    },
    {
      "cell_type": "code",
      "metadata": {
        "colab": {
          "base_uri": "https://localhost:8080/"
        },
        "id": "i1YCnlKR4ThM",
        "outputId": "d48f8527-c4f9-4447-d17a-3c79021fba13"
      },
      "source": [
        "#DanceMoves\n",
        "n=int(input())\n",
        "result=[]\n",
        "for i in range(n):\n",
        "  lt=list(map(int,input().split()))\n",
        "  if((lt[1]-lt[0])%2==0):\n",
        "    result.append(abs(lt[1]-lt[0])/2)\n",
        "  else:\n",
        "    result.append((abs(lt[1]-lt[0])//2)+2)\n",
        "result=list(map(int,result))\n",
        "for i in range(n):\n",
        "  print(result[i])"
      ],
      "execution_count": null,
      "outputs": [
        {
          "output_type": "stream",
          "name": "stdout",
          "text": [
            "1\n",
            "3 8\n",
            "4\n"
          ]
        }
      ]
    },
    {
      "cell_type": "code",
      "metadata": {
        "id": "773zzMSbLyfp"
      },
      "source": [
        "#DanceMoves\n",
        "n=int(input())\n",
        "for i in range(n):\n",
        "    ans=0\n",
        "    lt=list(map(int,input().split()))\n",
        "    if(lt[0]<lt[1]):\n",
        "        if((lt[1]-lt[0])%2==0):\n",
        "            ans=(abs(lt[1]-lt[0])/2)\n",
        "        else:\n",
        "            ans=((abs(lt[1]-lt[0])//2)+2)\n",
        "    else:\n",
        "        ans=abs(lt[1]-lt[0])\n",
        "    print(int(ans))"
      ],
      "execution_count": null,
      "outputs": []
    },
    {
      "cell_type": "code",
      "metadata": {
        "colab": {
          "base_uri": "https://localhost:8080/"
        },
        "id": "5QWkxAKTMG0i",
        "outputId": "fd7dff12-f717-45ab-a6c5-66fa921b464e"
      },
      "source": [
        "#MinMaxLCM\n",
        "import math\n",
        "n=int(input())\n",
        "for i in range(n):\n",
        "  lt=list(map(int,input().split()))\n",
        "  r=lt[0]*lt[1]\n",
        "  lcms=[]\n",
        "  for j in range(lt[0],r+1):\n",
        "    for k in range(lt[0],r+1):\n",
        "      if(j!=k):\n",
        "        lcm=(j*k)/math.gcd(j,k)\n",
        "        lcms.append(lcm)\n",
        "  lcms.sort()\n",
        "  print(int(lcms[0]),int(lcms[len(lcms)-1]))"
      ],
      "execution_count": null,
      "outputs": [
        {
          "output_type": "stream",
          "name": "stdout",
          "text": [
            "1\n",
            "4 3\n",
            "8 132\n"
          ]
        }
      ]
    },
    {
      "cell_type": "code",
      "metadata": {
        "colab": {
          "base_uri": "https://localhost:8080/",
          "height": 285
        },
        "id": "9QhK_rR3PUj2",
        "outputId": "cee46331-daa3-4676-f419-b18bd564c0a4"
      },
      "source": [
        "#MinMaxLCM\n",
        "import math\n",
        "n=int(input())\n",
        "for i in range(n):\n",
        "  lt=list(map(int,input().split()))\n",
        "  r=lt[0]*lt[1]\n",
        "  lcms=[]\n",
        "  j=k=lt[0]\n",
        "  while(j<=r):\n",
        "      if(j!=k):\n",
        "        lcm=(j*k)/math.gcd(j,k)\n",
        "        lcms.append(lcm)\n",
        "        k+=1\n",
        "      if(k==r):\n",
        "        j,k=j+1,lt[0]\n",
        "  lcms.sort()\n",
        "  print(int(lcms[0]),int(lcms[len(lcms)-1]))"
      ],
      "execution_count": null,
      "outputs": [
        {
          "name": "stdout",
          "output_type": "stream",
          "text": [
            "1\n",
            "1 4\n"
          ]
        },
        {
          "output_type": "error",
          "ename": "KeyboardInterrupt",
          "evalue": "ignored",
          "traceback": [
            "\u001b[0;31m---------------------------------------------------------------------------\u001b[0m",
            "\u001b[0;31mKeyboardInterrupt\u001b[0m                         Traceback (most recent call last)",
            "\u001b[0;32m<ipython-input-36-5b05681550ef>\u001b[0m in \u001b[0;36m<module>\u001b[0;34m()\u001b[0m\n\u001b[1;32m      8\u001b[0m   \u001b[0mj\u001b[0m\u001b[0;34m=\u001b[0m\u001b[0mk\u001b[0m\u001b[0;34m=\u001b[0m\u001b[0mlt\u001b[0m\u001b[0;34m[\u001b[0m\u001b[0;36m0\u001b[0m\u001b[0;34m]\u001b[0m\u001b[0;34m\u001b[0m\u001b[0;34m\u001b[0m\u001b[0m\n\u001b[1;32m      9\u001b[0m   \u001b[0;32mwhile\u001b[0m\u001b[0;34m(\u001b[0m\u001b[0mj\u001b[0m\u001b[0;34m<=\u001b[0m\u001b[0mr\u001b[0m\u001b[0;34m)\u001b[0m\u001b[0;34m:\u001b[0m\u001b[0;34m\u001b[0m\u001b[0;34m\u001b[0m\u001b[0m\n\u001b[0;32m---> 10\u001b[0;31m       \u001b[0;32mif\u001b[0m\u001b[0;34m(\u001b[0m\u001b[0mj\u001b[0m\u001b[0;34m!=\u001b[0m\u001b[0mk\u001b[0m\u001b[0;34m)\u001b[0m\u001b[0;34m:\u001b[0m\u001b[0;34m\u001b[0m\u001b[0;34m\u001b[0m\u001b[0m\n\u001b[0m\u001b[1;32m     11\u001b[0m         \u001b[0mlcm\u001b[0m\u001b[0;34m=\u001b[0m\u001b[0;34m(\u001b[0m\u001b[0mj\u001b[0m\u001b[0;34m*\u001b[0m\u001b[0mk\u001b[0m\u001b[0;34m)\u001b[0m\u001b[0;34m/\u001b[0m\u001b[0mmath\u001b[0m\u001b[0;34m.\u001b[0m\u001b[0mgcd\u001b[0m\u001b[0;34m(\u001b[0m\u001b[0mj\u001b[0m\u001b[0;34m,\u001b[0m\u001b[0mk\u001b[0m\u001b[0;34m)\u001b[0m\u001b[0;34m\u001b[0m\u001b[0;34m\u001b[0m\u001b[0m\n\u001b[1;32m     12\u001b[0m         \u001b[0mlcms\u001b[0m\u001b[0;34m.\u001b[0m\u001b[0mappend\u001b[0m\u001b[0;34m(\u001b[0m\u001b[0mlcm\u001b[0m\u001b[0;34m)\u001b[0m\u001b[0;34m\u001b[0m\u001b[0;34m\u001b[0m\u001b[0m\n",
            "\u001b[0;31mKeyboardInterrupt\u001b[0m: "
          ]
        }
      ]
    },
    {
      "cell_type": "code",
      "metadata": {
        "colab": {
          "base_uri": "https://localhost:8080/"
        },
        "id": "zAVmW0gCIRsK",
        "outputId": "9ed9187c-c616-48e4-989c-573b211cad02"
      },
      "source": [
        "#RoundRobin\n",
        "n=int(input())\n",
        "for i in range(n):\n",
        "    lt=list(map(int,input().split()))\n",
        "    if(lt[0]&2==0):\n",
        "      ans=(lt[0]-lt[1])*2\n",
        "    else:\n",
        "      ans=(lt[0]-lt[1]+1)*2\n",
        "    print(ans)\n"
      ],
      "execution_count": null,
      "outputs": [
        {
          "output_type": "stream",
          "name": "stdout",
          "text": [
            "3\n",
            "3 3\n",
            "2\n",
            "4 1\n",
            "6\n",
            "7 4\n",
            "8\n"
          ]
        }
      ]
    },
    {
      "cell_type": "code",
      "metadata": {
        "id": "uoNJ6up8X0vf"
      },
      "source": [
        "#RoundRobin\n",
        "n=int(input())\n",
        "for i in range(n):\n",
        "    lt=list(map(int,input().split()))\n",
        "    ans=((2*n-k-1)//2)*2\n",
        "    print(ans)"
      ],
      "execution_count": null,
      "outputs": []
    },
    {
      "cell_type": "code",
      "metadata": {
        "colab": {
          "base_uri": "https://localhost:8080/"
        },
        "id": "p7Nh4OGZXyu5",
        "outputId": "4dd17aad-bfb9-49df-e5f4-343b1a1633d4"
      },
      "source": [
        "#YetAnotherFlippingProblem\n",
        "n=int(input())\n",
        "for i in range(n):\n",
        "    n,k=map(int,input().split())\n",
        "    if(k==0):\n",
        "      print('YES')\n",
        "      print(0)\n",
        "    else:\n",
        "      "
      ],
      "execution_count": null,
      "outputs": [
        {
          "output_type": "stream",
          "name": "stdout",
          "text": [
            "1\n",
            "5 0\n",
            "YES\n",
            "0\n"
          ]
        }
      ]
    }
  ]
}