{
  "nbformat": 4,
  "nbformat_minor": 0,
  "metadata": {
    "colab": {
      "name": "CodeChef-SmackDown-2021.ipynb",
      "provenance": [],
      "collapsed_sections": [],
      "authorship_tag": "ABX9TyNQGJYt0HBkHdMLoGi0rb7U",
      "include_colab_link": true
    },
    "kernelspec": {
      "name": "python3",
      "display_name": "Python 3"
    },
    "language_info": {
      "name": "python"
    }
  },
  "cells": [
    {
      "cell_type": "markdown",
      "metadata": {
        "id": "view-in-github",
        "colab_type": "text"
      },
      "source": [
        "<a href=\"https://colab.research.google.com/github/bsudharshan2001/MyRespository/blob/master/Codes/CodeChef/CodeChef_SmackDown_2021.ipynb\" target=\"_parent\"><img src=\"https://colab.research.google.com/assets/colab-badge.svg\" alt=\"Open In Colab\"/></a>"
      ]
    },
    {
      "cell_type": "code",
      "metadata": {
        "colab": {
          "base_uri": "https://localhost:8080/"
        },
        "id": "CIG7wMdUSluc",
        "outputId": "1df0e66e-039f-49e3-8412-4f0c4d7c4d36"
      },
      "source": [
        "#LuckyNumber-7-BSudharshan\n",
        "n=int(input())\n",
        "result=[]\n",
        "for i in range(n):\n",
        "  lt=list(map(int, input().split()))\n",
        "  check=0\n",
        "  for j in range(len(lt)):\n",
        "    if(lt[j]==7):\n",
        "      check+=1\n",
        "  if(check>=1):\n",
        "    result.append('YES')\n",
        "  else:\n",
        "    result.append('NO')\n",
        "for i in range(n):\n",
        "  print(result[i])"
      ],
      "execution_count": null,
      "outputs": [
        {
          "output_type": "stream",
          "name": "stdout",
          "text": [
            "3\n",
            "0 0 0\n",
            "7 8 9\n",
            "2 7 7\n",
            "NO\n",
            "YES\n",
            "YES\n"
          ]
        }
      ]
    },
    {
      "cell_type": "code",
      "metadata": {
        "id": "wXuLZkjQTFUF",
        "colab": {
          "base_uri": "https://localhost:8080/"
        },
        "outputId": "6af933bd-ee9f-41d6-c115-87eae391eaa2"
      },
      "source": [
        "#TestMatchSeries\n",
        "n=int(input())\n",
        "result=[]\n",
        "for i in range(n):\n",
        "  lt=list(map(int, input().split()))\n",
        "  ind=eng=0\n",
        "  for i in range(len(lt)):\n",
        "    if(lt[i]==1):\n",
        "      ind+=1\n",
        "    elif(lt[i]==2):\n",
        "      eng+=1\n",
        "  if(ind>eng):\n",
        "    result.append('INDIA')\n",
        "  elif(eng>ind):\n",
        "    result.append('ENGLAND')\n",
        "  else:\n",
        "    result.append('DRAW')\n",
        "for i in range(n):\n",
        "  print(result[i])      "
      ],
      "execution_count": null,
      "outputs": [
        {
          "output_type": "stream",
          "name": "stdout",
          "text": [
            "3\n",
            "0 1 2 1 0\n",
            "0 1 2 1 2\n",
            "2 2 2 2 1\n",
            "INDIA\n",
            "DRAW\n",
            "ENGLAND\n"
          ]
        }
      ]
    }
  ]
}