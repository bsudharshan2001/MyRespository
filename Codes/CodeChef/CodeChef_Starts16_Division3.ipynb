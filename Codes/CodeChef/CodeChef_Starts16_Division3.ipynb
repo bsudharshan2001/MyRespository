{
  "nbformat": 4,
  "nbformat_minor": 0,
  "metadata": {
    "colab": {
      "name": "CodeChef-Starts16-Division3.ipynb",
      "provenance": [],
      "collapsed_sections": [],
      "authorship_tag": "ABX9TyPHBJemAzj0MBcJn5a8JZhs",
      "include_colab_link": true
    },
    "kernelspec": {
      "name": "python3",
      "display_name": "Python 3"
    },
    "language_info": {
      "name": "python"
    }
  },
  "cells": [
    {
      "cell_type": "markdown",
      "metadata": {
        "id": "view-in-github",
        "colab_type": "text"
      },
      "source": [
        "<a href=\"https://colab.research.google.com/github/bsudharshan2001/MyRespository/blob/master/Codes/CodeChef/CodeChef_Starts16_Division3.ipynb\" target=\"_parent\"><img src=\"https://colab.research.google.com/assets/colab-badge.svg\" alt=\"Open In Colab\"/></a>"
      ]
    },
    {
      "cell_type": "code",
      "metadata": {
        "id": "iJawLHZ_JoIr"
      },
      "source": [
        "#Professors&Directions\n",
        "n=int(input())\n",
        "result=[]\n",
        "for i in range(n):\n",
        "#  lt=list(map(int, input().split()))\n",
        "  l=int(input())\n",
        "  dir=input()\n",
        "  "
      ],
      "execution_count": null,
      "outputs": []
    },
    {
      "cell_type": "code",
      "metadata": {
        "colab": {
          "base_uri": "https://localhost:8080/"
        },
        "id": "sG1xa22RLQks",
        "outputId": "6c643ef9-9bb0-4dff-b12f-87d53d067b3a"
      },
      "source": [
        "#PassOrFail\n",
        "n=int(input())\n",
        "result=[]\n",
        "for i in range(n):\n",
        "  lt=list(map(int, input().split()))\n",
        "  score=3*lt[1]-1*(lt[0]-lt[1])\n",
        "  if(score>=lt[2]):\n",
        "    result.append('PASS')\n",
        "  else:\n",
        "    result.append('FAIL')\n",
        "for i in range(n):\n",
        "  print(result[i])"
      ],
      "execution_count": null,
      "outputs": [
        {
          "output_type": "stream",
          "name": "stdout",
          "text": [
            "3\n",
            "5 2 3\n",
            "5 2 4\n",
            "4 0 0\n",
            "PASS\n",
            "FAIL\n",
            "FAIL\n"
          ]
        }
      ]
    },
    {
      "cell_type": "code",
      "metadata": {
        "colab": {
          "base_uri": "https://localhost:8080/",
          "height": 136
        },
        "id": "Bc0TFGaDMjAW",
        "outputId": "77da606a-81eb-48be-bcc4-fcea03842567"
      },
      "source": [
        "#Chef&SalaryPay\n",
        "n=int(input())\n",
        "result=[]\n",
        "for i in range(n):\n",
        "  sal=list(map(int, input().split()))\n",
        "  wrk=input()\n",
        "  count=max=0\n",
        "  streak=1\n",
        "  for j in range(len(wrk)):\n",
        "    if(wrk[j]=='1'):\n",
        "      count+=1\n",
        "      if(wrk[j-1]=='1' and j!=0):\n",
        "        streak+=1\n",
        "        if(j==len(wrk) and streak>max):\n",
        "          max=streak\n",
        "      else:\n",
        "        streak+=1\n",
        "        if(streak>max):\n",
        "          max=streak\n",
        "\n",
        "    else:\n",
        "      if(streak>max):\n",
        "        streak+=1\n",
        "        max=streak\n",
        "      streak=1\n",
        "        \n",
        "  pay=count*sal[0]+(max)*sal[1]\n",
        "  result.append(pay)\n",
        "\n",
        "for i in range(n):\n",
        "  print(result[i])"
      ],
      "execution_count": null,
      "outputs": [
        {
          "output_type": "error",
          "ename": "IndentationError",
          "evalue": "ignored",
          "traceback": [
            "\u001b[0;36m  File \u001b[0;32m\"<ipython-input-41-831bf1cad951>\"\u001b[0;36m, line \u001b[0;32m17\u001b[0m\n\u001b[0;31m    else:\u001b[0m\n\u001b[0m    ^\u001b[0m\n\u001b[0;31mIndentationError\u001b[0m\u001b[0;31m:\u001b[0m expected an indented block\n"
          ]
        }
      ]
    },
    {
      "cell_type": "code",
      "metadata": {
        "colab": {
          "base_uri": "https://localhost:8080/"
        },
        "id": "4FQCUaQBPTQO",
        "outputId": "1548c3d4-c03a-432e-86a5-496053f8da25"
      },
      "source": [
        "arr=[1,2,3,4]\n",
        "j=0\n",
        "print(arr[j-1])"
      ],
      "execution_count": null,
      "outputs": [
        {
          "output_type": "stream",
          "name": "stdout",
          "text": [
            "4\n"
          ]
        }
      ]
    }
  ]
}