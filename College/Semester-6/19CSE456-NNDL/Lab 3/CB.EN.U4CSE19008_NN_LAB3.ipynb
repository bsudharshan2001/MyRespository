{
  "nbformat": 4,
  "nbformat_minor": 0,
  "metadata": {
    "colab": {
      "name": "CB.EN.U4CSE19008_NN_LAB3.ipynb",
      "provenance": [],
      "collapsed_sections": []
    },
    "kernelspec": {
      "name": "python3",
      "display_name": "Python 3"
    },
    "language_info": {
      "name": "python"
    }
  },
  "cells": [
    {
      "cell_type": "markdown",
      "source": [
        "## **19CSE456: Neural Network and Deep Learning : LAB3**"
      ],
      "metadata": {
        "id": "auBv0nbdQH1X"
      }
    },
    {
      "cell_type": "markdown",
      "source": [
        "---\n",
        "#**B Sudharshan - CB.EN.U4CSE19008 - CSE A**\n",
        "\n"
      ],
      "metadata": {
        "id": "i6oZwd7SvYrd"
      }
    },
    {
      "cell_type": "markdown",
      "source": [
        "\n",
        "\n",
        "1.   Select any classification dataset from UCI Machine Learning Library: https://archive.ics.uci.edu/ml/datasets.php\n",
        "2.   Design a four layer neural network (4 hidden layers) and provide your testing accuracy on the selected dataset (**for 100 epoch**s) with sigmoid as the hidden layer activation functions and SGD as the optimizer.\n",
        "3. Design MLP of the same archetecure of question.2 and use different weight initialization strategies. Refer: https://keras.io/api/layers/initializers/ to know more about weight initialization. \n",
        "Try Different initialization schemes and find out which initialization works better on the selected dataset (**for 100 epoch**s) with sigmoid as the hidden layer activation functions and SGD as the optimizer.\n",
        "       * RandomNormal \n",
        "       * RandomUniform\n",
        "       * TruncatedNormal\n",
        "       * Zero\n",
        "       * One\n",
        "       * GlorotNormal\n",
        "       * GlorotUniform \n",
        "       * HeNormal\n",
        "       * HeUniform \n",
        "       * Identity\n",
        "       * Orthogonal\n",
        "4. Implement the MLP model with the best weight initialization from the previous experiment and use Relu as the activation funation and provide your testing accuracy on the selected dataset (**for 100 epochs**).\n",
        "5. Use ADAM optimizer instead of SGD in question 4 and comapre the models in terms of test accuracy and train/validation (accuracy/loss) graphs.\n",
        "6. Display confusion matrix for all of the bove experiments and write down your inferences.\n",
        "\n",
        "**NOTE: This Experiment will be evaluated based on the submission (Code, Inferences and Analysis). Submit the Jupyter notebook and pdf version of the notebook**\n",
        "\n",
        "\n"
      ],
      "metadata": {
        "id": "xj6Nzd9tQSnN"
      }
    },
    {
      "cell_type": "code",
      "execution_count": 313,
      "metadata": {
        "id": "e4DvCTMyPxgv"
      },
      "outputs": [],
      "source": [
        "#Importing all required libraries\n",
        "import pandas as pd\n",
        "import numpy as np\n",
        "from sklearn.preprocessing import LabelEncoder\n",
        "import tensorflow as tf\n",
        "from tensorflow.keras.models import Sequential\n",
        "from tensorflow.keras.layers import Flatten\n",
        "from tensorflow.keras.layers import Dense\n",
        "from tensorflow.keras.layers import Activation\n",
        "from tensorflow.keras import layers\n",
        "from tensorflow.keras import initializers\n",
        "from tensorflow.keras import optimizers"
      ]
    },
    {
      "cell_type": "markdown",
      "source": [
        "##**Q1 : Dataset Selection**\n",
        "---"
      ],
      "metadata": {
        "id": "daJZfeyGKGn2"
      }
    },
    {
      "cell_type": "markdown",
      "source": [
        "**Here Raisin Dataset is Used**\n",
        "---\n",
        "Info - Images of Kecimen and Besni raisin varieties grown in Turkey were obtained with CVS. A total of 900 raisin grains were used, including 450 pieces from both varieties. These images were subjected to various stages of pre-processing and 7 morphological features were extracted. These features have been classified using three different artificial intelligence techniques."
      ],
      "metadata": {
        "id": "h9vNr6noF7aC"
      }
    },
    {
      "cell_type": "markdown",
      "source": [
        "**Attribute Information**\n",
        "\n",
        "\n",
        "1. Area: Gives the number of pixels within the boundaries of the raisin. \n",
        "2. Perimeter: It measures the environment by calculating the distance between the boundaries of the raisin and the pixels around it.\n",
        "3. MajorAxisLength: Gives the length of the main axis, which is the longest line that can be drawn on the raisin.\n",
        "4. MinorAxisLength: Gives the length of the small axis, which is the shortest line that can be drawn on the raisin.\n",
        "5. Eccentricity: It gives a measure of the eccentricity of the ellipse, which has the same moments as raisins. \n",
        "6. ConvexArea: Gives the number of pixels of the smallest convex shell of the region formed by the raisin.\n",
        "7. Extent: Gives the ratio of the region formed by the raisin to the total pixels in the bounding box.\n",
        "8. Class: Kecimen and Besni raisin."
      ],
      "metadata": {
        "id": "Y1P2_luiGLQ3"
      }
    },
    {
      "cell_type": "code",
      "source": [
        "df=pd.read_excel('/content/Raisin_Dataset.xlsx')"
      ],
      "metadata": {
        "id": "Q2ZuZjiQcuMl"
      },
      "execution_count": 314,
      "outputs": []
    },
    {
      "cell_type": "code",
      "source": [
        "df"
      ],
      "metadata": {
        "colab": {
          "base_uri": "https://localhost:8080/",
          "height": 488
        },
        "id": "zcaxHSakax0L",
        "outputId": "638a94fb-01bc-4be1-8542-5e7fd78a7908"
      },
      "execution_count": 315,
      "outputs": [
        {
          "output_type": "execute_result",
          "data": {
            "text/html": [
              "\n",
              "  <div id=\"df-a62a0edd-c92b-48f8-88ac-5cc6689c0884\">\n",
              "    <div class=\"colab-df-container\">\n",
              "      <div>\n",
              "<style scoped>\n",
              "    .dataframe tbody tr th:only-of-type {\n",
              "        vertical-align: middle;\n",
              "    }\n",
              "\n",
              "    .dataframe tbody tr th {\n",
              "        vertical-align: top;\n",
              "    }\n",
              "\n",
              "    .dataframe thead th {\n",
              "        text-align: right;\n",
              "    }\n",
              "</style>\n",
              "<table border=\"1\" class=\"dataframe\">\n",
              "  <thead>\n",
              "    <tr style=\"text-align: right;\">\n",
              "      <th></th>\n",
              "      <th>Area</th>\n",
              "      <th>MajorAxisLength</th>\n",
              "      <th>MinorAxisLength</th>\n",
              "      <th>Eccentricity</th>\n",
              "      <th>ConvexArea</th>\n",
              "      <th>Extent</th>\n",
              "      <th>Perimeter</th>\n",
              "      <th>Class</th>\n",
              "    </tr>\n",
              "  </thead>\n",
              "  <tbody>\n",
              "    <tr>\n",
              "      <th>0</th>\n",
              "      <td>87524</td>\n",
              "      <td>442.246011</td>\n",
              "      <td>253.291155</td>\n",
              "      <td>0.819738</td>\n",
              "      <td>90546</td>\n",
              "      <td>0.758651</td>\n",
              "      <td>1184.040</td>\n",
              "      <td>Kecimen</td>\n",
              "    </tr>\n",
              "    <tr>\n",
              "      <th>1</th>\n",
              "      <td>75166</td>\n",
              "      <td>406.690687</td>\n",
              "      <td>243.032436</td>\n",
              "      <td>0.801805</td>\n",
              "      <td>78789</td>\n",
              "      <td>0.684130</td>\n",
              "      <td>1121.786</td>\n",
              "      <td>Kecimen</td>\n",
              "    </tr>\n",
              "    <tr>\n",
              "      <th>2</th>\n",
              "      <td>90856</td>\n",
              "      <td>442.267048</td>\n",
              "      <td>266.328318</td>\n",
              "      <td>0.798354</td>\n",
              "      <td>93717</td>\n",
              "      <td>0.637613</td>\n",
              "      <td>1208.575</td>\n",
              "      <td>Kecimen</td>\n",
              "    </tr>\n",
              "    <tr>\n",
              "      <th>3</th>\n",
              "      <td>45928</td>\n",
              "      <td>286.540559</td>\n",
              "      <td>208.760042</td>\n",
              "      <td>0.684989</td>\n",
              "      <td>47336</td>\n",
              "      <td>0.699599</td>\n",
              "      <td>844.162</td>\n",
              "      <td>Kecimen</td>\n",
              "    </tr>\n",
              "    <tr>\n",
              "      <th>4</th>\n",
              "      <td>79408</td>\n",
              "      <td>352.190770</td>\n",
              "      <td>290.827533</td>\n",
              "      <td>0.564011</td>\n",
              "      <td>81463</td>\n",
              "      <td>0.792772</td>\n",
              "      <td>1073.251</td>\n",
              "      <td>Kecimen</td>\n",
              "    </tr>\n",
              "    <tr>\n",
              "      <th>...</th>\n",
              "      <td>...</td>\n",
              "      <td>...</td>\n",
              "      <td>...</td>\n",
              "      <td>...</td>\n",
              "      <td>...</td>\n",
              "      <td>...</td>\n",
              "      <td>...</td>\n",
              "      <td>...</td>\n",
              "    </tr>\n",
              "    <tr>\n",
              "      <th>895</th>\n",
              "      <td>83248</td>\n",
              "      <td>430.077308</td>\n",
              "      <td>247.838695</td>\n",
              "      <td>0.817263</td>\n",
              "      <td>85839</td>\n",
              "      <td>0.668793</td>\n",
              "      <td>1129.072</td>\n",
              "      <td>Besni</td>\n",
              "    </tr>\n",
              "    <tr>\n",
              "      <th>896</th>\n",
              "      <td>87350</td>\n",
              "      <td>440.735698</td>\n",
              "      <td>259.293149</td>\n",
              "      <td>0.808629</td>\n",
              "      <td>90899</td>\n",
              "      <td>0.636476</td>\n",
              "      <td>1214.252</td>\n",
              "      <td>Besni</td>\n",
              "    </tr>\n",
              "    <tr>\n",
              "      <th>897</th>\n",
              "      <td>99657</td>\n",
              "      <td>431.706981</td>\n",
              "      <td>298.837323</td>\n",
              "      <td>0.721684</td>\n",
              "      <td>106264</td>\n",
              "      <td>0.741099</td>\n",
              "      <td>1292.828</td>\n",
              "      <td>Besni</td>\n",
              "    </tr>\n",
              "    <tr>\n",
              "      <th>898</th>\n",
              "      <td>93523</td>\n",
              "      <td>476.344094</td>\n",
              "      <td>254.176054</td>\n",
              "      <td>0.845739</td>\n",
              "      <td>97653</td>\n",
              "      <td>0.658798</td>\n",
              "      <td>1258.548</td>\n",
              "      <td>Besni</td>\n",
              "    </tr>\n",
              "    <tr>\n",
              "      <th>899</th>\n",
              "      <td>85609</td>\n",
              "      <td>512.081774</td>\n",
              "      <td>215.271976</td>\n",
              "      <td>0.907345</td>\n",
              "      <td>89197</td>\n",
              "      <td>0.632020</td>\n",
              "      <td>1272.862</td>\n",
              "      <td>Besni</td>\n",
              "    </tr>\n",
              "  </tbody>\n",
              "</table>\n",
              "<p>900 rows × 8 columns</p>\n",
              "</div>\n",
              "      <button class=\"colab-df-convert\" onclick=\"convertToInteractive('df-a62a0edd-c92b-48f8-88ac-5cc6689c0884')\"\n",
              "              title=\"Convert this dataframe to an interactive table.\"\n",
              "              style=\"display:none;\">\n",
              "        \n",
              "  <svg xmlns=\"http://www.w3.org/2000/svg\" height=\"24px\"viewBox=\"0 0 24 24\"\n",
              "       width=\"24px\">\n",
              "    <path d=\"M0 0h24v24H0V0z\" fill=\"none\"/>\n",
              "    <path d=\"M18.56 5.44l.94 2.06.94-2.06 2.06-.94-2.06-.94-.94-2.06-.94 2.06-2.06.94zm-11 1L8.5 8.5l.94-2.06 2.06-.94-2.06-.94L8.5 2.5l-.94 2.06-2.06.94zm10 10l.94 2.06.94-2.06 2.06-.94-2.06-.94-.94-2.06-.94 2.06-2.06.94z\"/><path d=\"M17.41 7.96l-1.37-1.37c-.4-.4-.92-.59-1.43-.59-.52 0-1.04.2-1.43.59L10.3 9.45l-7.72 7.72c-.78.78-.78 2.05 0 2.83L4 21.41c.39.39.9.59 1.41.59.51 0 1.02-.2 1.41-.59l7.78-7.78 2.81-2.81c.8-.78.8-2.07 0-2.86zM5.41 20L4 18.59l7.72-7.72 1.47 1.35L5.41 20z\"/>\n",
              "  </svg>\n",
              "      </button>\n",
              "      \n",
              "  <style>\n",
              "    .colab-df-container {\n",
              "      display:flex;\n",
              "      flex-wrap:wrap;\n",
              "      gap: 12px;\n",
              "    }\n",
              "\n",
              "    .colab-df-convert {\n",
              "      background-color: #E8F0FE;\n",
              "      border: none;\n",
              "      border-radius: 50%;\n",
              "      cursor: pointer;\n",
              "      display: none;\n",
              "      fill: #1967D2;\n",
              "      height: 32px;\n",
              "      padding: 0 0 0 0;\n",
              "      width: 32px;\n",
              "    }\n",
              "\n",
              "    .colab-df-convert:hover {\n",
              "      background-color: #E2EBFA;\n",
              "      box-shadow: 0px 1px 2px rgba(60, 64, 67, 0.3), 0px 1px 3px 1px rgba(60, 64, 67, 0.15);\n",
              "      fill: #174EA6;\n",
              "    }\n",
              "\n",
              "    [theme=dark] .colab-df-convert {\n",
              "      background-color: #3B4455;\n",
              "      fill: #D2E3FC;\n",
              "    }\n",
              "\n",
              "    [theme=dark] .colab-df-convert:hover {\n",
              "      background-color: #434B5C;\n",
              "      box-shadow: 0px 1px 3px 1px rgba(0, 0, 0, 0.15);\n",
              "      filter: drop-shadow(0px 1px 2px rgba(0, 0, 0, 0.3));\n",
              "      fill: #FFFFFF;\n",
              "    }\n",
              "  </style>\n",
              "\n",
              "      <script>\n",
              "        const buttonEl =\n",
              "          document.querySelector('#df-a62a0edd-c92b-48f8-88ac-5cc6689c0884 button.colab-df-convert');\n",
              "        buttonEl.style.display =\n",
              "          google.colab.kernel.accessAllowed ? 'block' : 'none';\n",
              "\n",
              "        async function convertToInteractive(key) {\n",
              "          const element = document.querySelector('#df-a62a0edd-c92b-48f8-88ac-5cc6689c0884');\n",
              "          const dataTable =\n",
              "            await google.colab.kernel.invokeFunction('convertToInteractive',\n",
              "                                                     [key], {});\n",
              "          if (!dataTable) return;\n",
              "\n",
              "          const docLinkHtml = 'Like what you see? Visit the ' +\n",
              "            '<a target=\"_blank\" href=https://colab.research.google.com/notebooks/data_table.ipynb>data table notebook</a>'\n",
              "            + ' to learn more about interactive tables.';\n",
              "          element.innerHTML = '';\n",
              "          dataTable['output_type'] = 'display_data';\n",
              "          await google.colab.output.renderOutput(dataTable, element);\n",
              "          const docLink = document.createElement('div');\n",
              "          docLink.innerHTML = docLinkHtml;\n",
              "          element.appendChild(docLink);\n",
              "        }\n",
              "      </script>\n",
              "    </div>\n",
              "  </div>\n",
              "  "
            ],
            "text/plain": [
              "      Area  MajorAxisLength  MinorAxisLength  ...    Extent  Perimeter    Class\n",
              "0    87524       442.246011       253.291155  ...  0.758651   1184.040  Kecimen\n",
              "1    75166       406.690687       243.032436  ...  0.684130   1121.786  Kecimen\n",
              "2    90856       442.267048       266.328318  ...  0.637613   1208.575  Kecimen\n",
              "3    45928       286.540559       208.760042  ...  0.699599    844.162  Kecimen\n",
              "4    79408       352.190770       290.827533  ...  0.792772   1073.251  Kecimen\n",
              "..     ...              ...              ...  ...       ...        ...      ...\n",
              "895  83248       430.077308       247.838695  ...  0.668793   1129.072    Besni\n",
              "896  87350       440.735698       259.293149  ...  0.636476   1214.252    Besni\n",
              "897  99657       431.706981       298.837323  ...  0.741099   1292.828    Besni\n",
              "898  93523       476.344094       254.176054  ...  0.658798   1258.548    Besni\n",
              "899  85609       512.081774       215.271976  ...  0.632020   1272.862    Besni\n",
              "\n",
              "[900 rows x 8 columns]"
            ]
          },
          "metadata": {},
          "execution_count": 315
        }
      ]
    },
    {
      "cell_type": "code",
      "source": [
        "df.shape"
      ],
      "metadata": {
        "colab": {
          "base_uri": "https://localhost:8080/"
        },
        "id": "YM1uSVtua44B",
        "outputId": "6760b149-d8cd-4630-a0f9-71f76e08c3e5"
      },
      "execution_count": 316,
      "outputs": [
        {
          "output_type": "execute_result",
          "data": {
            "text/plain": [
              "(900, 8)"
            ]
          },
          "metadata": {},
          "execution_count": 316
        }
      ]
    },
    {
      "cell_type": "code",
      "source": [
        "df.describe()"
      ],
      "metadata": {
        "colab": {
          "base_uri": "https://localhost:8080/",
          "height": 364
        },
        "id": "cp_9Zvpoa655",
        "outputId": "aeecaa24-4a54-4adf-8e16-a162c24d9fde"
      },
      "execution_count": 317,
      "outputs": [
        {
          "output_type": "execute_result",
          "data": {
            "text/html": [
              "\n",
              "  <div id=\"df-e2339232-1c50-4dc3-8d5d-1bbfc702703b\">\n",
              "    <div class=\"colab-df-container\">\n",
              "      <div>\n",
              "<style scoped>\n",
              "    .dataframe tbody tr th:only-of-type {\n",
              "        vertical-align: middle;\n",
              "    }\n",
              "\n",
              "    .dataframe tbody tr th {\n",
              "        vertical-align: top;\n",
              "    }\n",
              "\n",
              "    .dataframe thead th {\n",
              "        text-align: right;\n",
              "    }\n",
              "</style>\n",
              "<table border=\"1\" class=\"dataframe\">\n",
              "  <thead>\n",
              "    <tr style=\"text-align: right;\">\n",
              "      <th></th>\n",
              "      <th>Area</th>\n",
              "      <th>MajorAxisLength</th>\n",
              "      <th>MinorAxisLength</th>\n",
              "      <th>Eccentricity</th>\n",
              "      <th>ConvexArea</th>\n",
              "      <th>Extent</th>\n",
              "      <th>Perimeter</th>\n",
              "    </tr>\n",
              "  </thead>\n",
              "  <tbody>\n",
              "    <tr>\n",
              "      <th>count</th>\n",
              "      <td>900.000000</td>\n",
              "      <td>900.000000</td>\n",
              "      <td>900.000000</td>\n",
              "      <td>900.000000</td>\n",
              "      <td>900.000000</td>\n",
              "      <td>900.000000</td>\n",
              "      <td>900.000000</td>\n",
              "    </tr>\n",
              "    <tr>\n",
              "      <th>mean</th>\n",
              "      <td>87804.127778</td>\n",
              "      <td>430.929950</td>\n",
              "      <td>254.488133</td>\n",
              "      <td>0.781542</td>\n",
              "      <td>91186.090000</td>\n",
              "      <td>0.699508</td>\n",
              "      <td>1165.906636</td>\n",
              "    </tr>\n",
              "    <tr>\n",
              "      <th>std</th>\n",
              "      <td>39002.111390</td>\n",
              "      <td>116.035121</td>\n",
              "      <td>49.988902</td>\n",
              "      <td>0.090318</td>\n",
              "      <td>40769.290132</td>\n",
              "      <td>0.053468</td>\n",
              "      <td>273.764315</td>\n",
              "    </tr>\n",
              "    <tr>\n",
              "      <th>min</th>\n",
              "      <td>25387.000000</td>\n",
              "      <td>225.629541</td>\n",
              "      <td>143.710872</td>\n",
              "      <td>0.348730</td>\n",
              "      <td>26139.000000</td>\n",
              "      <td>0.379856</td>\n",
              "      <td>619.074000</td>\n",
              "    </tr>\n",
              "    <tr>\n",
              "      <th>25%</th>\n",
              "      <td>59348.000000</td>\n",
              "      <td>345.442898</td>\n",
              "      <td>219.111126</td>\n",
              "      <td>0.741766</td>\n",
              "      <td>61513.250000</td>\n",
              "      <td>0.670869</td>\n",
              "      <td>966.410750</td>\n",
              "    </tr>\n",
              "    <tr>\n",
              "      <th>50%</th>\n",
              "      <td>78902.000000</td>\n",
              "      <td>407.803951</td>\n",
              "      <td>247.848409</td>\n",
              "      <td>0.798846</td>\n",
              "      <td>81651.000000</td>\n",
              "      <td>0.707367</td>\n",
              "      <td>1119.509000</td>\n",
              "    </tr>\n",
              "    <tr>\n",
              "      <th>75%</th>\n",
              "      <td>105028.250000</td>\n",
              "      <td>494.187014</td>\n",
              "      <td>279.888575</td>\n",
              "      <td>0.842571</td>\n",
              "      <td>108375.750000</td>\n",
              "      <td>0.734991</td>\n",
              "      <td>1308.389750</td>\n",
              "    </tr>\n",
              "    <tr>\n",
              "      <th>max</th>\n",
              "      <td>235047.000000</td>\n",
              "      <td>997.291941</td>\n",
              "      <td>492.275279</td>\n",
              "      <td>0.962124</td>\n",
              "      <td>278217.000000</td>\n",
              "      <td>0.835455</td>\n",
              "      <td>2697.753000</td>\n",
              "    </tr>\n",
              "  </tbody>\n",
              "</table>\n",
              "</div>\n",
              "      <button class=\"colab-df-convert\" onclick=\"convertToInteractive('df-e2339232-1c50-4dc3-8d5d-1bbfc702703b')\"\n",
              "              title=\"Convert this dataframe to an interactive table.\"\n",
              "              style=\"display:none;\">\n",
              "        \n",
              "  <svg xmlns=\"http://www.w3.org/2000/svg\" height=\"24px\"viewBox=\"0 0 24 24\"\n",
              "       width=\"24px\">\n",
              "    <path d=\"M0 0h24v24H0V0z\" fill=\"none\"/>\n",
              "    <path d=\"M18.56 5.44l.94 2.06.94-2.06 2.06-.94-2.06-.94-.94-2.06-.94 2.06-2.06.94zm-11 1L8.5 8.5l.94-2.06 2.06-.94-2.06-.94L8.5 2.5l-.94 2.06-2.06.94zm10 10l.94 2.06.94-2.06 2.06-.94-2.06-.94-.94-2.06-.94 2.06-2.06.94z\"/><path d=\"M17.41 7.96l-1.37-1.37c-.4-.4-.92-.59-1.43-.59-.52 0-1.04.2-1.43.59L10.3 9.45l-7.72 7.72c-.78.78-.78 2.05 0 2.83L4 21.41c.39.39.9.59 1.41.59.51 0 1.02-.2 1.41-.59l7.78-7.78 2.81-2.81c.8-.78.8-2.07 0-2.86zM5.41 20L4 18.59l7.72-7.72 1.47 1.35L5.41 20z\"/>\n",
              "  </svg>\n",
              "      </button>\n",
              "      \n",
              "  <style>\n",
              "    .colab-df-container {\n",
              "      display:flex;\n",
              "      flex-wrap:wrap;\n",
              "      gap: 12px;\n",
              "    }\n",
              "\n",
              "    .colab-df-convert {\n",
              "      background-color: #E8F0FE;\n",
              "      border: none;\n",
              "      border-radius: 50%;\n",
              "      cursor: pointer;\n",
              "      display: none;\n",
              "      fill: #1967D2;\n",
              "      height: 32px;\n",
              "      padding: 0 0 0 0;\n",
              "      width: 32px;\n",
              "    }\n",
              "\n",
              "    .colab-df-convert:hover {\n",
              "      background-color: #E2EBFA;\n",
              "      box-shadow: 0px 1px 2px rgba(60, 64, 67, 0.3), 0px 1px 3px 1px rgba(60, 64, 67, 0.15);\n",
              "      fill: #174EA6;\n",
              "    }\n",
              "\n",
              "    [theme=dark] .colab-df-convert {\n",
              "      background-color: #3B4455;\n",
              "      fill: #D2E3FC;\n",
              "    }\n",
              "\n",
              "    [theme=dark] .colab-df-convert:hover {\n",
              "      background-color: #434B5C;\n",
              "      box-shadow: 0px 1px 3px 1px rgba(0, 0, 0, 0.15);\n",
              "      filter: drop-shadow(0px 1px 2px rgba(0, 0, 0, 0.3));\n",
              "      fill: #FFFFFF;\n",
              "    }\n",
              "  </style>\n",
              "\n",
              "      <script>\n",
              "        const buttonEl =\n",
              "          document.querySelector('#df-e2339232-1c50-4dc3-8d5d-1bbfc702703b button.colab-df-convert');\n",
              "        buttonEl.style.display =\n",
              "          google.colab.kernel.accessAllowed ? 'block' : 'none';\n",
              "\n",
              "        async function convertToInteractive(key) {\n",
              "          const element = document.querySelector('#df-e2339232-1c50-4dc3-8d5d-1bbfc702703b');\n",
              "          const dataTable =\n",
              "            await google.colab.kernel.invokeFunction('convertToInteractive',\n",
              "                                                     [key], {});\n",
              "          if (!dataTable) return;\n",
              "\n",
              "          const docLinkHtml = 'Like what you see? Visit the ' +\n",
              "            '<a target=\"_blank\" href=https://colab.research.google.com/notebooks/data_table.ipynb>data table notebook</a>'\n",
              "            + ' to learn more about interactive tables.';\n",
              "          element.innerHTML = '';\n",
              "          dataTable['output_type'] = 'display_data';\n",
              "          await google.colab.output.renderOutput(dataTable, element);\n",
              "          const docLink = document.createElement('div');\n",
              "          docLink.innerHTML = docLinkHtml;\n",
              "          element.appendChild(docLink);\n",
              "        }\n",
              "      </script>\n",
              "    </div>\n",
              "  </div>\n",
              "  "
            ],
            "text/plain": [
              "                Area  MajorAxisLength  ...      Extent    Perimeter\n",
              "count     900.000000       900.000000  ...  900.000000   900.000000\n",
              "mean    87804.127778       430.929950  ...    0.699508  1165.906636\n",
              "std     39002.111390       116.035121  ...    0.053468   273.764315\n",
              "min     25387.000000       225.629541  ...    0.379856   619.074000\n",
              "25%     59348.000000       345.442898  ...    0.670869   966.410750\n",
              "50%     78902.000000       407.803951  ...    0.707367  1119.509000\n",
              "75%    105028.250000       494.187014  ...    0.734991  1308.389750\n",
              "max    235047.000000       997.291941  ...    0.835455  2697.753000\n",
              "\n",
              "[8 rows x 7 columns]"
            ]
          },
          "metadata": {},
          "execution_count": 317
        }
      ]
    },
    {
      "cell_type": "code",
      "source": [
        "df.info()"
      ],
      "metadata": {
        "colab": {
          "base_uri": "https://localhost:8080/"
        },
        "id": "Cfa7HO7WbA1s",
        "outputId": "87f7c67f-6537-44f7-a987-c209b8f44508"
      },
      "execution_count": 318,
      "outputs": [
        {
          "output_type": "stream",
          "name": "stdout",
          "text": [
            "<class 'pandas.core.frame.DataFrame'>\n",
            "RangeIndex: 900 entries, 0 to 899\n",
            "Data columns (total 8 columns):\n",
            " #   Column           Non-Null Count  Dtype  \n",
            "---  ------           --------------  -----  \n",
            " 0   Area             900 non-null    int64  \n",
            " 1   MajorAxisLength  900 non-null    float64\n",
            " 2   MinorAxisLength  900 non-null    float64\n",
            " 3   Eccentricity     900 non-null    float64\n",
            " 4   ConvexArea       900 non-null    int64  \n",
            " 5   Extent           900 non-null    float64\n",
            " 6   Perimeter        900 non-null    float64\n",
            " 7   Class            900 non-null    object \n",
            "dtypes: float64(5), int64(2), object(1)\n",
            "memory usage: 56.4+ KB\n"
          ]
        }
      ]
    },
    {
      "cell_type": "code",
      "source": [
        "X=df.drop('Class',axis=1)"
      ],
      "metadata": {
        "id": "KXT9W9ovfewz"
      },
      "execution_count": 319,
      "outputs": []
    },
    {
      "cell_type": "code",
      "source": [
        "X"
      ],
      "metadata": {
        "colab": {
          "base_uri": "https://localhost:8080/",
          "height": 488
        },
        "id": "y8hgVn_lgoKr",
        "outputId": "5fe67416-c909-4f71-9546-77132938684c"
      },
      "execution_count": 320,
      "outputs": [
        {
          "output_type": "execute_result",
          "data": {
            "text/html": [
              "\n",
              "  <div id=\"df-a1565b7d-b8bb-4da4-801d-1187701ab0d6\">\n",
              "    <div class=\"colab-df-container\">\n",
              "      <div>\n",
              "<style scoped>\n",
              "    .dataframe tbody tr th:only-of-type {\n",
              "        vertical-align: middle;\n",
              "    }\n",
              "\n",
              "    .dataframe tbody tr th {\n",
              "        vertical-align: top;\n",
              "    }\n",
              "\n",
              "    .dataframe thead th {\n",
              "        text-align: right;\n",
              "    }\n",
              "</style>\n",
              "<table border=\"1\" class=\"dataframe\">\n",
              "  <thead>\n",
              "    <tr style=\"text-align: right;\">\n",
              "      <th></th>\n",
              "      <th>Area</th>\n",
              "      <th>MajorAxisLength</th>\n",
              "      <th>MinorAxisLength</th>\n",
              "      <th>Eccentricity</th>\n",
              "      <th>ConvexArea</th>\n",
              "      <th>Extent</th>\n",
              "      <th>Perimeter</th>\n",
              "    </tr>\n",
              "  </thead>\n",
              "  <tbody>\n",
              "    <tr>\n",
              "      <th>0</th>\n",
              "      <td>87524</td>\n",
              "      <td>442.246011</td>\n",
              "      <td>253.291155</td>\n",
              "      <td>0.819738</td>\n",
              "      <td>90546</td>\n",
              "      <td>0.758651</td>\n",
              "      <td>1184.040</td>\n",
              "    </tr>\n",
              "    <tr>\n",
              "      <th>1</th>\n",
              "      <td>75166</td>\n",
              "      <td>406.690687</td>\n",
              "      <td>243.032436</td>\n",
              "      <td>0.801805</td>\n",
              "      <td>78789</td>\n",
              "      <td>0.684130</td>\n",
              "      <td>1121.786</td>\n",
              "    </tr>\n",
              "    <tr>\n",
              "      <th>2</th>\n",
              "      <td>90856</td>\n",
              "      <td>442.267048</td>\n",
              "      <td>266.328318</td>\n",
              "      <td>0.798354</td>\n",
              "      <td>93717</td>\n",
              "      <td>0.637613</td>\n",
              "      <td>1208.575</td>\n",
              "    </tr>\n",
              "    <tr>\n",
              "      <th>3</th>\n",
              "      <td>45928</td>\n",
              "      <td>286.540559</td>\n",
              "      <td>208.760042</td>\n",
              "      <td>0.684989</td>\n",
              "      <td>47336</td>\n",
              "      <td>0.699599</td>\n",
              "      <td>844.162</td>\n",
              "    </tr>\n",
              "    <tr>\n",
              "      <th>4</th>\n",
              "      <td>79408</td>\n",
              "      <td>352.190770</td>\n",
              "      <td>290.827533</td>\n",
              "      <td>0.564011</td>\n",
              "      <td>81463</td>\n",
              "      <td>0.792772</td>\n",
              "      <td>1073.251</td>\n",
              "    </tr>\n",
              "    <tr>\n",
              "      <th>...</th>\n",
              "      <td>...</td>\n",
              "      <td>...</td>\n",
              "      <td>...</td>\n",
              "      <td>...</td>\n",
              "      <td>...</td>\n",
              "      <td>...</td>\n",
              "      <td>...</td>\n",
              "    </tr>\n",
              "    <tr>\n",
              "      <th>895</th>\n",
              "      <td>83248</td>\n",
              "      <td>430.077308</td>\n",
              "      <td>247.838695</td>\n",
              "      <td>0.817263</td>\n",
              "      <td>85839</td>\n",
              "      <td>0.668793</td>\n",
              "      <td>1129.072</td>\n",
              "    </tr>\n",
              "    <tr>\n",
              "      <th>896</th>\n",
              "      <td>87350</td>\n",
              "      <td>440.735698</td>\n",
              "      <td>259.293149</td>\n",
              "      <td>0.808629</td>\n",
              "      <td>90899</td>\n",
              "      <td>0.636476</td>\n",
              "      <td>1214.252</td>\n",
              "    </tr>\n",
              "    <tr>\n",
              "      <th>897</th>\n",
              "      <td>99657</td>\n",
              "      <td>431.706981</td>\n",
              "      <td>298.837323</td>\n",
              "      <td>0.721684</td>\n",
              "      <td>106264</td>\n",
              "      <td>0.741099</td>\n",
              "      <td>1292.828</td>\n",
              "    </tr>\n",
              "    <tr>\n",
              "      <th>898</th>\n",
              "      <td>93523</td>\n",
              "      <td>476.344094</td>\n",
              "      <td>254.176054</td>\n",
              "      <td>0.845739</td>\n",
              "      <td>97653</td>\n",
              "      <td>0.658798</td>\n",
              "      <td>1258.548</td>\n",
              "    </tr>\n",
              "    <tr>\n",
              "      <th>899</th>\n",
              "      <td>85609</td>\n",
              "      <td>512.081774</td>\n",
              "      <td>215.271976</td>\n",
              "      <td>0.907345</td>\n",
              "      <td>89197</td>\n",
              "      <td>0.632020</td>\n",
              "      <td>1272.862</td>\n",
              "    </tr>\n",
              "  </tbody>\n",
              "</table>\n",
              "<p>900 rows × 7 columns</p>\n",
              "</div>\n",
              "      <button class=\"colab-df-convert\" onclick=\"convertToInteractive('df-a1565b7d-b8bb-4da4-801d-1187701ab0d6')\"\n",
              "              title=\"Convert this dataframe to an interactive table.\"\n",
              "              style=\"display:none;\">\n",
              "        \n",
              "  <svg xmlns=\"http://www.w3.org/2000/svg\" height=\"24px\"viewBox=\"0 0 24 24\"\n",
              "       width=\"24px\">\n",
              "    <path d=\"M0 0h24v24H0V0z\" fill=\"none\"/>\n",
              "    <path d=\"M18.56 5.44l.94 2.06.94-2.06 2.06-.94-2.06-.94-.94-2.06-.94 2.06-2.06.94zm-11 1L8.5 8.5l.94-2.06 2.06-.94-2.06-.94L8.5 2.5l-.94 2.06-2.06.94zm10 10l.94 2.06.94-2.06 2.06-.94-2.06-.94-.94-2.06-.94 2.06-2.06.94z\"/><path d=\"M17.41 7.96l-1.37-1.37c-.4-.4-.92-.59-1.43-.59-.52 0-1.04.2-1.43.59L10.3 9.45l-7.72 7.72c-.78.78-.78 2.05 0 2.83L4 21.41c.39.39.9.59 1.41.59.51 0 1.02-.2 1.41-.59l7.78-7.78 2.81-2.81c.8-.78.8-2.07 0-2.86zM5.41 20L4 18.59l7.72-7.72 1.47 1.35L5.41 20z\"/>\n",
              "  </svg>\n",
              "      </button>\n",
              "      \n",
              "  <style>\n",
              "    .colab-df-container {\n",
              "      display:flex;\n",
              "      flex-wrap:wrap;\n",
              "      gap: 12px;\n",
              "    }\n",
              "\n",
              "    .colab-df-convert {\n",
              "      background-color: #E8F0FE;\n",
              "      border: none;\n",
              "      border-radius: 50%;\n",
              "      cursor: pointer;\n",
              "      display: none;\n",
              "      fill: #1967D2;\n",
              "      height: 32px;\n",
              "      padding: 0 0 0 0;\n",
              "      width: 32px;\n",
              "    }\n",
              "\n",
              "    .colab-df-convert:hover {\n",
              "      background-color: #E2EBFA;\n",
              "      box-shadow: 0px 1px 2px rgba(60, 64, 67, 0.3), 0px 1px 3px 1px rgba(60, 64, 67, 0.15);\n",
              "      fill: #174EA6;\n",
              "    }\n",
              "\n",
              "    [theme=dark] .colab-df-convert {\n",
              "      background-color: #3B4455;\n",
              "      fill: #D2E3FC;\n",
              "    }\n",
              "\n",
              "    [theme=dark] .colab-df-convert:hover {\n",
              "      background-color: #434B5C;\n",
              "      box-shadow: 0px 1px 3px 1px rgba(0, 0, 0, 0.15);\n",
              "      filter: drop-shadow(0px 1px 2px rgba(0, 0, 0, 0.3));\n",
              "      fill: #FFFFFF;\n",
              "    }\n",
              "  </style>\n",
              "\n",
              "      <script>\n",
              "        const buttonEl =\n",
              "          document.querySelector('#df-a1565b7d-b8bb-4da4-801d-1187701ab0d6 button.colab-df-convert');\n",
              "        buttonEl.style.display =\n",
              "          google.colab.kernel.accessAllowed ? 'block' : 'none';\n",
              "\n",
              "        async function convertToInteractive(key) {\n",
              "          const element = document.querySelector('#df-a1565b7d-b8bb-4da4-801d-1187701ab0d6');\n",
              "          const dataTable =\n",
              "            await google.colab.kernel.invokeFunction('convertToInteractive',\n",
              "                                                     [key], {});\n",
              "          if (!dataTable) return;\n",
              "\n",
              "          const docLinkHtml = 'Like what you see? Visit the ' +\n",
              "            '<a target=\"_blank\" href=https://colab.research.google.com/notebooks/data_table.ipynb>data table notebook</a>'\n",
              "            + ' to learn more about interactive tables.';\n",
              "          element.innerHTML = '';\n",
              "          dataTable['output_type'] = 'display_data';\n",
              "          await google.colab.output.renderOutput(dataTable, element);\n",
              "          const docLink = document.createElement('div');\n",
              "          docLink.innerHTML = docLinkHtml;\n",
              "          element.appendChild(docLink);\n",
              "        }\n",
              "      </script>\n",
              "    </div>\n",
              "  </div>\n",
              "  "
            ],
            "text/plain": [
              "      Area  MajorAxisLength  MinorAxisLength  ...  ConvexArea    Extent  Perimeter\n",
              "0    87524       442.246011       253.291155  ...       90546  0.758651   1184.040\n",
              "1    75166       406.690687       243.032436  ...       78789  0.684130   1121.786\n",
              "2    90856       442.267048       266.328318  ...       93717  0.637613   1208.575\n",
              "3    45928       286.540559       208.760042  ...       47336  0.699599    844.162\n",
              "4    79408       352.190770       290.827533  ...       81463  0.792772   1073.251\n",
              "..     ...              ...              ...  ...         ...       ...        ...\n",
              "895  83248       430.077308       247.838695  ...       85839  0.668793   1129.072\n",
              "896  87350       440.735698       259.293149  ...       90899  0.636476   1214.252\n",
              "897  99657       431.706981       298.837323  ...      106264  0.741099   1292.828\n",
              "898  93523       476.344094       254.176054  ...       97653  0.658798   1258.548\n",
              "899  85609       512.081774       215.271976  ...       89197  0.632020   1272.862\n",
              "\n",
              "[900 rows x 7 columns]"
            ]
          },
          "metadata": {},
          "execution_count": 320
        }
      ]
    },
    {
      "cell_type": "code",
      "source": [
        "X=np.array(X)"
      ],
      "metadata": {
        "id": "76kSXW3VgpgC"
      },
      "execution_count": 321,
      "outputs": []
    },
    {
      "cell_type": "code",
      "source": [
        "le=LabelEncoder()"
      ],
      "metadata": {
        "id": "AK99Xio-heQC"
      },
      "execution_count": 322,
      "outputs": []
    },
    {
      "cell_type": "code",
      "source": [
        "X[:,0]=le.fit_transform(X[:,0])\n",
        "X[:,1]=le.fit_transform(X[:,1])\n",
        "X[:,2]=le.fit_transform(X[:,2])\n",
        "X[:,3]=le.fit_transform(X[:,3])\n",
        "X[:,4]=le.fit_transform(X[:,4])\n",
        "X[:,5]=le.fit_transform(X[:,5])\n",
        "X[:,6]=le.fit_transform(X[:,6])"
      ],
      "metadata": {
        "id": "2qiP-x7Fhf5I"
      },
      "execution_count": 323,
      "outputs": []
    },
    {
      "cell_type": "code",
      "source": [
        "X"
      ],
      "metadata": {
        "colab": {
          "base_uri": "https://localhost:8080/"
        },
        "id": "AGaeW5nPh6is",
        "outputId": "d6255fe8-4698-4499-dce9-1ff23450e1c1"
      },
      "execution_count": 324,
      "outputs": [
        {
          "output_type": "execute_result",
          "data": {
            "text/plain": [
              "array([[551., 553., 500., ..., 542., 811., 544.],\n",
              "       [404., 446., 409., ..., 413., 299., 453.],\n",
              "       [583., 554., 581., ..., 571., 102., 573.],\n",
              "       ...,\n",
              "       [640., 517., 739., ..., 650., 722., 656.],\n",
              "       [600., 633., 506., ..., 600., 177., 622.],\n",
              "       [529., 706., 200., ..., 532.,  82., 643.]])"
            ]
          },
          "metadata": {},
          "execution_count": 324
        }
      ]
    },
    {
      "cell_type": "code",
      "source": [
        "Y=df.iloc[:,-1].values"
      ],
      "metadata": {
        "id": "HOC-D-M5h81C"
      },
      "execution_count": 325,
      "outputs": []
    },
    {
      "cell_type": "code",
      "source": [
        "Y"
      ],
      "metadata": {
        "colab": {
          "base_uri": "https://localhost:8080/"
        },
        "id": "pkIEJQWciARn",
        "outputId": "7ec36e8a-9de9-4075-d359-7566c1759853"
      },
      "execution_count": 326,
      "outputs": [
        {
          "output_type": "execute_result",
          "data": {
            "text/plain": [
              "array(['Kecimen', 'Kecimen', 'Kecimen', 'Kecimen', 'Kecimen', 'Kecimen',\n",
              "       'Kecimen', 'Kecimen', 'Kecimen', 'Kecimen', 'Kecimen', 'Kecimen',\n",
              "       'Kecimen', 'Kecimen', 'Kecimen', 'Kecimen', 'Kecimen', 'Kecimen',\n",
              "       'Kecimen', 'Kecimen', 'Kecimen', 'Kecimen', 'Kecimen', 'Kecimen',\n",
              "       'Kecimen', 'Kecimen', 'Kecimen', 'Kecimen', 'Kecimen', 'Kecimen',\n",
              "       'Kecimen', 'Kecimen', 'Kecimen', 'Kecimen', 'Kecimen', 'Kecimen',\n",
              "       'Kecimen', 'Kecimen', 'Kecimen', 'Kecimen', 'Kecimen', 'Kecimen',\n",
              "       'Kecimen', 'Kecimen', 'Kecimen', 'Kecimen', 'Kecimen', 'Kecimen',\n",
              "       'Kecimen', 'Kecimen', 'Kecimen', 'Kecimen', 'Kecimen', 'Kecimen',\n",
              "       'Kecimen', 'Kecimen', 'Kecimen', 'Kecimen', 'Kecimen', 'Kecimen',\n",
              "       'Kecimen', 'Kecimen', 'Kecimen', 'Kecimen', 'Kecimen', 'Kecimen',\n",
              "       'Kecimen', 'Kecimen', 'Kecimen', 'Kecimen', 'Kecimen', 'Kecimen',\n",
              "       'Kecimen', 'Kecimen', 'Kecimen', 'Kecimen', 'Kecimen', 'Kecimen',\n",
              "       'Kecimen', 'Kecimen', 'Kecimen', 'Kecimen', 'Kecimen', 'Kecimen',\n",
              "       'Kecimen', 'Kecimen', 'Kecimen', 'Kecimen', 'Kecimen', 'Kecimen',\n",
              "       'Kecimen', 'Kecimen', 'Kecimen', 'Kecimen', 'Kecimen', 'Kecimen',\n",
              "       'Kecimen', 'Kecimen', 'Kecimen', 'Kecimen', 'Kecimen', 'Kecimen',\n",
              "       'Kecimen', 'Kecimen', 'Kecimen', 'Kecimen', 'Kecimen', 'Kecimen',\n",
              "       'Kecimen', 'Kecimen', 'Kecimen', 'Kecimen', 'Kecimen', 'Kecimen',\n",
              "       'Kecimen', 'Kecimen', 'Kecimen', 'Kecimen', 'Kecimen', 'Kecimen',\n",
              "       'Kecimen', 'Kecimen', 'Kecimen', 'Kecimen', 'Kecimen', 'Kecimen',\n",
              "       'Kecimen', 'Kecimen', 'Kecimen', 'Kecimen', 'Kecimen', 'Kecimen',\n",
              "       'Kecimen', 'Kecimen', 'Kecimen', 'Kecimen', 'Kecimen', 'Kecimen',\n",
              "       'Kecimen', 'Kecimen', 'Kecimen', 'Kecimen', 'Kecimen', 'Kecimen',\n",
              "       'Kecimen', 'Kecimen', 'Kecimen', 'Kecimen', 'Kecimen', 'Kecimen',\n",
              "       'Kecimen', 'Kecimen', 'Kecimen', 'Kecimen', 'Kecimen', 'Kecimen',\n",
              "       'Kecimen', 'Kecimen', 'Kecimen', 'Kecimen', 'Kecimen', 'Kecimen',\n",
              "       'Kecimen', 'Kecimen', 'Kecimen', 'Kecimen', 'Kecimen', 'Kecimen',\n",
              "       'Kecimen', 'Kecimen', 'Kecimen', 'Kecimen', 'Kecimen', 'Kecimen',\n",
              "       'Kecimen', 'Kecimen', 'Kecimen', 'Kecimen', 'Kecimen', 'Kecimen',\n",
              "       'Kecimen', 'Kecimen', 'Kecimen', 'Kecimen', 'Kecimen', 'Kecimen',\n",
              "       'Kecimen', 'Kecimen', 'Kecimen', 'Kecimen', 'Kecimen', 'Kecimen',\n",
              "       'Kecimen', 'Kecimen', 'Kecimen', 'Kecimen', 'Kecimen', 'Kecimen',\n",
              "       'Kecimen', 'Kecimen', 'Kecimen', 'Kecimen', 'Kecimen', 'Kecimen',\n",
              "       'Kecimen', 'Kecimen', 'Kecimen', 'Kecimen', 'Kecimen', 'Kecimen',\n",
              "       'Kecimen', 'Kecimen', 'Kecimen', 'Kecimen', 'Kecimen', 'Kecimen',\n",
              "       'Kecimen', 'Kecimen', 'Kecimen', 'Kecimen', 'Kecimen', 'Kecimen',\n",
              "       'Kecimen', 'Kecimen', 'Kecimen', 'Kecimen', 'Kecimen', 'Kecimen',\n",
              "       'Kecimen', 'Kecimen', 'Kecimen', 'Kecimen', 'Kecimen', 'Kecimen',\n",
              "       'Kecimen', 'Kecimen', 'Kecimen', 'Kecimen', 'Kecimen', 'Kecimen',\n",
              "       'Kecimen', 'Kecimen', 'Kecimen', 'Kecimen', 'Kecimen', 'Kecimen',\n",
              "       'Kecimen', 'Kecimen', 'Kecimen', 'Kecimen', 'Kecimen', 'Kecimen',\n",
              "       'Kecimen', 'Kecimen', 'Kecimen', 'Kecimen', 'Kecimen', 'Kecimen',\n",
              "       'Kecimen', 'Kecimen', 'Kecimen', 'Kecimen', 'Kecimen', 'Kecimen',\n",
              "       'Kecimen', 'Kecimen', 'Kecimen', 'Kecimen', 'Kecimen', 'Kecimen',\n",
              "       'Kecimen', 'Kecimen', 'Kecimen', 'Kecimen', 'Kecimen', 'Kecimen',\n",
              "       'Kecimen', 'Kecimen', 'Kecimen', 'Kecimen', 'Kecimen', 'Kecimen',\n",
              "       'Kecimen', 'Kecimen', 'Kecimen', 'Kecimen', 'Kecimen', 'Kecimen',\n",
              "       'Kecimen', 'Kecimen', 'Kecimen', 'Kecimen', 'Kecimen', 'Kecimen',\n",
              "       'Kecimen', 'Kecimen', 'Kecimen', 'Kecimen', 'Kecimen', 'Kecimen',\n",
              "       'Kecimen', 'Kecimen', 'Kecimen', 'Kecimen', 'Kecimen', 'Kecimen',\n",
              "       'Kecimen', 'Kecimen', 'Kecimen', 'Kecimen', 'Kecimen', 'Kecimen',\n",
              "       'Kecimen', 'Kecimen', 'Kecimen', 'Kecimen', 'Kecimen', 'Kecimen',\n",
              "       'Kecimen', 'Kecimen', 'Kecimen', 'Kecimen', 'Kecimen', 'Kecimen',\n",
              "       'Kecimen', 'Kecimen', 'Kecimen', 'Kecimen', 'Kecimen', 'Kecimen',\n",
              "       'Kecimen', 'Kecimen', 'Kecimen', 'Kecimen', 'Kecimen', 'Kecimen',\n",
              "       'Kecimen', 'Kecimen', 'Kecimen', 'Kecimen', 'Kecimen', 'Kecimen',\n",
              "       'Kecimen', 'Kecimen', 'Kecimen', 'Kecimen', 'Kecimen', 'Kecimen',\n",
              "       'Kecimen', 'Kecimen', 'Kecimen', 'Kecimen', 'Kecimen', 'Kecimen',\n",
              "       'Kecimen', 'Kecimen', 'Kecimen', 'Kecimen', 'Kecimen', 'Kecimen',\n",
              "       'Kecimen', 'Kecimen', 'Kecimen', 'Kecimen', 'Kecimen', 'Kecimen',\n",
              "       'Kecimen', 'Kecimen', 'Kecimen', 'Kecimen', 'Kecimen', 'Kecimen',\n",
              "       'Kecimen', 'Kecimen', 'Kecimen', 'Kecimen', 'Kecimen', 'Kecimen',\n",
              "       'Kecimen', 'Kecimen', 'Kecimen', 'Kecimen', 'Kecimen', 'Kecimen',\n",
              "       'Kecimen', 'Kecimen', 'Kecimen', 'Kecimen', 'Kecimen', 'Kecimen',\n",
              "       'Kecimen', 'Kecimen', 'Kecimen', 'Kecimen', 'Kecimen', 'Kecimen',\n",
              "       'Kecimen', 'Kecimen', 'Kecimen', 'Kecimen', 'Kecimen', 'Kecimen',\n",
              "       'Kecimen', 'Kecimen', 'Kecimen', 'Kecimen', 'Kecimen', 'Kecimen',\n",
              "       'Kecimen', 'Kecimen', 'Kecimen', 'Kecimen', 'Kecimen', 'Kecimen',\n",
              "       'Kecimen', 'Kecimen', 'Kecimen', 'Kecimen', 'Kecimen', 'Kecimen',\n",
              "       'Kecimen', 'Kecimen', 'Kecimen', 'Kecimen', 'Kecimen', 'Kecimen',\n",
              "       'Kecimen', 'Kecimen', 'Kecimen', 'Kecimen', 'Kecimen', 'Kecimen',\n",
              "       'Kecimen', 'Kecimen', 'Kecimen', 'Kecimen', 'Kecimen', 'Kecimen',\n",
              "       'Kecimen', 'Kecimen', 'Kecimen', 'Kecimen', 'Kecimen', 'Kecimen',\n",
              "       'Kecimen', 'Kecimen', 'Kecimen', 'Kecimen', 'Kecimen', 'Kecimen',\n",
              "       'Besni', 'Besni', 'Besni', 'Besni', 'Besni', 'Besni', 'Besni',\n",
              "       'Besni', 'Besni', 'Besni', 'Besni', 'Besni', 'Besni', 'Besni',\n",
              "       'Besni', 'Besni', 'Besni', 'Besni', 'Besni', 'Besni', 'Besni',\n",
              "       'Besni', 'Besni', 'Besni', 'Besni', 'Besni', 'Besni', 'Besni',\n",
              "       'Besni', 'Besni', 'Besni', 'Besni', 'Besni', 'Besni', 'Besni',\n",
              "       'Besni', 'Besni', 'Besni', 'Besni', 'Besni', 'Besni', 'Besni',\n",
              "       'Besni', 'Besni', 'Besni', 'Besni', 'Besni', 'Besni', 'Besni',\n",
              "       'Besni', 'Besni', 'Besni', 'Besni', 'Besni', 'Besni', 'Besni',\n",
              "       'Besni', 'Besni', 'Besni', 'Besni', 'Besni', 'Besni', 'Besni',\n",
              "       'Besni', 'Besni', 'Besni', 'Besni', 'Besni', 'Besni', 'Besni',\n",
              "       'Besni', 'Besni', 'Besni', 'Besni', 'Besni', 'Besni', 'Besni',\n",
              "       'Besni', 'Besni', 'Besni', 'Besni', 'Besni', 'Besni', 'Besni',\n",
              "       'Besni', 'Besni', 'Besni', 'Besni', 'Besni', 'Besni', 'Besni',\n",
              "       'Besni', 'Besni', 'Besni', 'Besni', 'Besni', 'Besni', 'Besni',\n",
              "       'Besni', 'Besni', 'Besni', 'Besni', 'Besni', 'Besni', 'Besni',\n",
              "       'Besni', 'Besni', 'Besni', 'Besni', 'Besni', 'Besni', 'Besni',\n",
              "       'Besni', 'Besni', 'Besni', 'Besni', 'Besni', 'Besni', 'Besni',\n",
              "       'Besni', 'Besni', 'Besni', 'Besni', 'Besni', 'Besni', 'Besni',\n",
              "       'Besni', 'Besni', 'Besni', 'Besni', 'Besni', 'Besni', 'Besni',\n",
              "       'Besni', 'Besni', 'Besni', 'Besni', 'Besni', 'Besni', 'Besni',\n",
              "       'Besni', 'Besni', 'Besni', 'Besni', 'Besni', 'Besni', 'Besni',\n",
              "       'Besni', 'Besni', 'Besni', 'Besni', 'Besni', 'Besni', 'Besni',\n",
              "       'Besni', 'Besni', 'Besni', 'Besni', 'Besni', 'Besni', 'Besni',\n",
              "       'Besni', 'Besni', 'Besni', 'Besni', 'Besni', 'Besni', 'Besni',\n",
              "       'Besni', 'Besni', 'Besni', 'Besni', 'Besni', 'Besni', 'Besni',\n",
              "       'Besni', 'Besni', 'Besni', 'Besni', 'Besni', 'Besni', 'Besni',\n",
              "       'Besni', 'Besni', 'Besni', 'Besni', 'Besni', 'Besni', 'Besni',\n",
              "       'Besni', 'Besni', 'Besni', 'Besni', 'Besni', 'Besni', 'Besni',\n",
              "       'Besni', 'Besni', 'Besni', 'Besni', 'Besni', 'Besni', 'Besni',\n",
              "       'Besni', 'Besni', 'Besni', 'Besni', 'Besni', 'Besni', 'Besni',\n",
              "       'Besni', 'Besni', 'Besni', 'Besni', 'Besni', 'Besni', 'Besni',\n",
              "       'Besni', 'Besni', 'Besni', 'Besni', 'Besni', 'Besni', 'Besni',\n",
              "       'Besni', 'Besni', 'Besni', 'Besni', 'Besni', 'Besni', 'Besni',\n",
              "       'Besni', 'Besni', 'Besni', 'Besni', 'Besni', 'Besni', 'Besni',\n",
              "       'Besni', 'Besni', 'Besni', 'Besni', 'Besni', 'Besni', 'Besni',\n",
              "       'Besni', 'Besni', 'Besni', 'Besni', 'Besni', 'Besni', 'Besni',\n",
              "       'Besni', 'Besni', 'Besni', 'Besni', 'Besni', 'Besni', 'Besni',\n",
              "       'Besni', 'Besni', 'Besni', 'Besni', 'Besni', 'Besni', 'Besni',\n",
              "       'Besni', 'Besni', 'Besni', 'Besni', 'Besni', 'Besni', 'Besni',\n",
              "       'Besni', 'Besni', 'Besni', 'Besni', 'Besni', 'Besni', 'Besni',\n",
              "       'Besni', 'Besni', 'Besni', 'Besni', 'Besni', 'Besni', 'Besni',\n",
              "       'Besni', 'Besni', 'Besni', 'Besni', 'Besni', 'Besni', 'Besni',\n",
              "       'Besni', 'Besni', 'Besni', 'Besni', 'Besni', 'Besni', 'Besni',\n",
              "       'Besni', 'Besni', 'Besni', 'Besni', 'Besni', 'Besni', 'Besni',\n",
              "       'Besni', 'Besni', 'Besni', 'Besni', 'Besni', 'Besni', 'Besni',\n",
              "       'Besni', 'Besni', 'Besni', 'Besni', 'Besni', 'Besni', 'Besni',\n",
              "       'Besni', 'Besni', 'Besni', 'Besni', 'Besni', 'Besni', 'Besni',\n",
              "       'Besni', 'Besni', 'Besni', 'Besni', 'Besni', 'Besni', 'Besni',\n",
              "       'Besni', 'Besni', 'Besni', 'Besni', 'Besni', 'Besni', 'Besni',\n",
              "       'Besni', 'Besni', 'Besni', 'Besni', 'Besni', 'Besni', 'Besni',\n",
              "       'Besni', 'Besni', 'Besni', 'Besni', 'Besni', 'Besni', 'Besni',\n",
              "       'Besni', 'Besni', 'Besni', 'Besni', 'Besni', 'Besni', 'Besni',\n",
              "       'Besni', 'Besni', 'Besni', 'Besni', 'Besni', 'Besni', 'Besni',\n",
              "       'Besni', 'Besni', 'Besni', 'Besni', 'Besni', 'Besni', 'Besni',\n",
              "       'Besni', 'Besni', 'Besni', 'Besni', 'Besni', 'Besni', 'Besni',\n",
              "       'Besni', 'Besni', 'Besni', 'Besni', 'Besni', 'Besni', 'Besni',\n",
              "       'Besni', 'Besni', 'Besni', 'Besni', 'Besni', 'Besni', 'Besni',\n",
              "       'Besni', 'Besni', 'Besni', 'Besni', 'Besni', 'Besni', 'Besni',\n",
              "       'Besni', 'Besni', 'Besni', 'Besni', 'Besni', 'Besni', 'Besni',\n",
              "       'Besni', 'Besni', 'Besni', 'Besni', 'Besni', 'Besni', 'Besni',\n",
              "       'Besni', 'Besni', 'Besni', 'Besni', 'Besni', 'Besni', 'Besni',\n",
              "       'Besni', 'Besni', 'Besni', 'Besni', 'Besni', 'Besni', 'Besni',\n",
              "       'Besni', 'Besni', 'Besni', 'Besni', 'Besni', 'Besni', 'Besni',\n",
              "       'Besni', 'Besni', 'Besni', 'Besni', 'Besni', 'Besni', 'Besni',\n",
              "       'Besni', 'Besni'], dtype=object)"
            ]
          },
          "metadata": {},
          "execution_count": 326
        }
      ]
    },
    {
      "cell_type": "code",
      "source": [
        "Y=le.fit_transform(Y)\n",
        "Y"
      ],
      "metadata": {
        "colab": {
          "base_uri": "https://localhost:8080/"
        },
        "id": "atRsX_kUiB-O",
        "outputId": "6ca85237-59f9-4eb4-a026-12d671f0a0eb"
      },
      "execution_count": 327,
      "outputs": [
        {
          "output_type": "execute_result",
          "data": {
            "text/plain": [
              "array([1, 1, 1, 1, 1, 1, 1, 1, 1, 1, 1, 1, 1, 1, 1, 1, 1, 1, 1, 1, 1, 1,\n",
              "       1, 1, 1, 1, 1, 1, 1, 1, 1, 1, 1, 1, 1, 1, 1, 1, 1, 1, 1, 1, 1, 1,\n",
              "       1, 1, 1, 1, 1, 1, 1, 1, 1, 1, 1, 1, 1, 1, 1, 1, 1, 1, 1, 1, 1, 1,\n",
              "       1, 1, 1, 1, 1, 1, 1, 1, 1, 1, 1, 1, 1, 1, 1, 1, 1, 1, 1, 1, 1, 1,\n",
              "       1, 1, 1, 1, 1, 1, 1, 1, 1, 1, 1, 1, 1, 1, 1, 1, 1, 1, 1, 1, 1, 1,\n",
              "       1, 1, 1, 1, 1, 1, 1, 1, 1, 1, 1, 1, 1, 1, 1, 1, 1, 1, 1, 1, 1, 1,\n",
              "       1, 1, 1, 1, 1, 1, 1, 1, 1, 1, 1, 1, 1, 1, 1, 1, 1, 1, 1, 1, 1, 1,\n",
              "       1, 1, 1, 1, 1, 1, 1, 1, 1, 1, 1, 1, 1, 1, 1, 1, 1, 1, 1, 1, 1, 1,\n",
              "       1, 1, 1, 1, 1, 1, 1, 1, 1, 1, 1, 1, 1, 1, 1, 1, 1, 1, 1, 1, 1, 1,\n",
              "       1, 1, 1, 1, 1, 1, 1, 1, 1, 1, 1, 1, 1, 1, 1, 1, 1, 1, 1, 1, 1, 1,\n",
              "       1, 1, 1, 1, 1, 1, 1, 1, 1, 1, 1, 1, 1, 1, 1, 1, 1, 1, 1, 1, 1, 1,\n",
              "       1, 1, 1, 1, 1, 1, 1, 1, 1, 1, 1, 1, 1, 1, 1, 1, 1, 1, 1, 1, 1, 1,\n",
              "       1, 1, 1, 1, 1, 1, 1, 1, 1, 1, 1, 1, 1, 1, 1, 1, 1, 1, 1, 1, 1, 1,\n",
              "       1, 1, 1, 1, 1, 1, 1, 1, 1, 1, 1, 1, 1, 1, 1, 1, 1, 1, 1, 1, 1, 1,\n",
              "       1, 1, 1, 1, 1, 1, 1, 1, 1, 1, 1, 1, 1, 1, 1, 1, 1, 1, 1, 1, 1, 1,\n",
              "       1, 1, 1, 1, 1, 1, 1, 1, 1, 1, 1, 1, 1, 1, 1, 1, 1, 1, 1, 1, 1, 1,\n",
              "       1, 1, 1, 1, 1, 1, 1, 1, 1, 1, 1, 1, 1, 1, 1, 1, 1, 1, 1, 1, 1, 1,\n",
              "       1, 1, 1, 1, 1, 1, 1, 1, 1, 1, 1, 1, 1, 1, 1, 1, 1, 1, 1, 1, 1, 1,\n",
              "       1, 1, 1, 1, 1, 1, 1, 1, 1, 1, 1, 1, 1, 1, 1, 1, 1, 1, 1, 1, 1, 1,\n",
              "       1, 1, 1, 1, 1, 1, 1, 1, 1, 1, 1, 1, 1, 1, 1, 1, 1, 1, 1, 1, 1, 1,\n",
              "       1, 1, 1, 1, 1, 1, 1, 1, 1, 1, 0, 0, 0, 0, 0, 0, 0, 0, 0, 0, 0, 0,\n",
              "       0, 0, 0, 0, 0, 0, 0, 0, 0, 0, 0, 0, 0, 0, 0, 0, 0, 0, 0, 0, 0, 0,\n",
              "       0, 0, 0, 0, 0, 0, 0, 0, 0, 0, 0, 0, 0, 0, 0, 0, 0, 0, 0, 0, 0, 0,\n",
              "       0, 0, 0, 0, 0, 0, 0, 0, 0, 0, 0, 0, 0, 0, 0, 0, 0, 0, 0, 0, 0, 0,\n",
              "       0, 0, 0, 0, 0, 0, 0, 0, 0, 0, 0, 0, 0, 0, 0, 0, 0, 0, 0, 0, 0, 0,\n",
              "       0, 0, 0, 0, 0, 0, 0, 0, 0, 0, 0, 0, 0, 0, 0, 0, 0, 0, 0, 0, 0, 0,\n",
              "       0, 0, 0, 0, 0, 0, 0, 0, 0, 0, 0, 0, 0, 0, 0, 0, 0, 0, 0, 0, 0, 0,\n",
              "       0, 0, 0, 0, 0, 0, 0, 0, 0, 0, 0, 0, 0, 0, 0, 0, 0, 0, 0, 0, 0, 0,\n",
              "       0, 0, 0, 0, 0, 0, 0, 0, 0, 0, 0, 0, 0, 0, 0, 0, 0, 0, 0, 0, 0, 0,\n",
              "       0, 0, 0, 0, 0, 0, 0, 0, 0, 0, 0, 0, 0, 0, 0, 0, 0, 0, 0, 0, 0, 0,\n",
              "       0, 0, 0, 0, 0, 0, 0, 0, 0, 0, 0, 0, 0, 0, 0, 0, 0, 0, 0, 0, 0, 0,\n",
              "       0, 0, 0, 0, 0, 0, 0, 0, 0, 0, 0, 0, 0, 0, 0, 0, 0, 0, 0, 0, 0, 0,\n",
              "       0, 0, 0, 0, 0, 0, 0, 0, 0, 0, 0, 0, 0, 0, 0, 0, 0, 0, 0, 0, 0, 0,\n",
              "       0, 0, 0, 0, 0, 0, 0, 0, 0, 0, 0, 0, 0, 0, 0, 0, 0, 0, 0, 0, 0, 0,\n",
              "       0, 0, 0, 0, 0, 0, 0, 0, 0, 0, 0, 0, 0, 0, 0, 0, 0, 0, 0, 0, 0, 0,\n",
              "       0, 0, 0, 0, 0, 0, 0, 0, 0, 0, 0, 0, 0, 0, 0, 0, 0, 0, 0, 0, 0, 0,\n",
              "       0, 0, 0, 0, 0, 0, 0, 0, 0, 0, 0, 0, 0, 0, 0, 0, 0, 0, 0, 0, 0, 0,\n",
              "       0, 0, 0, 0, 0, 0, 0, 0, 0, 0, 0, 0, 0, 0, 0, 0, 0, 0, 0, 0, 0, 0,\n",
              "       0, 0, 0, 0, 0, 0, 0, 0, 0, 0, 0, 0, 0, 0, 0, 0, 0, 0, 0, 0, 0, 0,\n",
              "       0, 0, 0, 0, 0, 0, 0, 0, 0, 0, 0, 0, 0, 0, 0, 0, 0, 0, 0, 0, 0, 0,\n",
              "       0, 0, 0, 0, 0, 0, 0, 0, 0, 0, 0, 0, 0, 0, 0, 0, 0, 0, 0, 0])"
            ]
          },
          "metadata": {},
          "execution_count": 327
        }
      ]
    },
    {
      "cell_type": "code",
      "source": [
        "from sklearn.model_selection import train_test_split\n",
        "X_train, X_test, y_train, y_test = train_test_split(X, Y, test_size=0.40, random_state=42)"
      ],
      "metadata": {
        "id": "x4ipzivviGPt"
      },
      "execution_count": 328,
      "outputs": []
    },
    {
      "cell_type": "code",
      "source": [
        "print(\"Train shape\",X_train.shape)\n",
        "print(\"Test shape\",X_test.shape)\n",
        "print(y_train.shape)\n",
        "print(y_test.shape)"
      ],
      "metadata": {
        "colab": {
          "base_uri": "https://localhost:8080/"
        },
        "id": "5sI678cLiNw1",
        "outputId": "8d55b12b-442c-4227-800b-5bb9b1b245e4"
      },
      "execution_count": 329,
      "outputs": [
        {
          "output_type": "stream",
          "name": "stdout",
          "text": [
            "Train shape (540, 7)\n",
            "Test shape (360, 7)\n",
            "(540,)\n",
            "(360,)\n"
          ]
        }
      ]
    },
    {
      "cell_type": "code",
      "source": [
        "X_train=np.asarray(X_train).astype(np.int)\n",
        "y_train=np.asarray(y_train).astype(np.int)\n",
        "X_test=np.asarray(X_test).astype(np.int)\n",
        "y_test=np.asarray(y_test).astype(np.int)"
      ],
      "metadata": {
        "id": "DjQ8LUdYiPI3"
      },
      "execution_count": 330,
      "outputs": []
    },
    {
      "cell_type": "markdown",
      "source": [
        "##**Q2 : Create a 4 layer neural network**\n",
        "---"
      ],
      "metadata": {
        "id": "dSYcrXLIJ-Cu"
      }
    },
    {
      "cell_type": "code",
      "source": [
        "#4 Hidden Layers with Sigmoid Function\n",
        "model=Sequential()\n",
        "model.add(Dense(10,input_shape = (7,), activation = 'sigmoid'))\n",
        "model.add(Dense(10,activation='sigmoid'))\n",
        "model.add(Dense(10,activation='sigmoid'))\n",
        "model.add(Dense(10,activation='sigmoid'))\n",
        "model.add(Dense(10,activation='sigmoid'))\n",
        "model.add(Dense(2))"
      ],
      "metadata": {
        "id": "03f8InOBbEiT"
      },
      "execution_count": 331,
      "outputs": []
    },
    {
      "cell_type": "code",
      "source": [
        "model.summary()"
      ],
      "metadata": {
        "colab": {
          "base_uri": "https://localhost:8080/"
        },
        "id": "RNkCBNXViunS",
        "outputId": "d055daca-dd07-42fc-a21f-2005f391b911"
      },
      "execution_count": 332,
      "outputs": [
        {
          "output_type": "stream",
          "name": "stdout",
          "text": [
            "Model: \"sequential_34\"\n",
            "_________________________________________________________________\n",
            " Layer (type)                Output Shape              Param #   \n",
            "=================================================================\n",
            " dense_204 (Dense)           (None, 10)                80        \n",
            "                                                                 \n",
            " dense_205 (Dense)           (None, 10)                110       \n",
            "                                                                 \n",
            " dense_206 (Dense)           (None, 10)                110       \n",
            "                                                                 \n",
            " dense_207 (Dense)           (None, 10)                110       \n",
            "                                                                 \n",
            " dense_208 (Dense)           (None, 10)                110       \n",
            "                                                                 \n",
            " dense_209 (Dense)           (None, 2)                 22        \n",
            "                                                                 \n",
            "=================================================================\n",
            "Total params: 542\n",
            "Trainable params: 542\n",
            "Non-trainable params: 0\n",
            "_________________________________________________________________\n"
          ]
        }
      ]
    },
    {
      "cell_type": "markdown",
      "source": [
        ""
      ],
      "metadata": {
        "id": "JwuhxuPDj2gj"
      }
    },
    {
      "cell_type": "code",
      "source": [
        "from tensorflow.keras import optimizers\n",
        "sgd = optimizers.SGD(learning_rate = 0.01) \n",
        "model.compile(optimizer = sgd, loss = 'binary_crossentropy', metrics = ['accuracy'])"
      ],
      "metadata": {
        "id": "uhB612oFiwDf"
      },
      "execution_count": 333,
      "outputs": []
    },
    {
      "cell_type": "code",
      "source": [
        "train=model.fit(X_train, y_train, batch_size = 50, epochs = 100, verbose = 1)"
      ],
      "metadata": {
        "colab": {
          "base_uri": "https://localhost:8080/"
        },
        "id": "ewIBDuIlgnxT",
        "outputId": "0c7397ed-2814-448a-cd59-ebb55364cc78"
      },
      "execution_count": 334,
      "outputs": [
        {
          "output_type": "stream",
          "name": "stdout",
          "text": [
            "Epoch 1/100\n",
            "11/11 [==============================] - 1s 2ms/step - loss: 0.7776 - accuracy: 0.4796\n",
            "Epoch 2/100\n",
            "11/11 [==============================] - 0s 2ms/step - loss: 0.6968 - accuracy: 0.4796\n",
            "Epoch 3/100\n",
            "11/11 [==============================] - 0s 2ms/step - loss: 0.6923 - accuracy: 0.4796\n",
            "Epoch 4/100\n",
            "11/11 [==============================] - 0s 2ms/step - loss: 0.6919 - accuracy: 0.4611\n",
            "Epoch 5/100\n",
            "11/11 [==============================] - 0s 2ms/step - loss: 0.6917 - accuracy: 0.4352\n",
            "Epoch 6/100\n",
            "11/11 [==============================] - 0s 2ms/step - loss: 0.6923 - accuracy: 0.4833\n",
            "Epoch 7/100\n",
            "11/11 [==============================] - 0s 3ms/step - loss: 0.6921 - accuracy: 0.4426\n",
            "Epoch 8/100\n",
            "11/11 [==============================] - 0s 2ms/step - loss: 0.6923 - accuracy: 0.4815\n",
            "Epoch 9/100\n",
            "11/11 [==============================] - 0s 2ms/step - loss: 0.6920 - accuracy: 0.4296\n",
            "Epoch 10/100\n",
            "11/11 [==============================] - 0s 2ms/step - loss: 0.6918 - accuracy: 0.4722\n",
            "Epoch 11/100\n",
            "11/11 [==============================] - 0s 2ms/step - loss: 0.6921 - accuracy: 0.4481\n",
            "Epoch 12/100\n",
            "11/11 [==============================] - 0s 2ms/step - loss: 0.6920 - accuracy: 0.4278\n",
            "Epoch 13/100\n",
            "11/11 [==============================] - 0s 2ms/step - loss: 0.6918 - accuracy: 0.4204\n",
            "Epoch 14/100\n",
            "11/11 [==============================] - 0s 3ms/step - loss: 0.6923 - accuracy: 0.4407\n",
            "Epoch 15/100\n",
            "11/11 [==============================] - 0s 2ms/step - loss: 0.6917 - accuracy: 0.4056\n",
            "Epoch 16/100\n",
            "11/11 [==============================] - 0s 2ms/step - loss: 0.6921 - accuracy: 0.4796\n",
            "Epoch 17/100\n",
            "11/11 [==============================] - 0s 4ms/step - loss: 0.6921 - accuracy: 0.4704\n",
            "Epoch 18/100\n",
            "11/11 [==============================] - 0s 4ms/step - loss: 0.6920 - accuracy: 0.4241\n",
            "Epoch 19/100\n",
            "11/11 [==============================] - 0s 3ms/step - loss: 0.6924 - accuracy: 0.4278\n",
            "Epoch 20/100\n",
            "11/11 [==============================] - 0s 3ms/step - loss: 0.6918 - accuracy: 0.4185\n",
            "Epoch 21/100\n",
            "11/11 [==============================] - 0s 2ms/step - loss: 0.6920 - accuracy: 0.4463\n",
            "Epoch 22/100\n",
            "11/11 [==============================] - 0s 2ms/step - loss: 0.6919 - accuracy: 0.4648\n",
            "Epoch 23/100\n",
            "11/11 [==============================] - 0s 3ms/step - loss: 0.6922 - accuracy: 0.4241\n",
            "Epoch 24/100\n",
            "11/11 [==============================] - 0s 2ms/step - loss: 0.6920 - accuracy: 0.4500\n",
            "Epoch 25/100\n",
            "11/11 [==============================] - 0s 3ms/step - loss: 0.6921 - accuracy: 0.4500\n",
            "Epoch 26/100\n",
            "11/11 [==============================] - 0s 2ms/step - loss: 0.6919 - accuracy: 0.3981\n",
            "Epoch 27/100\n",
            "11/11 [==============================] - 0s 2ms/step - loss: 0.6927 - accuracy: 0.4426\n",
            "Epoch 28/100\n",
            "11/11 [==============================] - 0s 3ms/step - loss: 0.6918 - accuracy: 0.4259\n",
            "Epoch 29/100\n",
            "11/11 [==============================] - 0s 2ms/step - loss: 0.6922 - accuracy: 0.4204\n",
            "Epoch 30/100\n",
            "11/11 [==============================] - 0s 2ms/step - loss: 0.6920 - accuracy: 0.4315\n",
            "Epoch 31/100\n",
            "11/11 [==============================] - 0s 2ms/step - loss: 0.6916 - accuracy: 0.4389\n",
            "Epoch 32/100\n",
            "11/11 [==============================] - 0s 3ms/step - loss: 0.6915 - accuracy: 0.4611\n",
            "Epoch 33/100\n",
            "11/11 [==============================] - 0s 3ms/step - loss: 0.6915 - accuracy: 0.4204\n",
            "Epoch 34/100\n",
            "11/11 [==============================] - 0s 3ms/step - loss: 0.6922 - accuracy: 0.4296\n",
            "Epoch 35/100\n",
            "11/11 [==============================] - 0s 3ms/step - loss: 0.6920 - accuracy: 0.4167\n",
            "Epoch 36/100\n",
            "11/11 [==============================] - 0s 2ms/step - loss: 0.6918 - accuracy: 0.4667\n",
            "Epoch 37/100\n",
            "11/11 [==============================] - 0s 3ms/step - loss: 0.6918 - accuracy: 0.4130\n",
            "Epoch 38/100\n",
            "11/11 [==============================] - 0s 2ms/step - loss: 0.6923 - accuracy: 0.4593\n",
            "Epoch 39/100\n",
            "11/11 [==============================] - 0s 3ms/step - loss: 0.6928 - accuracy: 0.3981\n",
            "Epoch 40/100\n",
            "11/11 [==============================] - 0s 2ms/step - loss: 0.6926 - accuracy: 0.4556\n",
            "Epoch 41/100\n",
            "11/11 [==============================] - 0s 2ms/step - loss: 0.6920 - accuracy: 0.4426\n",
            "Epoch 42/100\n",
            "11/11 [==============================] - 0s 2ms/step - loss: 0.6914 - accuracy: 0.4167\n",
            "Epoch 43/100\n",
            "11/11 [==============================] - 0s 2ms/step - loss: 0.6921 - accuracy: 0.4667\n",
            "Epoch 44/100\n",
            "11/11 [==============================] - 0s 2ms/step - loss: 0.6925 - accuracy: 0.4056\n",
            "Epoch 45/100\n",
            "11/11 [==============================] - 0s 2ms/step - loss: 0.6917 - accuracy: 0.4481\n",
            "Epoch 46/100\n",
            "11/11 [==============================] - 0s 2ms/step - loss: 0.6922 - accuracy: 0.4222\n",
            "Epoch 47/100\n",
            "11/11 [==============================] - 0s 3ms/step - loss: 0.6923 - accuracy: 0.4130\n",
            "Epoch 48/100\n",
            "11/11 [==============================] - 0s 3ms/step - loss: 0.6920 - accuracy: 0.4056\n",
            "Epoch 49/100\n",
            "11/11 [==============================] - 0s 2ms/step - loss: 0.6923 - accuracy: 0.4630\n",
            "Epoch 50/100\n",
            "11/11 [==============================] - 0s 3ms/step - loss: 0.6921 - accuracy: 0.4074\n",
            "Epoch 51/100\n",
            "11/11 [==============================] - 0s 2ms/step - loss: 0.6918 - accuracy: 0.4056\n",
            "Epoch 52/100\n",
            "11/11 [==============================] - 0s 2ms/step - loss: 0.6925 - accuracy: 0.4037\n",
            "Epoch 53/100\n",
            "11/11 [==============================] - 0s 2ms/step - loss: 0.6915 - accuracy: 0.4148\n",
            "Epoch 54/100\n",
            "11/11 [==============================] - 0s 2ms/step - loss: 0.6921 - accuracy: 0.4389\n",
            "Epoch 55/100\n",
            "11/11 [==============================] - 0s 2ms/step - loss: 0.6929 - accuracy: 0.4204\n",
            "Epoch 56/100\n",
            "11/11 [==============================] - 0s 2ms/step - loss: 0.6921 - accuracy: 0.4278\n",
            "Epoch 57/100\n",
            "11/11 [==============================] - 0s 2ms/step - loss: 0.6915 - accuracy: 0.4481\n",
            "Epoch 58/100\n",
            "11/11 [==============================] - 0s 3ms/step - loss: 0.6919 - accuracy: 0.4481\n",
            "Epoch 59/100\n",
            "11/11 [==============================] - 0s 2ms/step - loss: 0.6924 - accuracy: 0.4074\n",
            "Epoch 60/100\n",
            "11/11 [==============================] - 0s 2ms/step - loss: 0.6918 - accuracy: 0.4611\n",
            "Epoch 61/100\n",
            "11/11 [==============================] - 0s 2ms/step - loss: 0.6931 - accuracy: 0.4074\n",
            "Epoch 62/100\n",
            "11/11 [==============================] - 0s 3ms/step - loss: 0.6928 - accuracy: 0.4370\n",
            "Epoch 63/100\n",
            "11/11 [==============================] - 0s 3ms/step - loss: 0.6915 - accuracy: 0.4556\n",
            "Epoch 64/100\n",
            "11/11 [==============================] - 0s 2ms/step - loss: 0.6919 - accuracy: 0.3907\n",
            "Epoch 65/100\n",
            "11/11 [==============================] - 0s 3ms/step - loss: 0.6920 - accuracy: 0.4426\n",
            "Epoch 66/100\n",
            "11/11 [==============================] - 0s 2ms/step - loss: 0.6915 - accuracy: 0.4019\n",
            "Epoch 67/100\n",
            "11/11 [==============================] - 0s 2ms/step - loss: 0.6924 - accuracy: 0.4259\n",
            "Epoch 68/100\n",
            "11/11 [==============================] - 0s 2ms/step - loss: 0.6916 - accuracy: 0.4556\n",
            "Epoch 69/100\n",
            "11/11 [==============================] - 0s 2ms/step - loss: 0.6923 - accuracy: 0.4426\n",
            "Epoch 70/100\n",
            "11/11 [==============================] - 0s 2ms/step - loss: 0.6928 - accuracy: 0.3870\n",
            "Epoch 71/100\n",
            "11/11 [==============================] - 0s 2ms/step - loss: 0.6915 - accuracy: 0.3963\n",
            "Epoch 72/100\n",
            "11/11 [==============================] - 0s 2ms/step - loss: 0.6919 - accuracy: 0.4093\n",
            "Epoch 73/100\n",
            "11/11 [==============================] - 0s 2ms/step - loss: 0.6920 - accuracy: 0.4463\n",
            "Epoch 74/100\n",
            "11/11 [==============================] - 0s 2ms/step - loss: 0.6921 - accuracy: 0.3852\n",
            "Epoch 75/100\n",
            "11/11 [==============================] - 0s 3ms/step - loss: 0.6924 - accuracy: 0.4537\n",
            "Epoch 76/100\n",
            "11/11 [==============================] - 0s 2ms/step - loss: 0.6927 - accuracy: 0.4352\n",
            "Epoch 77/100\n",
            "11/11 [==============================] - 0s 3ms/step - loss: 0.6918 - accuracy: 0.3870\n",
            "Epoch 78/100\n",
            "11/11 [==============================] - 0s 3ms/step - loss: 0.6925 - accuracy: 0.4426\n",
            "Epoch 79/100\n",
            "11/11 [==============================] - 0s 2ms/step - loss: 0.6923 - accuracy: 0.4389\n",
            "Epoch 80/100\n",
            "11/11 [==============================] - 0s 2ms/step - loss: 0.6916 - accuracy: 0.3944\n",
            "Epoch 81/100\n",
            "11/11 [==============================] - 0s 2ms/step - loss: 0.6917 - accuracy: 0.4389\n",
            "Epoch 82/100\n",
            "11/11 [==============================] - 0s 3ms/step - loss: 0.6923 - accuracy: 0.4167\n",
            "Epoch 83/100\n",
            "11/11 [==============================] - 0s 2ms/step - loss: 0.6919 - accuracy: 0.4426\n",
            "Epoch 84/100\n",
            "11/11 [==============================] - 0s 3ms/step - loss: 0.6917 - accuracy: 0.4352\n",
            "Epoch 85/100\n",
            "11/11 [==============================] - 0s 3ms/step - loss: 0.6918 - accuracy: 0.4481\n",
            "Epoch 86/100\n",
            "11/11 [==============================] - 0s 2ms/step - loss: 0.6916 - accuracy: 0.3963\n",
            "Epoch 87/100\n",
            "11/11 [==============================] - 0s 3ms/step - loss: 0.6915 - accuracy: 0.4204\n",
            "Epoch 88/100\n",
            "11/11 [==============================] - 0s 3ms/step - loss: 0.6926 - accuracy: 0.4259\n",
            "Epoch 89/100\n",
            "11/11 [==============================] - 0s 3ms/step - loss: 0.6917 - accuracy: 0.4222\n",
            "Epoch 90/100\n",
            "11/11 [==============================] - 0s 2ms/step - loss: 0.6919 - accuracy: 0.4481\n",
            "Epoch 91/100\n",
            "11/11 [==============================] - 0s 2ms/step - loss: 0.6914 - accuracy: 0.4074\n",
            "Epoch 92/100\n",
            "11/11 [==============================] - 0s 2ms/step - loss: 0.6915 - accuracy: 0.4278\n",
            "Epoch 93/100\n",
            "11/11 [==============================] - 0s 3ms/step - loss: 0.6916 - accuracy: 0.4370\n",
            "Epoch 94/100\n",
            "11/11 [==============================] - 0s 2ms/step - loss: 0.6915 - accuracy: 0.4185\n",
            "Epoch 95/100\n",
            "11/11 [==============================] - 0s 2ms/step - loss: 0.6917 - accuracy: 0.4537\n",
            "Epoch 96/100\n",
            "11/11 [==============================] - 0s 3ms/step - loss: 0.6924 - accuracy: 0.3944\n",
            "Epoch 97/100\n",
            "11/11 [==============================] - 0s 2ms/step - loss: 0.6916 - accuracy: 0.4426\n",
            "Epoch 98/100\n",
            "11/11 [==============================] - 0s 2ms/step - loss: 0.6917 - accuracy: 0.4611\n",
            "Epoch 99/100\n",
            "11/11 [==============================] - 0s 2ms/step - loss: 0.6918 - accuracy: 0.3907\n",
            "Epoch 100/100\n",
            "11/11 [==============================] - 0s 2ms/step - loss: 0.6915 - accuracy: 0.4426\n"
          ]
        }
      ]
    },
    {
      "cell_type": "code",
      "source": [
        "import matplotlib.pyplot as plt\n",
        "plt.plot(train.history['loss'])\n",
        "plt.title('model loss')\n",
        "plt.ylabel('loss')\n",
        "plt.xlabel('epoch')\n",
        "plt.show()"
      ],
      "metadata": {
        "colab": {
          "base_uri": "https://localhost:8080/",
          "height": 295
        },
        "id": "60KCJtZqi92v",
        "outputId": "2b341d08-2f41-41f9-f0e1-e1557979932c"
      },
      "execution_count": 335,
      "outputs": [
        {
          "output_type": "display_data",
          "data": {
            "image/png": "[encoded data removed]",
            "text/plain": [
              "<Figure size 432x288 with 1 Axes>"
            ]
          },
          "metadata": {
            "needs_background": "light"
          }
        }
      ]
    },
    {
      "cell_type": "code",
      "source": [
        "results = model.evaluate(X_test, y_test)"
      ],
      "metadata": {
        "colab": {
          "base_uri": "https://localhost:8080/"
        },
        "id": "Cy_Yt0zTi_qg",
        "outputId": "d6cc6e46-54d1-4e49-a155-f8458c33c3fa"
      },
      "execution_count": 336,
      "outputs": [
        {
          "output_type": "stream",
          "name": "stdout",
          "text": [
            "12/12 [==============================] - 0s 2ms/step - loss: 0.6960 - accuracy: 0.3889\n"
          ]
        }
      ]
    },
    {
      "cell_type": "code",
      "source": [
        "print(model.metrics_names)     # list of metric names the model is employing\n",
        "print(results)"
      ],
      "metadata": {
        "colab": {
          "base_uri": "https://localhost:8080/"
        },
        "id": "oAey4YINjIjs",
        "outputId": "b63399b8-501d-4725-cb26-dba6f8541cd6"
      },
      "execution_count": 337,
      "outputs": [
        {
          "output_type": "stream",
          "name": "stdout",
          "text": [
            "['loss', 'accuracy']\n",
            "[0.6960457563400269, 0.3888888955116272]\n"
          ]
        }
      ]
    },
    {
      "cell_type": "markdown",
      "source": [
        "**Initializing all the Initializers**"
      ],
      "metadata": {
        "id": "k2bXLcAUohot"
      }
    },
    {
      "cell_type": "code",
      "source": [
        "rn_initializer=tf.keras.initializers.RandomNormal(mean=0., stddev=1.)\n",
        "ru_initializer=tf.keras.initializers.RandomUniform(minval=0., maxval=1.)\n",
        "tn_initializer=tf.keras.initializers.TruncatedNormal(mean=0., stddev=1.)\n",
        "zero_initializer=tf.keras.initializers.Zeros()\n",
        "ones_initializer=tf.keras.initializers.Ones()\n",
        "gn_initializer=tf.keras.initializers.GlorotNormal()\n",
        "gu_initializer=tf.keras.initializers.GlorotUniform()\n",
        "hn_initializer=tf.keras.initializers.HeNormal()\n",
        "hu_initializer=tf.keras.initializers.HeUniform()\n",
        "i_initializer=tf.keras.initializers.Identity()\n",
        "ortho_initializer=tf.keras.initializers.Orthogonal()"
      ],
      "metadata": {
        "id": "R-z5gRLrx_BA"
      },
      "execution_count": 338,
      "outputs": []
    },
    {
      "cell_type": "markdown",
      "source": [
        "##**Q3 : Use various Initializers on the model**\n",
        "---"
      ],
      "metadata": {
        "id": "VndKuq_D07kv"
      }
    },
    {
      "cell_type": "markdown",
      "source": [
        "#RandomNormal"
      ],
      "metadata": {
        "id": "wajKkWT13Dli"
      }
    },
    {
      "cell_type": "code",
      "source": [
        "rn_model=Sequential()\n",
        "rn_model.add(Dense(10,input_shape = (7,), activation = 'sigmoid',kernel_initializer=rn_initializer))\n",
        "rn_model.add(Dense(10,activation='sigmoid',kernel_initializer=rn_initializer))\n",
        "rn_model.add(Dense(10,activation='sigmoid',kernel_initializer=rn_initializer))\n",
        "rn_model.add(Dense(10,activation='sigmoid',kernel_initializer=rn_initializer))\n",
        "rn_model.add(Dense(10,activation='sigmoid',kernel_initializer=rn_initializer))\n",
        "rn_model.add(Dense(2,kernel_initializer=rn_initializer))"
      ],
      "metadata": {
        "id": "rs05i2_Bl2ED"
      },
      "execution_count": 339,
      "outputs": []
    },
    {
      "cell_type": "code",
      "source": [
        "rn_model.summary()"
      ],
      "metadata": {
        "colab": {
          "base_uri": "https://localhost:8080/"
        },
        "id": "bBHnoatl183m",
        "outputId": "b7c547c8-8165-403c-e123-ead743ab51a4"
      },
      "execution_count": 340,
      "outputs": [
        {
          "output_type": "stream",
          "name": "stdout",
          "text": [
            "Model: \"sequential_35\"\n",
            "_________________________________________________________________\n",
            " Layer (type)                Output Shape              Param #   \n",
            "=================================================================\n",
            " dense_210 (Dense)           (None, 10)                80        \n",
            "                                                                 \n",
            " dense_211 (Dense)           (None, 10)                110       \n",
            "                                                                 \n",
            " dense_212 (Dense)           (None, 10)                110       \n",
            "                                                                 \n",
            " dense_213 (Dense)           (None, 10)                110       \n",
            "                                                                 \n",
            " dense_214 (Dense)           (None, 10)                110       \n",
            "                                                                 \n",
            " dense_215 (Dense)           (None, 2)                 22        \n",
            "                                                                 \n",
            "=================================================================\n",
            "Total params: 542\n",
            "Trainable params: 542\n",
            "Non-trainable params: 0\n",
            "_________________________________________________________________\n"
          ]
        }
      ]
    },
    {
      "cell_type": "code",
      "source": [
        "rn_sgd = optimizers.SGD(learning_rate = 0.01) \n",
        "rn_model.compile(optimizer = rn_sgd, loss = 'binary_crossentropy', metrics = ['accuracy'])"
      ],
      "metadata": {
        "id": "fgV87kLQ1_N5"
      },
      "execution_count": 341,
      "outputs": []
    },
    {
      "cell_type": "code",
      "source": [
        "train=rn_model.fit(X_train, y_train, batch_size = 50, epochs = 100, verbose = 1)"
      ],
      "metadata": {
        "colab": {
          "base_uri": "https://localhost:8080/"
        },
        "id": "D2BLy2tp2Kfh",
        "outputId": "95741a61-882c-4294-faf2-84b1cc2d9f46"
      },
      "execution_count": 342,
      "outputs": [
        {
          "output_type": "stream",
          "name": "stdout",
          "text": [
            "Epoch 1/100\n",
            "11/11 [==============================] - 1s 3ms/step - loss: 0.8162 - accuracy: 0.4796\n",
            "Epoch 2/100\n",
            "11/11 [==============================] - 0s 2ms/step - loss: 0.7031 - accuracy: 0.4796\n",
            "Epoch 3/100\n",
            "11/11 [==============================] - 0s 2ms/step - loss: 0.6971 - accuracy: 0.4093\n",
            "Epoch 4/100\n",
            "11/11 [==============================] - 0s 2ms/step - loss: 0.6955 - accuracy: 0.3537\n",
            "Epoch 5/100\n",
            "11/11 [==============================] - 0s 3ms/step - loss: 0.6950 - accuracy: 0.2704\n",
            "Epoch 6/100\n",
            "11/11 [==============================] - 0s 2ms/step - loss: 0.6958 - accuracy: 0.3519\n",
            "Epoch 7/100\n",
            "11/11 [==============================] - 0s 2ms/step - loss: 0.6951 - accuracy: 0.3556\n",
            "Epoch 8/100\n",
            "11/11 [==============================] - 0s 2ms/step - loss: 0.6941 - accuracy: 0.3556\n",
            "Epoch 9/100\n",
            "11/11 [==============================] - 0s 2ms/step - loss: 0.6939 - accuracy: 0.3556\n",
            "Epoch 10/100\n",
            "11/11 [==============================] - 0s 2ms/step - loss: 0.6936 - accuracy: 0.3556\n",
            "Epoch 11/100\n",
            "11/11 [==============================] - 0s 2ms/step - loss: 0.6929 - accuracy: 0.3556\n",
            "Epoch 12/100\n",
            "11/11 [==============================] - 0s 2ms/step - loss: 0.6934 - accuracy: 0.3556\n",
            "Epoch 13/100\n",
            "11/11 [==============================] - 0s 3ms/step - loss: 0.6932 - accuracy: 0.3556\n",
            "Epoch 14/100\n",
            "11/11 [==============================] - 0s 2ms/step - loss: 0.6921 - accuracy: 0.3556\n",
            "Epoch 15/100\n",
            "11/11 [==============================] - 0s 2ms/step - loss: 0.6924 - accuracy: 0.3556\n",
            "Epoch 16/100\n",
            "11/11 [==============================] - 0s 2ms/step - loss: 0.6929 - accuracy: 0.3556\n",
            "Epoch 17/100\n",
            "11/11 [==============================] - 0s 2ms/step - loss: 0.6928 - accuracy: 0.3556\n",
            "Epoch 18/100\n",
            "11/11 [==============================] - 0s 2ms/step - loss: 0.6916 - accuracy: 0.3556\n",
            "Epoch 19/100\n",
            "11/11 [==============================] - 0s 2ms/step - loss: 0.6913 - accuracy: 0.3556\n",
            "Epoch 20/100\n",
            "11/11 [==============================] - 0s 2ms/step - loss: 0.6909 - accuracy: 0.3556\n",
            "Epoch 21/100\n",
            "11/11 [==============================] - 0s 2ms/step - loss: 0.6903 - accuracy: 0.3556\n",
            "Epoch 22/100\n",
            "11/11 [==============================] - 0s 2ms/step - loss: 0.6902 - accuracy: 0.3556\n",
            "Epoch 23/100\n",
            "11/11 [==============================] - 0s 2ms/step - loss: 0.6904 - accuracy: 0.3556\n",
            "Epoch 24/100\n",
            "11/11 [==============================] - 0s 2ms/step - loss: 0.6894 - accuracy: 0.3556\n",
            "Epoch 25/100\n",
            "11/11 [==============================] - 0s 2ms/step - loss: 0.6885 - accuracy: 0.3556\n",
            "Epoch 26/100\n",
            "11/11 [==============================] - 0s 2ms/step - loss: 0.6888 - accuracy: 0.3556\n",
            "Epoch 27/100\n",
            "11/11 [==============================] - 0s 2ms/step - loss: 0.6889 - accuracy: 0.3556\n",
            "Epoch 28/100\n",
            "11/11 [==============================] - 0s 2ms/step - loss: 0.6887 - accuracy: 0.3556\n",
            "Epoch 29/100\n",
            "11/11 [==============================] - 0s 2ms/step - loss: 0.6888 - accuracy: 0.3556\n",
            "Epoch 30/100\n",
            "11/11 [==============================] - 0s 3ms/step - loss: 0.6881 - accuracy: 0.3556\n",
            "Epoch 31/100\n",
            "11/11 [==============================] - 0s 2ms/step - loss: 0.6871 - accuracy: 0.3556\n",
            "Epoch 32/100\n",
            "11/11 [==============================] - 0s 2ms/step - loss: 0.6877 - accuracy: 0.3556\n",
            "Epoch 33/100\n",
            "11/11 [==============================] - 0s 2ms/step - loss: 0.6869 - accuracy: 0.3556\n",
            "Epoch 34/100\n",
            "11/11 [==============================] - 0s 3ms/step - loss: 0.6872 - accuracy: 0.3556\n",
            "Epoch 35/100\n",
            "11/11 [==============================] - 0s 2ms/step - loss: 0.6855 - accuracy: 0.3556\n",
            "Epoch 36/100\n",
            "11/11 [==============================] - 0s 2ms/step - loss: 0.6864 - accuracy: 0.3556\n",
            "Epoch 37/100\n",
            "11/11 [==============================] - 0s 2ms/step - loss: 0.6843 - accuracy: 0.3556\n",
            "Epoch 38/100\n",
            "11/11 [==============================] - 0s 3ms/step - loss: 0.6848 - accuracy: 0.3556\n",
            "Epoch 39/100\n",
            "11/11 [==============================] - 0s 2ms/step - loss: 0.6848 - accuracy: 0.3556\n",
            "Epoch 40/100\n",
            "11/11 [==============================] - 0s 2ms/step - loss: 0.6849 - accuracy: 0.3556\n",
            "Epoch 41/100\n",
            "11/11 [==============================] - 0s 2ms/step - loss: 0.6836 - accuracy: 0.3556\n",
            "Epoch 42/100\n",
            "11/11 [==============================] - 0s 3ms/step - loss: 0.6830 - accuracy: 0.3556\n",
            "Epoch 43/100\n",
            "11/11 [==============================] - 0s 2ms/step - loss: 0.6833 - accuracy: 0.3556\n",
            "Epoch 44/100\n",
            "11/11 [==============================] - 0s 2ms/step - loss: 0.6830 - accuracy: 0.3556\n",
            "Epoch 45/100\n",
            "11/11 [==============================] - 0s 2ms/step - loss: 0.6817 - accuracy: 0.3556\n",
            "Epoch 46/100\n",
            "11/11 [==============================] - 0s 2ms/step - loss: 0.6817 - accuracy: 0.3556\n",
            "Epoch 47/100\n",
            "11/11 [==============================] - 0s 2ms/step - loss: 0.6812 - accuracy: 0.3556\n",
            "Epoch 48/100\n",
            "11/11 [==============================] - 0s 3ms/step - loss: 0.6808 - accuracy: 0.3556\n",
            "Epoch 49/100\n",
            "11/11 [==============================] - 0s 2ms/step - loss: 0.6806 - accuracy: 0.3556\n",
            "Epoch 50/100\n",
            "11/11 [==============================] - 0s 2ms/step - loss: 0.6806 - accuracy: 0.3556\n",
            "Epoch 51/100\n",
            "11/11 [==============================] - 0s 2ms/step - loss: 0.6794 - accuracy: 0.3556\n",
            "Epoch 52/100\n",
            "11/11 [==============================] - 0s 2ms/step - loss: 0.6789 - accuracy: 0.3556\n",
            "Epoch 53/100\n",
            "11/11 [==============================] - 0s 2ms/step - loss: 0.6788 - accuracy: 0.3556\n",
            "Epoch 54/100\n",
            "11/11 [==============================] - 0s 2ms/step - loss: 0.6792 - accuracy: 0.3556\n",
            "Epoch 55/100\n",
            "11/11 [==============================] - 0s 2ms/step - loss: 0.6788 - accuracy: 0.3556\n",
            "Epoch 56/100\n",
            "11/11 [==============================] - 0s 2ms/step - loss: 0.6775 - accuracy: 0.3556\n",
            "Epoch 57/100\n",
            "11/11 [==============================] - 0s 2ms/step - loss: 0.6768 - accuracy: 0.3556\n",
            "Epoch 58/100\n",
            "11/11 [==============================] - 0s 2ms/step - loss: 0.6769 - accuracy: 0.3556\n",
            "Epoch 59/100\n",
            "11/11 [==============================] - 0s 2ms/step - loss: 0.6768 - accuracy: 0.3556\n",
            "Epoch 60/100\n",
            "11/11 [==============================] - 0s 2ms/step - loss: 0.6754 - accuracy: 0.3556\n",
            "Epoch 61/100\n",
            "11/11 [==============================] - 0s 2ms/step - loss: 0.6752 - accuracy: 0.3556\n",
            "Epoch 62/100\n",
            "11/11 [==============================] - 0s 2ms/step - loss: 0.6756 - accuracy: 0.3556\n",
            "Epoch 63/100\n",
            "11/11 [==============================] - 0s 2ms/step - loss: 0.6746 - accuracy: 0.3556\n",
            "Epoch 64/100\n",
            "11/11 [==============================] - 0s 2ms/step - loss: 0.6741 - accuracy: 0.3333\n",
            "Epoch 65/100\n",
            "11/11 [==============================] - 0s 3ms/step - loss: 0.6741 - accuracy: 0.3556\n",
            "Epoch 66/100\n",
            "11/11 [==============================] - 0s 3ms/step - loss: 0.6733 - accuracy: 0.3556\n",
            "Epoch 67/100\n",
            "11/11 [==============================] - 0s 3ms/step - loss: 0.6724 - accuracy: 0.3556\n",
            "Epoch 68/100\n",
            "11/11 [==============================] - 0s 2ms/step - loss: 0.6722 - accuracy: 0.3556\n",
            "Epoch 69/100\n",
            "11/11 [==============================] - 0s 3ms/step - loss: 0.6721 - accuracy: 0.3556\n",
            "Epoch 70/100\n",
            "11/11 [==============================] - 0s 2ms/step - loss: 0.6715 - accuracy: 0.3556\n",
            "Epoch 71/100\n",
            "11/11 [==============================] - 0s 2ms/step - loss: 0.6706 - accuracy: 0.3556\n",
            "Epoch 72/100\n",
            "11/11 [==============================] - 0s 2ms/step - loss: 0.6700 - accuracy: 0.3556\n",
            "Epoch 73/100\n",
            "11/11 [==============================] - 0s 3ms/step - loss: 0.6695 - accuracy: 0.3556\n",
            "Epoch 74/100\n",
            "11/11 [==============================] - 0s 3ms/step - loss: 0.6694 - accuracy: 0.3556\n",
            "Epoch 75/100\n",
            "11/11 [==============================] - 0s 3ms/step - loss: 0.6685 - accuracy: 0.3556\n",
            "Epoch 76/100\n",
            "11/11 [==============================] - 0s 3ms/step - loss: 0.6681 - accuracy: 0.3556\n",
            "Epoch 77/100\n",
            "11/11 [==============================] - 0s 2ms/step - loss: 0.6680 - accuracy: 0.3556\n",
            "Epoch 78/100\n",
            "11/11 [==============================] - 0s 2ms/step - loss: 0.6676 - accuracy: 0.3556\n",
            "Epoch 79/100\n",
            "11/11 [==============================] - 0s 2ms/step - loss: 0.6663 - accuracy: 0.3556\n",
            "Epoch 80/100\n",
            "11/11 [==============================] - 0s 2ms/step - loss: 0.6659 - accuracy: 0.3556\n",
            "Epoch 81/100\n",
            "11/11 [==============================] - 0s 2ms/step - loss: 0.6655 - accuracy: 0.3556\n",
            "Epoch 82/100\n",
            "11/11 [==============================] - 0s 2ms/step - loss: 0.6648 - accuracy: 0.3556\n",
            "Epoch 83/100\n",
            "11/11 [==============================] - 0s 2ms/step - loss: 0.6643 - accuracy: 0.3556\n",
            "Epoch 84/100\n",
            "11/11 [==============================] - 0s 2ms/step - loss: 0.6634 - accuracy: 0.3574\n",
            "Epoch 85/100\n",
            "11/11 [==============================] - 0s 2ms/step - loss: 0.6629 - accuracy: 0.3556\n",
            "Epoch 86/100\n",
            "11/11 [==============================] - 0s 2ms/step - loss: 0.6625 - accuracy: 0.3556\n",
            "Epoch 87/100\n",
            "11/11 [==============================] - 0s 3ms/step - loss: 0.6619 - accuracy: 0.3556\n",
            "Epoch 88/100\n",
            "11/11 [==============================] - 0s 2ms/step - loss: 0.6609 - accuracy: 0.3556\n",
            "Epoch 89/100\n",
            "11/11 [==============================] - 0s 3ms/step - loss: 0.6620 - accuracy: 0.3556\n",
            "Epoch 90/100\n",
            "11/11 [==============================] - 0s 3ms/step - loss: 0.6610 - accuracy: 0.3426\n",
            "Epoch 91/100\n",
            "11/11 [==============================] - 0s 2ms/step - loss: 0.6584 - accuracy: 0.3556\n",
            "Epoch 92/100\n",
            "11/11 [==============================] - 0s 2ms/step - loss: 0.6584 - accuracy: 0.3574\n",
            "Epoch 93/100\n",
            "11/11 [==============================] - 0s 3ms/step - loss: 0.6576 - accuracy: 0.3556\n",
            "Epoch 94/100\n",
            "11/11 [==============================] - 0s 3ms/step - loss: 0.6570 - accuracy: 0.3556\n",
            "Epoch 95/100\n",
            "11/11 [==============================] - 0s 3ms/step - loss: 0.6563 - accuracy: 0.3611\n",
            "Epoch 96/100\n",
            "11/11 [==============================] - 0s 3ms/step - loss: 0.6560 - accuracy: 0.3370\n",
            "Epoch 97/100\n",
            "11/11 [==============================] - 0s 2ms/step - loss: 0.6548 - accuracy: 0.3370\n",
            "Epoch 98/100\n",
            "11/11 [==============================] - 0s 3ms/step - loss: 0.6539 - accuracy: 0.3556\n",
            "Epoch 99/100\n",
            "11/11 [==============================] - 0s 2ms/step - loss: 0.6532 - accuracy: 0.3222\n",
            "Epoch 100/100\n",
            "11/11 [==============================] - 0s 2ms/step - loss: 0.6528 - accuracy: 0.3537\n"
          ]
        }
      ]
    },
    {
      "cell_type": "code",
      "source": [
        "import matplotlib.pyplot as plt\n",
        "plt.plot(train.history['loss'])\n",
        "plt.title('model loss')\n",
        "plt.ylabel('loss')\n",
        "plt.xlabel('epoch')\n",
        "plt.show()"
      ],
      "metadata": {
        "colab": {
          "base_uri": "https://localhost:8080/",
          "height": 295
        },
        "id": "-cweL05E2Niv",
        "outputId": "b5a47d77-20c3-4167-f01b-8defbcdb4a5c"
      },
      "execution_count": 343,
      "outputs": [
        {
          "output_type": "display_data",
          "data": {
            "image/png": "[encoded data removed]",
            "text/plain": [
              "<Figure size 432x288 with 1 Axes>"
            ]
          },
          "metadata": {
            "needs_background": "light"
          }
        }
      ]
    },
    {
      "cell_type": "code",
      "source": [
        "rn_results = rn_model.evaluate(X_test, y_test)"
      ],
      "metadata": {
        "colab": {
          "base_uri": "https://localhost:8080/"
        },
        "id": "AHxqmnpD2QjA",
        "outputId": "c6a208f4-3270-4885-9d05-e3fb3c61f0d6"
      },
      "execution_count": 344,
      "outputs": [
        {
          "output_type": "stream",
          "name": "stdout",
          "text": [
            "12/12 [==============================] - 0s 2ms/step - loss: 0.6664 - accuracy: 0.3806\n"
          ]
        }
      ]
    },
    {
      "cell_type": "code",
      "source": [
        "print(rn_model.metrics_names)     # list of metric names the model is employing\n",
        "print(rn_results)"
      ],
      "metadata": {
        "colab": {
          "base_uri": "https://localhost:8080/"
        },
        "id": "Wvf6Y4p62U4E",
        "outputId": "ff559d6c-fe9a-4d51-e402-275447dfb6e6"
      },
      "execution_count": 345,
      "outputs": [
        {
          "output_type": "stream",
          "name": "stdout",
          "text": [
            "['loss', 'accuracy']\n",
            "[0.6663508415222168, 0.38055557012557983]\n"
          ]
        }
      ]
    },
    {
      "cell_type": "markdown",
      "source": [
        "#RandomUniform"
      ],
      "metadata": {
        "id": "LOhHPwVZ2-OP"
      }
    },
    {
      "cell_type": "code",
      "source": [
        "ru_model=Sequential()\n",
        "ru_model.add(Dense(10,input_shape = (7,), activation = 'sigmoid',kernel_initializer=ru_initializer))\n",
        "ru_model.add(Dense(10,activation='sigmoid',kernel_initializer=ru_initializer))\n",
        "ru_model.add(Dense(10,activation='sigmoid',kernel_initializer=ru_initializer))\n",
        "ru_model.add(Dense(10,activation='sigmoid',kernel_initializer=ru_initializer))\n",
        "ru_model.add(Dense(10,activation='sigmoid',kernel_initializer=ru_initializer))\n",
        "ru_model.add(Dense(2,kernel_initializer=ru_initializer))"
      ],
      "metadata": {
        "id": "fMYxeWQ7298Z"
      },
      "execution_count": 346,
      "outputs": []
    },
    {
      "cell_type": "code",
      "source": [
        "ru_model.summary()"
      ],
      "metadata": {
        "colab": {
          "base_uri": "https://localhost:8080/"
        },
        "id": "sH9r_qpG_gCd",
        "outputId": "263d25e2-d170-4d13-d563-b854cdc37502"
      },
      "execution_count": 347,
      "outputs": [
        {
          "output_type": "stream",
          "name": "stdout",
          "text": [
            "Model: \"sequential_36\"\n",
            "_________________________________________________________________\n",
            " Layer (type)                Output Shape              Param #   \n",
            "=================================================================\n",
            " dense_216 (Dense)           (None, 10)                80        \n",
            "                                                                 \n",
            " dense_217 (Dense)           (None, 10)                110       \n",
            "                                                                 \n",
            " dense_218 (Dense)           (None, 10)                110       \n",
            "                                                                 \n",
            " dense_219 (Dense)           (None, 10)                110       \n",
            "                                                                 \n",
            " dense_220 (Dense)           (None, 10)                110       \n",
            "                                                                 \n",
            " dense_221 (Dense)           (None, 2)                 22        \n",
            "                                                                 \n",
            "=================================================================\n",
            "Total params: 542\n",
            "Trainable params: 542\n",
            "Non-trainable params: 0\n",
            "_________________________________________________________________\n"
          ]
        }
      ]
    },
    {
      "cell_type": "code",
      "source": [
        "ru_sgd = optimizers.SGD(learning_rate = 0.01) \n",
        "ru_model.compile(optimizer = ru_sgd, loss = 'binary_crossentropy', metrics = ['accuracy'])"
      ],
      "metadata": {
        "id": "Sqs4AuVf3Jx3"
      },
      "execution_count": 348,
      "outputs": []
    },
    {
      "cell_type": "code",
      "source": [
        "ru_train=ru_model.fit(X_train, y_train, batch_size = 50, epochs = 100, verbose = 1)"
      ],
      "metadata": {
        "colab": {
          "base_uri": "https://localhost:8080/"
        },
        "id": "bPU5kGj53tSj",
        "outputId": "0e623bd4-bfd7-4f87-e219-98b142630dd1"
      },
      "execution_count": 349,
      "outputs": [
        {
          "output_type": "stream",
          "name": "stdout",
          "text": [
            "Epoch 1/100\n",
            "11/11 [==============================] - 1s 2ms/step - loss: 7.9353 - accuracy: 0.5204\n",
            "Epoch 2/100\n",
            "11/11 [==============================] - 0s 2ms/step - loss: 7.9353 - accuracy: 0.5204\n",
            "Epoch 3/100\n",
            "11/11 [==============================] - 0s 2ms/step - loss: 7.9353 - accuracy: 0.5204\n",
            "Epoch 4/100\n",
            "11/11 [==============================] - 0s 2ms/step - loss: 7.9353 - accuracy: 0.5204\n",
            "Epoch 5/100\n",
            "11/11 [==============================] - 0s 2ms/step - loss: 7.9353 - accuracy: 0.5204\n",
            "Epoch 6/100\n",
            "11/11 [==============================] - 0s 2ms/step - loss: 7.9353 - accuracy: 0.5204\n",
            "Epoch 7/100\n",
            "11/11 [==============================] - 0s 3ms/step - loss: 7.9353 - accuracy: 0.5204\n",
            "Epoch 8/100\n",
            "11/11 [==============================] - 0s 2ms/step - loss: 7.9353 - accuracy: 0.5204\n",
            "Epoch 9/100\n",
            "11/11 [==============================] - 0s 2ms/step - loss: 7.9353 - accuracy: 0.5204\n",
            "Epoch 10/100\n",
            "11/11 [==============================] - 0s 2ms/step - loss: 7.9353 - accuracy: 0.5204\n",
            "Epoch 11/100\n",
            "11/11 [==============================] - 0s 3ms/step - loss: 7.9353 - accuracy: 0.5204\n",
            "Epoch 12/100\n",
            "11/11 [==============================] - 0s 3ms/step - loss: 7.9353 - accuracy: 0.5204\n",
            "Epoch 13/100\n",
            "11/11 [==============================] - 0s 3ms/step - loss: 7.9353 - accuracy: 0.5204\n",
            "Epoch 14/100\n",
            "11/11 [==============================] - 0s 2ms/step - loss: 7.9353 - accuracy: 0.5204\n",
            "Epoch 15/100\n",
            "11/11 [==============================] - 0s 2ms/step - loss: 7.9353 - accuracy: 0.5204\n",
            "Epoch 16/100\n",
            "11/11 [==============================] - 0s 2ms/step - loss: 7.9353 - accuracy: 0.5204\n",
            "Epoch 17/100\n",
            "11/11 [==============================] - 0s 2ms/step - loss: 7.9353 - accuracy: 0.5204\n",
            "Epoch 18/100\n",
            "11/11 [==============================] - 0s 2ms/step - loss: 7.9353 - accuracy: 0.5204\n",
            "Epoch 19/100\n",
            "11/11 [==============================] - 0s 2ms/step - loss: 7.9353 - accuracy: 0.5204\n",
            "Epoch 20/100\n",
            "11/11 [==============================] - 0s 2ms/step - loss: 7.9353 - accuracy: 0.5204\n",
            "Epoch 21/100\n",
            "11/11 [==============================] - 0s 2ms/step - loss: 7.9353 - accuracy: 0.5204\n",
            "Epoch 22/100\n",
            "11/11 [==============================] - 0s 2ms/step - loss: 7.9353 - accuracy: 0.5204\n",
            "Epoch 23/100\n",
            "11/11 [==============================] - 0s 2ms/step - loss: 7.9353 - accuracy: 0.5204\n",
            "Epoch 24/100\n",
            "11/11 [==============================] - 0s 3ms/step - loss: 7.9353 - accuracy: 0.5204\n",
            "Epoch 25/100\n",
            "11/11 [==============================] - 0s 2ms/step - loss: 7.9353 - accuracy: 0.5204\n",
            "Epoch 26/100\n",
            "11/11 [==============================] - 0s 3ms/step - loss: 7.9353 - accuracy: 0.5204\n",
            "Epoch 27/100\n",
            "11/11 [==============================] - 0s 3ms/step - loss: 7.9353 - accuracy: 0.5204\n",
            "Epoch 28/100\n",
            "11/11 [==============================] - 0s 2ms/step - loss: 7.9353 - accuracy: 0.5204\n",
            "Epoch 29/100\n",
            "11/11 [==============================] - 0s 2ms/step - loss: 7.9353 - accuracy: 0.5204\n",
            "Epoch 30/100\n",
            "11/11 [==============================] - 0s 2ms/step - loss: 7.9353 - accuracy: 0.5204\n",
            "Epoch 31/100\n",
            "11/11 [==============================] - 0s 3ms/step - loss: 7.9353 - accuracy: 0.5204\n",
            "Epoch 32/100\n",
            "11/11 [==============================] - 0s 2ms/step - loss: 7.9353 - accuracy: 0.5204\n",
            "Epoch 33/100\n",
            "11/11 [==============================] - 0s 2ms/step - loss: 7.9353 - accuracy: 0.5204\n",
            "Epoch 34/100\n",
            "11/11 [==============================] - 0s 2ms/step - loss: 7.9353 - accuracy: 0.5204\n",
            "Epoch 35/100\n",
            "11/11 [==============================] - 0s 2ms/step - loss: 7.9353 - accuracy: 0.5204\n",
            "Epoch 36/100\n",
            "11/11 [==============================] - 0s 2ms/step - loss: 7.9353 - accuracy: 0.5204\n",
            "Epoch 37/100\n",
            "11/11 [==============================] - 0s 2ms/step - loss: 7.9353 - accuracy: 0.5204\n",
            "Epoch 38/100\n",
            "11/11 [==============================] - 0s 3ms/step - loss: 7.9353 - accuracy: 0.5204\n",
            "Epoch 39/100\n",
            "11/11 [==============================] - 0s 2ms/step - loss: 7.9353 - accuracy: 0.5204\n",
            "Epoch 40/100\n",
            "11/11 [==============================] - 0s 2ms/step - loss: 7.9353 - accuracy: 0.5204\n",
            "Epoch 41/100\n",
            "11/11 [==============================] - 0s 2ms/step - loss: 7.9353 - accuracy: 0.5204\n",
            "Epoch 42/100\n",
            "11/11 [==============================] - 0s 2ms/step - loss: 7.9353 - accuracy: 0.5204\n",
            "Epoch 43/100\n",
            "11/11 [==============================] - 0s 3ms/step - loss: 7.9353 - accuracy: 0.5204\n",
            "Epoch 44/100\n",
            "11/11 [==============================] - 0s 3ms/step - loss: 7.9353 - accuracy: 0.5204\n",
            "Epoch 45/100\n",
            "11/11 [==============================] - 0s 2ms/step - loss: 7.9353 - accuracy: 0.5204\n",
            "Epoch 46/100\n",
            "11/11 [==============================] - 0s 3ms/step - loss: 7.9353 - accuracy: 0.5204\n",
            "Epoch 47/100\n",
            "11/11 [==============================] - 0s 2ms/step - loss: 7.9353 - accuracy: 0.5204\n",
            "Epoch 48/100\n",
            "11/11 [==============================] - 0s 2ms/step - loss: 7.9353 - accuracy: 0.5204\n",
            "Epoch 49/100\n",
            "11/11 [==============================] - 0s 3ms/step - loss: 7.9353 - accuracy: 0.5204\n",
            "Epoch 50/100\n",
            "11/11 [==============================] - 0s 3ms/step - loss: 7.9353 - accuracy: 0.5204\n",
            "Epoch 51/100\n",
            "11/11 [==============================] - 0s 2ms/step - loss: 7.9353 - accuracy: 0.5204\n",
            "Epoch 52/100\n",
            "11/11 [==============================] - 0s 2ms/step - loss: 7.9353 - accuracy: 0.5204\n",
            "Epoch 53/100\n",
            "11/11 [==============================] - 0s 3ms/step - loss: 7.9353 - accuracy: 0.5204\n",
            "Epoch 54/100\n",
            "11/11 [==============================] - 0s 2ms/step - loss: 7.9353 - accuracy: 0.5204\n",
            "Epoch 55/100\n",
            "11/11 [==============================] - 0s 2ms/step - loss: 7.9353 - accuracy: 0.5204\n",
            "Epoch 56/100\n",
            "11/11 [==============================] - 0s 2ms/step - loss: 7.9353 - accuracy: 0.5204\n",
            "Epoch 57/100\n",
            "11/11 [==============================] - 0s 2ms/step - loss: 7.9353 - accuracy: 0.5204\n",
            "Epoch 58/100\n",
            "11/11 [==============================] - 0s 2ms/step - loss: 7.9353 - accuracy: 0.5204\n",
            "Epoch 59/100\n",
            "11/11 [==============================] - 0s 3ms/step - loss: 7.9353 - accuracy: 0.5204\n",
            "Epoch 60/100\n",
            "11/11 [==============================] - 0s 2ms/step - loss: 7.9353 - accuracy: 0.5204\n",
            "Epoch 61/100\n",
            "11/11 [==============================] - 0s 2ms/step - loss: 7.9353 - accuracy: 0.5204\n",
            "Epoch 62/100\n",
            "11/11 [==============================] - 0s 2ms/step - loss: 7.9353 - accuracy: 0.5204\n",
            "Epoch 63/100\n",
            "11/11 [==============================] - 0s 3ms/step - loss: 7.9353 - accuracy: 0.5204\n",
            "Epoch 64/100\n",
            "11/11 [==============================] - 0s 3ms/step - loss: 7.9353 - accuracy: 0.5204\n",
            "Epoch 65/100\n",
            "11/11 [==============================] - 0s 2ms/step - loss: 7.9353 - accuracy: 0.5204\n",
            "Epoch 66/100\n",
            "11/11 [==============================] - 0s 2ms/step - loss: 7.9353 - accuracy: 0.5204\n",
            "Epoch 67/100\n",
            "11/11 [==============================] - 0s 2ms/step - loss: 7.9353 - accuracy: 0.5204\n",
            "Epoch 68/100\n",
            "11/11 [==============================] - 0s 2ms/step - loss: 7.9353 - accuracy: 0.5204\n",
            "Epoch 69/100\n",
            "11/11 [==============================] - 0s 2ms/step - loss: 7.9353 - accuracy: 0.5204\n",
            "Epoch 70/100\n",
            "11/11 [==============================] - 0s 2ms/step - loss: 7.9353 - accuracy: 0.5204\n",
            "Epoch 71/100\n",
            "11/11 [==============================] - 0s 2ms/step - loss: 7.9353 - accuracy: 0.5204\n",
            "Epoch 72/100\n",
            "11/11 [==============================] - 0s 3ms/step - loss: 7.9353 - accuracy: 0.5204\n",
            "Epoch 73/100\n",
            "11/11 [==============================] - 0s 2ms/step - loss: 7.9353 - accuracy: 0.5204\n",
            "Epoch 74/100\n",
            "11/11 [==============================] - 0s 3ms/step - loss: 7.9353 - accuracy: 0.5204\n",
            "Epoch 75/100\n",
            "11/11 [==============================] - 0s 3ms/step - loss: 7.9353 - accuracy: 0.5204\n",
            "Epoch 76/100\n",
            "11/11 [==============================] - 0s 2ms/step - loss: 7.9353 - accuracy: 0.5204\n",
            "Epoch 77/100\n",
            "11/11 [==============================] - 0s 2ms/step - loss: 7.9353 - accuracy: 0.5204\n",
            "Epoch 78/100\n",
            "11/11 [==============================] - 0s 2ms/step - loss: 7.9353 - accuracy: 0.5204\n",
            "Epoch 79/100\n",
            "11/11 [==============================] - 0s 2ms/step - loss: 7.9353 - accuracy: 0.5204\n",
            "Epoch 80/100\n",
            "11/11 [==============================] - 0s 2ms/step - loss: 7.9353 - accuracy: 0.5204\n",
            "Epoch 81/100\n",
            "11/11 [==============================] - 0s 2ms/step - loss: 7.9353 - accuracy: 0.5204\n",
            "Epoch 82/100\n",
            "11/11 [==============================] - 0s 2ms/step - loss: 7.9353 - accuracy: 0.5204\n",
            "Epoch 83/100\n",
            "11/11 [==============================] - 0s 2ms/step - loss: 7.9353 - accuracy: 0.5204\n",
            "Epoch 84/100\n",
            "11/11 [==============================] - 0s 2ms/step - loss: 7.9353 - accuracy: 0.5204\n",
            "Epoch 85/100\n",
            "11/11 [==============================] - 0s 2ms/step - loss: 7.9353 - accuracy: 0.5204\n",
            "Epoch 86/100\n",
            "11/11 [==============================] - 0s 2ms/step - loss: 7.9353 - accuracy: 0.5204\n",
            "Epoch 87/100\n",
            "11/11 [==============================] - 0s 2ms/step - loss: 7.9353 - accuracy: 0.5204\n",
            "Epoch 88/100\n",
            "11/11 [==============================] - 0s 3ms/step - loss: 7.9353 - accuracy: 0.5204\n",
            "Epoch 89/100\n",
            "11/11 [==============================] - 0s 2ms/step - loss: 7.9353 - accuracy: 0.5204\n",
            "Epoch 90/100\n",
            "11/11 [==============================] - 0s 2ms/step - loss: 7.9353 - accuracy: 0.5204\n",
            "Epoch 91/100\n",
            "11/11 [==============================] - 0s 3ms/step - loss: 7.9353 - accuracy: 0.5204\n",
            "Epoch 92/100\n",
            "11/11 [==============================] - 0s 2ms/step - loss: 7.9353 - accuracy: 0.5204\n",
            "Epoch 93/100\n",
            "11/11 [==============================] - 0s 2ms/step - loss: 7.9353 - accuracy: 0.5204\n",
            "Epoch 94/100\n",
            "11/11 [==============================] - 0s 2ms/step - loss: 7.9353 - accuracy: 0.5204\n",
            "Epoch 95/100\n",
            "11/11 [==============================] - 0s 2ms/step - loss: 7.9353 - accuracy: 0.5204\n",
            "Epoch 96/100\n",
            "11/11 [==============================] - 0s 2ms/step - loss: 7.9353 - accuracy: 0.5204\n",
            "Epoch 97/100\n",
            "11/11 [==============================] - 0s 2ms/step - loss: 7.9353 - accuracy: 0.5204\n",
            "Epoch 98/100\n",
            "11/11 [==============================] - 0s 2ms/step - loss: 7.9353 - accuracy: 0.5204\n",
            "Epoch 99/100\n",
            "11/11 [==============================] - 0s 3ms/step - loss: 7.9353 - accuracy: 0.5204\n",
            "Epoch 100/100\n",
            "11/11 [==============================] - 0s 3ms/step - loss: 7.9353 - accuracy: 0.5204\n"
          ]
        }
      ]
    },
    {
      "cell_type": "code",
      "source": [
        "import matplotlib.pyplot as plt\n",
        "plt.plot(ru_train.history['loss'])\n",
        "plt.title('model loss')\n",
        "plt.ylabel('loss')\n",
        "plt.xlabel('epoch')\n",
        "plt.show()\n"
      ],
      "metadata": {
        "colab": {
          "base_uri": "https://localhost:8080/",
          "height": 295
        },
        "id": "yG9f_kHP3yzM",
        "outputId": "7c0e8b65-61d5-43c0-e413-4ec66c167bba"
      },
      "execution_count": 350,
      "outputs": [
        {
          "output_type": "display_data",
          "data": {
            "image/png": "[encoded data removed]",
            "text/plain": [
              "<Figure size 432x288 with 1 Axes>"
            ]
          },
          "metadata": {
            "needs_background": "light"
          }
        }
      ]
    },
    {
      "cell_type": "code",
      "source": [
        "ru_results = ru_model.evaluate(X_test, y_test)"
      ],
      "metadata": {
        "colab": {
          "base_uri": "https://localhost:8080/"
        },
        "id": "WFK0XW7830yw",
        "outputId": "b43de9c1-debf-40ec-f5d4-06f32da877ba"
      },
      "execution_count": 351,
      "outputs": [
        {
          "output_type": "stream",
          "name": "stdout",
          "text": [
            "12/12 [==============================] - 0s 2ms/step - loss: 7.1587 - accuracy: 0.4694\n"
          ]
        }
      ]
    },
    {
      "cell_type": "code",
      "source": [
        "print(ru_model.metrics_names)  \n",
        "print(ru_results)"
      ],
      "metadata": {
        "colab": {
          "base_uri": "https://localhost:8080/"
        },
        "id": "80lbnA5033Ez",
        "outputId": "b5dccab3-e032-4f7b-b8ec-b8eebc11a990"
      },
      "execution_count": 352,
      "outputs": [
        {
          "output_type": "stream",
          "name": "stdout",
          "text": [
            "['loss', 'accuracy']\n",
            "[7.158670425415039, 0.4694444537162781]\n"
          ]
        }
      ]
    },
    {
      "cell_type": "markdown",
      "source": [
        "#TruncatedNormal"
      ],
      "metadata": {
        "id": "3zVxMJjM3_fU"
      }
    },
    {
      "cell_type": "code",
      "source": [
        "tn_model=Sequential()\n",
        "tn_model.add(Dense(10,input_shape = (7,), activation = 'sigmoid',kernel_initializer=tn_initializer))\n",
        "tn_model.add(Dense(10,activation='sigmoid',kernel_initializer=tn_initializer))\n",
        "tn_model.add(Dense(10,activation='sigmoid',kernel_initializer=tn_initializer))\n",
        "tn_model.add(Dense(10,activation='sigmoid',kernel_initializer=tn_initializer))\n",
        "tn_model.add(Dense(10,activation='sigmoid',kernel_initializer=tn_initializer))\n",
        "tn_model.add(Dense(2,kernel_initializer=tn_initializer))"
      ],
      "metadata": {
        "id": "g1kXfT-C4I9B"
      },
      "execution_count": 353,
      "outputs": []
    },
    {
      "cell_type": "code",
      "source": [
        "tn_model.summary()"
      ],
      "metadata": {
        "colab": {
          "base_uri": "https://localhost:8080/"
        },
        "id": "dn9ghUkp48A0",
        "outputId": "06bcf245-14c6-4d65-b54b-b661450a4456"
      },
      "execution_count": 354,
      "outputs": [
        {
          "output_type": "stream",
          "name": "stdout",
          "text": [
            "Model: \"sequential_37\"\n",
            "_________________________________________________________________\n",
            " Layer (type)                Output Shape              Param #   \n",
            "=================================================================\n",
            " dense_222 (Dense)           (None, 10)                80        \n",
            "                                                                 \n",
            " dense_223 (Dense)           (None, 10)                110       \n",
            "                                                                 \n",
            " dense_224 (Dense)           (None, 10)                110       \n",
            "                                                                 \n",
            " dense_225 (Dense)           (None, 10)                110       \n",
            "                                                                 \n",
            " dense_226 (Dense)           (None, 10)                110       \n",
            "                                                                 \n",
            " dense_227 (Dense)           (None, 2)                 22        \n",
            "                                                                 \n",
            "=================================================================\n",
            "Total params: 542\n",
            "Trainable params: 542\n",
            "Non-trainable params: 0\n",
            "_________________________________________________________________\n"
          ]
        }
      ]
    },
    {
      "cell_type": "code",
      "source": [
        "tn_sgd = optimizers.SGD(learning_rate = 0.01) \n",
        "tn_model.compile(optimizer = tn_sgd, loss = 'binary_crossentropy', metrics = ['accuracy'])"
      ],
      "metadata": {
        "id": "218rrV9N49nT"
      },
      "execution_count": 355,
      "outputs": []
    },
    {
      "cell_type": "code",
      "source": [
        "tn_train=tn_model.fit(X_train, y_train, batch_size = 50, epochs = 100, verbose = 1)"
      ],
      "metadata": {
        "colab": {
          "base_uri": "https://localhost:8080/"
        },
        "id": "BupFPWxk4_Wk",
        "outputId": "4c929fad-b981-4871-d4e0-46fe1e1abc61"
      },
      "execution_count": 356,
      "outputs": [
        {
          "output_type": "stream",
          "name": "stdout",
          "text": [
            "Epoch 1/100\n",
            "11/11 [==============================] - 1s 3ms/step - loss: 4.0340 - accuracy: 0.4796\n",
            "Epoch 2/100\n",
            "11/11 [==============================] - 0s 2ms/step - loss: 4.0291 - accuracy: 0.4796\n",
            "Epoch 3/100\n",
            "11/11 [==============================] - 0s 2ms/step - loss: 4.0286 - accuracy: 0.4796\n",
            "Epoch 4/100\n",
            "11/11 [==============================] - 0s 2ms/step - loss: 4.0283 - accuracy: 0.4796\n",
            "Epoch 5/100\n",
            "11/11 [==============================] - 0s 2ms/step - loss: 4.0278 - accuracy: 0.4796\n",
            "Epoch 6/100\n",
            "11/11 [==============================] - 0s 2ms/step - loss: 4.0272 - accuracy: 0.4796\n",
            "Epoch 7/100\n",
            "11/11 [==============================] - 0s 2ms/step - loss: 4.0274 - accuracy: 0.4796\n",
            "Epoch 8/100\n",
            "11/11 [==============================] - 0s 2ms/step - loss: 4.0264 - accuracy: 0.4796\n",
            "Epoch 9/100\n",
            "11/11 [==============================] - 0s 2ms/step - loss: 4.0257 - accuracy: 0.4796\n",
            "Epoch 10/100\n",
            "11/11 [==============================] - 0s 2ms/step - loss: 4.0258 - accuracy: 0.4796\n",
            "Epoch 11/100\n",
            "11/11 [==============================] - 0s 2ms/step - loss: 4.0255 - accuracy: 0.4796\n",
            "Epoch 12/100\n",
            "11/11 [==============================] - 0s 2ms/step - loss: 4.0246 - accuracy: 0.4796\n",
            "Epoch 13/100\n",
            "11/11 [==============================] - 0s 2ms/step - loss: 4.0241 - accuracy: 0.4796\n",
            "Epoch 14/100\n",
            "11/11 [==============================] - 0s 2ms/step - loss: 4.0234 - accuracy: 0.4796\n",
            "Epoch 15/100\n",
            "11/11 [==============================] - 0s 2ms/step - loss: 4.0231 - accuracy: 0.4796\n",
            "Epoch 16/100\n",
            "11/11 [==============================] - 0s 2ms/step - loss: 4.0225 - accuracy: 0.4796\n",
            "Epoch 17/100\n",
            "11/11 [==============================] - 0s 2ms/step - loss: 4.0219 - accuracy: 0.4796\n",
            "Epoch 18/100\n",
            "11/11 [==============================] - 0s 2ms/step - loss: 4.0215 - accuracy: 0.4796\n",
            "Epoch 19/100\n",
            "11/11 [==============================] - 0s 2ms/step - loss: 4.0207 - accuracy: 0.4796\n",
            "Epoch 20/100\n",
            "11/11 [==============================] - 0s 2ms/step - loss: 4.0207 - accuracy: 0.4796\n",
            "Epoch 21/100\n",
            "11/11 [==============================] - 0s 3ms/step - loss: 4.0205 - accuracy: 0.4796\n",
            "Epoch 22/100\n",
            "11/11 [==============================] - 0s 2ms/step - loss: 4.0193 - accuracy: 0.4796\n",
            "Epoch 23/100\n",
            "11/11 [==============================] - 0s 2ms/step - loss: 4.0186 - accuracy: 0.4796\n",
            "Epoch 24/100\n",
            "11/11 [==============================] - 0s 3ms/step - loss: 4.0184 - accuracy: 0.4796\n",
            "Epoch 25/100\n",
            "11/11 [==============================] - 0s 2ms/step - loss: 4.0179 - accuracy: 0.4796\n",
            "Epoch 26/100\n",
            "11/11 [==============================] - 0s 2ms/step - loss: 4.0174 - accuracy: 0.4796\n",
            "Epoch 27/100\n",
            "11/11 [==============================] - 0s 2ms/step - loss: 4.0167 - accuracy: 0.4796\n",
            "Epoch 28/100\n",
            "11/11 [==============================] - 0s 2ms/step - loss: 4.0158 - accuracy: 0.4796\n",
            "Epoch 29/100\n",
            "11/11 [==============================] - 0s 2ms/step - loss: 4.0151 - accuracy: 0.4796\n",
            "Epoch 30/100\n",
            "11/11 [==============================] - 0s 2ms/step - loss: 4.0151 - accuracy: 0.4796\n",
            "Epoch 31/100\n",
            "11/11 [==============================] - 0s 3ms/step - loss: 4.0139 - accuracy: 0.4796\n",
            "Epoch 32/100\n",
            "11/11 [==============================] - 0s 2ms/step - loss: 4.0133 - accuracy: 0.4796\n",
            "Epoch 33/100\n",
            "11/11 [==============================] - 0s 3ms/step - loss: 4.0127 - accuracy: 0.4796\n",
            "Epoch 34/100\n",
            "11/11 [==============================] - 0s 3ms/step - loss: 4.0110 - accuracy: 0.4796\n",
            "Epoch 35/100\n",
            "11/11 [==============================] - 0s 3ms/step - loss: 4.0100 - accuracy: 0.4796\n",
            "Epoch 36/100\n",
            "11/11 [==============================] - 0s 2ms/step - loss: 4.0090 - accuracy: 0.4796\n",
            "Epoch 37/100\n",
            "11/11 [==============================] - 0s 2ms/step - loss: 4.0082 - accuracy: 0.4796\n",
            "Epoch 38/100\n",
            "11/11 [==============================] - 0s 3ms/step - loss: 4.0074 - accuracy: 0.4796\n",
            "Epoch 39/100\n",
            "11/11 [==============================] - 0s 3ms/step - loss: 4.0068 - accuracy: 0.4796\n",
            "Epoch 40/100\n",
            "11/11 [==============================] - 0s 2ms/step - loss: 4.0061 - accuracy: 0.4796\n",
            "Epoch 41/100\n",
            "11/11 [==============================] - 0s 2ms/step - loss: 4.0054 - accuracy: 0.4796\n",
            "Epoch 42/100\n",
            "11/11 [==============================] - 0s 2ms/step - loss: 4.0041 - accuracy: 0.4796\n",
            "Epoch 43/100\n",
            "11/11 [==============================] - 0s 2ms/step - loss: 4.0035 - accuracy: 0.4796\n",
            "Epoch 44/100\n",
            "11/11 [==============================] - 0s 2ms/step - loss: 4.0027 - accuracy: 0.4796\n",
            "Epoch 45/100\n",
            "11/11 [==============================] - 0s 2ms/step - loss: 4.0021 - accuracy: 0.4796\n",
            "Epoch 46/100\n",
            "11/11 [==============================] - 0s 2ms/step - loss: 4.0016 - accuracy: 0.4796\n",
            "Epoch 47/100\n",
            "11/11 [==============================] - 0s 2ms/step - loss: 4.0008 - accuracy: 0.4796\n",
            "Epoch 48/100\n",
            "11/11 [==============================] - 0s 2ms/step - loss: 4.0003 - accuracy: 0.4796\n",
            "Epoch 49/100\n",
            "11/11 [==============================] - 0s 2ms/step - loss: 3.9996 - accuracy: 0.4796\n",
            "Epoch 50/100\n",
            "11/11 [==============================] - 0s 2ms/step - loss: 3.9998 - accuracy: 0.4796\n",
            "Epoch 51/100\n",
            "11/11 [==============================] - 0s 2ms/step - loss: 3.9981 - accuracy: 0.4796\n",
            "Epoch 52/100\n",
            "11/11 [==============================] - 0s 3ms/step - loss: 3.9973 - accuracy: 0.4796\n",
            "Epoch 53/100\n",
            "11/11 [==============================] - 0s 3ms/step - loss: 3.9964 - accuracy: 0.4796\n",
            "Epoch 54/100\n",
            "11/11 [==============================] - 0s 2ms/step - loss: 3.9961 - accuracy: 0.4796\n",
            "Epoch 55/100\n",
            "11/11 [==============================] - 0s 2ms/step - loss: 3.9956 - accuracy: 0.4796\n",
            "Epoch 56/100\n",
            "11/11 [==============================] - 0s 2ms/step - loss: 3.9947 - accuracy: 0.4796\n",
            "Epoch 57/100\n",
            "11/11 [==============================] - 0s 2ms/step - loss: 3.9940 - accuracy: 0.4796\n",
            "Epoch 58/100\n",
            "11/11 [==============================] - 0s 2ms/step - loss: 3.9935 - accuracy: 0.4796\n",
            "Epoch 59/100\n",
            "11/11 [==============================] - 0s 3ms/step - loss: 3.9922 - accuracy: 0.4796\n",
            "Epoch 60/100\n",
            "11/11 [==============================] - 0s 2ms/step - loss: 3.9905 - accuracy: 0.4796\n",
            "Epoch 61/100\n",
            "11/11 [==============================] - 0s 2ms/step - loss: 3.9899 - accuracy: 0.4796\n",
            "Epoch 62/100\n",
            "11/11 [==============================] - 0s 2ms/step - loss: 3.9893 - accuracy: 0.4796\n",
            "Epoch 63/100\n",
            "11/11 [==============================] - 0s 2ms/step - loss: 3.9886 - accuracy: 0.4796\n",
            "Epoch 64/100\n",
            "11/11 [==============================] - 0s 2ms/step - loss: 3.9886 - accuracy: 0.4796\n",
            "Epoch 65/100\n",
            "11/11 [==============================] - 0s 2ms/step - loss: 3.9869 - accuracy: 0.4796\n",
            "Epoch 66/100\n",
            "11/11 [==============================] - 0s 2ms/step - loss: 3.9863 - accuracy: 0.4796\n",
            "Epoch 67/100\n",
            "11/11 [==============================] - 0s 2ms/step - loss: 3.9856 - accuracy: 0.4796\n",
            "Epoch 68/100\n",
            "11/11 [==============================] - 0s 2ms/step - loss: 3.9853 - accuracy: 0.4796\n",
            "Epoch 69/100\n",
            "11/11 [==============================] - 0s 2ms/step - loss: 3.9838 - accuracy: 0.4796\n",
            "Epoch 70/100\n",
            "11/11 [==============================] - 0s 2ms/step - loss: 3.9836 - accuracy: 0.4796\n",
            "Epoch 71/100\n",
            "11/11 [==============================] - 0s 2ms/step - loss: 3.9826 - accuracy: 0.4796\n",
            "Epoch 72/100\n",
            "11/11 [==============================] - 0s 3ms/step - loss: 3.9821 - accuracy: 0.4796\n",
            "Epoch 73/100\n",
            "11/11 [==============================] - 0s 2ms/step - loss: 3.9813 - accuracy: 0.4796\n",
            "Epoch 74/100\n",
            "11/11 [==============================] - 0s 3ms/step - loss: 3.9803 - accuracy: 0.4796\n",
            "Epoch 75/100\n",
            "11/11 [==============================] - 0s 2ms/step - loss: 3.9798 - accuracy: 0.4796\n",
            "Epoch 76/100\n",
            "11/11 [==============================] - 0s 2ms/step - loss: 3.9788 - accuracy: 0.4796\n",
            "Epoch 77/100\n",
            "11/11 [==============================] - 0s 2ms/step - loss: 3.9783 - accuracy: 0.4796\n",
            "Epoch 78/100\n",
            "11/11 [==============================] - 0s 2ms/step - loss: 3.9767 - accuracy: 0.4796\n",
            "Epoch 79/100\n",
            "11/11 [==============================] - 0s 2ms/step - loss: 3.9759 - accuracy: 0.4796\n",
            "Epoch 80/100\n",
            "11/11 [==============================] - 0s 2ms/step - loss: 3.9749 - accuracy: 0.4796\n",
            "Epoch 81/100\n",
            "11/11 [==============================] - 0s 3ms/step - loss: 3.9740 - accuracy: 0.4796\n",
            "Epoch 82/100\n",
            "11/11 [==============================] - 0s 3ms/step - loss: 3.9730 - accuracy: 0.4796\n",
            "Epoch 83/100\n",
            "11/11 [==============================] - 0s 2ms/step - loss: 3.9727 - accuracy: 0.4796\n",
            "Epoch 84/100\n",
            "11/11 [==============================] - 0s 3ms/step - loss: 3.9716 - accuracy: 0.4796\n",
            "Epoch 85/100\n",
            "11/11 [==============================] - 0s 2ms/step - loss: 3.9713 - accuracy: 0.4796\n",
            "Epoch 86/100\n",
            "11/11 [==============================] - 0s 2ms/step - loss: 3.9701 - accuracy: 0.4796\n",
            "Epoch 87/100\n",
            "11/11 [==============================] - 0s 2ms/step - loss: 3.9697 - accuracy: 0.4796\n",
            "Epoch 88/100\n",
            "11/11 [==============================] - 0s 2ms/step - loss: 3.9689 - accuracy: 0.4796\n",
            "Epoch 89/100\n",
            "11/11 [==============================] - 0s 2ms/step - loss: 3.9680 - accuracy: 0.4796\n",
            "Epoch 90/100\n",
            "11/11 [==============================] - 0s 3ms/step - loss: 3.9678 - accuracy: 0.4796\n",
            "Epoch 91/100\n",
            "11/11 [==============================] - 0s 2ms/step - loss: 3.9668 - accuracy: 0.4796\n",
            "Epoch 92/100\n",
            "11/11 [==============================] - 0s 2ms/step - loss: 3.9667 - accuracy: 0.4796\n",
            "Epoch 93/100\n",
            "11/11 [==============================] - 0s 3ms/step - loss: 3.9651 - accuracy: 0.4796\n",
            "Epoch 94/100\n",
            "11/11 [==============================] - 0s 2ms/step - loss: 3.9649 - accuracy: 0.4796\n",
            "Epoch 95/100\n",
            "11/11 [==============================] - 0s 3ms/step - loss: 3.9641 - accuracy: 0.4796\n",
            "Epoch 96/100\n",
            "11/11 [==============================] - 0s 2ms/step - loss: 3.9626 - accuracy: 0.4796\n",
            "Epoch 97/100\n",
            "11/11 [==============================] - 0s 2ms/step - loss: 3.9611 - accuracy: 0.4796\n",
            "Epoch 98/100\n",
            "11/11 [==============================] - 0s 2ms/step - loss: 3.9600 - accuracy: 0.4796\n",
            "Epoch 99/100\n",
            "11/11 [==============================] - 0s 2ms/step - loss: 3.9591 - accuracy: 0.4796\n",
            "Epoch 100/100\n",
            "11/11 [==============================] - 0s 3ms/step - loss: 3.9590 - accuracy: 0.4796\n"
          ]
        }
      ]
    },
    {
      "cell_type": "code",
      "source": [
        "import matplotlib.pyplot as plt\n",
        "plt.plot(tn_train.history['loss'])\n",
        "plt.title('model loss')\n",
        "plt.ylabel('loss')\n",
        "plt.xlabel('epoch')\n",
        "plt.show()"
      ],
      "metadata": {
        "colab": {
          "base_uri": "https://localhost:8080/",
          "height": 295
        },
        "id": "hD83xjdq5Bbx",
        "outputId": "2b9e5fac-33ad-4992-d814-522dbbd195f8"
      },
      "execution_count": 357,
      "outputs": [
        {
          "output_type": "display_data",
          "data": {
            "image/png": "[encoded data removed]",
            "text/plain": [
              "<Figure size 432x288 with 1 Axes>"
            ]
          },
          "metadata": {
            "needs_background": "light"
          }
        }
      ]
    },
    {
      "cell_type": "code",
      "source": [
        "tn_results = tn_model.evaluate(X_test, y_test)"
      ],
      "metadata": {
        "colab": {
          "base_uri": "https://localhost:8080/"
        },
        "id": "9MxEjzNm5C00",
        "outputId": "77a36da8-0f74-45d6-a1c4-a8083030d450"
      },
      "execution_count": 358,
      "outputs": [
        {
          "output_type": "stream",
          "name": "stdout",
          "text": [
            "12/12 [==============================] - 0s 2ms/step - loss: 4.3775 - accuracy: 0.5306\n"
          ]
        }
      ]
    },
    {
      "cell_type": "code",
      "source": [
        "print(tn_model.metrics_names)   \n",
        "print(tn_results)"
      ],
      "metadata": {
        "colab": {
          "base_uri": "https://localhost:8080/"
        },
        "id": "O3vflZtp5EjV",
        "outputId": "e00faef1-e4d2-4e68-daf4-a1835ef1f797"
      },
      "execution_count": 359,
      "outputs": [
        {
          "output_type": "stream",
          "name": "stdout",
          "text": [
            "['loss', 'accuracy']\n",
            "[4.377476215362549, 0.5305555462837219]\n"
          ]
        }
      ]
    },
    {
      "cell_type": "markdown",
      "source": [
        "#Zero"
      ],
      "metadata": {
        "id": "FXfzAzWc5NwJ"
      }
    },
    {
      "cell_type": "code",
      "source": [
        "zero_model=Sequential()\n",
        "zero_model.add(Dense(10,input_shape = (7,), activation = 'sigmoid',kernel_initializer=zero_initializer))\n",
        "zero_model.add(Dense(10,activation='sigmoid',kernel_initializer=zero_initializer))\n",
        "zero_model.add(Dense(10,activation='sigmoid',kernel_initializer=zero_initializer))\n",
        "zero_model.add(Dense(10,activation='sigmoid',kernel_initializer=zero_initializer))\n",
        "zero_model.add(Dense(10,activation='sigmoid',kernel_initializer=zero_initializer))\n",
        "zero_model.add(Dense(2,kernel_initializer=zero_initializer))"
      ],
      "metadata": {
        "id": "rQlwdFDL5QuT"
      },
      "execution_count": 360,
      "outputs": []
    },
    {
      "cell_type": "code",
      "source": [
        "zero_model.summary()\n"
      ],
      "metadata": {
        "colab": {
          "base_uri": "https://localhost:8080/"
        },
        "id": "ZEMIk0z56GN4",
        "outputId": "5ff28f21-b63f-443d-bea2-0c4a1f1afd5f"
      },
      "execution_count": 361,
      "outputs": [
        {
          "output_type": "stream",
          "name": "stdout",
          "text": [
            "Model: \"sequential_38\"\n",
            "_________________________________________________________________\n",
            " Layer (type)                Output Shape              Param #   \n",
            "=================================================================\n",
            " dense_228 (Dense)           (None, 10)                80        \n",
            "                                                                 \n",
            " dense_229 (Dense)           (None, 10)                110       \n",
            "                                                                 \n",
            " dense_230 (Dense)           (None, 10)                110       \n",
            "                                                                 \n",
            " dense_231 (Dense)           (None, 10)                110       \n",
            "                                                                 \n",
            " dense_232 (Dense)           (None, 10)                110       \n",
            "                                                                 \n",
            " dense_233 (Dense)           (None, 2)                 22        \n",
            "                                                                 \n",
            "=================================================================\n",
            "Total params: 542\n",
            "Trainable params: 542\n",
            "Non-trainable params: 0\n",
            "_________________________________________________________________\n"
          ]
        }
      ]
    },
    {
      "cell_type": "code",
      "source": [
        "zero_sgd = optimizers.SGD(learning_rate = 0.01) \n",
        "zero_model.compile(optimizer = zero_sgd, loss = 'binary_crossentropy', metrics = ['accuracy'])\n"
      ],
      "metadata": {
        "id": "2fkxjIC06HPD"
      },
      "execution_count": 362,
      "outputs": []
    },
    {
      "cell_type": "code",
      "source": [
        "zero_train=zero_model.fit(X_train, y_train, batch_size = 50, epochs = 100, verbose = 1)"
      ],
      "metadata": {
        "colab": {
          "base_uri": "https://localhost:8080/"
        },
        "id": "09jONLa16JNw",
        "outputId": "24e7bab2-2712-43e4-9902-74a46c9b2ec4"
      },
      "execution_count": 363,
      "outputs": [
        {
          "output_type": "stream",
          "name": "stdout",
          "text": [
            "Epoch 1/100\n",
            "11/11 [==============================] - 1s 2ms/step - loss: 7.3983 - accuracy: 0.5204\n",
            "Epoch 2/100\n",
            "11/11 [==============================] - 0s 3ms/step - loss: 7.3983 - accuracy: 0.5204\n",
            "Epoch 3/100\n",
            "11/11 [==============================] - 0s 2ms/step - loss: 7.3983 - accuracy: 0.5204\n",
            "Epoch 4/100\n",
            "11/11 [==============================] - 0s 2ms/step - loss: 7.3983 - accuracy: 0.5204\n",
            "Epoch 5/100\n",
            "11/11 [==============================] - 0s 2ms/step - loss: 7.3983 - accuracy: 0.5204\n",
            "Epoch 6/100\n",
            "11/11 [==============================] - 0s 2ms/step - loss: 7.3983 - accuracy: 0.5204\n",
            "Epoch 7/100\n",
            "11/11 [==============================] - 0s 2ms/step - loss: 7.3983 - accuracy: 0.5204\n",
            "Epoch 8/100\n",
            "11/11 [==============================] - 0s 2ms/step - loss: 7.3983 - accuracy: 0.5204\n",
            "Epoch 9/100\n",
            "11/11 [==============================] - 0s 2ms/step - loss: 7.3983 - accuracy: 0.5204\n",
            "Epoch 10/100\n",
            "11/11 [==============================] - 0s 3ms/step - loss: 7.3983 - accuracy: 0.5204\n",
            "Epoch 11/100\n",
            "11/11 [==============================] - 0s 2ms/step - loss: 7.3983 - accuracy: 0.5204\n",
            "Epoch 12/100\n",
            "11/11 [==============================] - 0s 2ms/step - loss: 7.3983 - accuracy: 0.5204\n",
            "Epoch 13/100\n",
            "11/11 [==============================] - 0s 2ms/step - loss: 7.3983 - accuracy: 0.5204\n",
            "Epoch 14/100\n",
            "11/11 [==============================] - 0s 2ms/step - loss: 7.3983 - accuracy: 0.5204\n",
            "Epoch 15/100\n",
            "11/11 [==============================] - 0s 2ms/step - loss: 7.3983 - accuracy: 0.5204\n",
            "Epoch 16/100\n",
            "11/11 [==============================] - 0s 2ms/step - loss: 7.3983 - accuracy: 0.5204\n",
            "Epoch 17/100\n",
            "11/11 [==============================] - 0s 2ms/step - loss: 7.3983 - accuracy: 0.5204\n",
            "Epoch 18/100\n",
            "11/11 [==============================] - 0s 3ms/step - loss: 7.3983 - accuracy: 0.5204\n",
            "Epoch 19/100\n",
            "11/11 [==============================] - 0s 2ms/step - loss: 7.3983 - accuracy: 0.5204\n",
            "Epoch 20/100\n",
            "11/11 [==============================] - 0s 2ms/step - loss: 7.3983 - accuracy: 0.5204\n",
            "Epoch 21/100\n",
            "11/11 [==============================] - 0s 2ms/step - loss: 7.3983 - accuracy: 0.5204\n",
            "Epoch 22/100\n",
            "11/11 [==============================] - 0s 4ms/step - loss: 7.3983 - accuracy: 0.5204\n",
            "Epoch 23/100\n",
            "11/11 [==============================] - 0s 2ms/step - loss: 7.3983 - accuracy: 0.5204\n",
            "Epoch 24/100\n",
            "11/11 [==============================] - 0s 2ms/step - loss: 7.3983 - accuracy: 0.5204\n",
            "Epoch 25/100\n",
            "11/11 [==============================] - 0s 2ms/step - loss: 7.3983 - accuracy: 0.5204\n",
            "Epoch 26/100\n",
            "11/11 [==============================] - 0s 2ms/step - loss: 7.3983 - accuracy: 0.5204\n",
            "Epoch 27/100\n",
            "11/11 [==============================] - 0s 2ms/step - loss: 7.3983 - accuracy: 0.5204\n",
            "Epoch 28/100\n",
            "11/11 [==============================] - 0s 3ms/step - loss: 7.3983 - accuracy: 0.5204\n",
            "Epoch 29/100\n",
            "11/11 [==============================] - 0s 3ms/step - loss: 7.3983 - accuracy: 0.5204\n",
            "Epoch 30/100\n",
            "11/11 [==============================] - 0s 2ms/step - loss: 7.3983 - accuracy: 0.5204\n",
            "Epoch 31/100\n",
            "11/11 [==============================] - 0s 2ms/step - loss: 7.3983 - accuracy: 0.5204\n",
            "Epoch 32/100\n",
            "11/11 [==============================] - 0s 2ms/step - loss: 7.3983 - accuracy: 0.5204\n",
            "Epoch 33/100\n",
            "11/11 [==============================] - 0s 2ms/step - loss: 7.3983 - accuracy: 0.5204\n",
            "Epoch 34/100\n",
            "11/11 [==============================] - 0s 2ms/step - loss: 7.3983 - accuracy: 0.5204\n",
            "Epoch 35/100\n",
            "11/11 [==============================] - 0s 2ms/step - loss: 7.3983 - accuracy: 0.5204\n",
            "Epoch 36/100\n",
            "11/11 [==============================] - 0s 2ms/step - loss: 7.3983 - accuracy: 0.5204\n",
            "Epoch 37/100\n",
            "11/11 [==============================] - 0s 2ms/step - loss: 7.3983 - accuracy: 0.5204\n",
            "Epoch 38/100\n",
            "11/11 [==============================] - 0s 2ms/step - loss: 7.3983 - accuracy: 0.5204\n",
            "Epoch 39/100\n",
            "11/11 [==============================] - 0s 3ms/step - loss: 7.3983 - accuracy: 0.5204\n",
            "Epoch 40/100\n",
            "11/11 [==============================] - 0s 2ms/step - loss: 7.3983 - accuracy: 0.5204\n",
            "Epoch 41/100\n",
            "11/11 [==============================] - 0s 3ms/step - loss: 7.3983 - accuracy: 0.5204\n",
            "Epoch 42/100\n",
            "11/11 [==============================] - 0s 2ms/step - loss: 7.3983 - accuracy: 0.5204\n",
            "Epoch 43/100\n",
            "11/11 [==============================] - 0s 2ms/step - loss: 7.3983 - accuracy: 0.5204\n",
            "Epoch 44/100\n",
            "11/11 [==============================] - 0s 2ms/step - loss: 7.3983 - accuracy: 0.5204\n",
            "Epoch 45/100\n",
            "11/11 [==============================] - 0s 2ms/step - loss: 7.3983 - accuracy: 0.5204\n",
            "Epoch 46/100\n",
            "11/11 [==============================] - 0s 3ms/step - loss: 7.3983 - accuracy: 0.5204\n",
            "Epoch 47/100\n",
            "11/11 [==============================] - 0s 2ms/step - loss: 7.3983 - accuracy: 0.5204\n",
            "Epoch 48/100\n",
            "11/11 [==============================] - 0s 2ms/step - loss: 7.3983 - accuracy: 0.5204\n",
            "Epoch 49/100\n",
            "11/11 [==============================] - 0s 2ms/step - loss: 7.3983 - accuracy: 0.5204\n",
            "Epoch 50/100\n",
            "11/11 [==============================] - 0s 2ms/step - loss: 7.3983 - accuracy: 0.5204\n",
            "Epoch 51/100\n",
            "11/11 [==============================] - 0s 2ms/step - loss: 7.3983 - accuracy: 0.5204\n",
            "Epoch 52/100\n",
            "11/11 [==============================] - 0s 2ms/step - loss: 7.3983 - accuracy: 0.5204\n",
            "Epoch 53/100\n",
            "11/11 [==============================] - 0s 2ms/step - loss: 7.3983 - accuracy: 0.5204\n",
            "Epoch 54/100\n",
            "11/11 [==============================] - 0s 2ms/step - loss: 7.3983 - accuracy: 0.5204\n",
            "Epoch 55/100\n",
            "11/11 [==============================] - 0s 2ms/step - loss: 7.3983 - accuracy: 0.5204\n",
            "Epoch 56/100\n",
            "11/11 [==============================] - 0s 2ms/step - loss: 7.3983 - accuracy: 0.5204\n",
            "Epoch 57/100\n",
            "11/11 [==============================] - 0s 2ms/step - loss: 7.3983 - accuracy: 0.5204\n",
            "Epoch 58/100\n",
            "11/11 [==============================] - 0s 3ms/step - loss: 7.3983 - accuracy: 0.5204\n",
            "Epoch 59/100\n",
            "11/11 [==============================] - 0s 3ms/step - loss: 7.3983 - accuracy: 0.5204\n",
            "Epoch 60/100\n",
            "11/11 [==============================] - 0s 3ms/step - loss: 7.3983 - accuracy: 0.5204\n",
            "Epoch 61/100\n",
            "11/11 [==============================] - 0s 2ms/step - loss: 7.3983 - accuracy: 0.5204\n",
            "Epoch 62/100\n",
            "11/11 [==============================] - 0s 3ms/step - loss: 7.3983 - accuracy: 0.5204\n",
            "Epoch 63/100\n",
            "11/11 [==============================] - 0s 2ms/step - loss: 7.3983 - accuracy: 0.5204\n",
            "Epoch 64/100\n",
            "11/11 [==============================] - 0s 2ms/step - loss: 7.3983 - accuracy: 0.5204\n",
            "Epoch 65/100\n",
            "11/11 [==============================] - 0s 2ms/step - loss: 7.3983 - accuracy: 0.5204\n",
            "Epoch 66/100\n",
            "11/11 [==============================] - 0s 2ms/step - loss: 7.3983 - accuracy: 0.5204\n",
            "Epoch 67/100\n",
            "11/11 [==============================] - 0s 3ms/step - loss: 7.3983 - accuracy: 0.5204\n",
            "Epoch 68/100\n",
            "11/11 [==============================] - 0s 2ms/step - loss: 7.3983 - accuracy: 0.5204\n",
            "Epoch 69/100\n",
            "11/11 [==============================] - 0s 2ms/step - loss: 7.3983 - accuracy: 0.5204\n",
            "Epoch 70/100\n",
            "11/11 [==============================] - 0s 2ms/step - loss: 7.3983 - accuracy: 0.5204\n",
            "Epoch 71/100\n",
            "11/11 [==============================] - 0s 2ms/step - loss: 7.3983 - accuracy: 0.5204\n",
            "Epoch 72/100\n",
            "11/11 [==============================] - 0s 3ms/step - loss: 7.3983 - accuracy: 0.5204\n",
            "Epoch 73/100\n",
            "11/11 [==============================] - 0s 3ms/step - loss: 7.3983 - accuracy: 0.5204\n",
            "Epoch 74/100\n",
            "11/11 [==============================] - 0s 2ms/step - loss: 7.3983 - accuracy: 0.5204\n",
            "Epoch 75/100\n",
            "11/11 [==============================] - 0s 3ms/step - loss: 7.3983 - accuracy: 0.5204\n",
            "Epoch 76/100\n",
            "11/11 [==============================] - 0s 2ms/step - loss: 7.3983 - accuracy: 0.5204\n",
            "Epoch 77/100\n",
            "11/11 [==============================] - 0s 2ms/step - loss: 7.3983 - accuracy: 0.5204\n",
            "Epoch 78/100\n",
            "11/11 [==============================] - 0s 2ms/step - loss: 7.3983 - accuracy: 0.5204\n",
            "Epoch 79/100\n",
            "11/11 [==============================] - 0s 2ms/step - loss: 7.3983 - accuracy: 0.5204\n",
            "Epoch 80/100\n",
            "11/11 [==============================] - 0s 2ms/step - loss: 7.3983 - accuracy: 0.5204\n",
            "Epoch 81/100\n",
            "11/11 [==============================] - 0s 3ms/step - loss: 7.3983 - accuracy: 0.5204\n",
            "Epoch 82/100\n",
            "11/11 [==============================] - 0s 3ms/step - loss: 7.3983 - accuracy: 0.5204\n",
            "Epoch 83/100\n",
            "11/11 [==============================] - 0s 2ms/step - loss: 7.3983 - accuracy: 0.5204\n",
            "Epoch 84/100\n",
            "11/11 [==============================] - 0s 2ms/step - loss: 7.3983 - accuracy: 0.5204\n",
            "Epoch 85/100\n",
            "11/11 [==============================] - 0s 3ms/step - loss: 7.3983 - accuracy: 0.5204\n",
            "Epoch 86/100\n",
            "11/11 [==============================] - 0s 2ms/step - loss: 7.3983 - accuracy: 0.5204\n",
            "Epoch 87/100\n",
            "11/11 [==============================] - 0s 2ms/step - loss: 7.3983 - accuracy: 0.5204\n",
            "Epoch 88/100\n",
            "11/11 [==============================] - 0s 3ms/step - loss: 7.3983 - accuracy: 0.5204\n",
            "Epoch 89/100\n",
            "11/11 [==============================] - 0s 3ms/step - loss: 7.3983 - accuracy: 0.5204\n",
            "Epoch 90/100\n",
            "11/11 [==============================] - 0s 2ms/step - loss: 7.3983 - accuracy: 0.5204\n",
            "Epoch 91/100\n",
            "11/11 [==============================] - 0s 2ms/step - loss: 7.3983 - accuracy: 0.5204\n",
            "Epoch 92/100\n",
            "11/11 [==============================] - 0s 3ms/step - loss: 7.3983 - accuracy: 0.5204\n",
            "Epoch 93/100\n",
            "11/11 [==============================] - 0s 2ms/step - loss: 7.3983 - accuracy: 0.5204\n",
            "Epoch 94/100\n",
            "11/11 [==============================] - 0s 2ms/step - loss: 7.3983 - accuracy: 0.5204\n",
            "Epoch 95/100\n",
            "11/11 [==============================] - 0s 3ms/step - loss: 7.3983 - accuracy: 0.5204\n",
            "Epoch 96/100\n",
            "11/11 [==============================] - 0s 2ms/step - loss: 7.3983 - accuracy: 0.5204\n",
            "Epoch 97/100\n",
            "11/11 [==============================] - 0s 3ms/step - loss: 7.3983 - accuracy: 0.5204\n",
            "Epoch 98/100\n",
            "11/11 [==============================] - 0s 3ms/step - loss: 7.3983 - accuracy: 0.5204\n",
            "Epoch 99/100\n",
            "11/11 [==============================] - 0s 3ms/step - loss: 7.3983 - accuracy: 0.5204\n",
            "Epoch 100/100\n",
            "11/11 [==============================] - 0s 2ms/step - loss: 7.3983 - accuracy: 0.5204\n"
          ]
        }
      ]
    },
    {
      "cell_type": "code",
      "source": [
        "import matplotlib.pyplot as plt\n",
        "plt.plot(zero_train.history['loss'])\n",
        "plt.title('model loss')\n",
        "plt.ylabel('loss')\n",
        "plt.xlabel('epoch')\n",
        "plt.show()\n"
      ],
      "metadata": {
        "colab": {
          "base_uri": "https://localhost:8080/",
          "height": 295
        },
        "id": "y7XJHkZ46K-l",
        "outputId": "cb66f604-77db-41f2-94dc-c530a479c69d"
      },
      "execution_count": 364,
      "outputs": [
        {
          "output_type": "display_data",
          "data": {
            "image/png": "[encoded data removed]",
            "text/plain": [
              "<Figure size 432x288 with 1 Axes>"
            ]
          },
          "metadata": {
            "needs_background": "light"
          }
        }
      ]
    },
    {
      "cell_type": "code",
      "source": [
        "zero_results = zero_model.evaluate(X_test, y_test)"
      ],
      "metadata": {
        "colab": {
          "base_uri": "https://localhost:8080/"
        },
        "id": "dCflBAt26Myr",
        "outputId": "692de850-2e55-4230-e161-77398301972a"
      },
      "execution_count": 365,
      "outputs": [
        {
          "output_type": "stream",
          "name": "stdout",
          "text": [
            "12/12 [==============================] - 0s 2ms/step - loss: 8.1838 - accuracy: 0.4694\n"
          ]
        }
      ]
    },
    {
      "cell_type": "code",
      "source": [
        "print(zero_model.metrics_names) \n",
        "print(zero_results)\n"
      ],
      "metadata": {
        "colab": {
          "base_uri": "https://localhost:8080/"
        },
        "id": "h9CfuDq86Nzp",
        "outputId": "831d866c-0516-4904-8a1c-5b044bbda1ac"
      },
      "execution_count": 366,
      "outputs": [
        {
          "output_type": "stream",
          "name": "stdout",
          "text": [
            "['loss', 'accuracy']\n",
            "[8.183792114257812, 0.4694444537162781]\n"
          ]
        }
      ]
    },
    {
      "cell_type": "markdown",
      "source": [
        "#One"
      ],
      "metadata": {
        "id": "ZJurVaC86PwZ"
      }
    },
    {
      "cell_type": "code",
      "source": [
        "ones_model=Sequential()\n",
        "ones_model.add(Dense(10,input_shape = (7,), activation = 'sigmoid',kernel_initializer=ones_initializer))\n",
        "ones_model.add(Dense(10,activation='sigmoid',kernel_initializer=ones_initializer))\n",
        "ones_model.add(Dense(10,activation='sigmoid',kernel_initializer=ones_initializer))\n",
        "ones_model.add(Dense(10,activation='sigmoid',kernel_initializer=ones_initializer))\n",
        "ones_model.add(Dense(10,activation='sigmoid',kernel_initializer=ones_initializer))\n",
        "ones_model.add(Dense(2,kernel_initializer=ones_initializer))"
      ],
      "metadata": {
        "id": "V6P8Yxfo6TE0"
      },
      "execution_count": 367,
      "outputs": []
    },
    {
      "cell_type": "code",
      "source": [
        "ones_model.summary()\n"
      ],
      "metadata": {
        "colab": {
          "base_uri": "https://localhost:8080/"
        },
        "id": "5EAKB6Y66siy",
        "outputId": "e0609a87-33d2-4370-f300-17ad33df5e2a"
      },
      "execution_count": 368,
      "outputs": [
        {
          "output_type": "stream",
          "name": "stdout",
          "text": [
            "Model: \"sequential_39\"\n",
            "_________________________________________________________________\n",
            " Layer (type)                Output Shape              Param #   \n",
            "=================================================================\n",
            " dense_234 (Dense)           (None, 10)                80        \n",
            "                                                                 \n",
            " dense_235 (Dense)           (None, 10)                110       \n",
            "                                                                 \n",
            " dense_236 (Dense)           (None, 10)                110       \n",
            "                                                                 \n",
            " dense_237 (Dense)           (None, 10)                110       \n",
            "                                                                 \n",
            " dense_238 (Dense)           (None, 10)                110       \n",
            "                                                                 \n",
            " dense_239 (Dense)           (None, 2)                 22        \n",
            "                                                                 \n",
            "=================================================================\n",
            "Total params: 542\n",
            "Trainable params: 542\n",
            "Non-trainable params: 0\n",
            "_________________________________________________________________\n"
          ]
        }
      ]
    },
    {
      "cell_type": "code",
      "source": [
        "ones_sgd = optimizers.SGD(learning_rate = 0.01) \n",
        "ones_model.compile(optimizer = ones_sgd, loss = 'binary_crossentropy', metrics = ['accuracy'])\n"
      ],
      "metadata": {
        "id": "jcu8RTzh6tmb"
      },
      "execution_count": 369,
      "outputs": []
    },
    {
      "cell_type": "code",
      "source": [
        "ones_train=ones_model.fit(X_train, y_train, batch_size = 50, epochs = 100, verbose = 1)"
      ],
      "metadata": {
        "colab": {
          "base_uri": "https://localhost:8080/"
        },
        "id": "Ln8tpSQj6vGS",
        "outputId": "12859e77-7e4d-460c-8b35-a29eb5e48ef6"
      },
      "execution_count": 370,
      "outputs": [
        {
          "output_type": "stream",
          "name": "stdout",
          "text": [
            "Epoch 1/100\n",
            "11/11 [==============================] - 1s 2ms/step - loss: 7.9353 - accuracy: 0.5204\n",
            "Epoch 2/100\n",
            "11/11 [==============================] - 0s 3ms/step - loss: 7.9353 - accuracy: 0.5204\n",
            "Epoch 3/100\n",
            "11/11 [==============================] - 0s 2ms/step - loss: 7.9353 - accuracy: 0.5204\n",
            "Epoch 4/100\n",
            "11/11 [==============================] - 0s 2ms/step - loss: 7.9353 - accuracy: 0.5204\n",
            "Epoch 5/100\n",
            "11/11 [==============================] - 0s 2ms/step - loss: 7.9353 - accuracy: 0.5204\n",
            "Epoch 6/100\n",
            "11/11 [==============================] - 0s 2ms/step - loss: 7.9353 - accuracy: 0.5204\n",
            "Epoch 7/100\n",
            "11/11 [==============================] - 0s 2ms/step - loss: 7.9353 - accuracy: 0.5204\n",
            "Epoch 8/100\n",
            "11/11 [==============================] - 0s 2ms/step - loss: 7.9353 - accuracy: 0.5204\n",
            "Epoch 9/100\n",
            "11/11 [==============================] - 0s 2ms/step - loss: 7.9353 - accuracy: 0.5204\n",
            "Epoch 10/100\n",
            "11/11 [==============================] - 0s 2ms/step - loss: 7.9353 - accuracy: 0.5204\n",
            "Epoch 11/100\n",
            "11/11 [==============================] - 0s 3ms/step - loss: 7.9353 - accuracy: 0.5204\n",
            "Epoch 12/100\n",
            "11/11 [==============================] - 0s 2ms/step - loss: 7.9353 - accuracy: 0.5204\n",
            "Epoch 13/100\n",
            "11/11 [==============================] - 0s 3ms/step - loss: 7.9353 - accuracy: 0.5204\n",
            "Epoch 14/100\n",
            "11/11 [==============================] - 0s 3ms/step - loss: 7.9353 - accuracy: 0.5204\n",
            "Epoch 15/100\n",
            "11/11 [==============================] - 0s 3ms/step - loss: 7.9353 - accuracy: 0.5204\n",
            "Epoch 16/100\n",
            "11/11 [==============================] - 0s 3ms/step - loss: 7.9353 - accuracy: 0.5204\n",
            "Epoch 17/100\n",
            "11/11 [==============================] - 0s 3ms/step - loss: 7.9353 - accuracy: 0.5204\n",
            "Epoch 18/100\n",
            "11/11 [==============================] - 0s 3ms/step - loss: 7.9353 - accuracy: 0.5204\n",
            "Epoch 19/100\n",
            "11/11 [==============================] - 0s 2ms/step - loss: 7.9353 - accuracy: 0.5204\n",
            "Epoch 20/100\n",
            "11/11 [==============================] - 0s 2ms/step - loss: 7.9353 - accuracy: 0.5204\n",
            "Epoch 21/100\n",
            "11/11 [==============================] - 0s 2ms/step - loss: 7.9353 - accuracy: 0.5204\n",
            "Epoch 22/100\n",
            "11/11 [==============================] - 0s 2ms/step - loss: 7.9353 - accuracy: 0.5204\n",
            "Epoch 23/100\n",
            "11/11 [==============================] - 0s 2ms/step - loss: 7.9353 - accuracy: 0.5204\n",
            "Epoch 24/100\n",
            "11/11 [==============================] - 0s 2ms/step - loss: 7.9353 - accuracy: 0.5204\n",
            "Epoch 25/100\n",
            "11/11 [==============================] - 0s 3ms/step - loss: 7.9353 - accuracy: 0.5204\n",
            "Epoch 26/100\n",
            "11/11 [==============================] - 0s 2ms/step - loss: 7.9353 - accuracy: 0.5204\n",
            "Epoch 27/100\n",
            "11/11 [==============================] - 0s 2ms/step - loss: 7.9353 - accuracy: 0.5204\n",
            "Epoch 28/100\n",
            "11/11 [==============================] - 0s 3ms/step - loss: 7.9353 - accuracy: 0.5204\n",
            "Epoch 29/100\n",
            "11/11 [==============================] - 0s 2ms/step - loss: 7.9353 - accuracy: 0.5204\n",
            "Epoch 30/100\n",
            "11/11 [==============================] - 0s 2ms/step - loss: 7.9353 - accuracy: 0.5204\n",
            "Epoch 31/100\n",
            "11/11 [==============================] - 0s 2ms/step - loss: 7.9353 - accuracy: 0.5204\n",
            "Epoch 32/100\n",
            "11/11 [==============================] - 0s 2ms/step - loss: 7.9353 - accuracy: 0.5204\n",
            "Epoch 33/100\n",
            "11/11 [==============================] - 0s 2ms/step - loss: 7.9353 - accuracy: 0.5204\n",
            "Epoch 34/100\n",
            "11/11 [==============================] - 0s 2ms/step - loss: 7.9353 - accuracy: 0.5204\n",
            "Epoch 35/100\n",
            "11/11 [==============================] - 0s 2ms/step - loss: 7.9353 - accuracy: 0.5204\n",
            "Epoch 36/100\n",
            "11/11 [==============================] - 0s 3ms/step - loss: 7.9353 - accuracy: 0.5204\n",
            "Epoch 37/100\n",
            "11/11 [==============================] - 0s 3ms/step - loss: 7.9353 - accuracy: 0.5204\n",
            "Epoch 38/100\n",
            "11/11 [==============================] - 0s 3ms/step - loss: 7.9353 - accuracy: 0.5204\n",
            "Epoch 39/100\n",
            "11/11 [==============================] - 0s 2ms/step - loss: 7.9353 - accuracy: 0.5204\n",
            "Epoch 40/100\n",
            "11/11 [==============================] - 0s 2ms/step - loss: 7.9353 - accuracy: 0.5204\n",
            "Epoch 41/100\n",
            "11/11 [==============================] - 0s 2ms/step - loss: 7.9353 - accuracy: 0.5204\n",
            "Epoch 42/100\n",
            "11/11 [==============================] - 0s 2ms/step - loss: 7.9353 - accuracy: 0.5204\n",
            "Epoch 43/100\n",
            "11/11 [==============================] - 0s 2ms/step - loss: 7.9353 - accuracy: 0.5204\n",
            "Epoch 44/100\n",
            "11/11 [==============================] - 0s 2ms/step - loss: 7.9353 - accuracy: 0.5204\n",
            "Epoch 45/100\n",
            "11/11 [==============================] - 0s 2ms/step - loss: 7.9353 - accuracy: 0.5204\n",
            "Epoch 46/100\n",
            "11/11 [==============================] - 0s 2ms/step - loss: 7.9353 - accuracy: 0.5204\n",
            "Epoch 47/100\n",
            "11/11 [==============================] - 0s 3ms/step - loss: 7.9353 - accuracy: 0.5204\n",
            "Epoch 48/100\n",
            "11/11 [==============================] - 0s 2ms/step - loss: 7.9353 - accuracy: 0.5204\n",
            "Epoch 49/100\n",
            "11/11 [==============================] - 0s 3ms/step - loss: 7.9353 - accuracy: 0.5204\n",
            "Epoch 50/100\n",
            "11/11 [==============================] - 0s 2ms/step - loss: 7.9353 - accuracy: 0.5204\n",
            "Epoch 51/100\n",
            "11/11 [==============================] - 0s 4ms/step - loss: 7.9353 - accuracy: 0.5204\n",
            "Epoch 52/100\n",
            "11/11 [==============================] - 0s 2ms/step - loss: 7.9353 - accuracy: 0.5204\n",
            "Epoch 53/100\n",
            "11/11 [==============================] - 0s 2ms/step - loss: 7.9353 - accuracy: 0.5204\n",
            "Epoch 54/100\n",
            "11/11 [==============================] - 0s 2ms/step - loss: 7.9353 - accuracy: 0.5204\n",
            "Epoch 55/100\n",
            "11/11 [==============================] - 0s 2ms/step - loss: 7.9353 - accuracy: 0.5204\n",
            "Epoch 56/100\n",
            "11/11 [==============================] - 0s 2ms/step - loss: 7.9353 - accuracy: 0.5204\n",
            "Epoch 57/100\n",
            "11/11 [==============================] - 0s 2ms/step - loss: 7.9353 - accuracy: 0.5204\n",
            "Epoch 58/100\n",
            "11/11 [==============================] - 0s 2ms/step - loss: 7.9353 - accuracy: 0.5204\n",
            "Epoch 59/100\n",
            "11/11 [==============================] - 0s 2ms/step - loss: 7.9353 - accuracy: 0.5204\n",
            "Epoch 60/100\n",
            "11/11 [==============================] - 0s 2ms/step - loss: 7.9353 - accuracy: 0.5204\n",
            "Epoch 61/100\n",
            "11/11 [==============================] - 0s 2ms/step - loss: 7.9353 - accuracy: 0.5204\n",
            "Epoch 62/100\n",
            "11/11 [==============================] - 0s 2ms/step - loss: 7.9353 - accuracy: 0.5204\n",
            "Epoch 63/100\n",
            "11/11 [==============================] - 0s 2ms/step - loss: 7.9353 - accuracy: 0.5204\n",
            "Epoch 64/100\n",
            "11/11 [==============================] - 0s 3ms/step - loss: 7.9353 - accuracy: 0.5204\n",
            "Epoch 65/100\n",
            "11/11 [==============================] - 0s 2ms/step - loss: 7.9353 - accuracy: 0.5204\n",
            "Epoch 66/100\n",
            "11/11 [==============================] - 0s 2ms/step - loss: 7.9353 - accuracy: 0.5204\n",
            "Epoch 67/100\n",
            "11/11 [==============================] - 0s 2ms/step - loss: 7.9353 - accuracy: 0.5204\n",
            "Epoch 68/100\n",
            "11/11 [==============================] - 0s 2ms/step - loss: 7.9353 - accuracy: 0.5204\n",
            "Epoch 69/100\n",
            "11/11 [==============================] - 0s 2ms/step - loss: 7.9353 - accuracy: 0.5204\n",
            "Epoch 70/100\n",
            "11/11 [==============================] - 0s 2ms/step - loss: 7.9353 - accuracy: 0.5204\n",
            "Epoch 71/100\n",
            "11/11 [==============================] - 0s 2ms/step - loss: 7.9353 - accuracy: 0.5204\n",
            "Epoch 72/100\n",
            "11/11 [==============================] - 0s 3ms/step - loss: 7.9353 - accuracy: 0.5204\n",
            "Epoch 73/100\n",
            "11/11 [==============================] - 0s 2ms/step - loss: 7.9353 - accuracy: 0.5204\n",
            "Epoch 74/100\n",
            "11/11 [==============================] - 0s 3ms/step - loss: 7.9353 - accuracy: 0.5204\n",
            "Epoch 75/100\n",
            "11/11 [==============================] - 0s 3ms/step - loss: 7.9353 - accuracy: 0.5204\n",
            "Epoch 76/100\n",
            "11/11 [==============================] - 0s 2ms/step - loss: 7.9353 - accuracy: 0.5204\n",
            "Epoch 77/100\n",
            "11/11 [==============================] - 0s 2ms/step - loss: 7.9353 - accuracy: 0.5204\n",
            "Epoch 78/100\n",
            "11/11 [==============================] - 0s 2ms/step - loss: 7.9353 - accuracy: 0.5204\n",
            "Epoch 79/100\n",
            "11/11 [==============================] - 0s 2ms/step - loss: 7.9353 - accuracy: 0.5204\n",
            "Epoch 80/100\n",
            "11/11 [==============================] - 0s 3ms/step - loss: 7.9353 - accuracy: 0.5204\n",
            "Epoch 81/100\n",
            "11/11 [==============================] - 0s 2ms/step - loss: 7.9353 - accuracy: 0.5204\n",
            "Epoch 82/100\n",
            "11/11 [==============================] - 0s 2ms/step - loss: 7.9353 - accuracy: 0.5204\n",
            "Epoch 83/100\n",
            "11/11 [==============================] - 0s 2ms/step - loss: 7.9353 - accuracy: 0.5204\n",
            "Epoch 84/100\n",
            "11/11 [==============================] - 0s 2ms/step - loss: 7.9353 - accuracy: 0.5204\n",
            "Epoch 85/100\n",
            "11/11 [==============================] - 0s 3ms/step - loss: 7.9353 - accuracy: 0.5204\n",
            "Epoch 86/100\n",
            "11/11 [==============================] - 0s 2ms/step - loss: 7.9353 - accuracy: 0.5204\n",
            "Epoch 87/100\n",
            "11/11 [==============================] - 0s 2ms/step - loss: 7.9353 - accuracy: 0.5204\n",
            "Epoch 88/100\n",
            "11/11 [==============================] - 0s 3ms/step - loss: 7.9353 - accuracy: 0.5204\n",
            "Epoch 89/100\n",
            "11/11 [==============================] - 0s 3ms/step - loss: 7.9353 - accuracy: 0.5204\n",
            "Epoch 90/100\n",
            "11/11 [==============================] - 0s 2ms/step - loss: 7.9353 - accuracy: 0.5204\n",
            "Epoch 91/100\n",
            "11/11 [==============================] - 0s 2ms/step - loss: 7.9353 - accuracy: 0.5204\n",
            "Epoch 92/100\n",
            "11/11 [==============================] - 0s 2ms/step - loss: 7.9353 - accuracy: 0.5204\n",
            "Epoch 93/100\n",
            "11/11 [==============================] - 0s 2ms/step - loss: 7.9353 - accuracy: 0.5204\n",
            "Epoch 94/100\n",
            "11/11 [==============================] - 0s 2ms/step - loss: 7.9353 - accuracy: 0.5204\n",
            "Epoch 95/100\n",
            "11/11 [==============================] - 0s 2ms/step - loss: 7.9353 - accuracy: 0.5204\n",
            "Epoch 96/100\n",
            "11/11 [==============================] - 0s 2ms/step - loss: 7.9353 - accuracy: 0.5204\n",
            "Epoch 97/100\n",
            "11/11 [==============================] - 0s 2ms/step - loss: 7.9353 - accuracy: 0.5204\n",
            "Epoch 98/100\n",
            "11/11 [==============================] - 0s 3ms/step - loss: 7.9353 - accuracy: 0.5204\n",
            "Epoch 99/100\n",
            "11/11 [==============================] - 0s 2ms/step - loss: 7.9353 - accuracy: 0.5204\n",
            "Epoch 100/100\n",
            "11/11 [==============================] - 0s 2ms/step - loss: 7.9353 - accuracy: 0.5204\n"
          ]
        }
      ]
    },
    {
      "cell_type": "code",
      "source": [
        "import matplotlib.pyplot as plt\n",
        "plt.plot(ones_train.history['loss'])\n",
        "plt.title('model loss')\n",
        "plt.ylabel('loss')\n",
        "plt.xlabel('epoch')\n",
        "plt.show()\n"
      ],
      "metadata": {
        "colab": {
          "base_uri": "https://localhost:8080/",
          "height": 295
        },
        "id": "NGNQ2QrS6wLN",
        "outputId": "2de0352f-c428-439b-a495-a35b2c0c10b5"
      },
      "execution_count": 371,
      "outputs": [
        {
          "output_type": "display_data",
          "data": {
            "image/png": "[encoded data removed]",
            "text/plain": [
              "<Figure size 432x288 with 1 Axes>"
            ]
          },
          "metadata": {
            "needs_background": "light"
          }
        }
      ]
    },
    {
      "cell_type": "code",
      "source": [
        "\n",
        "ones_results = ones_model.evaluate(X_test, y_test)"
      ],
      "metadata": {
        "colab": {
          "base_uri": "https://localhost:8080/"
        },
        "id": "x8mkYONx6x9e",
        "outputId": "cb572e07-c0e7-4135-9ca7-aefa3a19e2f8"
      },
      "execution_count": 372,
      "outputs": [
        {
          "output_type": "stream",
          "name": "stdout",
          "text": [
            "12/12 [==============================] - 0s 2ms/step - loss: 7.1587 - accuracy: 0.4694\n"
          ]
        }
      ]
    },
    {
      "cell_type": "code",
      "source": [
        "print(ones_model.metrics_names) \n",
        "print(ones_results)"
      ],
      "metadata": {
        "colab": {
          "base_uri": "https://localhost:8080/"
        },
        "id": "8rJuxGEX6y63",
        "outputId": "1ec66b75-ef5e-4b66-9b93-6582388b9b8f"
      },
      "execution_count": 373,
      "outputs": [
        {
          "output_type": "stream",
          "name": "stdout",
          "text": [
            "['loss', 'accuracy']\n",
            "[7.158670425415039, 0.4694444537162781]\n"
          ]
        }
      ]
    },
    {
      "cell_type": "markdown",
      "source": [
        "#GlorotNormal"
      ],
      "metadata": {
        "id": "LC1HJIkv7Hi-"
      }
    },
    {
      "cell_type": "code",
      "source": [
        "gn_model=Sequential()\n",
        "gn_model.add(Dense(10,input_shape = (7,), activation = 'sigmoid',kernel_initializer=gn_initializer))\n",
        "gn_model.add(Dense(10,activation='sigmoid',kernel_initializer=gn_initializer))\n",
        "gn_model.add(Dense(10,activation='sigmoid',kernel_initializer=gn_initializer))\n",
        "gn_model.add(Dense(10,activation='sigmoid',kernel_initializer=gn_initializer))\n",
        "gn_model.add(Dense(10,activation='sigmoid',kernel_initializer=gn_initializer))\n",
        "gn_model.add(Dense(2,kernel_initializer=gn_initializer))"
      ],
      "metadata": {
        "id": "Wy_8tM9B6zxY"
      },
      "execution_count": 374,
      "outputs": []
    },
    {
      "cell_type": "code",
      "source": [
        "gn_model.summary()"
      ],
      "metadata": {
        "colab": {
          "base_uri": "https://localhost:8080/"
        },
        "id": "iAie3gdF7FTS",
        "outputId": "44ac3c2a-68cb-4e9d-80a2-63f0e8db2931"
      },
      "execution_count": 375,
      "outputs": [
        {
          "output_type": "stream",
          "name": "stdout",
          "text": [
            "Model: \"sequential_40\"\n",
            "_________________________________________________________________\n",
            " Layer (type)                Output Shape              Param #   \n",
            "=================================================================\n",
            " dense_240 (Dense)           (None, 10)                80        \n",
            "                                                                 \n",
            " dense_241 (Dense)           (None, 10)                110       \n",
            "                                                                 \n",
            " dense_242 (Dense)           (None, 10)                110       \n",
            "                                                                 \n",
            " dense_243 (Dense)           (None, 10)                110       \n",
            "                                                                 \n",
            " dense_244 (Dense)           (None, 10)                110       \n",
            "                                                                 \n",
            " dense_245 (Dense)           (None, 2)                 22        \n",
            "                                                                 \n",
            "=================================================================\n",
            "Total params: 542\n",
            "Trainable params: 542\n",
            "Non-trainable params: 0\n",
            "_________________________________________________________________\n"
          ]
        }
      ]
    },
    {
      "cell_type": "code",
      "source": [
        "gn_sgd = optimizers.SGD(learning_rate = 0.01) \n",
        "gn_model.compile(optimizer = gn_sgd, loss = 'binary_crossentropy', metrics = ['accuracy'])"
      ],
      "metadata": {
        "id": "LBmHSMWl7LGn"
      },
      "execution_count": 376,
      "outputs": []
    },
    {
      "cell_type": "code",
      "source": [
        "gn_train=gn_model.fit(X_train, y_train, batch_size = 50, epochs = 100, verbose = 1)"
      ],
      "metadata": {
        "colab": {
          "base_uri": "https://localhost:8080/"
        },
        "id": "OpXomhF-7MiW",
        "outputId": "50ab2318-fdbd-4e68-fed8-94705298ae08"
      },
      "execution_count": 377,
      "outputs": [
        {
          "output_type": "stream",
          "name": "stdout",
          "text": [
            "Epoch 1/100\n",
            "11/11 [==============================] - 1s 2ms/step - loss: 7.3983 - accuracy: 0.4796\n",
            "Epoch 2/100\n",
            "11/11 [==============================] - 0s 3ms/step - loss: 7.3983 - accuracy: 0.4796\n",
            "Epoch 3/100\n",
            "11/11 [==============================] - 0s 2ms/step - loss: 7.3983 - accuracy: 0.4796\n",
            "Epoch 4/100\n",
            "11/11 [==============================] - 0s 2ms/step - loss: 7.3983 - accuracy: 0.4796\n",
            "Epoch 5/100\n",
            "11/11 [==============================] - 0s 3ms/step - loss: 7.3983 - accuracy: 0.4796\n",
            "Epoch 6/100\n",
            "11/11 [==============================] - 0s 2ms/step - loss: 7.3983 - accuracy: 0.4796\n",
            "Epoch 7/100\n",
            "11/11 [==============================] - 0s 2ms/step - loss: 7.3983 - accuracy: 0.4796\n",
            "Epoch 8/100\n",
            "11/11 [==============================] - 0s 2ms/step - loss: 7.3983 - accuracy: 0.4796\n",
            "Epoch 9/100\n",
            "11/11 [==============================] - 0s 2ms/step - loss: 7.3983 - accuracy: 0.4796\n",
            "Epoch 10/100\n",
            "11/11 [==============================] - 0s 2ms/step - loss: 7.3983 - accuracy: 0.4796\n",
            "Epoch 11/100\n",
            "11/11 [==============================] - 0s 3ms/step - loss: 7.3983 - accuracy: 0.4796\n",
            "Epoch 12/100\n",
            "11/11 [==============================] - 0s 2ms/step - loss: 7.3983 - accuracy: 0.4796\n",
            "Epoch 13/100\n",
            "11/11 [==============================] - 0s 3ms/step - loss: 7.3983 - accuracy: 0.4796\n",
            "Epoch 14/100\n",
            "11/11 [==============================] - 0s 2ms/step - loss: 7.3983 - accuracy: 0.4796\n",
            "Epoch 15/100\n",
            "11/11 [==============================] - 0s 2ms/step - loss: 7.3983 - accuracy: 0.4796\n",
            "Epoch 16/100\n",
            "11/11 [==============================] - 0s 3ms/step - loss: 7.3983 - accuracy: 0.4796\n",
            "Epoch 17/100\n",
            "11/11 [==============================] - 0s 3ms/step - loss: 7.3983 - accuracy: 0.4796\n",
            "Epoch 18/100\n",
            "11/11 [==============================] - 0s 3ms/step - loss: 7.3983 - accuracy: 0.4796\n",
            "Epoch 19/100\n",
            "11/11 [==============================] - 0s 3ms/step - loss: 7.3983 - accuracy: 0.4796\n",
            "Epoch 20/100\n",
            "11/11 [==============================] - 0s 2ms/step - loss: 7.3983 - accuracy: 0.4796\n",
            "Epoch 21/100\n",
            "11/11 [==============================] - 0s 3ms/step - loss: 7.3983 - accuracy: 0.4796\n",
            "Epoch 22/100\n",
            "11/11 [==============================] - 0s 2ms/step - loss: 7.3983 - accuracy: 0.4796\n",
            "Epoch 23/100\n",
            "11/11 [==============================] - 0s 2ms/step - loss: 7.3983 - accuracy: 0.4796\n",
            "Epoch 24/100\n",
            "11/11 [==============================] - 0s 2ms/step - loss: 7.3983 - accuracy: 0.4796\n",
            "Epoch 25/100\n",
            "11/11 [==============================] - 0s 2ms/step - loss: 7.3983 - accuracy: 0.4796\n",
            "Epoch 26/100\n",
            "11/11 [==============================] - 0s 3ms/step - loss: 7.3983 - accuracy: 0.4796\n",
            "Epoch 27/100\n",
            "11/11 [==============================] - 0s 2ms/step - loss: 7.3983 - accuracy: 0.4796\n",
            "Epoch 28/100\n",
            "11/11 [==============================] - 0s 3ms/step - loss: 7.3983 - accuracy: 0.4796\n",
            "Epoch 29/100\n",
            "11/11 [==============================] - 0s 3ms/step - loss: 7.3983 - accuracy: 0.4796\n",
            "Epoch 30/100\n",
            "11/11 [==============================] - 0s 3ms/step - loss: 7.3983 - accuracy: 0.4796\n",
            "Epoch 31/100\n",
            "11/11 [==============================] - 0s 2ms/step - loss: 7.3983 - accuracy: 0.4796\n",
            "Epoch 32/100\n",
            "11/11 [==============================] - 0s 2ms/step - loss: 7.3983 - accuracy: 0.4796\n",
            "Epoch 33/100\n",
            "11/11 [==============================] - 0s 2ms/step - loss: 7.3983 - accuracy: 0.4796\n",
            "Epoch 34/100\n",
            "11/11 [==============================] - 0s 2ms/step - loss: 7.3983 - accuracy: 0.4796\n",
            "Epoch 35/100\n",
            "11/11 [==============================] - 0s 4ms/step - loss: 7.3983 - accuracy: 0.4796\n",
            "Epoch 36/100\n",
            "11/11 [==============================] - 0s 2ms/step - loss: 7.3983 - accuracy: 0.4796\n",
            "Epoch 37/100\n",
            "11/11 [==============================] - 0s 2ms/step - loss: 7.3983 - accuracy: 0.4796\n",
            "Epoch 38/100\n",
            "11/11 [==============================] - 0s 2ms/step - loss: 7.3983 - accuracy: 0.4796\n",
            "Epoch 39/100\n",
            "11/11 [==============================] - 0s 3ms/step - loss: 7.3983 - accuracy: 0.4796\n",
            "Epoch 40/100\n",
            "11/11 [==============================] - 0s 2ms/step - loss: 7.3983 - accuracy: 0.4796\n",
            "Epoch 41/100\n",
            "11/11 [==============================] - 0s 2ms/step - loss: 7.3983 - accuracy: 0.4796\n",
            "Epoch 42/100\n",
            "11/11 [==============================] - 0s 2ms/step - loss: 7.3983 - accuracy: 0.4796\n",
            "Epoch 43/100\n",
            "11/11 [==============================] - 0s 3ms/step - loss: 7.3983 - accuracy: 0.4796\n",
            "Epoch 44/100\n",
            "11/11 [==============================] - 0s 2ms/step - loss: 7.3983 - accuracy: 0.4796\n",
            "Epoch 45/100\n",
            "11/11 [==============================] - 0s 2ms/step - loss: 7.3983 - accuracy: 0.4796\n",
            "Epoch 46/100\n",
            "11/11 [==============================] - 0s 2ms/step - loss: 7.3983 - accuracy: 0.4796\n",
            "Epoch 47/100\n",
            "11/11 [==============================] - 0s 2ms/step - loss: 7.3983 - accuracy: 0.4796\n",
            "Epoch 48/100\n",
            "11/11 [==============================] - 0s 2ms/step - loss: 7.3983 - accuracy: 0.4796\n",
            "Epoch 49/100\n",
            "11/11 [==============================] - 0s 2ms/step - loss: 7.3983 - accuracy: 0.4796\n",
            "Epoch 50/100\n",
            "11/11 [==============================] - 0s 2ms/step - loss: 7.3983 - accuracy: 0.4796\n",
            "Epoch 51/100\n",
            "11/11 [==============================] - 0s 2ms/step - loss: 7.3983 - accuracy: 0.4796\n",
            "Epoch 52/100\n",
            "11/11 [==============================] - 0s 2ms/step - loss: 7.3983 - accuracy: 0.4796\n",
            "Epoch 53/100\n",
            "11/11 [==============================] - 0s 2ms/step - loss: 7.3983 - accuracy: 0.4796\n",
            "Epoch 54/100\n",
            "11/11 [==============================] - 0s 2ms/step - loss: 7.3983 - accuracy: 0.4796\n",
            "Epoch 55/100\n",
            "11/11 [==============================] - 0s 3ms/step - loss: 7.3983 - accuracy: 0.4796\n",
            "Epoch 56/100\n",
            "11/11 [==============================] - 0s 3ms/step - loss: 7.3983 - accuracy: 0.4796\n",
            "Epoch 57/100\n",
            "11/11 [==============================] - 0s 2ms/step - loss: 7.3983 - accuracy: 0.4796\n",
            "Epoch 58/100\n",
            "11/11 [==============================] - 0s 2ms/step - loss: 7.3983 - accuracy: 0.4796\n",
            "Epoch 59/100\n",
            "11/11 [==============================] - 0s 2ms/step - loss: 7.3983 - accuracy: 0.4796\n",
            "Epoch 60/100\n",
            "11/11 [==============================] - 0s 3ms/step - loss: 7.3983 - accuracy: 0.4796\n",
            "Epoch 61/100\n",
            "11/11 [==============================] - 0s 3ms/step - loss: 7.3983 - accuracy: 0.4796\n",
            "Epoch 62/100\n",
            "11/11 [==============================] - 0s 3ms/step - loss: 7.3983 - accuracy: 0.4796\n",
            "Epoch 63/100\n",
            "11/11 [==============================] - 0s 2ms/step - loss: 7.3983 - accuracy: 0.4796\n",
            "Epoch 64/100\n",
            "11/11 [==============================] - 0s 2ms/step - loss: 7.3983 - accuracy: 0.4796\n",
            "Epoch 65/100\n",
            "11/11 [==============================] - 0s 2ms/step - loss: 7.3983 - accuracy: 0.4796\n",
            "Epoch 66/100\n",
            "11/11 [==============================] - 0s 2ms/step - loss: 7.3983 - accuracy: 0.4796\n",
            "Epoch 67/100\n",
            "11/11 [==============================] - 0s 2ms/step - loss: 7.3983 - accuracy: 0.4796\n",
            "Epoch 68/100\n",
            "11/11 [==============================] - 0s 3ms/step - loss: 7.3983 - accuracy: 0.4796\n",
            "Epoch 69/100\n",
            "11/11 [==============================] - 0s 2ms/step - loss: 7.3983 - accuracy: 0.4796\n",
            "Epoch 70/100\n",
            "11/11 [==============================] - 0s 2ms/step - loss: 7.3983 - accuracy: 0.4796\n",
            "Epoch 71/100\n",
            "11/11 [==============================] - 0s 2ms/step - loss: 7.3983 - accuracy: 0.4796\n",
            "Epoch 72/100\n",
            "11/11 [==============================] - 0s 2ms/step - loss: 7.3983 - accuracy: 0.4796\n",
            "Epoch 73/100\n",
            "11/11 [==============================] - 0s 2ms/step - loss: 7.3983 - accuracy: 0.4796\n",
            "Epoch 74/100\n",
            "11/11 [==============================] - 0s 2ms/step - loss: 7.3983 - accuracy: 0.4796\n",
            "Epoch 75/100\n",
            "11/11 [==============================] - 0s 2ms/step - loss: 7.3983 - accuracy: 0.4796\n",
            "Epoch 76/100\n",
            "11/11 [==============================] - 0s 2ms/step - loss: 7.3983 - accuracy: 0.4796\n",
            "Epoch 77/100\n",
            "11/11 [==============================] - 0s 2ms/step - loss: 7.3983 - accuracy: 0.4796\n",
            "Epoch 78/100\n",
            "11/11 [==============================] - 0s 2ms/step - loss: 7.3983 - accuracy: 0.4796\n",
            "Epoch 79/100\n",
            "11/11 [==============================] - 0s 2ms/step - loss: 7.3983 - accuracy: 0.4796\n",
            "Epoch 80/100\n",
            "11/11 [==============================] - 0s 3ms/step - loss: 7.3983 - accuracy: 0.4796\n",
            "Epoch 81/100\n",
            "11/11 [==============================] - 0s 3ms/step - loss: 7.3983 - accuracy: 0.4796\n",
            "Epoch 82/100\n",
            "11/11 [==============================] - 0s 2ms/step - loss: 7.3983 - accuracy: 0.4796\n",
            "Epoch 83/100\n",
            "11/11 [==============================] - 0s 2ms/step - loss: 7.3983 - accuracy: 0.4796\n",
            "Epoch 84/100\n",
            "11/11 [==============================] - 0s 2ms/step - loss: 7.3983 - accuracy: 0.4796\n",
            "Epoch 85/100\n",
            "11/11 [==============================] - 0s 2ms/step - loss: 7.3983 - accuracy: 0.4796\n",
            "Epoch 86/100\n",
            "11/11 [==============================] - 0s 2ms/step - loss: 7.3983 - accuracy: 0.4796\n",
            "Epoch 87/100\n",
            "11/11 [==============================] - 0s 3ms/step - loss: 7.3983 - accuracy: 0.4796\n",
            "Epoch 88/100\n",
            "11/11 [==============================] - 0s 2ms/step - loss: 7.3983 - accuracy: 0.4796\n",
            "Epoch 89/100\n",
            "11/11 [==============================] - 0s 3ms/step - loss: 7.3983 - accuracy: 0.4796\n",
            "Epoch 90/100\n",
            "11/11 [==============================] - 0s 3ms/step - loss: 7.3983 - accuracy: 0.4796\n",
            "Epoch 91/100\n",
            "11/11 [==============================] - 0s 2ms/step - loss: 7.3983 - accuracy: 0.4796\n",
            "Epoch 92/100\n",
            "11/11 [==============================] - 0s 3ms/step - loss: 7.3983 - accuracy: 0.4796\n",
            "Epoch 93/100\n",
            "11/11 [==============================] - 0s 2ms/step - loss: 7.3983 - accuracy: 0.4796\n",
            "Epoch 94/100\n",
            "11/11 [==============================] - 0s 2ms/step - loss: 7.3983 - accuracy: 0.4796\n",
            "Epoch 95/100\n",
            "11/11 [==============================] - 0s 2ms/step - loss: 7.3983 - accuracy: 0.4796\n",
            "Epoch 96/100\n",
            "11/11 [==============================] - 0s 2ms/step - loss: 7.3983 - accuracy: 0.4796\n",
            "Epoch 97/100\n",
            "11/11 [==============================] - 0s 3ms/step - loss: 7.3983 - accuracy: 0.4796\n",
            "Epoch 98/100\n",
            "11/11 [==============================] - 0s 3ms/step - loss: 7.3983 - accuracy: 0.4796\n",
            "Epoch 99/100\n",
            "11/11 [==============================] - 0s 2ms/step - loss: 7.3983 - accuracy: 0.4796\n",
            "Epoch 100/100\n",
            "11/11 [==============================] - 0s 3ms/step - loss: 7.3983 - accuracy: 0.4796\n"
          ]
        }
      ]
    },
    {
      "cell_type": "code",
      "source": [
        "\n",
        "import matplotlib.pyplot as plt\n",
        "plt.plot(gn_train.history['loss'])\n",
        "plt.title('model loss')\n",
        "plt.ylabel('loss')\n",
        "plt.xlabel('epoch')\n",
        "plt.show()"
      ],
      "metadata": {
        "colab": {
          "base_uri": "https://localhost:8080/",
          "height": 295
        },
        "id": "vv0butcC7OsP",
        "outputId": "7d9b194e-1a59-41d4-8b43-87ca1b507177"
      },
      "execution_count": 378,
      "outputs": [
        {
          "output_type": "display_data",
          "data": {
            "image/png": "[encoded data removed]",
            "text/plain": [
              "<Figure size 432x288 with 1 Axes>"
            ]
          },
          "metadata": {
            "needs_background": "light"
          }
        }
      ]
    },
    {
      "cell_type": "code",
      "source": [
        "\n",
        "gn_results = gn_model.evaluate(X_test, y_test)"
      ],
      "metadata": {
        "colab": {
          "base_uri": "https://localhost:8080/"
        },
        "id": "BfGZo7yu7QJw",
        "outputId": "c5d4561e-41b6-45d3-a816-683be8e83523"
      },
      "execution_count": 379,
      "outputs": [
        {
          "output_type": "stream",
          "name": "stdout",
          "text": [
            "12/12 [==============================] - 0s 2ms/step - loss: 8.1838 - accuracy: 0.5306\n"
          ]
        }
      ]
    },
    {
      "cell_type": "code",
      "source": [
        "print(gn_model.metrics_names) \n",
        "print(gn_results)\n"
      ],
      "metadata": {
        "colab": {
          "base_uri": "https://localhost:8080/"
        },
        "id": "8SZeL9ZA7R4U",
        "outputId": "6ca42678-6aea-49fb-f50d-29548275a13e"
      },
      "execution_count": 380,
      "outputs": [
        {
          "output_type": "stream",
          "name": "stdout",
          "text": [
            "['loss', 'accuracy']\n",
            "[8.183792114257812, 0.5305555462837219]\n"
          ]
        }
      ]
    },
    {
      "cell_type": "markdown",
      "source": [
        "#GlorotUniform"
      ],
      "metadata": {
        "id": "NaI6wi9E7UDR"
      }
    },
    {
      "cell_type": "code",
      "source": [
        "gu_model=Sequential()\n",
        "gu_model.add(Dense(10,input_shape = (7,), activation = 'sigmoid',kernel_initializer=gu_initializer))\n",
        "gu_model.add(Dense(10,activation='sigmoid',kernel_initializer=gu_initializer))\n",
        "gu_model.add(Dense(10,activation='sigmoid',kernel_initializer=gu_initializer))\n",
        "gu_model.add(Dense(10,activation='sigmoid',kernel_initializer=gu_initializer))\n",
        "gu_model.add(Dense(10,activation='sigmoid',kernel_initializer=gu_initializer))\n",
        "gu_model.add(Dense(2,kernel_initializer=gu_initializer))"
      ],
      "metadata": {
        "id": "vS3kedzd7TmA"
      },
      "execution_count": 381,
      "outputs": []
    },
    {
      "cell_type": "code",
      "source": [
        "gu_model.summary()"
      ],
      "metadata": {
        "colab": {
          "base_uri": "https://localhost:8080/"
        },
        "id": "pzKlHuk17nkl",
        "outputId": "4bff9692-9540-4b09-ddec-d1c90a34d0e0"
      },
      "execution_count": 382,
      "outputs": [
        {
          "output_type": "stream",
          "name": "stdout",
          "text": [
            "Model: \"sequential_41\"\n",
            "_________________________________________________________________\n",
            " Layer (type)                Output Shape              Param #   \n",
            "=================================================================\n",
            " dense_246 (Dense)           (None, 10)                80        \n",
            "                                                                 \n",
            " dense_247 (Dense)           (None, 10)                110       \n",
            "                                                                 \n",
            " dense_248 (Dense)           (None, 10)                110       \n",
            "                                                                 \n",
            " dense_249 (Dense)           (None, 10)                110       \n",
            "                                                                 \n",
            " dense_250 (Dense)           (None, 10)                110       \n",
            "                                                                 \n",
            " dense_251 (Dense)           (None, 2)                 22        \n",
            "                                                                 \n",
            "=================================================================\n",
            "Total params: 542\n",
            "Trainable params: 542\n",
            "Non-trainable params: 0\n",
            "_________________________________________________________________\n"
          ]
        }
      ]
    },
    {
      "cell_type": "code",
      "source": [
        "gu_sgd = optimizers.SGD(learning_rate = 0.01) \n",
        "gu_model.compile(optimizer = gu_sgd, loss = 'binary_crossentropy', metrics = ['accuracy'])"
      ],
      "metadata": {
        "id": "vQLMJEYu7ori"
      },
      "execution_count": 383,
      "outputs": []
    },
    {
      "cell_type": "code",
      "source": [
        "gu_train=gu_model.fit(X_train, y_train, batch_size = 50, epochs = 100, verbose = 1)\n"
      ],
      "metadata": {
        "colab": {
          "base_uri": "https://localhost:8080/"
        },
        "id": "mf_BrLKy7qKc",
        "outputId": "61847836-0c21-403a-e840-41b339f71e45"
      },
      "execution_count": 384,
      "outputs": [
        {
          "output_type": "stream",
          "name": "stdout",
          "text": [
            "Epoch 1/100\n",
            "11/11 [==============================] - 1s 3ms/step - loss: 4.0673 - accuracy: 0.5204\n",
            "Epoch 2/100\n",
            "11/11 [==============================] - 0s 2ms/step - loss: 4.0484 - accuracy: 0.5204\n",
            "Epoch 3/100\n",
            "11/11 [==============================] - 0s 2ms/step - loss: 4.0458 - accuracy: 0.5204\n",
            "Epoch 4/100\n",
            "11/11 [==============================] - 0s 2ms/step - loss: 4.0455 - accuracy: 0.5204\n",
            "Epoch 5/100\n",
            "11/11 [==============================] - 0s 2ms/step - loss: 4.0453 - accuracy: 0.5204\n",
            "Epoch 6/100\n",
            "11/11 [==============================] - 0s 2ms/step - loss: 4.0454 - accuracy: 0.5204\n",
            "Epoch 7/100\n",
            "11/11 [==============================] - 0s 2ms/step - loss: 4.0452 - accuracy: 0.5204\n",
            "Epoch 8/100\n",
            "11/11 [==============================] - 0s 3ms/step - loss: 4.0451 - accuracy: 0.5204\n",
            "Epoch 9/100\n",
            "11/11 [==============================] - 0s 2ms/step - loss: 4.0451 - accuracy: 0.5204\n",
            "Epoch 10/100\n",
            "11/11 [==============================] - 0s 2ms/step - loss: 4.0453 - accuracy: 0.5204\n",
            "Epoch 11/100\n",
            "11/11 [==============================] - 0s 3ms/step - loss: 4.0453 - accuracy: 0.5204\n",
            "Epoch 12/100\n",
            "11/11 [==============================] - 0s 2ms/step - loss: 4.0452 - accuracy: 0.5204\n",
            "Epoch 13/100\n",
            "11/11 [==============================] - 0s 3ms/step - loss: 4.0450 - accuracy: 0.5204\n",
            "Epoch 14/100\n",
            "11/11 [==============================] - 0s 2ms/step - loss: 4.0452 - accuracy: 0.5204\n",
            "Epoch 15/100\n",
            "11/11 [==============================] - 0s 3ms/step - loss: 4.0453 - accuracy: 0.5204\n",
            "Epoch 16/100\n",
            "11/11 [==============================] - 0s 3ms/step - loss: 4.0453 - accuracy: 0.5204\n",
            "Epoch 17/100\n",
            "11/11 [==============================] - 0s 2ms/step - loss: 4.0453 - accuracy: 0.5204\n",
            "Epoch 18/100\n",
            "11/11 [==============================] - 0s 2ms/step - loss: 4.0453 - accuracy: 0.5204\n",
            "Epoch 19/100\n",
            "11/11 [==============================] - 0s 2ms/step - loss: 4.0453 - accuracy: 0.5204\n",
            "Epoch 20/100\n",
            "11/11 [==============================] - 0s 2ms/step - loss: 4.0454 - accuracy: 0.5204\n",
            "Epoch 21/100\n",
            "11/11 [==============================] - 0s 2ms/step - loss: 4.0453 - accuracy: 0.5204\n",
            "Epoch 22/100\n",
            "11/11 [==============================] - 0s 3ms/step - loss: 4.0455 - accuracy: 0.5204\n",
            "Epoch 23/100\n",
            "11/11 [==============================] - 0s 2ms/step - loss: 4.0452 - accuracy: 0.5204\n",
            "Epoch 24/100\n",
            "11/11 [==============================] - 0s 2ms/step - loss: 4.0453 - accuracy: 0.5204\n",
            "Epoch 25/100\n",
            "11/11 [==============================] - 0s 2ms/step - loss: 4.0456 - accuracy: 0.5204\n",
            "Epoch 26/100\n",
            "11/11 [==============================] - 0s 2ms/step - loss: 4.0451 - accuracy: 0.5204\n",
            "Epoch 27/100\n",
            "11/11 [==============================] - 0s 2ms/step - loss: 4.0457 - accuracy: 0.5204\n",
            "Epoch 28/100\n",
            "11/11 [==============================] - 0s 3ms/step - loss: 4.0451 - accuracy: 0.5204\n",
            "Epoch 29/100\n",
            "11/11 [==============================] - 0s 2ms/step - loss: 4.0451 - accuracy: 0.5204\n",
            "Epoch 30/100\n",
            "11/11 [==============================] - 0s 3ms/step - loss: 4.0451 - accuracy: 0.5204\n",
            "Epoch 31/100\n",
            "11/11 [==============================] - 0s 2ms/step - loss: 4.0452 - accuracy: 0.5204\n",
            "Epoch 32/100\n",
            "11/11 [==============================] - 0s 2ms/step - loss: 4.0454 - accuracy: 0.5204\n",
            "Epoch 33/100\n",
            "11/11 [==============================] - 0s 2ms/step - loss: 4.0451 - accuracy: 0.5204\n",
            "Epoch 34/100\n",
            "11/11 [==============================] - 0s 2ms/step - loss: 4.0452 - accuracy: 0.5204\n",
            "Epoch 35/100\n",
            "11/11 [==============================] - 0s 2ms/step - loss: 4.0452 - accuracy: 0.5204\n",
            "Epoch 36/100\n",
            "11/11 [==============================] - 0s 3ms/step - loss: 4.0450 - accuracy: 0.5204\n",
            "Epoch 37/100\n",
            "11/11 [==============================] - 0s 3ms/step - loss: 4.0453 - accuracy: 0.5204\n",
            "Epoch 38/100\n",
            "11/11 [==============================] - 0s 2ms/step - loss: 4.0451 - accuracy: 0.5204\n",
            "Epoch 39/100\n",
            "11/11 [==============================] - 0s 4ms/step - loss: 4.0452 - accuracy: 0.5204\n",
            "Epoch 40/100\n",
            "11/11 [==============================] - 0s 2ms/step - loss: 4.0455 - accuracy: 0.5204\n",
            "Epoch 41/100\n",
            "11/11 [==============================] - 0s 2ms/step - loss: 4.0452 - accuracy: 0.5204\n",
            "Epoch 42/100\n",
            "11/11 [==============================] - 0s 2ms/step - loss: 4.0452 - accuracy: 0.5204\n",
            "Epoch 43/100\n",
            "11/11 [==============================] - 0s 2ms/step - loss: 4.0452 - accuracy: 0.5204\n",
            "Epoch 44/100\n",
            "11/11 [==============================] - 0s 2ms/step - loss: 4.0453 - accuracy: 0.5204\n",
            "Epoch 45/100\n",
            "11/11 [==============================] - 0s 2ms/step - loss: 4.0451 - accuracy: 0.5204\n",
            "Epoch 46/100\n",
            "11/11 [==============================] - 0s 2ms/step - loss: 4.0456 - accuracy: 0.5204\n",
            "Epoch 47/100\n",
            "11/11 [==============================] - 0s 2ms/step - loss: 4.0451 - accuracy: 0.5204\n",
            "Epoch 48/100\n",
            "11/11 [==============================] - 0s 2ms/step - loss: 4.0450 - accuracy: 0.5204\n",
            "Epoch 49/100\n",
            "11/11 [==============================] - 0s 2ms/step - loss: 4.0451 - accuracy: 0.5204\n",
            "Epoch 50/100\n",
            "11/11 [==============================] - 0s 3ms/step - loss: 4.0451 - accuracy: 0.5204\n",
            "Epoch 51/100\n",
            "11/11 [==============================] - 0s 2ms/step - loss: 4.0454 - accuracy: 0.5204\n",
            "Epoch 52/100\n",
            "11/11 [==============================] - 0s 2ms/step - loss: 4.0451 - accuracy: 0.5204\n",
            "Epoch 53/100\n",
            "11/11 [==============================] - 0s 3ms/step - loss: 4.0453 - accuracy: 0.5204\n",
            "Epoch 54/100\n",
            "11/11 [==============================] - 0s 2ms/step - loss: 4.0453 - accuracy: 0.5204\n",
            "Epoch 55/100\n",
            "11/11 [==============================] - 0s 2ms/step - loss: 4.0451 - accuracy: 0.5204\n",
            "Epoch 56/100\n",
            "11/11 [==============================] - 0s 2ms/step - loss: 4.0453 - accuracy: 0.5204\n",
            "Epoch 57/100\n",
            "11/11 [==============================] - 0s 3ms/step - loss: 4.0451 - accuracy: 0.5204\n",
            "Epoch 58/100\n",
            "11/11 [==============================] - 0s 2ms/step - loss: 4.0456 - accuracy: 0.5204\n",
            "Epoch 59/100\n",
            "11/11 [==============================] - 0s 2ms/step - loss: 4.0451 - accuracy: 0.5204\n",
            "Epoch 60/100\n",
            "11/11 [==============================] - 0s 2ms/step - loss: 4.0450 - accuracy: 0.5204\n",
            "Epoch 61/100\n",
            "11/11 [==============================] - 0s 2ms/step - loss: 4.0450 - accuracy: 0.5204\n",
            "Epoch 62/100\n",
            "11/11 [==============================] - 0s 2ms/step - loss: 4.0452 - accuracy: 0.5204\n",
            "Epoch 63/100\n",
            "11/11 [==============================] - 0s 3ms/step - loss: 4.0454 - accuracy: 0.5204\n",
            "Epoch 64/100\n",
            "11/11 [==============================] - 0s 2ms/step - loss: 4.0453 - accuracy: 0.5204\n",
            "Epoch 65/100\n",
            "11/11 [==============================] - 0s 2ms/step - loss: 4.0452 - accuracy: 0.5204\n",
            "Epoch 66/100\n",
            "11/11 [==============================] - 0s 2ms/step - loss: 4.0451 - accuracy: 0.5204\n",
            "Epoch 67/100\n",
            "11/11 [==============================] - 0s 2ms/step - loss: 4.0451 - accuracy: 0.5204\n",
            "Epoch 68/100\n",
            "11/11 [==============================] - 0s 2ms/step - loss: 4.0452 - accuracy: 0.5204\n",
            "Epoch 69/100\n",
            "11/11 [==============================] - 0s 2ms/step - loss: 4.0450 - accuracy: 0.5204\n",
            "Epoch 70/100\n",
            "11/11 [==============================] - 0s 2ms/step - loss: 4.0453 - accuracy: 0.5204\n",
            "Epoch 71/100\n",
            "11/11 [==============================] - 0s 3ms/step - loss: 4.0452 - accuracy: 0.5204\n",
            "Epoch 72/100\n",
            "11/11 [==============================] - 0s 2ms/step - loss: 4.0450 - accuracy: 0.5204\n",
            "Epoch 73/100\n",
            "11/11 [==============================] - 0s 2ms/step - loss: 4.0452 - accuracy: 0.5204\n",
            "Epoch 74/100\n",
            "11/11 [==============================] - 0s 2ms/step - loss: 4.0451 - accuracy: 0.5204\n",
            "Epoch 75/100\n",
            "11/11 [==============================] - 0s 2ms/step - loss: 4.0453 - accuracy: 0.5204\n",
            "Epoch 76/100\n",
            "11/11 [==============================] - 0s 2ms/step - loss: 4.0450 - accuracy: 0.5204\n",
            "Epoch 77/100\n",
            "11/11 [==============================] - 0s 2ms/step - loss: 4.0454 - accuracy: 0.5204\n",
            "Epoch 78/100\n",
            "11/11 [==============================] - 0s 2ms/step - loss: 4.0451 - accuracy: 0.5204\n",
            "Epoch 79/100\n",
            "11/11 [==============================] - 0s 2ms/step - loss: 4.0455 - accuracy: 0.5204\n",
            "Epoch 80/100\n",
            "11/11 [==============================] - 0s 2ms/step - loss: 4.0452 - accuracy: 0.5204\n",
            "Epoch 81/100\n",
            "11/11 [==============================] - 0s 2ms/step - loss: 4.0452 - accuracy: 0.5204\n",
            "Epoch 82/100\n",
            "11/11 [==============================] - 0s 2ms/step - loss: 4.0451 - accuracy: 0.5204\n",
            "Epoch 83/100\n",
            "11/11 [==============================] - 0s 2ms/step - loss: 4.0452 - accuracy: 0.5204\n",
            "Epoch 84/100\n",
            "11/11 [==============================] - 0s 2ms/step - loss: 4.0452 - accuracy: 0.5204\n",
            "Epoch 85/100\n",
            "11/11 [==============================] - 0s 2ms/step - loss: 4.0451 - accuracy: 0.5204\n",
            "Epoch 86/100\n",
            "11/11 [==============================] - 0s 2ms/step - loss: 4.0454 - accuracy: 0.5204\n",
            "Epoch 87/100\n",
            "11/11 [==============================] - 0s 2ms/step - loss: 4.0451 - accuracy: 0.5204\n",
            "Epoch 88/100\n",
            "11/11 [==============================] - 0s 3ms/step - loss: 4.0451 - accuracy: 0.5204\n",
            "Epoch 89/100\n",
            "11/11 [==============================] - 0s 3ms/step - loss: 4.0452 - accuracy: 0.5204\n",
            "Epoch 90/100\n",
            "11/11 [==============================] - 0s 2ms/step - loss: 4.0452 - accuracy: 0.5204\n",
            "Epoch 91/100\n",
            "11/11 [==============================] - 0s 2ms/step - loss: 4.0452 - accuracy: 0.5204\n",
            "Epoch 92/100\n",
            "11/11 [==============================] - 0s 2ms/step - loss: 4.0452 - accuracy: 0.5204\n",
            "Epoch 93/100\n",
            "11/11 [==============================] - 0s 3ms/step - loss: 4.0451 - accuracy: 0.5204\n",
            "Epoch 94/100\n",
            "11/11 [==============================] - 0s 2ms/step - loss: 4.0452 - accuracy: 0.5204\n",
            "Epoch 95/100\n",
            "11/11 [==============================] - 0s 2ms/step - loss: 4.0451 - accuracy: 0.5204\n",
            "Epoch 96/100\n",
            "11/11 [==============================] - 0s 2ms/step - loss: 4.0456 - accuracy: 0.5204\n",
            "Epoch 97/100\n",
            "11/11 [==============================] - 0s 3ms/step - loss: 4.0451 - accuracy: 0.5204\n",
            "Epoch 98/100\n",
            "11/11 [==============================] - 0s 2ms/step - loss: 4.0454 - accuracy: 0.5204\n",
            "Epoch 99/100\n",
            "11/11 [==============================] - 0s 2ms/step - loss: 4.0451 - accuracy: 0.5204\n",
            "Epoch 100/100\n",
            "11/11 [==============================] - 0s 2ms/step - loss: 4.0456 - accuracy: 0.5204\n"
          ]
        }
      ]
    },
    {
      "cell_type": "code",
      "source": [
        "import matplotlib.pyplot as plt\n",
        "plt.plot(gu_train.history['loss'])\n",
        "plt.title('model loss')\n",
        "plt.ylabel('loss')\n",
        "plt.xlabel('epoch')\n",
        "plt.show()"
      ],
      "metadata": {
        "colab": {
          "base_uri": "https://localhost:8080/",
          "height": 295
        },
        "id": "AfW86uqk7sA0",
        "outputId": "99971268-4f93-4a02-b35b-6c224c4858d6"
      },
      "execution_count": 385,
      "outputs": [
        {
          "output_type": "display_data",
          "data": {
            "image/png": "[encoded data removed]",
            "text/plain": [
              "<Figure size 432x288 with 1 Axes>"
            ]
          },
          "metadata": {
            "needs_background": "light"
          }
        }
      ]
    },
    {
      "cell_type": "code",
      "source": [
        "gu_results = gu_model.evaluate(X_test, y_test)"
      ],
      "metadata": {
        "colab": {
          "base_uri": "https://localhost:8080/"
        },
        "id": "Zitydvh97uZp",
        "outputId": "115a4c0f-60d1-48d6-f859-e92be4cb292a"
      },
      "execution_count": 386,
      "outputs": [
        {
          "output_type": "stream",
          "name": "stdout",
          "text": [
            "12/12 [==============================] - 0s 3ms/step - loss: 4.4397 - accuracy: 0.4694\n"
          ]
        }
      ]
    },
    {
      "cell_type": "code",
      "source": [
        "print(gu_model.metrics_names) \n",
        "print(gu_results)\n"
      ],
      "metadata": {
        "colab": {
          "base_uri": "https://localhost:8080/"
        },
        "id": "hdOjbFDI7v78",
        "outputId": "ac894e7f-62b4-41ce-ea7f-68a93c52eccd"
      },
      "execution_count": 387,
      "outputs": [
        {
          "output_type": "stream",
          "name": "stdout",
          "text": [
            "['loss', 'accuracy']\n",
            "[4.439727783203125, 0.4694444537162781]\n"
          ]
        }
      ]
    },
    {
      "cell_type": "markdown",
      "source": [
        "#HeNormal"
      ],
      "metadata": {
        "id": "Z7q3-f5T72u-"
      }
    },
    {
      "cell_type": "code",
      "source": [
        "hn_model=Sequential()\n",
        "hn_model.add(Dense(10,input_shape = (7,), activation = 'sigmoid',kernel_initializer=hn_initializer))\n",
        "hn_model.add(Dense(10,activation='sigmoid',kernel_initializer=hn_initializer))\n",
        "hn_model.add(Dense(10,activation='sigmoid',kernel_initializer=hn_initializer))\n",
        "hn_model.add(Dense(10,activation='sigmoid',kernel_initializer=hn_initializer))\n",
        "hn_model.add(Dense(10,activation='sigmoid',kernel_initializer=hn_initializer))\n",
        "hn_model.add(Dense(2,kernel_initializer=hn_initializer))"
      ],
      "metadata": {
        "id": "-8weF16D8SJX"
      },
      "execution_count": 389,
      "outputs": []
    },
    {
      "cell_type": "code",
      "source": [
        "hn_model.summary()\n"
      ],
      "metadata": {
        "colab": {
          "base_uri": "https://localhost:8080/"
        },
        "id": "V8wpwbhf8Src",
        "outputId": "5b340a33-314b-462c-9326-abd9a99c0262"
      },
      "execution_count": 390,
      "outputs": [
        {
          "output_type": "stream",
          "name": "stdout",
          "text": [
            "Model: \"sequential_42\"\n",
            "_________________________________________________________________\n",
            " Layer (type)                Output Shape              Param #   \n",
            "=================================================================\n",
            " dense_252 (Dense)           (None, 10)                80        \n",
            "                                                                 \n",
            " dense_253 (Dense)           (None, 10)                110       \n",
            "                                                                 \n",
            " dense_254 (Dense)           (None, 10)                110       \n",
            "                                                                 \n",
            " dense_255 (Dense)           (None, 10)                110       \n",
            "                                                                 \n",
            " dense_256 (Dense)           (None, 10)                110       \n",
            "                                                                 \n",
            " dense_257 (Dense)           (None, 2)                 22        \n",
            "                                                                 \n",
            "=================================================================\n",
            "Total params: 542\n",
            "Trainable params: 542\n",
            "Non-trainable params: 0\n",
            "_________________________________________________________________\n"
          ]
        }
      ]
    },
    {
      "cell_type": "code",
      "source": [
        "hn_sgd = optimizers.SGD(learning_rate = 0.01) \n",
        "hn_model.compile(optimizer = hn_sgd, loss = 'binary_crossentropy', metrics = ['accuracy'])"
      ],
      "metadata": {
        "id": "Bzjmpha88Uzu"
      },
      "execution_count": 391,
      "outputs": []
    },
    {
      "cell_type": "code",
      "source": [
        "hn_train=hn_model.fit(X_train, y_train, batch_size = 50, epochs = 100, verbose = 1)"
      ],
      "metadata": {
        "colab": {
          "base_uri": "https://localhost:8080/"
        },
        "id": "B1-3tHBk8W3q",
        "outputId": "af2d21c0-d6ef-4ff8-8b5f-6ae42e9b1827"
      },
      "execution_count": 392,
      "outputs": [
        {
          "output_type": "stream",
          "name": "stdout",
          "text": [
            "Epoch 1/100\n",
            "11/11 [==============================] - 1s 2ms/step - loss: 7.3983 - accuracy: 0.5204\n",
            "Epoch 2/100\n",
            "11/11 [==============================] - 0s 2ms/step - loss: 7.3983 - accuracy: 0.5204\n",
            "Epoch 3/100\n",
            "11/11 [==============================] - 0s 2ms/step - loss: 7.3983 - accuracy: 0.5204\n",
            "Epoch 4/100\n",
            "11/11 [==============================] - 0s 2ms/step - loss: 7.3983 - accuracy: 0.5204\n",
            "Epoch 5/100\n",
            "11/11 [==============================] - 0s 2ms/step - loss: 7.3983 - accuracy: 0.5204\n",
            "Epoch 6/100\n",
            "11/11 [==============================] - 0s 3ms/step - loss: 7.3983 - accuracy: 0.5204\n",
            "Epoch 7/100\n",
            "11/11 [==============================] - 0s 3ms/step - loss: 7.3983 - accuracy: 0.5204\n",
            "Epoch 8/100\n",
            "11/11 [==============================] - 0s 3ms/step - loss: 7.3983 - accuracy: 0.5204\n",
            "Epoch 9/100\n",
            "11/11 [==============================] - 0s 3ms/step - loss: 7.3983 - accuracy: 0.5204\n",
            "Epoch 10/100\n",
            "11/11 [==============================] - 0s 3ms/step - loss: 7.3983 - accuracy: 0.5204\n",
            "Epoch 11/100\n",
            "11/11 [==============================] - 0s 3ms/step - loss: 7.3983 - accuracy: 0.5204\n",
            "Epoch 12/100\n",
            "11/11 [==============================] - 0s 3ms/step - loss: 7.3983 - accuracy: 0.5204\n",
            "Epoch 13/100\n",
            "11/11 [==============================] - 0s 3ms/step - loss: 7.3983 - accuracy: 0.5204\n",
            "Epoch 14/100\n",
            "11/11 [==============================] - 0s 3ms/step - loss: 7.3983 - accuracy: 0.5204\n",
            "Epoch 15/100\n",
            "11/11 [==============================] - 0s 3ms/step - loss: 7.3983 - accuracy: 0.5204\n",
            "Epoch 16/100\n",
            "11/11 [==============================] - 0s 3ms/step - loss: 7.3983 - accuracy: 0.5204\n",
            "Epoch 17/100\n",
            "11/11 [==============================] - 0s 4ms/step - loss: 7.3983 - accuracy: 0.5204\n",
            "Epoch 18/100\n",
            "11/11 [==============================] - 0s 4ms/step - loss: 7.3983 - accuracy: 0.5204\n",
            "Epoch 19/100\n",
            "11/11 [==============================] - 0s 3ms/step - loss: 7.3983 - accuracy: 0.5204\n",
            "Epoch 20/100\n",
            "11/11 [==============================] - 0s 3ms/step - loss: 7.3983 - accuracy: 0.5204\n",
            "Epoch 21/100\n",
            "11/11 [==============================] - 0s 3ms/step - loss: 7.3983 - accuracy: 0.5204\n",
            "Epoch 22/100\n",
            "11/11 [==============================] - 0s 4ms/step - loss: 7.3983 - accuracy: 0.5204\n",
            "Epoch 23/100\n",
            "11/11 [==============================] - 0s 3ms/step - loss: 7.3983 - accuracy: 0.5204\n",
            "Epoch 24/100\n",
            "11/11 [==============================] - 0s 3ms/step - loss: 7.3983 - accuracy: 0.5204\n",
            "Epoch 25/100\n",
            "11/11 [==============================] - 0s 4ms/step - loss: 7.3983 - accuracy: 0.5204\n",
            "Epoch 26/100\n",
            "11/11 [==============================] - 0s 2ms/step - loss: 7.3983 - accuracy: 0.5204\n",
            "Epoch 27/100\n",
            "11/11 [==============================] - 0s 2ms/step - loss: 7.3983 - accuracy: 0.5204\n",
            "Epoch 28/100\n",
            "11/11 [==============================] - 0s 3ms/step - loss: 7.3983 - accuracy: 0.5204\n",
            "Epoch 29/100\n",
            "11/11 [==============================] - 0s 3ms/step - loss: 7.3983 - accuracy: 0.5204\n",
            "Epoch 30/100\n",
            "11/11 [==============================] - 0s 2ms/step - loss: 7.3983 - accuracy: 0.5204\n",
            "Epoch 31/100\n",
            "11/11 [==============================] - 0s 2ms/step - loss: 7.3983 - accuracy: 0.5204\n",
            "Epoch 32/100\n",
            "11/11 [==============================] - 0s 3ms/step - loss: 7.3983 - accuracy: 0.5204\n",
            "Epoch 33/100\n",
            "11/11 [==============================] - 0s 2ms/step - loss: 7.3983 - accuracy: 0.5204\n",
            "Epoch 34/100\n",
            "11/11 [==============================] - 0s 2ms/step - loss: 7.3983 - accuracy: 0.5204\n",
            "Epoch 35/100\n",
            "11/11 [==============================] - 0s 2ms/step - loss: 7.3983 - accuracy: 0.5204\n",
            "Epoch 36/100\n",
            "11/11 [==============================] - 0s 3ms/step - loss: 7.3983 - accuracy: 0.5204\n",
            "Epoch 37/100\n",
            "11/11 [==============================] - 0s 3ms/step - loss: 7.3983 - accuracy: 0.5204\n",
            "Epoch 38/100\n",
            "11/11 [==============================] - 0s 2ms/step - loss: 7.3983 - accuracy: 0.5204\n",
            "Epoch 39/100\n",
            "11/11 [==============================] - 0s 3ms/step - loss: 7.3983 - accuracy: 0.5204\n",
            "Epoch 40/100\n",
            "11/11 [==============================] - 0s 2ms/step - loss: 7.3983 - accuracy: 0.5204\n",
            "Epoch 41/100\n",
            "11/11 [==============================] - 0s 3ms/step - loss: 7.3983 - accuracy: 0.5204\n",
            "Epoch 42/100\n",
            "11/11 [==============================] - 0s 3ms/step - loss: 7.3983 - accuracy: 0.5204\n",
            "Epoch 43/100\n",
            "11/11 [==============================] - 0s 2ms/step - loss: 7.3983 - accuracy: 0.5204\n",
            "Epoch 44/100\n",
            "11/11 [==============================] - 0s 2ms/step - loss: 7.3983 - accuracy: 0.5204\n",
            "Epoch 45/100\n",
            "11/11 [==============================] - 0s 3ms/step - loss: 7.3983 - accuracy: 0.5204\n",
            "Epoch 46/100\n",
            "11/11 [==============================] - 0s 2ms/step - loss: 7.3983 - accuracy: 0.5204\n",
            "Epoch 47/100\n",
            "11/11 [==============================] - 0s 2ms/step - loss: 7.3983 - accuracy: 0.5204\n",
            "Epoch 48/100\n",
            "11/11 [==============================] - 0s 2ms/step - loss: 7.3983 - accuracy: 0.5204\n",
            "Epoch 49/100\n",
            "11/11 [==============================] - 0s 2ms/step - loss: 7.3983 - accuracy: 0.5204\n",
            "Epoch 50/100\n",
            "11/11 [==============================] - 0s 2ms/step - loss: 7.3983 - accuracy: 0.5204\n",
            "Epoch 51/100\n",
            "11/11 [==============================] - 0s 2ms/step - loss: 7.3983 - accuracy: 0.5204\n",
            "Epoch 52/100\n",
            "11/11 [==============================] - 0s 2ms/step - loss: 7.3983 - accuracy: 0.5204\n",
            "Epoch 53/100\n",
            "11/11 [==============================] - 0s 2ms/step - loss: 7.3983 - accuracy: 0.5204\n",
            "Epoch 54/100\n",
            "11/11 [==============================] - 0s 3ms/step - loss: 7.3983 - accuracy: 0.5204\n",
            "Epoch 55/100\n",
            "11/11 [==============================] - 0s 2ms/step - loss: 7.3983 - accuracy: 0.5204\n",
            "Epoch 56/100\n",
            "11/11 [==============================] - 0s 2ms/step - loss: 7.3983 - accuracy: 0.5204\n",
            "Epoch 57/100\n",
            "11/11 [==============================] - 0s 2ms/step - loss: 7.3983 - accuracy: 0.5204\n",
            "Epoch 58/100\n",
            "11/11 [==============================] - 0s 3ms/step - loss: 7.3983 - accuracy: 0.5204\n",
            "Epoch 59/100\n",
            "11/11 [==============================] - 0s 3ms/step - loss: 7.3983 - accuracy: 0.5204\n",
            "Epoch 60/100\n",
            "11/11 [==============================] - 0s 2ms/step - loss: 7.3983 - accuracy: 0.5204\n",
            "Epoch 61/100\n",
            "11/11 [==============================] - 0s 2ms/step - loss: 7.3983 - accuracy: 0.5204\n",
            "Epoch 62/100\n",
            "11/11 [==============================] - 0s 2ms/step - loss: 7.3983 - accuracy: 0.5204\n",
            "Epoch 63/100\n",
            "11/11 [==============================] - 0s 2ms/step - loss: 7.3983 - accuracy: 0.5204\n",
            "Epoch 64/100\n",
            "11/11 [==============================] - 0s 2ms/step - loss: 7.3983 - accuracy: 0.5204\n",
            "Epoch 65/100\n",
            "11/11 [==============================] - 0s 2ms/step - loss: 7.3983 - accuracy: 0.5204\n",
            "Epoch 66/100\n",
            "11/11 [==============================] - 0s 2ms/step - loss: 7.3983 - accuracy: 0.5204\n",
            "Epoch 67/100\n",
            "11/11 [==============================] - 0s 2ms/step - loss: 7.3983 - accuracy: 0.5204\n",
            "Epoch 68/100\n",
            "11/11 [==============================] - 0s 2ms/step - loss: 7.3983 - accuracy: 0.5204\n",
            "Epoch 69/100\n",
            "11/11 [==============================] - 0s 2ms/step - loss: 7.3983 - accuracy: 0.5204\n",
            "Epoch 70/100\n",
            "11/11 [==============================] - 0s 3ms/step - loss: 7.3983 - accuracy: 0.5204\n",
            "Epoch 71/100\n",
            "11/11 [==============================] - 0s 2ms/step - loss: 7.3983 - accuracy: 0.5204\n",
            "Epoch 72/100\n",
            "11/11 [==============================] - 0s 2ms/step - loss: 7.3983 - accuracy: 0.5204\n",
            "Epoch 73/100\n",
            "11/11 [==============================] - 0s 2ms/step - loss: 7.3983 - accuracy: 0.5204\n",
            "Epoch 74/100\n",
            "11/11 [==============================] - 0s 2ms/step - loss: 7.3983 - accuracy: 0.5204\n",
            "Epoch 75/100\n",
            "11/11 [==============================] - 0s 2ms/step - loss: 7.3983 - accuracy: 0.5204\n",
            "Epoch 76/100\n",
            "11/11 [==============================] - 0s 2ms/step - loss: 7.3983 - accuracy: 0.5204\n",
            "Epoch 77/100\n",
            "11/11 [==============================] - 0s 3ms/step - loss: 7.3983 - accuracy: 0.5204\n",
            "Epoch 78/100\n",
            "11/11 [==============================] - 0s 2ms/step - loss: 7.3983 - accuracy: 0.5204\n",
            "Epoch 79/100\n",
            "11/11 [==============================] - 0s 3ms/step - loss: 7.3983 - accuracy: 0.5204\n",
            "Epoch 80/100\n",
            "11/11 [==============================] - 0s 2ms/step - loss: 7.3983 - accuracy: 0.5204\n",
            "Epoch 81/100\n",
            "11/11 [==============================] - 0s 2ms/step - loss: 7.3983 - accuracy: 0.5204\n",
            "Epoch 82/100\n",
            "11/11 [==============================] - 0s 3ms/step - loss: 7.3983 - accuracy: 0.5204\n",
            "Epoch 83/100\n",
            "11/11 [==============================] - 0s 3ms/step - loss: 7.3983 - accuracy: 0.5204\n",
            "Epoch 84/100\n",
            "11/11 [==============================] - 0s 2ms/step - loss: 7.3983 - accuracy: 0.5204\n",
            "Epoch 85/100\n",
            "11/11 [==============================] - 0s 2ms/step - loss: 7.3983 - accuracy: 0.5204\n",
            "Epoch 86/100\n",
            "11/11 [==============================] - 0s 3ms/step - loss: 7.3983 - accuracy: 0.5204\n",
            "Epoch 87/100\n",
            "11/11 [==============================] - 0s 3ms/step - loss: 7.3983 - accuracy: 0.5204\n",
            "Epoch 88/100\n",
            "11/11 [==============================] - 0s 2ms/step - loss: 7.3983 - accuracy: 0.5204\n",
            "Epoch 89/100\n",
            "11/11 [==============================] - 0s 2ms/step - loss: 7.3983 - accuracy: 0.5204\n",
            "Epoch 90/100\n",
            "11/11 [==============================] - 0s 2ms/step - loss: 7.3983 - accuracy: 0.5204\n",
            "Epoch 91/100\n",
            "11/11 [==============================] - 0s 2ms/step - loss: 7.3983 - accuracy: 0.5204\n",
            "Epoch 92/100\n",
            "11/11 [==============================] - 0s 2ms/step - loss: 7.3983 - accuracy: 0.5204\n",
            "Epoch 93/100\n",
            "11/11 [==============================] - 0s 2ms/step - loss: 7.3983 - accuracy: 0.5204\n",
            "Epoch 94/100\n",
            "11/11 [==============================] - 0s 2ms/step - loss: 7.3983 - accuracy: 0.5204\n",
            "Epoch 95/100\n",
            "11/11 [==============================] - 0s 2ms/step - loss: 7.3983 - accuracy: 0.5204\n",
            "Epoch 96/100\n",
            "11/11 [==============================] - 0s 2ms/step - loss: 7.3983 - accuracy: 0.5204\n",
            "Epoch 97/100\n",
            "11/11 [==============================] - 0s 2ms/step - loss: 7.3983 - accuracy: 0.5204\n",
            "Epoch 98/100\n",
            "11/11 [==============================] - 0s 2ms/step - loss: 7.3983 - accuracy: 0.5204\n",
            "Epoch 99/100\n",
            "11/11 [==============================] - 0s 2ms/step - loss: 7.3983 - accuracy: 0.5204\n",
            "Epoch 100/100\n",
            "11/11 [==============================] - 0s 2ms/step - loss: 7.3983 - accuracy: 0.5204\n"
          ]
        }
      ]
    },
    {
      "cell_type": "code",
      "source": [
        "import matplotlib.pyplot as plt\n",
        "plt.plot(hn_train.history['loss'])\n",
        "plt.title('model loss')\n",
        "plt.ylabel('loss')\n",
        "plt.xlabel('epoch')\n",
        "plt.show()"
      ],
      "metadata": {
        "colab": {
          "base_uri": "https://localhost:8080/",
          "height": 295
        },
        "id": "R0er6wM-8YBk",
        "outputId": "d2d48c0d-1271-414f-bafb-48bb997c8bd1"
      },
      "execution_count": 393,
      "outputs": [
        {
          "output_type": "display_data",
          "data": {
            "image/png": "[encoded data removed]",
            "text/plain": [
              "<Figure size 432x288 with 1 Axes>"
            ]
          },
          "metadata": {
            "needs_background": "light"
          }
        }
      ]
    },
    {
      "cell_type": "code",
      "source": [
        "hn_results = hn_model.evaluate(X_test, y_test)"
      ],
      "metadata": {
        "colab": {
          "base_uri": "https://localhost:8080/"
        },
        "id": "cNr1kQh38Z9O",
        "outputId": "1fafa061-3a8a-4b74-8627-71ee5d7b5a9a"
      },
      "execution_count": 394,
      "outputs": [
        {
          "output_type": "stream",
          "name": "stdout",
          "text": [
            "12/12 [==============================] - 0s 2ms/step - loss: 8.1838 - accuracy: 0.4694\n"
          ]
        }
      ]
    },
    {
      "cell_type": "code",
      "source": [
        "print(hn_model.metrics_names) \n",
        "print(hn_results)\n"
      ],
      "metadata": {
        "colab": {
          "base_uri": "https://localhost:8080/"
        },
        "id": "IHObmJVl8bFb",
        "outputId": "ae8a5456-f0a9-486f-fbd5-778e2dc9808e"
      },
      "execution_count": 395,
      "outputs": [
        {
          "output_type": "stream",
          "name": "stdout",
          "text": [
            "['loss', 'accuracy']\n",
            "[8.183792114257812, 0.4694444537162781]\n"
          ]
        }
      ]
    },
    {
      "cell_type": "markdown",
      "source": [
        "#HeUniform"
      ],
      "metadata": {
        "id": "ZxKUe-nc8jtE"
      }
    },
    {
      "cell_type": "code",
      "source": [
        "hu_model=Sequential()\n",
        "hu_model.add(Dense(10,input_shape = (7,), activation = 'sigmoid',kernel_initializer=hu_initializer))\n",
        "hu_model.add(Dense(10,activation='sigmoid',kernel_initializer=hu_initializer))\n",
        "hu_model.add(Dense(10,activation='sigmoid',kernel_initializer=hu_initializer))\n",
        "hu_model.add(Dense(10,activation='sigmoid',kernel_initializer=hu_initializer))\n",
        "hu_model.add(Dense(10,activation='sigmoid',kernel_initializer=hu_initializer))\n",
        "hu_model.add(Dense(2,kernel_initializer=hu_initializer))"
      ],
      "metadata": {
        "id": "BSO09Lst8lTc"
      },
      "execution_count": 396,
      "outputs": []
    },
    {
      "cell_type": "code",
      "source": [
        "hu_model.summary()"
      ],
      "metadata": {
        "colab": {
          "base_uri": "https://localhost:8080/"
        },
        "id": "qj0Lx89t8zVw",
        "outputId": "d3e574aa-65d8-4050-fca5-61b86f6893a8"
      },
      "execution_count": 397,
      "outputs": [
        {
          "output_type": "stream",
          "name": "stdout",
          "text": [
            "Model: \"sequential_43\"\n",
            "_________________________________________________________________\n",
            " Layer (type)                Output Shape              Param #   \n",
            "=================================================================\n",
            " dense_258 (Dense)           (None, 10)                80        \n",
            "                                                                 \n",
            " dense_259 (Dense)           (None, 10)                110       \n",
            "                                                                 \n",
            " dense_260 (Dense)           (None, 10)                110       \n",
            "                                                                 \n",
            " dense_261 (Dense)           (None, 10)                110       \n",
            "                                                                 \n",
            " dense_262 (Dense)           (None, 10)                110       \n",
            "                                                                 \n",
            " dense_263 (Dense)           (None, 2)                 22        \n",
            "                                                                 \n",
            "=================================================================\n",
            "Total params: 542\n",
            "Trainable params: 542\n",
            "Non-trainable params: 0\n",
            "_________________________________________________________________\n"
          ]
        }
      ]
    },
    {
      "cell_type": "code",
      "source": [
        "hu_sgd = optimizers.SGD(learning_rate = 0.01) \n",
        "hu_model.compile(optimizer = hu_sgd, loss = 'binary_crossentropy', metrics = ['accuracy'])"
      ],
      "metadata": {
        "id": "waWRxaRC81lB"
      },
      "execution_count": 398,
      "outputs": []
    },
    {
      "cell_type": "code",
      "source": [
        "hu_train=hu_model.fit(X_train, y_train, batch_size = 50, epochs = 100, verbose = 1)"
      ],
      "metadata": {
        "colab": {
          "base_uri": "https://localhost:8080/"
        },
        "id": "_3FNUl5W82D8",
        "outputId": "72d0b5ae-bff0-4cb4-a6f5-7cd2b5f62c5e"
      },
      "execution_count": 399,
      "outputs": [
        {
          "output_type": "stream",
          "name": "stdout",
          "text": [
            "Epoch 1/100\n",
            "11/11 [==============================] - 1s 2ms/step - loss: 4.0830 - accuracy: 0.4796\n",
            "Epoch 2/100\n",
            "11/11 [==============================] - 0s 2ms/step - loss: 4.0503 - accuracy: 0.4796\n",
            "Epoch 3/100\n",
            "11/11 [==============================] - 0s 3ms/step - loss: 4.0465 - accuracy: 0.4796\n",
            "Epoch 4/100\n",
            "11/11 [==============================] - 0s 7ms/step - loss: 4.0458 - accuracy: 0.4796\n",
            "Epoch 5/100\n",
            "11/11 [==============================] - 0s 2ms/step - loss: 4.0457 - accuracy: 0.4796\n",
            "Epoch 6/100\n",
            "11/11 [==============================] - 0s 2ms/step - loss: 4.0456 - accuracy: 0.4796\n",
            "Epoch 7/100\n",
            "11/11 [==============================] - 0s 2ms/step - loss: 4.0456 - accuracy: 0.4796\n",
            "Epoch 8/100\n",
            "11/11 [==============================] - 0s 2ms/step - loss: 4.0457 - accuracy: 0.4796\n",
            "Epoch 9/100\n",
            "11/11 [==============================] - 0s 2ms/step - loss: 4.0461 - accuracy: 0.4796\n",
            "Epoch 10/100\n",
            "11/11 [==============================] - 0s 2ms/step - loss: 4.0457 - accuracy: 0.4796\n",
            "Epoch 11/100\n",
            "11/11 [==============================] - 0s 2ms/step - loss: 4.0455 - accuracy: 0.4796\n",
            "Epoch 12/100\n",
            "11/11 [==============================] - 0s 2ms/step - loss: 4.0457 - accuracy: 0.4796\n",
            "Epoch 13/100\n",
            "11/11 [==============================] - 0s 2ms/step - loss: 4.0456 - accuracy: 0.4796\n",
            "Epoch 14/100\n",
            "11/11 [==============================] - 0s 2ms/step - loss: 4.0457 - accuracy: 0.4796\n",
            "Epoch 15/100\n",
            "11/11 [==============================] - 0s 2ms/step - loss: 4.0459 - accuracy: 0.4796\n",
            "Epoch 16/100\n",
            "11/11 [==============================] - 0s 3ms/step - loss: 4.0458 - accuracy: 0.4796\n",
            "Epoch 17/100\n",
            "11/11 [==============================] - 0s 2ms/step - loss: 4.0455 - accuracy: 0.4796\n",
            "Epoch 18/100\n",
            "11/11 [==============================] - 0s 2ms/step - loss: 4.0458 - accuracy: 0.4796\n",
            "Epoch 19/100\n",
            "11/11 [==============================] - 0s 2ms/step - loss: 4.0458 - accuracy: 0.4796\n",
            "Epoch 20/100\n",
            "11/11 [==============================] - 0s 2ms/step - loss: 4.0455 - accuracy: 0.4796\n",
            "Epoch 21/100\n",
            "11/11 [==============================] - 0s 3ms/step - loss: 4.0459 - accuracy: 0.4796\n",
            "Epoch 22/100\n",
            "11/11 [==============================] - 0s 3ms/step - loss: 4.0458 - accuracy: 0.4796\n",
            "Epoch 23/100\n",
            "11/11 [==============================] - 0s 3ms/step - loss: 4.0458 - accuracy: 0.4796\n",
            "Epoch 24/100\n",
            "11/11 [==============================] - 0s 2ms/step - loss: 4.0457 - accuracy: 0.4796\n",
            "Epoch 25/100\n",
            "11/11 [==============================] - 0s 2ms/step - loss: 4.0458 - accuracy: 0.4796\n",
            "Epoch 26/100\n",
            "11/11 [==============================] - 0s 2ms/step - loss: 4.0458 - accuracy: 0.4796\n",
            "Epoch 27/100\n",
            "11/11 [==============================] - 0s 3ms/step - loss: 4.0457 - accuracy: 0.4796\n",
            "Epoch 28/100\n",
            "11/11 [==============================] - 0s 3ms/step - loss: 4.0456 - accuracy: 0.4796\n",
            "Epoch 29/100\n",
            "11/11 [==============================] - 0s 2ms/step - loss: 4.0455 - accuracy: 0.4796\n",
            "Epoch 30/100\n",
            "11/11 [==============================] - 0s 2ms/step - loss: 4.0456 - accuracy: 0.4796\n",
            "Epoch 31/100\n",
            "11/11 [==============================] - 0s 2ms/step - loss: 4.0458 - accuracy: 0.4796\n",
            "Epoch 32/100\n",
            "11/11 [==============================] - 0s 3ms/step - loss: 4.0455 - accuracy: 0.4796\n",
            "Epoch 33/100\n",
            "11/11 [==============================] - 0s 2ms/step - loss: 4.0455 - accuracy: 0.4796\n",
            "Epoch 34/100\n",
            "11/11 [==============================] - 0s 3ms/step - loss: 4.0458 - accuracy: 0.4796\n",
            "Epoch 35/100\n",
            "11/11 [==============================] - 0s 2ms/step - loss: 4.0457 - accuracy: 0.4796\n",
            "Epoch 36/100\n",
            "11/11 [==============================] - 0s 2ms/step - loss: 4.0457 - accuracy: 0.4796\n",
            "Epoch 37/100\n",
            "11/11 [==============================] - 0s 2ms/step - loss: 4.0456 - accuracy: 0.4796\n",
            "Epoch 38/100\n",
            "11/11 [==============================] - 0s 2ms/step - loss: 4.0459 - accuracy: 0.4796\n",
            "Epoch 39/100\n",
            "11/11 [==============================] - 0s 2ms/step - loss: 4.0456 - accuracy: 0.4796\n",
            "Epoch 40/100\n",
            "11/11 [==============================] - 0s 2ms/step - loss: 4.0457 - accuracy: 0.4796\n",
            "Epoch 41/100\n",
            "11/11 [==============================] - 0s 2ms/step - loss: 4.0457 - accuracy: 0.4796\n",
            "Epoch 42/100\n",
            "11/11 [==============================] - 0s 3ms/step - loss: 4.0459 - accuracy: 0.4796\n",
            "Epoch 43/100\n",
            "11/11 [==============================] - 0s 3ms/step - loss: 4.0459 - accuracy: 0.4796\n",
            "Epoch 44/100\n",
            "11/11 [==============================] - 0s 3ms/step - loss: 4.0455 - accuracy: 0.4796\n",
            "Epoch 45/100\n",
            "11/11 [==============================] - 0s 2ms/step - loss: 4.0457 - accuracy: 0.4796\n",
            "Epoch 46/100\n",
            "11/11 [==============================] - 0s 2ms/step - loss: 4.0455 - accuracy: 0.4796\n",
            "Epoch 47/100\n",
            "11/11 [==============================] - 0s 3ms/step - loss: 4.0457 - accuracy: 0.4796\n",
            "Epoch 48/100\n",
            "11/11 [==============================] - 0s 2ms/step - loss: 4.0457 - accuracy: 0.4796\n",
            "Epoch 49/100\n",
            "11/11 [==============================] - 0s 2ms/step - loss: 4.0456 - accuracy: 0.4796\n",
            "Epoch 50/100\n",
            "11/11 [==============================] - 0s 3ms/step - loss: 4.0455 - accuracy: 0.4796\n",
            "Epoch 51/100\n",
            "11/11 [==============================] - 0s 2ms/step - loss: 4.0458 - accuracy: 0.4796\n",
            "Epoch 52/100\n",
            "11/11 [==============================] - 0s 2ms/step - loss: 4.0455 - accuracy: 0.4796\n",
            "Epoch 53/100\n",
            "11/11 [==============================] - 0s 3ms/step - loss: 4.0458 - accuracy: 0.4796\n",
            "Epoch 54/100\n",
            "11/11 [==============================] - 0s 3ms/step - loss: 4.0459 - accuracy: 0.4796\n",
            "Epoch 55/100\n",
            "11/11 [==============================] - 0s 2ms/step - loss: 4.0457 - accuracy: 0.4796\n",
            "Epoch 56/100\n",
            "11/11 [==============================] - 0s 2ms/step - loss: 4.0459 - accuracy: 0.4796\n",
            "Epoch 57/100\n",
            "11/11 [==============================] - 0s 2ms/step - loss: 4.0457 - accuracy: 0.4796\n",
            "Epoch 58/100\n",
            "11/11 [==============================] - 0s 2ms/step - loss: 4.0457 - accuracy: 0.4796\n",
            "Epoch 59/100\n",
            "11/11 [==============================] - 0s 2ms/step - loss: 4.0458 - accuracy: 0.4796\n",
            "Epoch 60/100\n",
            "11/11 [==============================] - 0s 2ms/step - loss: 4.0461 - accuracy: 0.4796\n",
            "Epoch 61/100\n",
            "11/11 [==============================] - 0s 3ms/step - loss: 4.0458 - accuracy: 0.4796\n",
            "Epoch 62/100\n",
            "11/11 [==============================] - 0s 2ms/step - loss: 4.0456 - accuracy: 0.4796\n",
            "Epoch 63/100\n",
            "11/11 [==============================] - 0s 2ms/step - loss: 4.0461 - accuracy: 0.4796\n",
            "Epoch 64/100\n",
            "11/11 [==============================] - 0s 2ms/step - loss: 4.0457 - accuracy: 0.4796\n",
            "Epoch 65/100\n",
            "11/11 [==============================] - 0s 2ms/step - loss: 4.0454 - accuracy: 0.4796\n",
            "Epoch 66/100\n",
            "11/11 [==============================] - 0s 3ms/step - loss: 4.0456 - accuracy: 0.4796\n",
            "Epoch 67/100\n",
            "11/11 [==============================] - 0s 2ms/step - loss: 4.0455 - accuracy: 0.4796\n",
            "Epoch 68/100\n",
            "11/11 [==============================] - 0s 2ms/step - loss: 4.0458 - accuracy: 0.4796\n",
            "Epoch 69/100\n",
            "11/11 [==============================] - 0s 2ms/step - loss: 4.0455 - accuracy: 0.4796\n",
            "Epoch 70/100\n",
            "11/11 [==============================] - 0s 2ms/step - loss: 4.0458 - accuracy: 0.4796\n",
            "Epoch 71/100\n",
            "11/11 [==============================] - 0s 2ms/step - loss: 4.0456 - accuracy: 0.4796\n",
            "Epoch 72/100\n",
            "11/11 [==============================] - 0s 2ms/step - loss: 4.0455 - accuracy: 0.4796\n",
            "Epoch 73/100\n",
            "11/11 [==============================] - 0s 2ms/step - loss: 4.0458 - accuracy: 0.4796\n",
            "Epoch 74/100\n",
            "11/11 [==============================] - 0s 2ms/step - loss: 4.0455 - accuracy: 0.4796\n",
            "Epoch 75/100\n",
            "11/11 [==============================] - 0s 3ms/step - loss: 4.0455 - accuracy: 0.4796\n",
            "Epoch 76/100\n",
            "11/11 [==============================] - 0s 2ms/step - loss: 4.0457 - accuracy: 0.4796\n",
            "Epoch 77/100\n",
            "11/11 [==============================] - 0s 2ms/step - loss: 4.0456 - accuracy: 0.4796\n",
            "Epoch 78/100\n",
            "11/11 [==============================] - 0s 3ms/step - loss: 4.0456 - accuracy: 0.4796\n",
            "Epoch 79/100\n",
            "11/11 [==============================] - 0s 2ms/step - loss: 4.0455 - accuracy: 0.4796\n",
            "Epoch 80/100\n",
            "11/11 [==============================] - 0s 2ms/step - loss: 4.0456 - accuracy: 0.4796\n",
            "Epoch 81/100\n",
            "11/11 [==============================] - 0s 2ms/step - loss: 4.0458 - accuracy: 0.4796\n",
            "Epoch 82/100\n",
            "11/11 [==============================] - 0s 2ms/step - loss: 4.0457 - accuracy: 0.4796\n",
            "Epoch 83/100\n",
            "11/11 [==============================] - 0s 2ms/step - loss: 4.0458 - accuracy: 0.4796\n",
            "Epoch 84/100\n",
            "11/11 [==============================] - 0s 3ms/step - loss: 4.0457 - accuracy: 0.4796\n",
            "Epoch 85/100\n",
            "11/11 [==============================] - 0s 3ms/step - loss: 4.0459 - accuracy: 0.4796\n",
            "Epoch 86/100\n",
            "11/11 [==============================] - 0s 2ms/step - loss: 4.0458 - accuracy: 0.4796\n",
            "Epoch 87/100\n",
            "11/11 [==============================] - 0s 2ms/step - loss: 4.0456 - accuracy: 0.4796\n",
            "Epoch 88/100\n",
            "11/11 [==============================] - 0s 2ms/step - loss: 4.0458 - accuracy: 0.4796\n",
            "Epoch 89/100\n",
            "11/11 [==============================] - 0s 2ms/step - loss: 4.0456 - accuracy: 0.4796\n",
            "Epoch 90/100\n",
            "11/11 [==============================] - 0s 3ms/step - loss: 4.0457 - accuracy: 0.4796\n",
            "Epoch 91/100\n",
            "11/11 [==============================] - 0s 3ms/step - loss: 4.0454 - accuracy: 0.4796\n",
            "Epoch 92/100\n",
            "11/11 [==============================] - 0s 2ms/step - loss: 4.0457 - accuracy: 0.4796\n",
            "Epoch 93/100\n",
            "11/11 [==============================] - 0s 2ms/step - loss: 4.0456 - accuracy: 0.4796\n",
            "Epoch 94/100\n",
            "11/11 [==============================] - 0s 3ms/step - loss: 4.0457 - accuracy: 0.4796\n",
            "Epoch 95/100\n",
            "11/11 [==============================] - 0s 2ms/step - loss: 4.0457 - accuracy: 0.4796\n",
            "Epoch 96/100\n",
            "11/11 [==============================] - 0s 2ms/step - loss: 4.0458 - accuracy: 0.4796\n",
            "Epoch 97/100\n",
            "11/11 [==============================] - 0s 3ms/step - loss: 4.0458 - accuracy: 0.4796\n",
            "Epoch 98/100\n",
            "11/11 [==============================] - 0s 2ms/step - loss: 4.0454 - accuracy: 0.4796\n",
            "Epoch 99/100\n",
            "11/11 [==============================] - 0s 3ms/step - loss: 4.0456 - accuracy: 0.4796\n",
            "Epoch 100/100\n",
            "11/11 [==============================] - 0s 2ms/step - loss: 4.0456 - accuracy: 0.4796\n"
          ]
        }
      ]
    },
    {
      "cell_type": "code",
      "source": [
        "import matplotlib.pyplot as plt\n",
        "plt.plot(hu_train.history['loss'])\n",
        "plt.title('model loss')\n",
        "plt.ylabel('loss')\n",
        "plt.xlabel('epoch')\n",
        "plt.show()\n"
      ],
      "metadata": {
        "colab": {
          "base_uri": "https://localhost:8080/",
          "height": 295
        },
        "id": "q_UCAjFA83I-",
        "outputId": "ff184eb6-50ff-439d-d029-239ee32c9b3e"
      },
      "execution_count": 400,
      "outputs": [
        {
          "output_type": "display_data",
          "data": {
            "image/png": "[encoded data removed]",
            "text/plain": [
              "<Figure size 432x288 with 1 Axes>"
            ]
          },
          "metadata": {
            "needs_background": "light"
          }
        }
      ]
    },
    {
      "cell_type": "code",
      "source": [
        "\n",
        "hu_results = hu_model.evaluate(X_test, y_test)"
      ],
      "metadata": {
        "colab": {
          "base_uri": "https://localhost:8080/"
        },
        "id": "SfAO_YEl84fH",
        "outputId": "ffde748e-cba6-4f5a-f553-7ed13b96793b"
      },
      "execution_count": 401,
      "outputs": [
        {
          "output_type": "stream",
          "name": "stdout",
          "text": [
            "12/12 [==============================] - 0s 2ms/step - loss: 4.4399 - accuracy: 0.5306\n"
          ]
        }
      ]
    },
    {
      "cell_type": "code",
      "source": [
        "print(hu_model.metrics_names) \n",
        "print(hu_results)"
      ],
      "metadata": {
        "colab": {
          "base_uri": "https://localhost:8080/"
        },
        "id": "sPgUTgpL85nX",
        "outputId": "bf5b8674-61c6-4d17-8e38-c7edada2eb55"
      },
      "execution_count": 402,
      "outputs": [
        {
          "output_type": "stream",
          "name": "stdout",
          "text": [
            "['loss', 'accuracy']\n",
            "[4.439888000488281, 0.5305555462837219]\n"
          ]
        }
      ]
    },
    {
      "cell_type": "markdown",
      "source": [
        "#Identity"
      ],
      "metadata": {
        "id": "xY4Xuy2T9Mea"
      }
    },
    {
      "cell_type": "code",
      "source": [
        "i_model=Sequential()\n",
        "i_model.add(Dense(10,input_shape = (7,), activation = 'sigmoid',kernel_initializer=i_initializer))\n",
        "i_model.add(Dense(10,activation='sigmoid',kernel_initializer=i_initializer))\n",
        "i_model.add(Dense(10,activation='sigmoid',kernel_initializer=i_initializer))\n",
        "i_model.add(Dense(10,activation='sigmoid',kernel_initializer=i_initializer))\n",
        "i_model.add(Dense(10,activation='sigmoid',kernel_initializer=i_initializer))\n",
        "i_model.add(Dense(2))"
      ],
      "metadata": {
        "id": "s1C6h4x39Nzw"
      },
      "execution_count": 403,
      "outputs": []
    },
    {
      "cell_type": "code",
      "source": [
        "i_model.summary()\n"
      ],
      "metadata": {
        "colab": {
          "base_uri": "https://localhost:8080/"
        },
        "id": "WoGZ4HQX9PJg",
        "outputId": "28c69c61-fbbe-4363-cd76-5a883fbcaf5f"
      },
      "execution_count": 404,
      "outputs": [
        {
          "output_type": "stream",
          "name": "stdout",
          "text": [
            "Model: \"sequential_44\"\n",
            "_________________________________________________________________\n",
            " Layer (type)                Output Shape              Param #   \n",
            "=================================================================\n",
            " dense_264 (Dense)           (None, 10)                80        \n",
            "                                                                 \n",
            " dense_265 (Dense)           (None, 10)                110       \n",
            "                                                                 \n",
            " dense_266 (Dense)           (None, 10)                110       \n",
            "                                                                 \n",
            " dense_267 (Dense)           (None, 10)                110       \n",
            "                                                                 \n",
            " dense_268 (Dense)           (None, 10)                110       \n",
            "                                                                 \n",
            " dense_269 (Dense)           (None, 2)                 22        \n",
            "                                                                 \n",
            "=================================================================\n",
            "Total params: 542\n",
            "Trainable params: 542\n",
            "Non-trainable params: 0\n",
            "_________________________________________________________________\n"
          ]
        }
      ]
    },
    {
      "cell_type": "code",
      "source": [
        "i_sgd = optimizers.SGD(learning_rate = 0.01) \n",
        "i_model.compile(optimizer = i_sgd, loss = 'binary_crossentropy', metrics = ['accuracy'])"
      ],
      "metadata": {
        "id": "bRzRQmFF9QvV"
      },
      "execution_count": 405,
      "outputs": []
    },
    {
      "cell_type": "code",
      "source": [
        "i_train=i_model.fit(X_train, y_train, batch_size = 50, epochs = 100, verbose = 1)"
      ],
      "metadata": {
        "colab": {
          "base_uri": "https://localhost:8080/"
        },
        "id": "JiGSGSDo9R4Y",
        "outputId": "0b86251b-bf0c-4f9e-b780-e6524fc4eb82"
      },
      "execution_count": 406,
      "outputs": [
        {
          "output_type": "stream",
          "name": "stdout",
          "text": [
            "Epoch 1/100\n",
            "11/11 [==============================] - 1s 2ms/step - loss: 4.3187 - accuracy: 0.4796\n",
            "Epoch 2/100\n",
            "11/11 [==============================] - 0s 2ms/step - loss: 4.3142 - accuracy: 0.4796\n",
            "Epoch 3/100\n",
            "11/11 [==============================] - 0s 3ms/step - loss: 4.3138 - accuracy: 0.4796\n",
            "Epoch 4/100\n",
            "11/11 [==============================] - 0s 2ms/step - loss: 4.3140 - accuracy: 0.4796\n",
            "Epoch 5/100\n",
            "11/11 [==============================] - 0s 2ms/step - loss: 4.3140 - accuracy: 0.4796\n",
            "Epoch 6/100\n",
            "11/11 [==============================] - 0s 2ms/step - loss: 4.3138 - accuracy: 0.4796\n",
            "Epoch 7/100\n",
            "11/11 [==============================] - 0s 3ms/step - loss: 4.3140 - accuracy: 0.4796\n",
            "Epoch 8/100\n",
            "11/11 [==============================] - 0s 2ms/step - loss: 4.3136 - accuracy: 0.4796\n",
            "Epoch 9/100\n",
            "11/11 [==============================] - 0s 2ms/step - loss: 4.3137 - accuracy: 0.4796\n",
            "Epoch 10/100\n",
            "11/11 [==============================] - 0s 2ms/step - loss: 4.3140 - accuracy: 0.4796\n",
            "Epoch 11/100\n",
            "11/11 [==============================] - 0s 2ms/step - loss: 4.3140 - accuracy: 0.4796\n",
            "Epoch 12/100\n",
            "11/11 [==============================] - 0s 2ms/step - loss: 4.3142 - accuracy: 0.4796\n",
            "Epoch 13/100\n",
            "11/11 [==============================] - 0s 2ms/step - loss: 4.3140 - accuracy: 0.4796\n",
            "Epoch 14/100\n",
            "11/11 [==============================] - 0s 2ms/step - loss: 4.3137 - accuracy: 0.4796\n",
            "Epoch 15/100\n",
            "11/11 [==============================] - 0s 2ms/step - loss: 4.3147 - accuracy: 0.4796\n",
            "Epoch 16/100\n",
            "11/11 [==============================] - 0s 3ms/step - loss: 4.3139 - accuracy: 0.4796\n",
            "Epoch 17/100\n",
            "11/11 [==============================] - 0s 2ms/step - loss: 4.3138 - accuracy: 0.4796\n",
            "Epoch 18/100\n",
            "11/11 [==============================] - 0s 2ms/step - loss: 4.3138 - accuracy: 0.4796\n",
            "Epoch 19/100\n",
            "11/11 [==============================] - 0s 2ms/step - loss: 4.3141 - accuracy: 0.4796\n",
            "Epoch 20/100\n",
            "11/11 [==============================] - 0s 2ms/step - loss: 4.3139 - accuracy: 0.4796\n",
            "Epoch 21/100\n",
            "11/11 [==============================] - 0s 2ms/step - loss: 4.3140 - accuracy: 0.4796\n",
            "Epoch 22/100\n",
            "11/11 [==============================] - 0s 2ms/step - loss: 4.3140 - accuracy: 0.4796\n",
            "Epoch 23/100\n",
            "11/11 [==============================] - 0s 2ms/step - loss: 4.3142 - accuracy: 0.4796\n",
            "Epoch 24/100\n",
            "11/11 [==============================] - 0s 2ms/step - loss: 4.3137 - accuracy: 0.4796\n",
            "Epoch 25/100\n",
            "11/11 [==============================] - 0s 2ms/step - loss: 4.3140 - accuracy: 0.4796\n",
            "Epoch 26/100\n",
            "11/11 [==============================] - 0s 3ms/step - loss: 4.3139 - accuracy: 0.4796\n",
            "Epoch 27/100\n",
            "11/11 [==============================] - 0s 2ms/step - loss: 4.3137 - accuracy: 0.4796\n",
            "Epoch 28/100\n",
            "11/11 [==============================] - 0s 2ms/step - loss: 4.3137 - accuracy: 0.4796\n",
            "Epoch 29/100\n",
            "11/11 [==============================] - 0s 2ms/step - loss: 4.3139 - accuracy: 0.4796\n",
            "Epoch 30/100\n",
            "11/11 [==============================] - 0s 3ms/step - loss: 4.3140 - accuracy: 0.4796\n",
            "Epoch 31/100\n",
            "11/11 [==============================] - 0s 2ms/step - loss: 4.3139 - accuracy: 0.4796\n",
            "Epoch 32/100\n",
            "11/11 [==============================] - 0s 2ms/step - loss: 4.3140 - accuracy: 0.4796\n",
            "Epoch 33/100\n",
            "11/11 [==============================] - 0s 2ms/step - loss: 4.3140 - accuracy: 0.4796\n",
            "Epoch 34/100\n",
            "11/11 [==============================] - 0s 3ms/step - loss: 4.3140 - accuracy: 0.4796\n",
            "Epoch 35/100\n",
            "11/11 [==============================] - 0s 3ms/step - loss: 4.3137 - accuracy: 0.4796\n",
            "Epoch 36/100\n",
            "11/11 [==============================] - 0s 3ms/step - loss: 4.3142 - accuracy: 0.4796\n",
            "Epoch 37/100\n",
            "11/11 [==============================] - 0s 2ms/step - loss: 4.3140 - accuracy: 0.4796\n",
            "Epoch 38/100\n",
            "11/11 [==============================] - 0s 2ms/step - loss: 4.3139 - accuracy: 0.4796\n",
            "Epoch 39/100\n",
            "11/11 [==============================] - 0s 2ms/step - loss: 4.3139 - accuracy: 0.4796\n",
            "Epoch 40/100\n",
            "11/11 [==============================] - 0s 2ms/step - loss: 4.3139 - accuracy: 0.4796\n",
            "Epoch 41/100\n",
            "11/11 [==============================] - 0s 3ms/step - loss: 4.3136 - accuracy: 0.4796\n",
            "Epoch 42/100\n",
            "11/11 [==============================] - 0s 2ms/step - loss: 4.3138 - accuracy: 0.4796\n",
            "Epoch 43/100\n",
            "11/11 [==============================] - 0s 2ms/step - loss: 4.3139 - accuracy: 0.4796\n",
            "Epoch 44/100\n",
            "11/11 [==============================] - 0s 2ms/step - loss: 4.3140 - accuracy: 0.4796\n",
            "Epoch 45/100\n",
            "11/11 [==============================] - 0s 2ms/step - loss: 4.3139 - accuracy: 0.4796\n",
            "Epoch 46/100\n",
            "11/11 [==============================] - 0s 2ms/step - loss: 4.3141 - accuracy: 0.4796\n",
            "Epoch 47/100\n",
            "11/11 [==============================] - 0s 2ms/step - loss: 4.3142 - accuracy: 0.4796\n",
            "Epoch 48/100\n",
            "11/11 [==============================] - 0s 3ms/step - loss: 4.3141 - accuracy: 0.4796\n",
            "Epoch 49/100\n",
            "11/11 [==============================] - 0s 3ms/step - loss: 4.3143 - accuracy: 0.4796\n",
            "Epoch 50/100\n",
            "11/11 [==============================] - 0s 3ms/step - loss: 4.3139 - accuracy: 0.4796\n",
            "Epoch 51/100\n",
            "11/11 [==============================] - 0s 2ms/step - loss: 4.3136 - accuracy: 0.4796\n",
            "Epoch 52/100\n",
            "11/11 [==============================] - 0s 2ms/step - loss: 4.3138 - accuracy: 0.4796\n",
            "Epoch 53/100\n",
            "11/11 [==============================] - 0s 2ms/step - loss: 4.3139 - accuracy: 0.4796\n",
            "Epoch 54/100\n",
            "11/11 [==============================] - 0s 2ms/step - loss: 4.3138 - accuracy: 0.4796\n",
            "Epoch 55/100\n",
            "11/11 [==============================] - 0s 2ms/step - loss: 4.3139 - accuracy: 0.4796\n",
            "Epoch 56/100\n",
            "11/11 [==============================] - 0s 2ms/step - loss: 4.3140 - accuracy: 0.4796\n",
            "Epoch 57/100\n",
            "11/11 [==============================] - 0s 2ms/step - loss: 4.3138 - accuracy: 0.4796\n",
            "Epoch 58/100\n",
            "11/11 [==============================] - 0s 2ms/step - loss: 4.3136 - accuracy: 0.4796\n",
            "Epoch 59/100\n",
            "11/11 [==============================] - 0s 2ms/step - loss: 4.3137 - accuracy: 0.4796\n",
            "Epoch 60/100\n",
            "11/11 [==============================] - 0s 3ms/step - loss: 4.3139 - accuracy: 0.4796\n",
            "Epoch 61/100\n",
            "11/11 [==============================] - 0s 2ms/step - loss: 4.3139 - accuracy: 0.4796\n",
            "Epoch 62/100\n",
            "11/11 [==============================] - 0s 2ms/step - loss: 4.3137 - accuracy: 0.4796\n",
            "Epoch 63/100\n",
            "11/11 [==============================] - 0s 2ms/step - loss: 4.3137 - accuracy: 0.4796\n",
            "Epoch 64/100\n",
            "11/11 [==============================] - 0s 3ms/step - loss: 4.3140 - accuracy: 0.4796\n",
            "Epoch 65/100\n",
            "11/11 [==============================] - 0s 2ms/step - loss: 4.3139 - accuracy: 0.4796\n",
            "Epoch 66/100\n",
            "11/11 [==============================] - 0s 2ms/step - loss: 4.3140 - accuracy: 0.4796\n",
            "Epoch 67/100\n",
            "11/11 [==============================] - 0s 2ms/step - loss: 4.3141 - accuracy: 0.4796\n",
            "Epoch 68/100\n",
            "11/11 [==============================] - 0s 3ms/step - loss: 4.3136 - accuracy: 0.4796\n",
            "Epoch 69/100\n",
            "11/11 [==============================] - 0s 2ms/step - loss: 4.3136 - accuracy: 0.4796\n",
            "Epoch 70/100\n",
            "11/11 [==============================] - 0s 2ms/step - loss: 4.3143 - accuracy: 0.4796\n",
            "Epoch 71/100\n",
            "11/11 [==============================] - 0s 2ms/step - loss: 4.3138 - accuracy: 0.4796\n",
            "Epoch 72/100\n",
            "11/11 [==============================] - 0s 2ms/step - loss: 4.3139 - accuracy: 0.4796\n",
            "Epoch 73/100\n",
            "11/11 [==============================] - 0s 2ms/step - loss: 4.3138 - accuracy: 0.4796\n",
            "Epoch 74/100\n",
            "11/11 [==============================] - 0s 2ms/step - loss: 4.3138 - accuracy: 0.4796\n",
            "Epoch 75/100\n",
            "11/11 [==============================] - 0s 2ms/step - loss: 4.3138 - accuracy: 0.4796\n",
            "Epoch 76/100\n",
            "11/11 [==============================] - 0s 2ms/step - loss: 4.3138 - accuracy: 0.4796\n",
            "Epoch 77/100\n",
            "11/11 [==============================] - 0s 2ms/step - loss: 4.3138 - accuracy: 0.4796\n",
            "Epoch 78/100\n",
            "11/11 [==============================] - 0s 2ms/step - loss: 4.3140 - accuracy: 0.4796\n",
            "Epoch 79/100\n",
            "11/11 [==============================] - 0s 2ms/step - loss: 4.3137 - accuracy: 0.4796\n",
            "Epoch 80/100\n",
            "11/11 [==============================] - 0s 3ms/step - loss: 4.3136 - accuracy: 0.4796\n",
            "Epoch 81/100\n",
            "11/11 [==============================] - 0s 3ms/step - loss: 4.3137 - accuracy: 0.4796\n",
            "Epoch 82/100\n",
            "11/11 [==============================] - 0s 2ms/step - loss: 4.3135 - accuracy: 0.4796\n",
            "Epoch 83/100\n",
            "11/11 [==============================] - 0s 4ms/step - loss: 4.3139 - accuracy: 0.4796\n",
            "Epoch 84/100\n",
            "11/11 [==============================] - 0s 2ms/step - loss: 4.3136 - accuracy: 0.4796\n",
            "Epoch 85/100\n",
            "11/11 [==============================] - 0s 2ms/step - loss: 4.3136 - accuracy: 0.4796\n",
            "Epoch 86/100\n",
            "11/11 [==============================] - 0s 3ms/step - loss: 4.3141 - accuracy: 0.4796\n",
            "Epoch 87/100\n",
            "11/11 [==============================] - 0s 2ms/step - loss: 4.3137 - accuracy: 0.4796\n",
            "Epoch 88/100\n",
            "11/11 [==============================] - 0s 2ms/step - loss: 4.3138 - accuracy: 0.4796\n",
            "Epoch 89/100\n",
            "11/11 [==============================] - 0s 2ms/step - loss: 4.3144 - accuracy: 0.4796\n",
            "Epoch 90/100\n",
            "11/11 [==============================] - 0s 2ms/step - loss: 4.3139 - accuracy: 0.4796\n",
            "Epoch 91/100\n",
            "11/11 [==============================] - 0s 2ms/step - loss: 4.3139 - accuracy: 0.4796\n",
            "Epoch 92/100\n",
            "11/11 [==============================] - 0s 2ms/step - loss: 4.3138 - accuracy: 0.4796\n",
            "Epoch 93/100\n",
            "11/11 [==============================] - 0s 2ms/step - loss: 4.3139 - accuracy: 0.4796\n",
            "Epoch 94/100\n",
            "11/11 [==============================] - 0s 2ms/step - loss: 4.3141 - accuracy: 0.4796\n",
            "Epoch 95/100\n",
            "11/11 [==============================] - 0s 2ms/step - loss: 4.3140 - accuracy: 0.4796\n",
            "Epoch 96/100\n",
            "11/11 [==============================] - 0s 2ms/step - loss: 4.3138 - accuracy: 0.4796\n",
            "Epoch 97/100\n",
            "11/11 [==============================] - 0s 3ms/step - loss: 4.3140 - accuracy: 0.4796\n",
            "Epoch 98/100\n",
            "11/11 [==============================] - 0s 2ms/step - loss: 4.3139 - accuracy: 0.4796\n",
            "Epoch 99/100\n",
            "11/11 [==============================] - 0s 2ms/step - loss: 4.3138 - accuracy: 0.4796\n",
            "Epoch 100/100\n",
            "11/11 [==============================] - 0s 2ms/step - loss: 4.3135 - accuracy: 0.4796\n"
          ]
        }
      ]
    },
    {
      "cell_type": "code",
      "source": [
        "import matplotlib.pyplot as plt\n",
        "plt.plot(i_train.history['loss'])\n",
        "plt.title('model loss')\n",
        "plt.ylabel('loss')\n",
        "plt.xlabel('epoch')\n",
        "plt.show()"
      ],
      "metadata": {
        "colab": {
          "base_uri": "https://localhost:8080/",
          "height": 295
        },
        "id": "w8Eeefhg9S0r",
        "outputId": "054e159f-2fea-4477-a6ef-1fd138c9be3f"
      },
      "execution_count": 407,
      "outputs": [
        {
          "output_type": "display_data",
          "data": {
            "image/png": "[encoded data removed]",
            "text/plain": [
              "<Figure size 432x288 with 1 Axes>"
            ]
          },
          "metadata": {
            "needs_background": "light"
          }
        }
      ]
    },
    {
      "cell_type": "code",
      "source": [
        "i_results = i_model.evaluate(X_test, y_test)"
      ],
      "metadata": {
        "colab": {
          "base_uri": "https://localhost:8080/"
        },
        "id": "-MW5u1mR9Tos",
        "outputId": "55bdaf4c-110b-4a3b-eff4-b4a771425274"
      },
      "execution_count": 408,
      "outputs": [
        {
          "output_type": "stream",
          "name": "stdout",
          "text": [
            "12/12 [==============================] - 0s 2ms/step - loss: 3.9270 - accuracy: 0.5306\n"
          ]
        }
      ]
    },
    {
      "cell_type": "code",
      "source": [
        "print(i_model.metrics_names) \n",
        "print(i_results)"
      ],
      "metadata": {
        "colab": {
          "base_uri": "https://localhost:8080/"
        },
        "id": "fP2gNxbL9VOc",
        "outputId": "d7170d96-eec6-4d9b-9d50-9957b4fe5bba"
      },
      "execution_count": 409,
      "outputs": [
        {
          "output_type": "stream",
          "name": "stdout",
          "text": [
            "['loss', 'accuracy']\n",
            "[3.9270124435424805, 0.5305555462837219]\n"
          ]
        }
      ]
    },
    {
      "cell_type": "markdown",
      "source": [
        "#Orthogonal"
      ],
      "metadata": {
        "id": "FNZPZ0wO9ZUg"
      }
    },
    {
      "cell_type": "code",
      "source": [
        "ortho_model=Sequential()\n",
        "ortho_model.add(Dense(10,input_shape = (7,), activation = 'sigmoid',kernel_initializer=ortho_initializer))\n",
        "ortho_model.add(Dense(10,activation='sigmoid',kernel_initializer=ortho_initializer))\n",
        "ortho_model.add(Dense(10,activation='sigmoid',kernel_initializer=ortho_initializer))\n",
        "ortho_model.add(Dense(10,activation='sigmoid',kernel_initializer=ortho_initializer))\n",
        "ortho_model.add(Dense(10,activation='sigmoid',kernel_initializer=ortho_initializer))\n",
        "ortho_model.add(Dense(2))"
      ],
      "metadata": {
        "id": "k1xSdlME9dDq"
      },
      "execution_count": 410,
      "outputs": []
    },
    {
      "cell_type": "code",
      "source": [
        "\n",
        "ortho_model.summary()"
      ],
      "metadata": {
        "colab": {
          "base_uri": "https://localhost:8080/"
        },
        "id": "Iad3ytAA-KLI",
        "outputId": "5448be8d-7070-4b91-ad2e-5c9a07025a80"
      },
      "execution_count": 411,
      "outputs": [
        {
          "output_type": "stream",
          "name": "stdout",
          "text": [
            "Model: \"sequential_45\"\n",
            "_________________________________________________________________\n",
            " Layer (type)                Output Shape              Param #   \n",
            "=================================================================\n",
            " dense_270 (Dense)           (None, 10)                80        \n",
            "                                                                 \n",
            " dense_271 (Dense)           (None, 10)                110       \n",
            "                                                                 \n",
            " dense_272 (Dense)           (None, 10)                110       \n",
            "                                                                 \n",
            " dense_273 (Dense)           (None, 10)                110       \n",
            "                                                                 \n",
            " dense_274 (Dense)           (None, 10)                110       \n",
            "                                                                 \n",
            " dense_275 (Dense)           (None, 2)                 22        \n",
            "                                                                 \n",
            "=================================================================\n",
            "Total params: 542\n",
            "Trainable params: 542\n",
            "Non-trainable params: 0\n",
            "_________________________________________________________________\n"
          ]
        }
      ]
    },
    {
      "cell_type": "code",
      "source": [
        "ortho_sgd = optimizers.SGD(learning_rate = 0.01) \n",
        "ortho_model.compile(optimizer = ortho_sgd, loss = 'binary_crossentropy', metrics = ['accuracy'])\n"
      ],
      "metadata": {
        "id": "r3v7h45V-LFL"
      },
      "execution_count": 412,
      "outputs": []
    },
    {
      "cell_type": "code",
      "source": [
        "ortho_train=ortho_model.fit(X_train, y_train, batch_size = 50, epochs = 100, verbose = 1)"
      ],
      "metadata": {
        "colab": {
          "base_uri": "https://localhost:8080/"
        },
        "id": "FRqmq20q-NCE",
        "outputId": "8146b4a5-a0f4-4b7e-9544-c0d6bbd44823"
      },
      "execution_count": 413,
      "outputs": [
        {
          "output_type": "stream",
          "name": "stdout",
          "text": [
            "Epoch 1/100\n",
            "11/11 [==============================] - 1s 2ms/step - loss: 4.1143 - accuracy: 0.5204\n",
            "Epoch 2/100\n",
            "11/11 [==============================] - 0s 2ms/step - loss: 4.0506 - accuracy: 0.5204\n",
            "Epoch 3/100\n",
            "11/11 [==============================] - 0s 3ms/step - loss: 4.0463 - accuracy: 0.5204\n",
            "Epoch 4/100\n",
            "11/11 [==============================] - 0s 2ms/step - loss: 4.0456 - accuracy: 0.5204\n",
            "Epoch 5/100\n",
            "11/11 [==============================] - 0s 2ms/step - loss: 4.0458 - accuracy: 0.5204\n",
            "Epoch 6/100\n",
            "11/11 [==============================] - 0s 2ms/step - loss: 4.0454 - accuracy: 0.5204\n",
            "Epoch 7/100\n",
            "11/11 [==============================] - 0s 2ms/step - loss: 4.0455 - accuracy: 0.5204\n",
            "Epoch 8/100\n",
            "11/11 [==============================] - 0s 2ms/step - loss: 4.0455 - accuracy: 0.5204\n",
            "Epoch 9/100\n",
            "11/11 [==============================] - 0s 2ms/step - loss: 4.0454 - accuracy: 0.5204\n",
            "Epoch 10/100\n",
            "11/11 [==============================] - 0s 2ms/step - loss: 4.0455 - accuracy: 0.5204\n",
            "Epoch 11/100\n",
            "11/11 [==============================] - 0s 2ms/step - loss: 4.0460 - accuracy: 0.5204\n",
            "Epoch 12/100\n",
            "11/11 [==============================] - 0s 2ms/step - loss: 4.0456 - accuracy: 0.5204\n",
            "Epoch 13/100\n",
            "11/11 [==============================] - 0s 2ms/step - loss: 4.0458 - accuracy: 0.5204\n",
            "Epoch 14/100\n",
            "11/11 [==============================] - 0s 3ms/step - loss: 4.0461 - accuracy: 0.5204\n",
            "Epoch 15/100\n",
            "11/11 [==============================] - 0s 2ms/step - loss: 4.0456 - accuracy: 0.5204\n",
            "Epoch 16/100\n",
            "11/11 [==============================] - 0s 3ms/step - loss: 4.0455 - accuracy: 0.5204\n",
            "Epoch 17/100\n",
            "11/11 [==============================] - 0s 2ms/step - loss: 4.0458 - accuracy: 0.5204\n",
            "Epoch 18/100\n",
            "11/11 [==============================] - 0s 2ms/step - loss: 4.0459 - accuracy: 0.5204\n",
            "Epoch 19/100\n",
            "11/11 [==============================] - 0s 2ms/step - loss: 4.0457 - accuracy: 0.5204\n",
            "Epoch 20/100\n",
            "11/11 [==============================] - 0s 3ms/step - loss: 4.0455 - accuracy: 0.5204\n",
            "Epoch 21/100\n",
            "11/11 [==============================] - 0s 2ms/step - loss: 4.0460 - accuracy: 0.5204\n",
            "Epoch 22/100\n",
            "11/11 [==============================] - 0s 2ms/step - loss: 4.0456 - accuracy: 0.5204\n",
            "Epoch 23/100\n",
            "11/11 [==============================] - 0s 2ms/step - loss: 4.0456 - accuracy: 0.5204\n",
            "Epoch 24/100\n",
            "11/11 [==============================] - 0s 3ms/step - loss: 4.0454 - accuracy: 0.5204\n",
            "Epoch 25/100\n",
            "11/11 [==============================] - 0s 2ms/step - loss: 4.0456 - accuracy: 0.5204\n",
            "Epoch 26/100\n",
            "11/11 [==============================] - 0s 2ms/step - loss: 4.0456 - accuracy: 0.5204\n",
            "Epoch 27/100\n",
            "11/11 [==============================] - 0s 3ms/step - loss: 4.0456 - accuracy: 0.5204\n",
            "Epoch 28/100\n",
            "11/11 [==============================] - 0s 2ms/step - loss: 4.0458 - accuracy: 0.5204\n",
            "Epoch 29/100\n",
            "11/11 [==============================] - 0s 2ms/step - loss: 4.0457 - accuracy: 0.5204\n",
            "Epoch 30/100\n",
            "11/11 [==============================] - 0s 3ms/step - loss: 4.0456 - accuracy: 0.5204\n",
            "Epoch 31/100\n",
            "11/11 [==============================] - 0s 3ms/step - loss: 4.0458 - accuracy: 0.5204\n",
            "Epoch 32/100\n",
            "11/11 [==============================] - 0s 4ms/step - loss: 4.0456 - accuracy: 0.5204\n",
            "Epoch 33/100\n",
            "11/11 [==============================] - 0s 3ms/step - loss: 4.0459 - accuracy: 0.5204\n",
            "Epoch 34/100\n",
            "11/11 [==============================] - 0s 2ms/step - loss: 4.0456 - accuracy: 0.5204\n",
            "Epoch 35/100\n",
            "11/11 [==============================] - 0s 2ms/step - loss: 4.0455 - accuracy: 0.5204\n",
            "Epoch 36/100\n",
            "11/11 [==============================] - 0s 3ms/step - loss: 4.0455 - accuracy: 0.5204\n",
            "Epoch 37/100\n",
            "11/11 [==============================] - 0s 2ms/step - loss: 4.0455 - accuracy: 0.5204\n",
            "Epoch 38/100\n",
            "11/11 [==============================] - 0s 3ms/step - loss: 4.0459 - accuracy: 0.5204\n",
            "Epoch 39/100\n",
            "11/11 [==============================] - 0s 2ms/step - loss: 4.0455 - accuracy: 0.5204\n",
            "Epoch 40/100\n",
            "11/11 [==============================] - 0s 2ms/step - loss: 4.0454 - accuracy: 0.5204\n",
            "Epoch 41/100\n",
            "11/11 [==============================] - 0s 2ms/step - loss: 4.0457 - accuracy: 0.5204\n",
            "Epoch 42/100\n",
            "11/11 [==============================] - 0s 2ms/step - loss: 4.0454 - accuracy: 0.5204\n",
            "Epoch 43/100\n",
            "11/11 [==============================] - 0s 2ms/step - loss: 4.0458 - accuracy: 0.5204\n",
            "Epoch 44/100\n",
            "11/11 [==============================] - 0s 2ms/step - loss: 4.0456 - accuracy: 0.5204\n",
            "Epoch 45/100\n",
            "11/11 [==============================] - 0s 2ms/step - loss: 4.0455 - accuracy: 0.5204\n",
            "Epoch 46/100\n",
            "11/11 [==============================] - 0s 2ms/step - loss: 4.0456 - accuracy: 0.5204\n",
            "Epoch 47/100\n",
            "11/11 [==============================] - 0s 2ms/step - loss: 4.0455 - accuracy: 0.5204\n",
            "Epoch 48/100\n",
            "11/11 [==============================] - 0s 2ms/step - loss: 4.0454 - accuracy: 0.5204\n",
            "Epoch 49/100\n",
            "11/11 [==============================] - 0s 2ms/step - loss: 4.0456 - accuracy: 0.5204\n",
            "Epoch 50/100\n",
            "11/11 [==============================] - 0s 2ms/step - loss: 4.0457 - accuracy: 0.5204\n",
            "Epoch 51/100\n",
            "11/11 [==============================] - 0s 2ms/step - loss: 4.0457 - accuracy: 0.5204\n",
            "Epoch 52/100\n",
            "11/11 [==============================] - 0s 2ms/step - loss: 4.0457 - accuracy: 0.5204\n",
            "Epoch 53/100\n",
            "11/11 [==============================] - 0s 2ms/step - loss: 4.0459 - accuracy: 0.5204\n",
            "Epoch 54/100\n",
            "11/11 [==============================] - 0s 2ms/step - loss: 4.0456 - accuracy: 0.5204\n",
            "Epoch 55/100\n",
            "11/11 [==============================] - 0s 2ms/step - loss: 4.0456 - accuracy: 0.5204\n",
            "Epoch 56/100\n",
            "11/11 [==============================] - 0s 2ms/step - loss: 4.0458 - accuracy: 0.5204\n",
            "Epoch 57/100\n",
            "11/11 [==============================] - 0s 2ms/step - loss: 4.0455 - accuracy: 0.5204\n",
            "Epoch 58/100\n",
            "11/11 [==============================] - 0s 2ms/step - loss: 4.0457 - accuracy: 0.5204\n",
            "Epoch 59/100\n",
            "11/11 [==============================] - 0s 2ms/step - loss: 4.0457 - accuracy: 0.5204\n",
            "Epoch 60/100\n",
            "11/11 [==============================] - 0s 2ms/step - loss: 4.0457 - accuracy: 0.5204\n",
            "Epoch 61/100\n",
            "11/11 [==============================] - 0s 2ms/step - loss: 4.0455 - accuracy: 0.5204\n",
            "Epoch 62/100\n",
            "11/11 [==============================] - 0s 2ms/step - loss: 4.0455 - accuracy: 0.5204\n",
            "Epoch 63/100\n",
            "11/11 [==============================] - 0s 2ms/step - loss: 4.0456 - accuracy: 0.5204\n",
            "Epoch 64/100\n",
            "11/11 [==============================] - 0s 3ms/step - loss: 4.0458 - accuracy: 0.5204\n",
            "Epoch 65/100\n",
            "11/11 [==============================] - 0s 3ms/step - loss: 4.0455 - accuracy: 0.5204\n",
            "Epoch 66/100\n",
            "11/11 [==============================] - 0s 2ms/step - loss: 4.0458 - accuracy: 0.5204\n",
            "Epoch 67/100\n",
            "11/11 [==============================] - 0s 2ms/step - loss: 4.0458 - accuracy: 0.5204\n",
            "Epoch 68/100\n",
            "11/11 [==============================] - 0s 2ms/step - loss: 4.0458 - accuracy: 0.5204\n",
            "Epoch 69/100\n",
            "11/11 [==============================] - 0s 2ms/step - loss: 4.0458 - accuracy: 0.5204\n",
            "Epoch 70/100\n",
            "11/11 [==============================] - 0s 3ms/step - loss: 4.0454 - accuracy: 0.5204\n",
            "Epoch 71/100\n",
            "11/11 [==============================] - 0s 2ms/step - loss: 4.0456 - accuracy: 0.5204\n",
            "Epoch 72/100\n",
            "11/11 [==============================] - 0s 2ms/step - loss: 4.0456 - accuracy: 0.5204\n",
            "Epoch 73/100\n",
            "11/11 [==============================] - 0s 2ms/step - loss: 4.0457 - accuracy: 0.5204\n",
            "Epoch 74/100\n",
            "11/11 [==============================] - 0s 2ms/step - loss: 4.0454 - accuracy: 0.5204\n",
            "Epoch 75/100\n",
            "11/11 [==============================] - 0s 2ms/step - loss: 4.0454 - accuracy: 0.5204\n",
            "Epoch 76/100\n",
            "11/11 [==============================] - 0s 2ms/step - loss: 4.0456 - accuracy: 0.5204\n",
            "Epoch 77/100\n",
            "11/11 [==============================] - 0s 3ms/step - loss: 4.0455 - accuracy: 0.5204\n",
            "Epoch 78/100\n",
            "11/11 [==============================] - 0s 2ms/step - loss: 4.0454 - accuracy: 0.5204\n",
            "Epoch 79/100\n",
            "11/11 [==============================] - 0s 2ms/step - loss: 4.0454 - accuracy: 0.5204\n",
            "Epoch 80/100\n",
            "11/11 [==============================] - 0s 3ms/step - loss: 4.0455 - accuracy: 0.5204\n",
            "Epoch 81/100\n",
            "11/11 [==============================] - 0s 2ms/step - loss: 4.0456 - accuracy: 0.5204\n",
            "Epoch 82/100\n",
            "11/11 [==============================] - 0s 2ms/step - loss: 4.0456 - accuracy: 0.5204\n",
            "Epoch 83/100\n",
            "11/11 [==============================] - 0s 2ms/step - loss: 4.0456 - accuracy: 0.5204\n",
            "Epoch 84/100\n",
            "11/11 [==============================] - 0s 2ms/step - loss: 4.0456 - accuracy: 0.5204\n",
            "Epoch 85/100\n",
            "11/11 [==============================] - 0s 2ms/step - loss: 4.0455 - accuracy: 0.5204\n",
            "Epoch 86/100\n",
            "11/11 [==============================] - 0s 2ms/step - loss: 4.0454 - accuracy: 0.5204\n",
            "Epoch 87/100\n",
            "11/11 [==============================] - 0s 2ms/step - loss: 4.0455 - accuracy: 0.5204\n",
            "Epoch 88/100\n",
            "11/11 [==============================] - 0s 2ms/step - loss: 4.0456 - accuracy: 0.5204\n",
            "Epoch 89/100\n",
            "11/11 [==============================] - 0s 2ms/step - loss: 4.0454 - accuracy: 0.5204\n",
            "Epoch 90/100\n",
            "11/11 [==============================] - 0s 4ms/step - loss: 4.0454 - accuracy: 0.5204\n",
            "Epoch 91/100\n",
            "11/11 [==============================] - 0s 2ms/step - loss: 4.0454 - accuracy: 0.5204\n",
            "Epoch 92/100\n",
            "11/11 [==============================] - 0s 2ms/step - loss: 4.0454 - accuracy: 0.5204\n",
            "Epoch 93/100\n",
            "11/11 [==============================] - 0s 2ms/step - loss: 4.0455 - accuracy: 0.5204\n",
            "Epoch 94/100\n",
            "11/11 [==============================] - 0s 4ms/step - loss: 4.0455 - accuracy: 0.5204\n",
            "Epoch 95/100\n",
            "11/11 [==============================] - 0s 2ms/step - loss: 4.0457 - accuracy: 0.5204\n",
            "Epoch 96/100\n",
            "11/11 [==============================] - 0s 3ms/step - loss: 4.0456 - accuracy: 0.5204\n",
            "Epoch 97/100\n",
            "11/11 [==============================] - 0s 2ms/step - loss: 4.0456 - accuracy: 0.5204\n",
            "Epoch 98/100\n",
            "11/11 [==============================] - 0s 2ms/step - loss: 4.0457 - accuracy: 0.5204\n",
            "Epoch 99/100\n",
            "11/11 [==============================] - 0s 2ms/step - loss: 4.0455 - accuracy: 0.5204\n",
            "Epoch 100/100\n",
            "11/11 [==============================] - 0s 2ms/step - loss: 4.0454 - accuracy: 0.5204\n"
          ]
        }
      ]
    },
    {
      "cell_type": "code",
      "source": [
        "\n",
        "import matplotlib.pyplot as plt\n",
        "plt.plot(ortho_train.history['loss'])\n",
        "plt.title('model loss')\n",
        "plt.ylabel('loss')\n",
        "plt.xlabel('epoch')\n",
        "plt.show()\n"
      ],
      "metadata": {
        "colab": {
          "base_uri": "https://localhost:8080/",
          "height": 295
        },
        "id": "TTXhusfe-OcB",
        "outputId": "65af02e0-8cfe-4d9a-c9b6-1dc2f0bbad41"
      },
      "execution_count": 414,
      "outputs": [
        {
          "output_type": "display_data",
          "data": {
            "image/png": "[encoded data removed]",
            "text/plain": [
              "<Figure size 432x288 with 1 Axes>"
            ]
          },
          "metadata": {
            "needs_background": "light"
          }
        }
      ]
    },
    {
      "cell_type": "code",
      "source": [
        "ortho_results = ortho_model.evaluate(X_test, y_test)"
      ],
      "metadata": {
        "colab": {
          "base_uri": "https://localhost:8080/"
        },
        "id": "YXdEi--9-Rfv",
        "outputId": "f8a5b6e0-33c1-4fa4-cf78-63dcca3db4d6"
      },
      "execution_count": 415,
      "outputs": [
        {
          "output_type": "stream",
          "name": "stdout",
          "text": [
            "12/12 [==============================] - 0s 2ms/step - loss: 4.4396 - accuracy: 0.4694\n"
          ]
        }
      ]
    },
    {
      "cell_type": "code",
      "source": [
        "print(ortho_model.metrics_names) \n",
        "print(ortho_results)\n"
      ],
      "metadata": {
        "colab": {
          "base_uri": "https://localhost:8080/"
        },
        "id": "MP5yV8sr-SuU",
        "outputId": "589c3508-3861-493d-d569-13454489362b"
      },
      "execution_count": 416,
      "outputs": [
        {
          "output_type": "stream",
          "name": "stdout",
          "text": [
            "['loss', 'accuracy']\n",
            "[4.439631938934326, 0.4694444537162781]\n"
          ]
        }
      ]
    },
    {
      "cell_type": "markdown",
      "source": [
        "**Inference**\n",
        "---\n",
        "------\n",
        "The model with following initalizers gave the following results:\n",
        "\n",
        "* RandomNormal - 48%\n",
        "* RandomUniform - 48%\n",
        "* TruncatedNormal - 48%\n",
        "* Zero - 51%\n",
        "* One - 48%\n",
        "* GlorotNormal - 48%\n",
        "* GlorotUniform -51%\n",
        "* HeNormal - 48%\n",
        "* HeUniform - 48%\n",
        "* Identity - 51%\n",
        "* Orthogonal - 48%\n",
        "\n",
        "As listed above several of the initializers gave the same accuracy score however the accuracy score has increased when using certain initializers. Those are : Zero, GlorotNormal, Identity. Therefore using Zero initializer for the next question "
      ],
      "metadata": {
        "id": "k8W0FScxHR-d"
      }
    },
    {
      "cell_type": "markdown",
      "source": [
        "#**Q4 - Best Initializer with ReLu**\n",
        "---"
      ],
      "metadata": {
        "id": "eurkHKQmIshN"
      }
    },
    {
      "cell_type": "markdown",
      "source": [
        "#Zero with ReLu"
      ],
      "metadata": {
        "id": "1fIHsJX1_lzn"
      }
    },
    {
      "cell_type": "code",
      "source": [
        "zero_relu_model=Sequential()\n",
        "zero_relu_model.add(Dense(10,input_shape = (7,), activation = 'relu',kernel_initializer=zero_initializer))\n",
        "zero_relu_model.add(Dense(10,activation='relu',kernel_initializer=zero_initializer))\n",
        "zero_relu_model.add(Dense(10,activation='relu',kernel_initializer=zero_initializer))\n",
        "zero_relu_model.add(Dense(10,activation='relu',kernel_initializer=zero_initializer))\n",
        "zero_relu_model.add(Dense(10,activation='relu',kernel_initializer=zero_initializer))\n",
        "zero_relu_model.add(Dense(2,kernel_initializer=zero_initializer))"
      ],
      "metadata": {
        "id": "nfMKNrA3AZh7"
      },
      "execution_count": 417,
      "outputs": []
    },
    {
      "cell_type": "code",
      "source": [
        "zero_relu_model.summary()\n"
      ],
      "metadata": {
        "colab": {
          "base_uri": "https://localhost:8080/"
        },
        "outputId": "339c8856-e498-4a07-d357-ec99cc5a057d",
        "id": "0YZTMZJuAZh9"
      },
      "execution_count": 418,
      "outputs": [
        {
          "output_type": "stream",
          "name": "stdout",
          "text": [
            "Model: \"sequential_46\"\n",
            "_________________________________________________________________\n",
            " Layer (type)                Output Shape              Param #   \n",
            "=================================================================\n",
            " dense_276 (Dense)           (None, 10)                80        \n",
            "                                                                 \n",
            " dense_277 (Dense)           (None, 10)                110       \n",
            "                                                                 \n",
            " dense_278 (Dense)           (None, 10)                110       \n",
            "                                                                 \n",
            " dense_279 (Dense)           (None, 10)                110       \n",
            "                                                                 \n",
            " dense_280 (Dense)           (None, 10)                110       \n",
            "                                                                 \n",
            " dense_281 (Dense)           (None, 2)                 22        \n",
            "                                                                 \n",
            "=================================================================\n",
            "Total params: 542\n",
            "Trainable params: 542\n",
            "Non-trainable params: 0\n",
            "_________________________________________________________________\n"
          ]
        }
      ]
    },
    {
      "cell_type": "code",
      "source": [
        "zero_relu_sgd = optimizers.SGD(learning_rate = 0.01) \n",
        "zero_relu_model.compile(optimizer = zero_relu_sgd, loss = 'binary_crossentropy', metrics = ['accuracy'])\n"
      ],
      "metadata": {
        "id": "J_9hMBKCAZh-"
      },
      "execution_count": 419,
      "outputs": []
    },
    {
      "cell_type": "code",
      "source": [
        "zero_relu_train=zero_relu_model.fit(X_train, y_train, batch_size = 50, epochs = 100, verbose = 1)"
      ],
      "metadata": {
        "colab": {
          "base_uri": "https://localhost:8080/"
        },
        "outputId": "34bbe38d-b59f-4f94-8594-484b8b560aec",
        "id": "Rhhc75D0AZh-"
      },
      "execution_count": 420,
      "outputs": [
        {
          "output_type": "stream",
          "name": "stdout",
          "text": [
            "Epoch 1/100\n",
            "11/11 [==============================] - 1s 2ms/step - loss: 7.3983 - accuracy: 0.5204\n",
            "Epoch 2/100\n",
            "11/11 [==============================] - 0s 2ms/step - loss: 7.3983 - accuracy: 0.5204\n",
            "Epoch 3/100\n",
            "11/11 [==============================] - 0s 2ms/step - loss: 7.3983 - accuracy: 0.5204\n",
            "Epoch 4/100\n",
            "11/11 [==============================] - 0s 2ms/step - loss: 7.3983 - accuracy: 0.5204\n",
            "Epoch 5/100\n",
            "11/11 [==============================] - 0s 2ms/step - loss: 7.3983 - accuracy: 0.5204\n",
            "Epoch 6/100\n",
            "11/11 [==============================] - 0s 3ms/step - loss: 7.3983 - accuracy: 0.5204\n",
            "Epoch 7/100\n",
            "11/11 [==============================] - 0s 2ms/step - loss: 7.3983 - accuracy: 0.5204\n",
            "Epoch 8/100\n",
            "11/11 [==============================] - 0s 2ms/step - loss: 7.3983 - accuracy: 0.5204\n",
            "Epoch 9/100\n",
            "11/11 [==============================] - 0s 2ms/step - loss: 7.3983 - accuracy: 0.5204\n",
            "Epoch 10/100\n",
            "11/11 [==============================] - 0s 2ms/step - loss: 7.3983 - accuracy: 0.5204\n",
            "Epoch 11/100\n",
            "11/11 [==============================] - 0s 2ms/step - loss: 7.3983 - accuracy: 0.5204\n",
            "Epoch 12/100\n",
            "11/11 [==============================] - 0s 2ms/step - loss: 7.3983 - accuracy: 0.5204\n",
            "Epoch 13/100\n",
            "11/11 [==============================] - 0s 2ms/step - loss: 7.3983 - accuracy: 0.5204\n",
            "Epoch 14/100\n",
            "11/11 [==============================] - 0s 2ms/step - loss: 7.3983 - accuracy: 0.5204\n",
            "Epoch 15/100\n",
            "11/11 [==============================] - 0s 2ms/step - loss: 7.3983 - accuracy: 0.5204\n",
            "Epoch 16/100\n",
            "11/11 [==============================] - 0s 2ms/step - loss: 7.3983 - accuracy: 0.5204\n",
            "Epoch 17/100\n",
            "11/11 [==============================] - 0s 2ms/step - loss: 7.3983 - accuracy: 0.5204\n",
            "Epoch 18/100\n",
            "11/11 [==============================] - 0s 3ms/step - loss: 7.3983 - accuracy: 0.5204\n",
            "Epoch 19/100\n",
            "11/11 [==============================] - 0s 2ms/step - loss: 7.3983 - accuracy: 0.5204\n",
            "Epoch 20/100\n",
            "11/11 [==============================] - 0s 2ms/step - loss: 7.3983 - accuracy: 0.5204\n",
            "Epoch 21/100\n",
            "11/11 [==============================] - 0s 2ms/step - loss: 7.3983 - accuracy: 0.5204\n",
            "Epoch 22/100\n",
            "11/11 [==============================] - 0s 2ms/step - loss: 7.3983 - accuracy: 0.5204\n",
            "Epoch 23/100\n",
            "11/11 [==============================] - 0s 2ms/step - loss: 7.3983 - accuracy: 0.5204\n",
            "Epoch 24/100\n",
            "11/11 [==============================] - 0s 2ms/step - loss: 7.3983 - accuracy: 0.5204\n",
            "Epoch 25/100\n",
            "11/11 [==============================] - 0s 2ms/step - loss: 7.3983 - accuracy: 0.5204\n",
            "Epoch 26/100\n",
            "11/11 [==============================] - 0s 2ms/step - loss: 7.3983 - accuracy: 0.5204\n",
            "Epoch 27/100\n",
            "11/11 [==============================] - 0s 2ms/step - loss: 7.3983 - accuracy: 0.5204\n",
            "Epoch 28/100\n",
            "11/11 [==============================] - 0s 2ms/step - loss: 7.3983 - accuracy: 0.5204\n",
            "Epoch 29/100\n",
            "11/11 [==============================] - 0s 3ms/step - loss: 7.3983 - accuracy: 0.5204\n",
            "Epoch 30/100\n",
            "11/11 [==============================] - 0s 2ms/step - loss: 7.3983 - accuracy: 0.5204\n",
            "Epoch 31/100\n",
            "11/11 [==============================] - 0s 2ms/step - loss: 7.3983 - accuracy: 0.5204\n",
            "Epoch 32/100\n",
            "11/11 [==============================] - 0s 2ms/step - loss: 7.3983 - accuracy: 0.5204\n",
            "Epoch 33/100\n",
            "11/11 [==============================] - 0s 2ms/step - loss: 7.3983 - accuracy: 0.5204\n",
            "Epoch 34/100\n",
            "11/11 [==============================] - 0s 2ms/step - loss: 7.3983 - accuracy: 0.5204\n",
            "Epoch 35/100\n",
            "11/11 [==============================] - 0s 2ms/step - loss: 7.3983 - accuracy: 0.5204\n",
            "Epoch 36/100\n",
            "11/11 [==============================] - 0s 2ms/step - loss: 7.3983 - accuracy: 0.5204\n",
            "Epoch 37/100\n",
            "11/11 [==============================] - 0s 3ms/step - loss: 7.3983 - accuracy: 0.5204\n",
            "Epoch 38/100\n",
            "11/11 [==============================] - 0s 2ms/step - loss: 7.3983 - accuracy: 0.5204\n",
            "Epoch 39/100\n",
            "11/11 [==============================] - 0s 3ms/step - loss: 7.3983 - accuracy: 0.5204\n",
            "Epoch 40/100\n",
            "11/11 [==============================] - 0s 2ms/step - loss: 7.3983 - accuracy: 0.5204\n",
            "Epoch 41/100\n",
            "11/11 [==============================] - 0s 2ms/step - loss: 7.3983 - accuracy: 0.5204\n",
            "Epoch 42/100\n",
            "11/11 [==============================] - 0s 2ms/step - loss: 7.3983 - accuracy: 0.5204\n",
            "Epoch 43/100\n",
            "11/11 [==============================] - 0s 3ms/step - loss: 7.3983 - accuracy: 0.5204\n",
            "Epoch 44/100\n",
            "11/11 [==============================] - 0s 2ms/step - loss: 7.3983 - accuracy: 0.5204\n",
            "Epoch 45/100\n",
            "11/11 [==============================] - 0s 3ms/step - loss: 7.3983 - accuracy: 0.5204\n",
            "Epoch 46/100\n",
            "11/11 [==============================] - 0s 3ms/step - loss: 7.3983 - accuracy: 0.5204\n",
            "Epoch 47/100\n",
            "11/11 [==============================] - 0s 3ms/step - loss: 7.3983 - accuracy: 0.5204\n",
            "Epoch 48/100\n",
            "11/11 [==============================] - 0s 3ms/step - loss: 7.3983 - accuracy: 0.5204\n",
            "Epoch 49/100\n",
            "11/11 [==============================] - 0s 3ms/step - loss: 7.3983 - accuracy: 0.5204\n",
            "Epoch 50/100\n",
            "11/11 [==============================] - 0s 3ms/step - loss: 7.3983 - accuracy: 0.5204\n",
            "Epoch 51/100\n",
            "11/11 [==============================] - 0s 3ms/step - loss: 7.3983 - accuracy: 0.5204\n",
            "Epoch 52/100\n",
            "11/11 [==============================] - 0s 2ms/step - loss: 7.3983 - accuracy: 0.5204\n",
            "Epoch 53/100\n",
            "11/11 [==============================] - 0s 2ms/step - loss: 7.3983 - accuracy: 0.5204\n",
            "Epoch 54/100\n",
            "11/11 [==============================] - 0s 2ms/step - loss: 7.3983 - accuracy: 0.5204\n",
            "Epoch 55/100\n",
            "11/11 [==============================] - 0s 2ms/step - loss: 7.3983 - accuracy: 0.5204\n",
            "Epoch 56/100\n",
            "11/11 [==============================] - 0s 2ms/step - loss: 7.3983 - accuracy: 0.5204\n",
            "Epoch 57/100\n",
            "11/11 [==============================] - 0s 2ms/step - loss: 7.3983 - accuracy: 0.5204\n",
            "Epoch 58/100\n",
            "11/11 [==============================] - 0s 2ms/step - loss: 7.3983 - accuracy: 0.5204\n",
            "Epoch 59/100\n",
            "11/11 [==============================] - 0s 3ms/step - loss: 7.3983 - accuracy: 0.5204\n",
            "Epoch 60/100\n",
            "11/11 [==============================] - 0s 2ms/step - loss: 7.3983 - accuracy: 0.5204\n",
            "Epoch 61/100\n",
            "11/11 [==============================] - 0s 3ms/step - loss: 7.3983 - accuracy: 0.5204\n",
            "Epoch 62/100\n",
            "11/11 [==============================] - 0s 3ms/step - loss: 7.3983 - accuracy: 0.5204\n",
            "Epoch 63/100\n",
            "11/11 [==============================] - 0s 2ms/step - loss: 7.3983 - accuracy: 0.5204\n",
            "Epoch 64/100\n",
            "11/11 [==============================] - 0s 2ms/step - loss: 7.3983 - accuracy: 0.5204\n",
            "Epoch 65/100\n",
            "11/11 [==============================] - 0s 2ms/step - loss: 7.3983 - accuracy: 0.5204\n",
            "Epoch 66/100\n",
            "11/11 [==============================] - 0s 2ms/step - loss: 7.3983 - accuracy: 0.5204\n",
            "Epoch 67/100\n",
            "11/11 [==============================] - 0s 2ms/step - loss: 7.3983 - accuracy: 0.5204\n",
            "Epoch 68/100\n",
            "11/11 [==============================] - 0s 2ms/step - loss: 7.3983 - accuracy: 0.5204\n",
            "Epoch 69/100\n",
            "11/11 [==============================] - 0s 2ms/step - loss: 7.3983 - accuracy: 0.5204\n",
            "Epoch 70/100\n",
            "11/11 [==============================] - 0s 2ms/step - loss: 7.3983 - accuracy: 0.5204\n",
            "Epoch 71/100\n",
            "11/11 [==============================] - 0s 2ms/step - loss: 7.3983 - accuracy: 0.5204\n",
            "Epoch 72/100\n",
            "11/11 [==============================] - 0s 2ms/step - loss: 7.3983 - accuracy: 0.5204\n",
            "Epoch 73/100\n",
            "11/11 [==============================] - 0s 2ms/step - loss: 7.3983 - accuracy: 0.5204\n",
            "Epoch 74/100\n",
            "11/11 [==============================] - 0s 2ms/step - loss: 7.3983 - accuracy: 0.5204\n",
            "Epoch 75/100\n",
            "11/11 [==============================] - 0s 2ms/step - loss: 7.3983 - accuracy: 0.5204\n",
            "Epoch 76/100\n",
            "11/11 [==============================] - 0s 2ms/step - loss: 7.3983 - accuracy: 0.5204\n",
            "Epoch 77/100\n",
            "11/11 [==============================] - 0s 2ms/step - loss: 7.3983 - accuracy: 0.5204\n",
            "Epoch 78/100\n",
            "11/11 [==============================] - 0s 2ms/step - loss: 7.3983 - accuracy: 0.5204\n",
            "Epoch 79/100\n",
            "11/11 [==============================] - 0s 3ms/step - loss: 7.3983 - accuracy: 0.5204\n",
            "Epoch 80/100\n",
            "11/11 [==============================] - 0s 2ms/step - loss: 7.3983 - accuracy: 0.5204\n",
            "Epoch 81/100\n",
            "11/11 [==============================] - 0s 3ms/step - loss: 7.3983 - accuracy: 0.5204\n",
            "Epoch 82/100\n",
            "11/11 [==============================] - 0s 2ms/step - loss: 7.3983 - accuracy: 0.5204\n",
            "Epoch 83/100\n",
            "11/11 [==============================] - 0s 2ms/step - loss: 7.3983 - accuracy: 0.5204\n",
            "Epoch 84/100\n",
            "11/11 [==============================] - 0s 2ms/step - loss: 7.3983 - accuracy: 0.5204\n",
            "Epoch 85/100\n",
            "11/11 [==============================] - 0s 2ms/step - loss: 7.3983 - accuracy: 0.5204\n",
            "Epoch 86/100\n",
            "11/11 [==============================] - 0s 2ms/step - loss: 7.3983 - accuracy: 0.5204\n",
            "Epoch 87/100\n",
            "11/11 [==============================] - 0s 2ms/step - loss: 7.3983 - accuracy: 0.5204\n",
            "Epoch 88/100\n",
            "11/11 [==============================] - 0s 2ms/step - loss: 7.3983 - accuracy: 0.5204\n",
            "Epoch 89/100\n",
            "11/11 [==============================] - 0s 3ms/step - loss: 7.3983 - accuracy: 0.5204\n",
            "Epoch 90/100\n",
            "11/11 [==============================] - 0s 3ms/step - loss: 7.3983 - accuracy: 0.5204\n",
            "Epoch 91/100\n",
            "11/11 [==============================] - 0s 2ms/step - loss: 7.3983 - accuracy: 0.5204\n",
            "Epoch 92/100\n",
            "11/11 [==============================] - 0s 3ms/step - loss: 7.3983 - accuracy: 0.5204\n",
            "Epoch 93/100\n",
            "11/11 [==============================] - 0s 2ms/step - loss: 7.3983 - accuracy: 0.5204\n",
            "Epoch 94/100\n",
            "11/11 [==============================] - 0s 2ms/step - loss: 7.3983 - accuracy: 0.5204\n",
            "Epoch 95/100\n",
            "11/11 [==============================] - 0s 2ms/step - loss: 7.3983 - accuracy: 0.5204\n",
            "Epoch 96/100\n",
            "11/11 [==============================] - 0s 3ms/step - loss: 7.3983 - accuracy: 0.5204\n",
            "Epoch 97/100\n",
            "11/11 [==============================] - 0s 2ms/step - loss: 7.3983 - accuracy: 0.5204\n",
            "Epoch 98/100\n",
            "11/11 [==============================] - 0s 2ms/step - loss: 7.3983 - accuracy: 0.5204\n",
            "Epoch 99/100\n",
            "11/11 [==============================] - 0s 2ms/step - loss: 7.3983 - accuracy: 0.5204\n",
            "Epoch 100/100\n",
            "11/11 [==============================] - 0s 2ms/step - loss: 7.3983 - accuracy: 0.5204\n"
          ]
        }
      ]
    },
    {
      "cell_type": "code",
      "source": [
        "import matplotlib.pyplot as plt\n",
        "plt.plot(zero_relu_train.history['loss'])\n",
        "plt.title('model loss')\n",
        "plt.ylabel('loss')\n",
        "plt.xlabel('epoch')\n",
        "plt.show()\n"
      ],
      "metadata": {
        "colab": {
          "base_uri": "https://localhost:8080/",
          "height": 295
        },
        "outputId": "aaafd112-dd92-4dd8-89bc-fe7f3814e56b",
        "id": "G_xhkPUkAZh_"
      },
      "execution_count": 421,
      "outputs": [
        {
          "output_type": "display_data",
          "data": {
            "image/png": "[encoded data removed]",
            "text/plain": [
              "<Figure size 432x288 with 1 Axes>"
            ]
          },
          "metadata": {
            "needs_background": "light"
          }
        }
      ]
    },
    {
      "cell_type": "code",
      "source": [
        "zero_relu_results = zero_relu_model.evaluate(X_test, y_test)"
      ],
      "metadata": {
        "colab": {
          "base_uri": "https://localhost:8080/"
        },
        "outputId": "74414a76-058d-417e-8716-d47f19dd971c",
        "id": "-ABdtSSmAZiA"
      },
      "execution_count": 422,
      "outputs": [
        {
          "output_type": "stream",
          "name": "stdout",
          "text": [
            "12/12 [==============================] - 0s 2ms/step - loss: 8.1838 - accuracy: 0.4694\n"
          ]
        }
      ]
    },
    {
      "cell_type": "code",
      "source": [
        "print(zero_relu_model.metrics_names) \n",
        "print(zero_relu_results)\n"
      ],
      "metadata": {
        "colab": {
          "base_uri": "https://localhost:8080/"
        },
        "outputId": "b5ffdd32-0742-4736-f5a2-7f5681bb8b0c",
        "id": "YsBcIXuaAZiA"
      },
      "execution_count": 423,
      "outputs": [
        {
          "output_type": "stream",
          "name": "stdout",
          "text": [
            "['loss', 'accuracy']\n",
            "[8.183792114257812, 0.4694444537162781]\n"
          ]
        }
      ]
    },
    {
      "cell_type": "markdown",
      "source": [
        "#**Q5 - Using ADAM Optimizer**\n",
        "---"
      ],
      "metadata": {
        "id": "tAT9hKlTI7Df"
      }
    },
    {
      "cell_type": "markdown",
      "source": [
        "#Zero with ReLu and ADAM Optimizer"
      ],
      "metadata": {
        "id": "qJnlSy6mBf9f"
      }
    },
    {
      "cell_type": "code",
      "source": [
        "zero_relua_model=Sequential()\n",
        "zero_relua_model.add(Dense(10,input_shape = (7,), activation = 'relu',kernel_initializer=zero_initializer))\n",
        "zero_relua_model.add(Dense(10,activation='relu',kernel_initializer=zero_initializer))\n",
        "zero_relua_model.add(Dense(10,activation='relu',kernel_initializer=zero_initializer))\n",
        "zero_relua_model.add(Dense(10,activation='relu',kernel_initializer=zero_initializer))\n",
        "zero_relua_model.add(Dense(10,activation='relu',kernel_initializer=zero_initializer))\n",
        "zero_relua_model.add(Dense(2,kernel_initializer=zero_initializer))"
      ],
      "metadata": {
        "id": "kGVKhaLeBf9h"
      },
      "execution_count": 424,
      "outputs": []
    },
    {
      "cell_type": "code",
      "source": [
        "zero_relua_model.summary()"
      ],
      "metadata": {
        "colab": {
          "base_uri": "https://localhost:8080/"
        },
        "outputId": "f930cacd-4134-47ab-9405-b71191893d6a",
        "id": "y5zGI8dRBf9h"
      },
      "execution_count": 425,
      "outputs": [
        {
          "output_type": "stream",
          "name": "stdout",
          "text": [
            "Model: \"sequential_47\"\n",
            "_________________________________________________________________\n",
            " Layer (type)                Output Shape              Param #   \n",
            "=================================================================\n",
            " dense_282 (Dense)           (None, 10)                80        \n",
            "                                                                 \n",
            " dense_283 (Dense)           (None, 10)                110       \n",
            "                                                                 \n",
            " dense_284 (Dense)           (None, 10)                110       \n",
            "                                                                 \n",
            " dense_285 (Dense)           (None, 10)                110       \n",
            "                                                                 \n",
            " dense_286 (Dense)           (None, 10)                110       \n",
            "                                                                 \n",
            " dense_287 (Dense)           (None, 2)                 22        \n",
            "                                                                 \n",
            "=================================================================\n",
            "Total params: 542\n",
            "Trainable params: 542\n",
            "Non-trainable params: 0\n",
            "_________________________________________________________________\n"
          ]
        }
      ]
    },
    {
      "cell_type": "code",
      "source": [
        "zero_relua = optimizers.Adam(learning_rate = 0.01) \n",
        "zero_relua_model.compile(optimizer = zero_relua, loss = 'binary_crossentropy', metrics = ['accuracy'])\n"
      ],
      "metadata": {
        "id": "s4LrXwzcBf9i"
      },
      "execution_count": 426,
      "outputs": []
    },
    {
      "cell_type": "code",
      "source": [
        "zero_relua_train=zero_relua_model.fit(X_train, y_train, batch_size = 50, epochs = 100, verbose = 1)"
      ],
      "metadata": {
        "colab": {
          "base_uri": "https://localhost:8080/"
        },
        "outputId": "5d0268b6-9f61-47e8-f70d-0c57a88dcf9f",
        "id": "5aWkd7z5Bf9j"
      },
      "execution_count": 427,
      "outputs": [
        {
          "output_type": "stream",
          "name": "stdout",
          "text": [
            "Epoch 1/100\n",
            "11/11 [==============================] - 1s 3ms/step - loss: 7.3983 - accuracy: 0.5204\n",
            "Epoch 2/100\n",
            "11/11 [==============================] - 0s 2ms/step - loss: 7.3983 - accuracy: 0.5204\n",
            "Epoch 3/100\n",
            "11/11 [==============================] - 0s 3ms/step - loss: 7.3983 - accuracy: 0.5204\n",
            "Epoch 4/100\n",
            "11/11 [==============================] - 0s 3ms/step - loss: 7.3983 - accuracy: 0.5204\n",
            "Epoch 5/100\n",
            "11/11 [==============================] - 0s 3ms/step - loss: 7.3983 - accuracy: 0.5204\n",
            "Epoch 6/100\n",
            "11/11 [==============================] - 0s 2ms/step - loss: 7.3983 - accuracy: 0.5204\n",
            "Epoch 7/100\n",
            "11/11 [==============================] - 0s 2ms/step - loss: 7.3983 - accuracy: 0.5204\n",
            "Epoch 8/100\n",
            "11/11 [==============================] - 0s 2ms/step - loss: 7.3983 - accuracy: 0.5204\n",
            "Epoch 9/100\n",
            "11/11 [==============================] - 0s 2ms/step - loss: 7.3983 - accuracy: 0.5204\n",
            "Epoch 10/100\n",
            "11/11 [==============================] - 0s 2ms/step - loss: 7.3983 - accuracy: 0.5204\n",
            "Epoch 11/100\n",
            "11/11 [==============================] - 0s 3ms/step - loss: 7.3983 - accuracy: 0.5204\n",
            "Epoch 12/100\n",
            "11/11 [==============================] - 0s 3ms/step - loss: 7.3983 - accuracy: 0.5204\n",
            "Epoch 13/100\n",
            "11/11 [==============================] - 0s 3ms/step - loss: 7.3983 - accuracy: 0.5204\n",
            "Epoch 14/100\n",
            "11/11 [==============================] - 0s 2ms/step - loss: 7.3983 - accuracy: 0.5204\n",
            "Epoch 15/100\n",
            "11/11 [==============================] - 0s 3ms/step - loss: 7.3983 - accuracy: 0.5204\n",
            "Epoch 16/100\n",
            "11/11 [==============================] - 0s 3ms/step - loss: 7.3983 - accuracy: 0.5204\n",
            "Epoch 17/100\n",
            "11/11 [==============================] - 0s 2ms/step - loss: 7.3983 - accuracy: 0.5204\n",
            "Epoch 18/100\n",
            "11/11 [==============================] - 0s 3ms/step - loss: 7.3983 - accuracy: 0.5204\n",
            "Epoch 19/100\n",
            "11/11 [==============================] - 0s 3ms/step - loss: 7.3983 - accuracy: 0.5204\n",
            "Epoch 20/100\n",
            "11/11 [==============================] - 0s 2ms/step - loss: 7.3983 - accuracy: 0.5204\n",
            "Epoch 21/100\n",
            "11/11 [==============================] - 0s 2ms/step - loss: 7.3983 - accuracy: 0.5204\n",
            "Epoch 22/100\n",
            "11/11 [==============================] - 0s 3ms/step - loss: 7.3983 - accuracy: 0.5204\n",
            "Epoch 23/100\n",
            "11/11 [==============================] - 0s 3ms/step - loss: 7.3983 - accuracy: 0.5204\n",
            "Epoch 24/100\n",
            "11/11 [==============================] - 0s 2ms/step - loss: 7.3983 - accuracy: 0.5204\n",
            "Epoch 25/100\n",
            "11/11 [==============================] - 0s 2ms/step - loss: 7.3983 - accuracy: 0.5204\n",
            "Epoch 26/100\n",
            "11/11 [==============================] - 0s 3ms/step - loss: 7.3983 - accuracy: 0.5204\n",
            "Epoch 27/100\n",
            "11/11 [==============================] - 0s 3ms/step - loss: 7.3983 - accuracy: 0.5204\n",
            "Epoch 28/100\n",
            "11/11 [==============================] - 0s 2ms/step - loss: 7.3983 - accuracy: 0.5204\n",
            "Epoch 29/100\n",
            "11/11 [==============================] - 0s 3ms/step - loss: 7.3983 - accuracy: 0.5204\n",
            "Epoch 30/100\n",
            "11/11 [==============================] - 0s 3ms/step - loss: 7.3983 - accuracy: 0.5204\n",
            "Epoch 31/100\n",
            "11/11 [==============================] - 0s 3ms/step - loss: 7.3983 - accuracy: 0.5204\n",
            "Epoch 32/100\n",
            "11/11 [==============================] - 0s 3ms/step - loss: 7.3983 - accuracy: 0.5204\n",
            "Epoch 33/100\n",
            "11/11 [==============================] - 0s 2ms/step - loss: 7.3983 - accuracy: 0.5204\n",
            "Epoch 34/100\n",
            "11/11 [==============================] - 0s 4ms/step - loss: 7.3983 - accuracy: 0.5204\n",
            "Epoch 35/100\n",
            "11/11 [==============================] - 0s 2ms/step - loss: 7.3983 - accuracy: 0.5204\n",
            "Epoch 36/100\n",
            "11/11 [==============================] - 0s 3ms/step - loss: 7.3983 - accuracy: 0.5204\n",
            "Epoch 37/100\n",
            "11/11 [==============================] - 0s 3ms/step - loss: 7.3983 - accuracy: 0.5204\n",
            "Epoch 38/100\n",
            "11/11 [==============================] - 0s 2ms/step - loss: 7.3983 - accuracy: 0.5204\n",
            "Epoch 39/100\n",
            "11/11 [==============================] - 0s 3ms/step - loss: 7.3983 - accuracy: 0.5204\n",
            "Epoch 40/100\n",
            "11/11 [==============================] - 0s 3ms/step - loss: 7.3983 - accuracy: 0.5204\n",
            "Epoch 41/100\n",
            "11/11 [==============================] - 0s 3ms/step - loss: 7.3983 - accuracy: 0.5204\n",
            "Epoch 42/100\n",
            "11/11 [==============================] - 0s 3ms/step - loss: 7.3983 - accuracy: 0.5204\n",
            "Epoch 43/100\n",
            "11/11 [==============================] - 0s 2ms/step - loss: 7.3983 - accuracy: 0.5204\n",
            "Epoch 44/100\n",
            "11/11 [==============================] - 0s 3ms/step - loss: 7.3983 - accuracy: 0.5204\n",
            "Epoch 45/100\n",
            "11/11 [==============================] - 0s 3ms/step - loss: 7.3983 - accuracy: 0.5204\n",
            "Epoch 46/100\n",
            "11/11 [==============================] - 0s 3ms/step - loss: 7.3983 - accuracy: 0.5204\n",
            "Epoch 47/100\n",
            "11/11 [==============================] - 0s 3ms/step - loss: 7.3983 - accuracy: 0.5204\n",
            "Epoch 48/100\n",
            "11/11 [==============================] - 0s 2ms/step - loss: 7.3983 - accuracy: 0.5204\n",
            "Epoch 49/100\n",
            "11/11 [==============================] - 0s 3ms/step - loss: 7.3983 - accuracy: 0.5204\n",
            "Epoch 50/100\n",
            "11/11 [==============================] - 0s 3ms/step - loss: 7.3983 - accuracy: 0.5204\n",
            "Epoch 51/100\n",
            "11/11 [==============================] - 0s 3ms/step - loss: 7.3983 - accuracy: 0.5204\n",
            "Epoch 52/100\n",
            "11/11 [==============================] - 0s 3ms/step - loss: 7.3983 - accuracy: 0.5204\n",
            "Epoch 53/100\n",
            "11/11 [==============================] - 0s 3ms/step - loss: 7.3983 - accuracy: 0.5204\n",
            "Epoch 54/100\n",
            "11/11 [==============================] - 0s 3ms/step - loss: 7.3983 - accuracy: 0.5204\n",
            "Epoch 55/100\n",
            "11/11 [==============================] - 0s 3ms/step - loss: 7.3983 - accuracy: 0.5204\n",
            "Epoch 56/100\n",
            "11/11 [==============================] - 0s 3ms/step - loss: 7.3983 - accuracy: 0.5204\n",
            "Epoch 57/100\n",
            "11/11 [==============================] - 0s 3ms/step - loss: 7.3983 - accuracy: 0.5204\n",
            "Epoch 58/100\n",
            "11/11 [==============================] - 0s 3ms/step - loss: 7.3983 - accuracy: 0.5204\n",
            "Epoch 59/100\n",
            "11/11 [==============================] - 0s 3ms/step - loss: 7.3983 - accuracy: 0.5204\n",
            "Epoch 60/100\n",
            "11/11 [==============================] - 0s 3ms/step - loss: 7.3983 - accuracy: 0.5204\n",
            "Epoch 61/100\n",
            "11/11 [==============================] - 0s 3ms/step - loss: 7.3983 - accuracy: 0.5204\n",
            "Epoch 62/100\n",
            "11/11 [==============================] - 0s 2ms/step - loss: 7.3983 - accuracy: 0.5204\n",
            "Epoch 63/100\n",
            "11/11 [==============================] - 0s 3ms/step - loss: 7.3983 - accuracy: 0.5204\n",
            "Epoch 64/100\n",
            "11/11 [==============================] - 0s 3ms/step - loss: 7.3983 - accuracy: 0.5204\n",
            "Epoch 65/100\n",
            "11/11 [==============================] - 0s 2ms/step - loss: 7.3983 - accuracy: 0.5204\n",
            "Epoch 66/100\n",
            "11/11 [==============================] - 0s 2ms/step - loss: 7.3983 - accuracy: 0.5204\n",
            "Epoch 67/100\n",
            "11/11 [==============================] - 0s 2ms/step - loss: 7.3983 - accuracy: 0.5204\n",
            "Epoch 68/100\n",
            "11/11 [==============================] - 0s 3ms/step - loss: 7.3983 - accuracy: 0.5204\n",
            "Epoch 69/100\n",
            "11/11 [==============================] - 0s 3ms/step - loss: 7.3983 - accuracy: 0.5204\n",
            "Epoch 70/100\n",
            "11/11 [==============================] - 0s 3ms/step - loss: 7.3983 - accuracy: 0.5204\n",
            "Epoch 71/100\n",
            "11/11 [==============================] - 0s 2ms/step - loss: 7.3983 - accuracy: 0.5204\n",
            "Epoch 72/100\n",
            "11/11 [==============================] - 0s 2ms/step - loss: 7.3983 - accuracy: 0.5204\n",
            "Epoch 73/100\n",
            "11/11 [==============================] - 0s 3ms/step - loss: 7.3983 - accuracy: 0.5204\n",
            "Epoch 74/100\n",
            "11/11 [==============================] - 0s 3ms/step - loss: 7.3983 - accuracy: 0.5204\n",
            "Epoch 75/100\n",
            "11/11 [==============================] - 0s 3ms/step - loss: 7.3983 - accuracy: 0.5204\n",
            "Epoch 76/100\n",
            "11/11 [==============================] - 0s 3ms/step - loss: 7.3983 - accuracy: 0.5204\n",
            "Epoch 77/100\n",
            "11/11 [==============================] - 0s 3ms/step - loss: 7.3983 - accuracy: 0.5204\n",
            "Epoch 78/100\n",
            "11/11 [==============================] - 0s 3ms/step - loss: 7.3983 - accuracy: 0.5204\n",
            "Epoch 79/100\n",
            "11/11 [==============================] - 0s 3ms/step - loss: 7.3983 - accuracy: 0.5204\n",
            "Epoch 80/100\n",
            "11/11 [==============================] - 0s 2ms/step - loss: 7.3983 - accuracy: 0.5204\n",
            "Epoch 81/100\n",
            "11/11 [==============================] - 0s 3ms/step - loss: 7.3983 - accuracy: 0.5204\n",
            "Epoch 82/100\n",
            "11/11 [==============================] - 0s 3ms/step - loss: 7.3983 - accuracy: 0.5204\n",
            "Epoch 83/100\n",
            "11/11 [==============================] - 0s 3ms/step - loss: 7.3983 - accuracy: 0.5204\n",
            "Epoch 84/100\n",
            "11/11 [==============================] - 0s 3ms/step - loss: 7.3983 - accuracy: 0.5204\n",
            "Epoch 85/100\n",
            "11/11 [==============================] - 0s 3ms/step - loss: 7.3983 - accuracy: 0.5204\n",
            "Epoch 86/100\n",
            "11/11 [==============================] - 0s 3ms/step - loss: 7.3983 - accuracy: 0.5204\n",
            "Epoch 87/100\n",
            "11/11 [==============================] - 0s 3ms/step - loss: 7.3983 - accuracy: 0.5204\n",
            "Epoch 88/100\n",
            "11/11 [==============================] - 0s 3ms/step - loss: 7.3983 - accuracy: 0.5204\n",
            "Epoch 89/100\n",
            "11/11 [==============================] - 0s 2ms/step - loss: 7.3983 - accuracy: 0.5204\n",
            "Epoch 90/100\n",
            "11/11 [==============================] - 0s 3ms/step - loss: 7.3983 - accuracy: 0.5204\n",
            "Epoch 91/100\n",
            "11/11 [==============================] - 0s 4ms/step - loss: 7.3983 - accuracy: 0.5204\n",
            "Epoch 92/100\n",
            "11/11 [==============================] - 0s 3ms/step - loss: 7.3983 - accuracy: 0.5204\n",
            "Epoch 93/100\n",
            "11/11 [==============================] - 0s 3ms/step - loss: 7.3983 - accuracy: 0.5204\n",
            "Epoch 94/100\n",
            "11/11 [==============================] - 0s 3ms/step - loss: 7.3983 - accuracy: 0.5204\n",
            "Epoch 95/100\n",
            "11/11 [==============================] - 0s 3ms/step - loss: 7.3983 - accuracy: 0.5204\n",
            "Epoch 96/100\n",
            "11/11 [==============================] - 0s 2ms/step - loss: 7.3983 - accuracy: 0.5204\n",
            "Epoch 97/100\n",
            "11/11 [==============================] - 0s 2ms/step - loss: 7.3983 - accuracy: 0.5204\n",
            "Epoch 98/100\n",
            "11/11 [==============================] - 0s 3ms/step - loss: 7.3983 - accuracy: 0.5204\n",
            "Epoch 99/100\n",
            "11/11 [==============================] - 0s 4ms/step - loss: 7.3983 - accuracy: 0.5204\n",
            "Epoch 100/100\n",
            "11/11 [==============================] - 0s 3ms/step - loss: 7.3983 - accuracy: 0.5204\n"
          ]
        }
      ]
    },
    {
      "cell_type": "code",
      "source": [
        "import matplotlib.pyplot as plt\n",
        "plt.plot(zero_relua_train.history['loss'])\n",
        "plt.title('model loss')\n",
        "plt.ylabel('loss')\n",
        "plt.xlabel('epoch')\n",
        "plt.show()\n"
      ],
      "metadata": {
        "colab": {
          "base_uri": "https://localhost:8080/",
          "height": 295
        },
        "outputId": "d1e58940-9f1c-48a1-a774-4963e3991a92",
        "id": "QmudwAgsBf9k"
      },
      "execution_count": 428,
      "outputs": [
        {
          "output_type": "display_data",
          "data": {
            "image/png": "[encoded data removed]",
            "text/plain": [
              "<Figure size 432x288 with 1 Axes>"
            ]
          },
          "metadata": {
            "needs_background": "light"
          }
        }
      ]
    },
    {
      "cell_type": "code",
      "source": [
        "zero_relua_results = zero_relua_model.evaluate(X_test, y_test)"
      ],
      "metadata": {
        "colab": {
          "base_uri": "https://localhost:8080/"
        },
        "outputId": "75ebadfc-19b9-4078-cd8f-bde91466a355",
        "id": "n7mOGudgBf9k"
      },
      "execution_count": 429,
      "outputs": [
        {
          "output_type": "stream",
          "name": "stdout",
          "text": [
            "12/12 [==============================] - 0s 2ms/step - loss: 8.1838 - accuracy: 0.4694\n"
          ]
        }
      ]
    },
    {
      "cell_type": "code",
      "source": [
        "print(zero_relua_model.metrics_names) \n",
        "print(zero_relua_results)\n"
      ],
      "metadata": {
        "colab": {
          "base_uri": "https://localhost:8080/"
        },
        "outputId": "c60ac0d4-b60f-40be-f007-090cd58106b3",
        "id": "7Nl9mQw2Bf9l"
      },
      "execution_count": 430,
      "outputs": [
        {
          "output_type": "stream",
          "name": "stdout",
          "text": [
            "['loss', 'accuracy']\n",
            "[8.183792114257812, 0.4694444537162781]\n"
          ]
        }
      ]
    },
    {
      "cell_type": "code",
      "source": [
        "print(f\"Test Accuracy is: {zero_relua_results[1]*100}%\")"
      ],
      "metadata": {
        "colab": {
          "base_uri": "https://localhost:8080/"
        },
        "id": "w2edWi_oLC6m",
        "outputId": "20bf0ec9-51d3-4525-dc39-07891bd0d280"
      },
      "execution_count": 431,
      "outputs": [
        {
          "output_type": "stream",
          "name": "stdout",
          "text": [
            "Test Accuracy is: 46.94444537162781%\n"
          ]
        }
      ]
    },
    {
      "cell_type": "markdown",
      "source": [
        "**Inference**\n",
        "---\n",
        "----\n",
        "There seems to be no change in the accuracy when using the ADAM optimizer instead of SGD (Stochastic Gradient Descent) Optimizer for the Raisin Dataset. In fact the accuracy decreased when compared to ReLu with SGD (51% -> 48%).\n"
      ],
      "metadata": {
        "id": "r0eds8BMKSVj"
      }
    },
    {
      "cell_type": "markdown",
      "source": [
        "#**Q6 - Confusion Matrix**\n",
        "---"
      ],
      "metadata": {
        "id": "jK5K1sJCEVWf"
      }
    },
    {
      "cell_type": "code",
      "source": [
        "print(f\"Test Accuracy for Q1 - Standard/default  is: {results[1]*100}%\")\n",
        "print(f\"Test Accuracy with Random Normal is: {rn_results[1]*100}%\")\n",
        "print(f\"Test Accuracy with Random Uniform is: {ru_results[1]*100}%\")\n",
        "print(f\"Test Accuracy with Truncated Normal is: {tn_results[1]*100}%\")\n",
        "print(f\"Test Accuracy with Identity is: {i_results[1]*100}%\")\n",
        "print(f\"Test Accuracy with Zero is: {zero_results[1]*100}%\")\n",
        "print(f\"Test Accuracy with Glorot Normal is: {gn_results[1]*100}%\")\n",
        "print(f\"Test Accuracy with Glorot Uniform is: {gu_results[1]*100}%\")\n",
        "print(f\"Test Accuracy with Orthogonal is: {ortho_results[1]*100}%\")\n",
        "print(f\"Test Accuracy with HeNormal is: {hn_results[1]*100}%\")\n",
        "print(f\"Test Accuracy with HeUniform is: {hu_results[1]*100}%\")\n",
        "print(f\"Test Accuracy with Ones is: {ones_results[1]*100}%\")\n",
        "print(f\"Test Accuracy With Zero, ReLu is: {zero_relu_results[1]*100}%\")\n",
        "print(f\"Test Accuracy With Zero, ReLu and ADAM is: {zero_relua_results[1]*100}%\")"
      ],
      "metadata": {
        "colab": {
          "base_uri": "https://localhost:8080/"
        },
        "id": "q4h9TPa2EZDW",
        "outputId": "1853f74a-260e-4790-8925-1f7796513ea4"
      },
      "execution_count": 432,
      "outputs": [
        {
          "output_type": "stream",
          "name": "stdout",
          "text": [
            "Test Accuracy for Q1 - Standard/default  is: 38.88888955116272%\n",
            "Test Accuracy with Random Normal is: 38.05555701255798%\n",
            "Test Accuracy with Random Uniform is: 46.94444537162781%\n",
            "Test Accuracy with Truncated Normal is: 53.05555462837219%\n",
            "Test Accuracy with Identity is: 53.05555462837219%\n",
            "Test Accuracy with Zero is: 46.94444537162781%\n",
            "Test Accuracy with Glorot Normal is: 53.05555462837219%\n",
            "Test Accuracy with Glorot Uniform is: 46.94444537162781%\n",
            "Test Accuracy with Orthogonal is: 46.94444537162781%\n",
            "Test Accuracy with HeNormal is: 46.94444537162781%\n",
            "Test Accuracy with HeUniform is: 53.05555462837219%\n",
            "Test Accuracy with Ones is: 46.94444537162781%\n",
            "Test Accuracy With Zero, ReLu is: 46.94444537162781%\n",
            "Test Accuracy With Zero, ReLu and ADAM is: 46.94444537162781%\n"
          ]
        }
      ]
    }
  ]
}