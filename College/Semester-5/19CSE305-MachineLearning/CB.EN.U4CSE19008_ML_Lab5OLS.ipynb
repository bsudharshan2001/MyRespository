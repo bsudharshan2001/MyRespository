{
  "nbformat": 4,
  "nbformat_minor": 0,
  "metadata": {
    "colab": {
      "name": "CB.EN.U4CSE19008_ML-Lab5OLS.ipynb",
      "provenance": [],
      "authorship_tag": "ABX9TyPNafwb8s6ewEaqlEWSC/ue",
      "include_colab_link": true
    },
    "kernelspec": {
      "name": "python3",
      "display_name": "Python 3"
    },
    "language_info": {
      "name": "python"
    }
  },
  "cells": [
    {
      "cell_type": "markdown",
      "metadata": {
        "id": "view-in-github",
        "colab_type": "text"
      },
      "source": [
        "<a href=\"https://colab.research.google.com/github/bsudharshan2001/MyRespository/blob/master/College/Semester-5/19CSE305-MachineLearning/CB.EN.U4CSE19008_ML_Lab5OLS.ipynb\" target=\"_parent\"><img src=\"https://colab.research.google.com/assets/colab-badge.svg\" alt=\"Open In Colab\"/></a>"
      ]
    },
    {
      "cell_type": "markdown",
      "metadata": {
        "id": "6nJXTt2r0L3x"
      },
      "source": [
        "19CSE305 - Machine Learning - Lab 5 - OLS\n",
        "---\n",
        "------------------------------\n",
        "B Sudharshan - CB.EN.U4CSE19008 - CSE A"
      ]
    },
    {
      "cell_type": "code",
      "metadata": {
        "id": "QtWR_ZQCshoj"
      },
      "source": [
        "#OLS\n",
        "import pandas as pd\n",
        "dataset={\n",
        "    'HoursSpent(x)':[6,10,2,4,6,7,0,1,8,5,3],\n",
        "    'Grade(y)':[82,88,56,64,77,92,23,41,80,59,47]\n",
        "}"
      ],
      "execution_count": 6,
      "outputs": []
    },
    {
      "cell_type": "code",
      "metadata": {
        "colab": {
          "base_uri": "https://localhost:8080/"
        },
        "id": "I_ZuL6D47ncZ",
        "outputId": "ee9a819f-4e5a-4b89-e0e0-f22623a22fd7"
      },
      "source": [
        "df=pd.DataFrame(dataset)\n",
        "print(df)"
      ],
      "execution_count": 7,
      "outputs": [
        {
          "output_type": "stream",
          "text": [
            "    HoursSpent(x)  Grade(y)\n",
            "0               6        82\n",
            "1              10        88\n",
            "2               2        56\n",
            "3               4        64\n",
            "4               6        77\n",
            "5               7        92\n",
            "6               0        23\n",
            "7               1        41\n",
            "8               8        80\n",
            "9               5        59\n",
            "10              3        47\n"
          ],
          "name": "stdout"
        }
      ]
    },
    {
      "cell_type": "code",
      "metadata": {
        "colab": {
          "base_uri": "https://localhost:8080/"
        },
        "id": "3aJAyAXY7pFn",
        "outputId": "fc23c420-9788-4caa-dce4-3bdcfc0af299"
      },
      "source": [
        "xm=df['HoursSpent(x)'].mean()\n",
        "ym=df['Grade(y)'].mean()\n",
        "df['x-xm']=df['HoursSpent(x)']-xm\n",
        "df['y-ym']=df['Grade(y)']-ym\n",
        "df['(x-xm)(y-ym)']=df['x-xm']*df['y-ym']\n",
        "df['(x-xm)^2']=df['x-xm']*df['x-xm']\n",
        "print(df)"
      ],
      "execution_count": 8,
      "outputs": [
        {
          "output_type": "stream",
          "text": [
            "    HoursSpent(x)  Grade(y)      x-xm       y-ym  (x-xm)(y-ym)   (x-xm)^2\n",
            "0               6        82  1.272727  17.545455     22.330579   1.619835\n",
            "1              10        88  5.272727  23.545455    124.148760  27.801653\n",
            "2               2        56 -2.727273  -8.454545     23.057851   7.438017\n",
            "3               4        64 -0.727273  -0.454545      0.330579   0.528926\n",
            "4               6        77  1.272727  12.545455     15.966942   1.619835\n",
            "5               7        92  2.272727  27.545455     62.603306   5.165289\n",
            "6               0        23 -4.727273 -41.454545    195.966942  22.347107\n",
            "7               1        41 -3.727273 -23.454545     87.421488  13.892562\n",
            "8               8        80  3.272727  15.545455     50.876033  10.710744\n",
            "9               5        59  0.272727  -5.454545     -1.487603   0.074380\n",
            "10              3        47 -1.727273 -17.454545     30.148760   2.983471\n"
          ],
          "name": "stdout"
        }
      ]
    },
    {
      "cell_type": "code",
      "metadata": {
        "colab": {
          "base_uri": "https://localhost:8080/"
        },
        "id": "cwIk8ETq7weg",
        "outputId": "5d985e71-7e18-4f98-9a46-f095b1aed852"
      },
      "source": [
        "totalxy=df['(x-xm)(y-ym)'].sum()\n",
        "totalx2=df['(x-xm)^2'].sum()\n",
        "slopeP1=totalxy/totalx2\n",
        "p0=ym-(slopeP1*xm)\n",
        "\n",
        "print(\"The Line Equation is : h(x)= \",slopeP1,\"x - \",p0) \n",
        "print(\"The Y Intercept is : \",p0)\n",
        "print(\"Slope is :\",slopeP1)"
      ],
      "execution_count": 9,
      "outputs": [
        {
          "output_type": "stream",
          "text": [
            "The Line Equation is : h(x)=  6.491312741312742 x -  33.768339768339764\n",
            "The Y Intercept is :  33.768339768339764\n",
            "Slope is : 6.491312741312742\n"
          ],
          "name": "stdout"
        }
      ]
    }
  ]
}