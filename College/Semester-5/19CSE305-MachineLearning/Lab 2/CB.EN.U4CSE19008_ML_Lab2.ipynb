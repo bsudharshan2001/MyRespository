{
  "nbformat": 4,
  "nbformat_minor": 0,
  "metadata": {
    "colab": {
      "name": "CB.EN.U4CSE19008-ML-Lab2.ipynb",
      "provenance": [],
      "authorship_tag": "ABX9TyP6fUj4gwv+RTf1kxhdo+pv",
      "include_colab_link": true
    },
    "kernelspec": {
      "name": "python3",
      "display_name": "Python 3"
    },
    "language_info": {
      "name": "python"
    }
  },
  "cells": [
    {
      "cell_type": "markdown",
      "metadata": {
        "id": "view-in-github",
        "colab_type": "text"
      },
      "source": [
        "<a href=\"https://colab.research.google.com/github/bsudharshan2001/MyRespository/blob/master/College/Semester-5/19CSE305-MachineLearning/Lab%202/CB.EN.U4CSE19008_ML_Lab2.ipynb\" target=\"_parent\"><img src=\"https://colab.research.google.com/assets/colab-badge.svg\" alt=\"Open In Colab\"/></a>"
      ]
    },
    {
      "cell_type": "markdown",
      "metadata": {
        "id": "OaIEY0wo38iH"
      },
      "source": [
        "**Python Basics : Excercises**\n",
        "----\n",
        "B Sudharshan - CB.EN.U4CSE19008\n",
        "\n"
      ]
    },
    {
      "cell_type": "code",
      "metadata": {
        "colab": {
          "base_uri": "https://localhost:8080/"
        },
        "id": "fybFRZEc3giq",
        "outputId": "f4d7db09-f998-4606-ed04-02587bf2d22a"
      },
      "source": [
        "#Question 1\n",
        "def prime(n,end):\n",
        "  for i in range(2,end):\n",
        "    if(n%i==0):\n",
        "      return False\n",
        "  return True  \n",
        "start=int(input('Enter Starting no: '))\n",
        "end=int(input('Enter Ending no: '))\n",
        "for i in range(start,end):\n",
        "  if(prime(i,end)):\n",
        "      print(i)   "
      ],
      "execution_count": 7,
      "outputs": [
        {
          "output_type": "stream",
          "text": [
            "Enter Starting no: 5\n",
            "Enter Ending no: 10\n"
          ],
          "name": "stdout"
        }
      ]
    },
    {
      "cell_type": "code",
      "metadata": {
        "colab": {
          "base_uri": "https://localhost:8080/"
        },
        "id": "SIa1mxV16gUI",
        "outputId": "b51f64a4-d666-47e3-8ca6-5fe049a86a06"
      },
      "source": [
        "#Question 2\n",
        "word=input(\"Enter String: \")\n",
        "lst=word.split()\n",
        "freq=[]\n",
        "j=0\n",
        "sum=0\n",
        "for i in lst:\n",
        "  freq.append(lst.count(i))\n",
        "for j in freq:\n",
        "  sum=sum+j\n",
        "want=input('Word? ')\n",
        "ans=(freq[lst.index(want)]/sum)*100\n",
        "print(ans)"
      ],
      "execution_count": 10,
      "outputs": [
        {
          "output_type": "stream",
          "text": [
            "Enter String: hi hello hi\n",
            "Word? hi\n"
          ],
          "name": "stdout"
        }
      ]
    },
    {
      "cell_type": "code",
      "metadata": {
        "colab": {
          "base_uri": "https://localhost:8080/"
        },
        "id": "KcZwH1OD83ZE",
        "outputId": "95de2d86-18ac-447b-874c-2d21388fe97f"
      },
      "source": [
        "#Question 3\n",
        "import math\n",
        "n=int(input('Enter no: '))\n",
        "n1=5*n*n+4\n",
        "n2=5*n*n-4\n",
        "s1=math.sqrt(n1)\n",
        "s2=math.sqrt(n2)\n",
        "if((s1*s1==n1) or (s2*s2==n2)):\n",
        "  print(\"Is a Fibonacci\")\n",
        "\n"
      ],
      "execution_count": 17,
      "outputs": [
        {
          "output_type": "stream",
          "text": [
            "Enter no: 5\n",
            "Is a Fibonacci\n"
          ],
          "name": "stdout"
        }
      ]
    },
    {
      "cell_type": "code",
      "metadata": {
        "colab": {
          "base_uri": "https://localhost:8080/"
        },
        "id": "HO-UY17O_wop",
        "outputId": "4d141c94-f734-453c-903b-5b35223537ae"
      },
      "source": [
        "#Question 4\n",
        "n=int(input('Enter a no:'))\n",
        "temp=n\n",
        "while(temp>0):\n",
        "  dig=temp%10\n",
        "  if((dig!=0) and (n%dig==0)):\n",
        "    print('No not divisible by digits')\n",
        "  temp=temp//10\n",
        "print('No Divisible')"
      ],
      "execution_count": 21,
      "outputs": [
        {
          "output_type": "stream",
          "text": [
            "Enter a no:35\n",
            "No not divisible by digits\n",
            "No Divisible\n"
          ],
          "name": "stdout"
        }
      ]
    },
    {
      "cell_type": "code",
      "metadata": {
        "id": "-OGdhGbV_yoH"
      },
      "source": [
        "#Question 5\n",
        "n=int(input())\n",
        "for i in range(0,n):\n",
        "  e=int(input())\n",
        "k=int(input())\n"
      ],
      "execution_count": null,
      "outputs": []
    },
    {
      "cell_type": "markdown",
      "metadata": {
        "id": "9fx9hoLr_z49"
      },
      "source": [
        "**NumPy Questions**"
      ]
    },
    {
      "cell_type": "code",
      "metadata": {
        "colab": {
          "base_uri": "https://localhost:8080/"
        },
        "id": "EN4ZBoer_2rE",
        "outputId": "692e6c0b-a6c1-4646-f3a1-f67541143750"
      },
      "source": [
        "#Question 1\n",
        "import numpy as np\n",
        "q1 = np.random.randint(3,10,(4,5))\n",
        "print(q1)"
      ],
      "execution_count": 15,
      "outputs": [
        {
          "output_type": "stream",
          "text": [
            "[[3 3 3 4 6]\n",
            " [4 9 6 9 4]\n",
            " [7 7 8 9 7]\n",
            " [7 8 8 3 9]]\n"
          ],
          "name": "stdout"
        }
      ]
    },
    {
      "cell_type": "code",
      "metadata": {
        "colab": {
          "base_uri": "https://localhost:8080/"
        },
        "id": "5fU-uZq5AdkX",
        "outputId": "dcf249c6-7668-4bd5-fa86-547ae2d71afb"
      },
      "source": [
        "#Question 2\n",
        "import numpy as np\n",
        "q2 = np.random.randint(0,10,(10))\n",
        "print(q2)\n",
        "q2.reshape(2,5)\n",
        "print(q2)"
      ],
      "execution_count": 14,
      "outputs": [
        {
          "output_type": "stream",
          "text": [
            "[4 2 2 9 3 6 2 8 9 6]\n",
            "[4 2 2 9 3 6 2 8 9 6]\n"
          ],
          "name": "stdout"
        }
      ]
    },
    {
      "cell_type": "code",
      "metadata": {
        "colab": {
          "base_uri": "https://localhost:8080/"
        },
        "id": "zNbFUig2Adqm",
        "outputId": "12d75851-a8f4-4f2f-d903-74bae0c9952c"
      },
      "source": [
        "#Question 3\n",
        "import numpy as np\n",
        "q3 = [97,88,102,99,95]\n",
        "q3 = np.array(q3)\n",
        "print(q3)\n",
        "for i in q3:\n",
        "  i = (i - 32)*(5/9)\n",
        "print(q3)"
      ],
      "execution_count": 11,
      "outputs": [
        {
          "output_type": "stream",
          "text": [
            "[ 97  88 102  99  95]\n"
          ],
          "name": "stdout"
        }
      ]
    },
    {
      "cell_type": "code",
      "metadata": {
        "colab": {
          "base_uri": "https://localhost:8080/"
        },
        "id": "c6LwrFfQAdxG",
        "outputId": "c6e3b045-9c80-4fc8-bf49-ed4a6a841ea7"
      },
      "source": [
        "#Question 4\n",
        "import numpy as np\n",
        "q4 = np.random.randint(2,8,(2,3,5))\n",
        "print(q4.itemsize)\n",
        "print(q4.shape)\n",
        "print(q4.size)"
      ],
      "execution_count": 12,
      "outputs": [
        {
          "output_type": "stream",
          "text": [
            "8\n",
            "(2, 3, 5)\n",
            "30\n"
          ],
          "name": "stdout"
        }
      ]
    },
    {
      "cell_type": "code",
      "metadata": {
        "colab": {
          "base_uri": "https://localhost:8080/"
        },
        "id": "XRKL7COxAd5u",
        "outputId": "561b2046-1409-4a7f-91f7-876b7dcd130c"
      },
      "source": [
        "#Question 5\n",
        "import numpy as np\n",
        "q5 = np.random.randint(3,8,(3,4))\n",
        "print(q5)\n",
        "print(q5[1:3,2:4])"
      ],
      "execution_count": 13,
      "outputs": [
        {
          "output_type": "stream",
          "text": [
            "[[3 3 7 3]\n",
            " [4 7 7 4]\n",
            " [4 7 7 5]]\n",
            "[[7 4]\n",
            " [7 5]]\n"
          ],
          "name": "stdout"
        }
      ]
    }
  ]
}