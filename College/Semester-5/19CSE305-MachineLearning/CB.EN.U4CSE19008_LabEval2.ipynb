{
  "nbformat": 4,
  "nbformat_minor": 0,
  "metadata": {
    "colab": {
      "name": "CB.EN.U4CSE19008_LabEval2.ipynb",
      "provenance": [],
      "collapsed_sections": [],
      "authorship_tag": "ABX9TyMfDj0bTOPOgfb+Y9chVeqw",
      "include_colab_link": true
    },
    "kernelspec": {
      "name": "python3",
      "display_name": "Python 3"
    },
    "language_info": {
      "name": "python"
    }
  },
  "cells": [
    {
      "cell_type": "markdown",
      "metadata": {
        "id": "view-in-github",
        "colab_type": "text"
      },
      "source": [
        "<a href=\"https://colab.research.google.com/github/bsudharshan2001/MyRespository/blob/master/College/Semester-5/19CSE305-MachineLearning/CB.EN.U4CSE19008_LabEval2.ipynb\" target=\"_parent\"><img src=\"https://colab.research.google.com/assets/colab-badge.svg\" alt=\"Open In Colab\"/></a>"
      ]
    },
    {
      "cell_type": "markdown",
      "metadata": {
        "id": "mKQtgICxfTkx"
      },
      "source": [
        "19CSE305 - Machine Learning - Evaluation 2\n",
        "---\n",
        "------------\n",
        "B Sudharshan - CB.EN.U4CSE19008"
      ]
    },
    {
      "cell_type": "code",
      "metadata": {
        "id": "ns3jFvwRe6pt"
      },
      "source": [
        "import numpy as np\n",
        "import pandas as pd\n",
        "import matplotlib.pyplot as plt\n",
        "import seaborn as sns\n",
        "from sklearn.preprocessing import LabelEncoder"
      ],
      "execution_count": null,
      "outputs": []
    },
    {
      "cell_type": "code",
      "metadata": {
        "colab": {
          "base_uri": "https://localhost:8080/",
          "height": 424
        },
        "id": "3s238LAFfppz",
        "outputId": "e450c3e6-2796-486d-a485-361073bb82b4"
      },
      "source": [
        "custData=pd.read_csv('/content/customer_data - customer_data.csv')\n",
        "custData"
      ],
      "execution_count": null,
      "outputs": [
        {
          "output_type": "execute_result",
          "data": {
            "text/html": [
              "<div>\n",
              "<style scoped>\n",
              "    .dataframe tbody tr th:only-of-type {\n",
              "        vertical-align: middle;\n",
              "    }\n",
              "\n",
              "    .dataframe tbody tr th {\n",
              "        vertical-align: top;\n",
              "    }\n",
              "\n",
              "    .dataframe thead th {\n",
              "        text-align: right;\n",
              "    }\n",
              "</style>\n",
              "<table border=\"1\" class=\"dataframe\">\n",
              "  <thead>\n",
              "    <tr style=\"text-align: right;\">\n",
              "      <th></th>\n",
              "      <th>label</th>\n",
              "      <th>id</th>\n",
              "      <th>fea_1</th>\n",
              "      <th>fea_2</th>\n",
              "      <th>fea_3</th>\n",
              "      <th>fea_4</th>\n",
              "      <th>fea_5</th>\n",
              "      <th>fea_6</th>\n",
              "      <th>fea_7</th>\n",
              "      <th>fea_8</th>\n",
              "      <th>fea_9</th>\n",
              "      <th>fea_10</th>\n",
              "      <th>fea_11</th>\n",
              "    </tr>\n",
              "  </thead>\n",
              "  <tbody>\n",
              "    <tr>\n",
              "      <th>0</th>\n",
              "      <td>Eligible</td>\n",
              "      <td>54982665</td>\n",
              "      <td>5.0</td>\n",
              "      <td>1245.5</td>\n",
              "      <td>3.0</td>\n",
              "      <td>77000.0</td>\n",
              "      <td>2.0</td>\n",
              "      <td>15.0</td>\n",
              "      <td>5.0</td>\n",
              "      <td>109.0</td>\n",
              "      <td>5</td>\n",
              "      <td>151300.0</td>\n",
              "      <td>244.948974</td>\n",
              "    </tr>\n",
              "    <tr>\n",
              "      <th>1</th>\n",
              "      <td>Not Eligible</td>\n",
              "      <td>59004779</td>\n",
              "      <td>4.0</td>\n",
              "      <td>1277.0</td>\n",
              "      <td>1.0</td>\n",
              "      <td>113000.0</td>\n",
              "      <td>2.0</td>\n",
              "      <td>8.0</td>\n",
              "      <td>-1.0</td>\n",
              "      <td>100.0</td>\n",
              "      <td>3</td>\n",
              "      <td>341759.0</td>\n",
              "      <td>207.173840</td>\n",
              "    </tr>\n",
              "    <tr>\n",
              "      <th>2</th>\n",
              "      <td>Not Eligible</td>\n",
              "      <td>58990862</td>\n",
              "      <td>7.0</td>\n",
              "      <td>1298.0</td>\n",
              "      <td>1.0</td>\n",
              "      <td>110000.0</td>\n",
              "      <td>2.0</td>\n",
              "      <td>11.0</td>\n",
              "      <td>-1.0</td>\n",
              "      <td>101.0</td>\n",
              "      <td>5</td>\n",
              "      <td>72001.0</td>\n",
              "      <td>1.000000</td>\n",
              "    </tr>\n",
              "    <tr>\n",
              "      <th>3</th>\n",
              "      <td>Eligible</td>\n",
              "      <td>58995168</td>\n",
              "      <td>7.0</td>\n",
              "      <td>1335.5</td>\n",
              "      <td>1.0</td>\n",
              "      <td>151000.0</td>\n",
              "      <td>2.0</td>\n",
              "      <td>11.0</td>\n",
              "      <td>5.0</td>\n",
              "      <td>110.0</td>\n",
              "      <td>3</td>\n",
              "      <td>60084.0</td>\n",
              "      <td>1.000000</td>\n",
              "    </tr>\n",
              "    <tr>\n",
              "      <th>4</th>\n",
              "      <td>Not Eligible</td>\n",
              "      <td>54987320</td>\n",
              "      <td>7.0</td>\n",
              "      <td>NaN</td>\n",
              "      <td>2.0</td>\n",
              "      <td>59000.0</td>\n",
              "      <td>2.0</td>\n",
              "      <td>11.0</td>\n",
              "      <td>5.0</td>\n",
              "      <td>108.0</td>\n",
              "      <td>4</td>\n",
              "      <td>450081.0</td>\n",
              "      <td>197.403141</td>\n",
              "    </tr>\n",
              "    <tr>\n",
              "      <th>...</th>\n",
              "      <td>...</td>\n",
              "      <td>...</td>\n",
              "      <td>...</td>\n",
              "      <td>...</td>\n",
              "      <td>...</td>\n",
              "      <td>...</td>\n",
              "      <td>...</td>\n",
              "      <td>...</td>\n",
              "      <td>...</td>\n",
              "      <td>...</td>\n",
              "      <td>...</td>\n",
              "      <td>...</td>\n",
              "      <td>...</td>\n",
              "    </tr>\n",
              "    <tr>\n",
              "      <th>1120</th>\n",
              "      <td>Not Eligible</td>\n",
              "      <td>58988196</td>\n",
              "      <td>5.0</td>\n",
              "      <td>1289.0</td>\n",
              "      <td>1.0</td>\n",
              "      <td>173000.0</td>\n",
              "      <td>2.0</td>\n",
              "      <td>15.0</td>\n",
              "      <td>5.0</td>\n",
              "      <td>112.0</td>\n",
              "      <td>3</td>\n",
              "      <td>350702.0</td>\n",
              "      <td>200.000000</td>\n",
              "    </tr>\n",
              "    <tr>\n",
              "      <th>1121</th>\n",
              "      <td>Not Eligible</td>\n",
              "      <td>58987926</td>\n",
              "      <td>5.0</td>\n",
              "      <td>NaN</td>\n",
              "      <td>2.0</td>\n",
              "      <td>NaN</td>\n",
              "      <td>2.0</td>\n",
              "      <td>15.0</td>\n",
              "      <td>5.0</td>\n",
              "      <td>NaN</td>\n",
              "      <td>4</td>\n",
              "      <td>450000.0</td>\n",
              "      <td>169.000000</td>\n",
              "    </tr>\n",
              "    <tr>\n",
              "      <th>1122</th>\n",
              "      <td>Not Eligible</td>\n",
              "      <td>58995381</td>\n",
              "      <td>7.0</td>\n",
              "      <td>1220.0</td>\n",
              "      <td>3.0</td>\n",
              "      <td>76000.0</td>\n",
              "      <td>2.0</td>\n",
              "      <td>NaN</td>\n",
              "      <td>2.0</td>\n",
              "      <td>90.0</td>\n",
              "      <td>5</td>\n",
              "      <td>71002.0</td>\n",
              "      <td>1.000000</td>\n",
              "    </tr>\n",
              "    <tr>\n",
              "      <th>1123</th>\n",
              "      <td>Not Eligible</td>\n",
              "      <td>58998054</td>\n",
              "      <td>4.0</td>\n",
              "      <td>1250.0</td>\n",
              "      <td>3.0</td>\n",
              "      <td>137000.0</td>\n",
              "      <td>2.0</td>\n",
              "      <td>8.0</td>\n",
              "      <td>5.0</td>\n",
              "      <td>NaN</td>\n",
              "      <td>5</td>\n",
              "      <td>72000.0</td>\n",
              "      <td>1.000000</td>\n",
              "    </tr>\n",
              "    <tr>\n",
              "      <th>1124</th>\n",
              "      <td>Not Eligible</td>\n",
              "      <td>54989781</td>\n",
              "      <td>4.0</td>\n",
              "      <td>1415.0</td>\n",
              "      <td>3.0</td>\n",
              "      <td>93000.0</td>\n",
              "      <td>2.0</td>\n",
              "      <td>8.0</td>\n",
              "      <td>5.0</td>\n",
              "      <td>113.0</td>\n",
              "      <td>4</td>\n",
              "      <td>151300.0</td>\n",
              "      <td>273.861279</td>\n",
              "    </tr>\n",
              "  </tbody>\n",
              "</table>\n",
              "<p>1125 rows × 13 columns</p>\n",
              "</div>"
            ],
            "text/plain": [
              "             label        id  fea_1   fea_2  ...  fea_8  fea_9    fea_10      fea_11\n",
              "0         Eligible  54982665    5.0  1245.5  ...  109.0      5  151300.0  244.948974\n",
              "1     Not Eligible  59004779    4.0  1277.0  ...  100.0      3  341759.0  207.173840\n",
              "2     Not Eligible  58990862    7.0  1298.0  ...  101.0      5   72001.0    1.000000\n",
              "3         Eligible  58995168    7.0  1335.5  ...  110.0      3   60084.0    1.000000\n",
              "4     Not Eligible  54987320    7.0     NaN  ...  108.0      4  450081.0  197.403141\n",
              "...            ...       ...    ...     ...  ...    ...    ...       ...         ...\n",
              "1120  Not Eligible  58988196    5.0  1289.0  ...  112.0      3  350702.0  200.000000\n",
              "1121  Not Eligible  58987926    5.0     NaN  ...    NaN      4  450000.0  169.000000\n",
              "1122  Not Eligible  58995381    7.0  1220.0  ...   90.0      5   71002.0    1.000000\n",
              "1123  Not Eligible  58998054    4.0  1250.0  ...    NaN      5   72000.0    1.000000\n",
              "1124  Not Eligible  54989781    4.0  1415.0  ...  113.0      4  151300.0  273.861279\n",
              "\n",
              "[1125 rows x 13 columns]"
            ]
          },
          "metadata": {},
          "execution_count": 52
        }
      ]
    },
    {
      "cell_type": "code",
      "metadata": {
        "colab": {
          "base_uri": "https://localhost:8080/",
          "height": 300
        },
        "id": "6_DrL9bigywb",
        "outputId": "35c7c1b5-3f2b-4643-b9f0-5b95d20f3e6e"
      },
      "source": [
        "custData.describe()"
      ],
      "execution_count": null,
      "outputs": [
        {
          "output_type": "execute_result",
          "data": {
            "text/html": [
              "<div>\n",
              "<style scoped>\n",
              "    .dataframe tbody tr th:only-of-type {\n",
              "        vertical-align: middle;\n",
              "    }\n",
              "\n",
              "    .dataframe tbody tr th {\n",
              "        vertical-align: top;\n",
              "    }\n",
              "\n",
              "    .dataframe thead th {\n",
              "        text-align: right;\n",
              "    }\n",
              "</style>\n",
              "<table border=\"1\" class=\"dataframe\">\n",
              "  <thead>\n",
              "    <tr style=\"text-align: right;\">\n",
              "      <th></th>\n",
              "      <th>id</th>\n",
              "      <th>fea_1</th>\n",
              "      <th>fea_2</th>\n",
              "      <th>fea_3</th>\n",
              "      <th>fea_4</th>\n",
              "      <th>fea_5</th>\n",
              "      <th>fea_6</th>\n",
              "      <th>fea_7</th>\n",
              "      <th>fea_8</th>\n",
              "      <th>fea_9</th>\n",
              "      <th>fea_10</th>\n",
              "      <th>fea_11</th>\n",
              "    </tr>\n",
              "  </thead>\n",
              "  <tbody>\n",
              "    <tr>\n",
              "      <th>count</th>\n",
              "      <td>1.125000e+03</td>\n",
              "      <td>1124.000000</td>\n",
              "      <td>973.000000</td>\n",
              "      <td>1124.000000</td>\n",
              "      <td>1.105000e+03</td>\n",
              "      <td>1122.000000</td>\n",
              "      <td>1118.000000</td>\n",
              "      <td>1123.000000</td>\n",
              "      <td>1109.000000</td>\n",
              "      <td>1125.000000</td>\n",
              "      <td>1111.000000</td>\n",
              "      <td>1124.000000</td>\n",
              "    </tr>\n",
              "    <tr>\n",
              "      <th>mean</th>\n",
              "      <td>5.783677e+07</td>\n",
              "      <td>5.483096</td>\n",
              "      <td>1283.998972</td>\n",
              "      <td>2.332740</td>\n",
              "      <td>1.208914e+05</td>\n",
              "      <td>1.928699</td>\n",
              "      <td>10.872987</td>\n",
              "      <td>4.832591</td>\n",
              "      <td>100.746619</td>\n",
              "      <td>4.195556</td>\n",
              "      <td>164960.138614</td>\n",
              "      <td>135.118220</td>\n",
              "    </tr>\n",
              "    <tr>\n",
              "      <th>std</th>\n",
              "      <td>1.817150e+06</td>\n",
              "      <td>1.383878</td>\n",
              "      <td>51.798453</td>\n",
              "      <td>0.878939</td>\n",
              "      <td>8.888950e+04</td>\n",
              "      <td>0.257442</td>\n",
              "      <td>2.679202</td>\n",
              "      <td>2.973820</td>\n",
              "      <td>11.979141</td>\n",
              "      <td>0.855679</td>\n",
              "      <td>152709.332226</td>\n",
              "      <td>112.595885</td>\n",
              "    </tr>\n",
              "    <tr>\n",
              "      <th>min</th>\n",
              "      <td>5.498235e+07</td>\n",
              "      <td>1.000000</td>\n",
              "      <td>1116.500000</td>\n",
              "      <td>1.000000</td>\n",
              "      <td>1.500000e+04</td>\n",
              "      <td>1.000000</td>\n",
              "      <td>3.000000</td>\n",
              "      <td>-1.000000</td>\n",
              "      <td>64.000000</td>\n",
              "      <td>1.000000</td>\n",
              "      <td>60000.000000</td>\n",
              "      <td>1.000000</td>\n",
              "    </tr>\n",
              "    <tr>\n",
              "      <th>25%</th>\n",
              "      <td>5.499050e+07</td>\n",
              "      <td>4.000000</td>\n",
              "      <td>1244.000000</td>\n",
              "      <td>1.000000</td>\n",
              "      <td>7.200000e+04</td>\n",
              "      <td>2.000000</td>\n",
              "      <td>8.000000</td>\n",
              "      <td>5.000000</td>\n",
              "      <td>90.000000</td>\n",
              "      <td>3.000000</td>\n",
              "      <td>60044.500000</td>\n",
              "      <td>1.000000</td>\n",
              "    </tr>\n",
              "    <tr>\n",
              "      <th>50%</th>\n",
              "      <td>5.898975e+07</td>\n",
              "      <td>5.000000</td>\n",
              "      <td>1281.500000</td>\n",
              "      <td>3.000000</td>\n",
              "      <td>1.010000e+05</td>\n",
              "      <td>2.000000</td>\n",
              "      <td>11.000000</td>\n",
              "      <td>5.000000</td>\n",
              "      <td>105.000000</td>\n",
              "      <td>4.000000</td>\n",
              "      <td>72000.000000</td>\n",
              "      <td>173.205081</td>\n",
              "    </tr>\n",
              "    <tr>\n",
              "      <th>75%</th>\n",
              "      <td>5.899799e+07</td>\n",
              "      <td>7.000000</td>\n",
              "      <td>1314.500000</td>\n",
              "      <td>3.000000</td>\n",
              "      <td>1.380000e+05</td>\n",
              "      <td>2.000000</td>\n",
              "      <td>11.000000</td>\n",
              "      <td>5.000000</td>\n",
              "      <td>111.000000</td>\n",
              "      <td>5.000000</td>\n",
              "      <td>151307.000000</td>\n",
              "      <td>202.484567</td>\n",
              "    </tr>\n",
              "    <tr>\n",
              "      <th>max</th>\n",
              "      <td>5.900624e+07</td>\n",
              "      <td>7.000000</td>\n",
              "      <td>1481.000000</td>\n",
              "      <td>3.000000</td>\n",
              "      <td>1.200000e+06</td>\n",
              "      <td>2.000000</td>\n",
              "      <td>16.000000</td>\n",
              "      <td>10.000000</td>\n",
              "      <td>115.000000</td>\n",
              "      <td>5.000000</td>\n",
              "      <td>650070.000000</td>\n",
              "      <td>707.106781</td>\n",
              "    </tr>\n",
              "  </tbody>\n",
              "</table>\n",
              "</div>"
            ],
            "text/plain": [
              "                 id        fea_1  ...         fea_10       fea_11\n",
              "count  1.125000e+03  1124.000000  ...    1111.000000  1124.000000\n",
              "mean   5.783677e+07     5.483096  ...  164960.138614   135.118220\n",
              "std    1.817150e+06     1.383878  ...  152709.332226   112.595885\n",
              "min    5.498235e+07     1.000000  ...   60000.000000     1.000000\n",
              "25%    5.499050e+07     4.000000  ...   60044.500000     1.000000\n",
              "50%    5.898975e+07     5.000000  ...   72000.000000   173.205081\n",
              "75%    5.899799e+07     7.000000  ...  151307.000000   202.484567\n",
              "max    5.900624e+07     7.000000  ...  650070.000000   707.106781\n",
              "\n",
              "[8 rows x 12 columns]"
            ]
          },
          "metadata": {},
          "execution_count": 53
        }
      ]
    },
    {
      "cell_type": "code",
      "metadata": {
        "colab": {
          "base_uri": "https://localhost:8080/"
        },
        "id": "oMlDZvoShDD_",
        "outputId": "5789b547-e374-4dfe-e820-e02435be4796"
      },
      "source": [
        "custData.shape"
      ],
      "execution_count": null,
      "outputs": [
        {
          "output_type": "execute_result",
          "data": {
            "text/plain": [
              "(1125, 13)"
            ]
          },
          "metadata": {},
          "execution_count": 54
        }
      ]
    },
    {
      "cell_type": "code",
      "metadata": {
        "colab": {
          "base_uri": "https://localhost:8080/"
        },
        "id": "3bYhOquig6ZW",
        "outputId": "3267b3fa-3e4b-4e74-b938-5727ddd91166"
      },
      "source": [
        "custData.info()"
      ],
      "execution_count": null,
      "outputs": [
        {
          "output_type": "stream",
          "name": "stdout",
          "text": [
            "<class 'pandas.core.frame.DataFrame'>\n",
            "RangeIndex: 1125 entries, 0 to 1124\n",
            "Data columns (total 13 columns):\n",
            " #   Column  Non-Null Count  Dtype  \n",
            "---  ------  --------------  -----  \n",
            " 0   label   1125 non-null   object \n",
            " 1   id      1125 non-null   int64  \n",
            " 2   fea_1   1124 non-null   float64\n",
            " 3   fea_2   973 non-null    float64\n",
            " 4   fea_3   1124 non-null   float64\n",
            " 5   fea_4   1105 non-null   float64\n",
            " 6   fea_5   1122 non-null   float64\n",
            " 7   fea_6   1118 non-null   float64\n",
            " 8   fea_7   1123 non-null   float64\n",
            " 9   fea_8   1109 non-null   float64\n",
            " 10  fea_9   1125 non-null   int64  \n",
            " 11  fea_10  1111 non-null   float64\n",
            " 12  fea_11  1124 non-null   float64\n",
            "dtypes: float64(10), int64(2), object(1)\n",
            "memory usage: 114.4+ KB\n"
          ]
        }
      ]
    },
    {
      "cell_type": "code",
      "metadata": {
        "colab": {
          "base_uri": "https://localhost:8080/"
        },
        "id": "pFKatbhTg_Gt",
        "outputId": "3427dc4a-7fca-46ba-bca6-673f0ec081a7"
      },
      "source": [
        "custData.isnull().sum()"
      ],
      "execution_count": null,
      "outputs": [
        {
          "output_type": "execute_result",
          "data": {
            "text/plain": [
              "label       0\n",
              "id          0\n",
              "fea_1       1\n",
              "fea_2     152\n",
              "fea_3       1\n",
              "fea_4      20\n",
              "fea_5       3\n",
              "fea_6       7\n",
              "fea_7       2\n",
              "fea_8      16\n",
              "fea_9       0\n",
              "fea_10     14\n",
              "fea_11      1\n",
              "dtype: int64"
            ]
          },
          "metadata": {},
          "execution_count": 56
        }
      ]
    },
    {
      "cell_type": "code",
      "metadata": {
        "colab": {
          "base_uri": "https://localhost:8080/"
        },
        "id": "qdyJ1ENphXkD",
        "outputId": "735a232f-3aa5-4576-8b1e-8a7ef8df5d7c"
      },
      "source": [
        "custData.mean()"
      ],
      "execution_count": null,
      "outputs": [
        {
          "output_type": "execute_result",
          "data": {
            "text/plain": [
              "id        5.783677e+07\n",
              "fea_1     5.483096e+00\n",
              "fea_2     1.283999e+03\n",
              "fea_3     2.332740e+00\n",
              "fea_4     1.208914e+05\n",
              "fea_5     1.928699e+00\n",
              "fea_6     1.087299e+01\n",
              "fea_7     4.832591e+00\n",
              "fea_8     1.007466e+02\n",
              "fea_9     4.195556e+00\n",
              "fea_10    1.649601e+05\n",
              "fea_11    1.351182e+02\n",
              "dtype: float64"
            ]
          },
          "metadata": {},
          "execution_count": 57
        }
      ]
    },
    {
      "cell_type": "code",
      "metadata": {
        "colab": {
          "base_uri": "https://localhost:8080/"
        },
        "id": "OSLewi4Zhi3P",
        "outputId": "e29d6bcc-27f0-4337-9182-855cf91700a2"
      },
      "source": [
        "custData.fillna(custData.mean(),inplace = True)\n",
        "custData.isnull().sum()"
      ],
      "execution_count": null,
      "outputs": [
        {
          "output_type": "execute_result",
          "data": {
            "text/plain": [
              "label     0\n",
              "id        0\n",
              "fea_1     0\n",
              "fea_2     0\n",
              "fea_3     0\n",
              "fea_4     0\n",
              "fea_5     0\n",
              "fea_6     0\n",
              "fea_7     0\n",
              "fea_8     0\n",
              "fea_9     0\n",
              "fea_10    0\n",
              "fea_11    0\n",
              "dtype: int64"
            ]
          },
          "metadata": {},
          "execution_count": 58
        }
      ]
    },
    {
      "cell_type": "code",
      "metadata": {
        "colab": {
          "base_uri": "https://localhost:8080/",
          "height": 424
        },
        "id": "NEjQ9yHihssk",
        "outputId": "930b1799-7796-45d5-e9de-116e48bacb74"
      },
      "source": [
        "custData.drop_duplicates()"
      ],
      "execution_count": null,
      "outputs": [
        {
          "output_type": "execute_result",
          "data": {
            "text/html": [
              "<div>\n",
              "<style scoped>\n",
              "    .dataframe tbody tr th:only-of-type {\n",
              "        vertical-align: middle;\n",
              "    }\n",
              "\n",
              "    .dataframe tbody tr th {\n",
              "        vertical-align: top;\n",
              "    }\n",
              "\n",
              "    .dataframe thead th {\n",
              "        text-align: right;\n",
              "    }\n",
              "</style>\n",
              "<table border=\"1\" class=\"dataframe\">\n",
              "  <thead>\n",
              "    <tr style=\"text-align: right;\">\n",
              "      <th></th>\n",
              "      <th>label</th>\n",
              "      <th>id</th>\n",
              "      <th>fea_1</th>\n",
              "      <th>fea_2</th>\n",
              "      <th>fea_3</th>\n",
              "      <th>fea_4</th>\n",
              "      <th>fea_5</th>\n",
              "      <th>fea_6</th>\n",
              "      <th>fea_7</th>\n",
              "      <th>fea_8</th>\n",
              "      <th>fea_9</th>\n",
              "      <th>fea_10</th>\n",
              "      <th>fea_11</th>\n",
              "    </tr>\n",
              "  </thead>\n",
              "  <tbody>\n",
              "    <tr>\n",
              "      <th>0</th>\n",
              "      <td>Eligible</td>\n",
              "      <td>54982665</td>\n",
              "      <td>5.0</td>\n",
              "      <td>1245.500000</td>\n",
              "      <td>3.0</td>\n",
              "      <td>77000.000000</td>\n",
              "      <td>2.0</td>\n",
              "      <td>15.000000</td>\n",
              "      <td>5.0</td>\n",
              "      <td>109.000000</td>\n",
              "      <td>5</td>\n",
              "      <td>151300.0</td>\n",
              "      <td>244.948974</td>\n",
              "    </tr>\n",
              "    <tr>\n",
              "      <th>1</th>\n",
              "      <td>Not Eligible</td>\n",
              "      <td>59004779</td>\n",
              "      <td>4.0</td>\n",
              "      <td>1277.000000</td>\n",
              "      <td>1.0</td>\n",
              "      <td>113000.000000</td>\n",
              "      <td>2.0</td>\n",
              "      <td>8.000000</td>\n",
              "      <td>-1.0</td>\n",
              "      <td>100.000000</td>\n",
              "      <td>3</td>\n",
              "      <td>341759.0</td>\n",
              "      <td>207.173840</td>\n",
              "    </tr>\n",
              "    <tr>\n",
              "      <th>2</th>\n",
              "      <td>Not Eligible</td>\n",
              "      <td>58990862</td>\n",
              "      <td>7.0</td>\n",
              "      <td>1298.000000</td>\n",
              "      <td>1.0</td>\n",
              "      <td>110000.000000</td>\n",
              "      <td>2.0</td>\n",
              "      <td>11.000000</td>\n",
              "      <td>-1.0</td>\n",
              "      <td>101.000000</td>\n",
              "      <td>5</td>\n",
              "      <td>72001.0</td>\n",
              "      <td>1.000000</td>\n",
              "    </tr>\n",
              "    <tr>\n",
              "      <th>3</th>\n",
              "      <td>Eligible</td>\n",
              "      <td>58995168</td>\n",
              "      <td>7.0</td>\n",
              "      <td>1335.500000</td>\n",
              "      <td>1.0</td>\n",
              "      <td>151000.000000</td>\n",
              "      <td>2.0</td>\n",
              "      <td>11.000000</td>\n",
              "      <td>5.0</td>\n",
              "      <td>110.000000</td>\n",
              "      <td>3</td>\n",
              "      <td>60084.0</td>\n",
              "      <td>1.000000</td>\n",
              "    </tr>\n",
              "    <tr>\n",
              "      <th>4</th>\n",
              "      <td>Not Eligible</td>\n",
              "      <td>54987320</td>\n",
              "      <td>7.0</td>\n",
              "      <td>1283.998972</td>\n",
              "      <td>2.0</td>\n",
              "      <td>59000.000000</td>\n",
              "      <td>2.0</td>\n",
              "      <td>11.000000</td>\n",
              "      <td>5.0</td>\n",
              "      <td>108.000000</td>\n",
              "      <td>4</td>\n",
              "      <td>450081.0</td>\n",
              "      <td>197.403141</td>\n",
              "    </tr>\n",
              "    <tr>\n",
              "      <th>...</th>\n",
              "      <td>...</td>\n",
              "      <td>...</td>\n",
              "      <td>...</td>\n",
              "      <td>...</td>\n",
              "      <td>...</td>\n",
              "      <td>...</td>\n",
              "      <td>...</td>\n",
              "      <td>...</td>\n",
              "      <td>...</td>\n",
              "      <td>...</td>\n",
              "      <td>...</td>\n",
              "      <td>...</td>\n",
              "      <td>...</td>\n",
              "    </tr>\n",
              "    <tr>\n",
              "      <th>1120</th>\n",
              "      <td>Not Eligible</td>\n",
              "      <td>58988196</td>\n",
              "      <td>5.0</td>\n",
              "      <td>1289.000000</td>\n",
              "      <td>1.0</td>\n",
              "      <td>173000.000000</td>\n",
              "      <td>2.0</td>\n",
              "      <td>15.000000</td>\n",
              "      <td>5.0</td>\n",
              "      <td>112.000000</td>\n",
              "      <td>3</td>\n",
              "      <td>350702.0</td>\n",
              "      <td>200.000000</td>\n",
              "    </tr>\n",
              "    <tr>\n",
              "      <th>1121</th>\n",
              "      <td>Not Eligible</td>\n",
              "      <td>58987926</td>\n",
              "      <td>5.0</td>\n",
              "      <td>1283.998972</td>\n",
              "      <td>2.0</td>\n",
              "      <td>120891.402715</td>\n",
              "      <td>2.0</td>\n",
              "      <td>15.000000</td>\n",
              "      <td>5.0</td>\n",
              "      <td>100.746619</td>\n",
              "      <td>4</td>\n",
              "      <td>450000.0</td>\n",
              "      <td>169.000000</td>\n",
              "    </tr>\n",
              "    <tr>\n",
              "      <th>1122</th>\n",
              "      <td>Not Eligible</td>\n",
              "      <td>58995381</td>\n",
              "      <td>7.0</td>\n",
              "      <td>1220.000000</td>\n",
              "      <td>3.0</td>\n",
              "      <td>76000.000000</td>\n",
              "      <td>2.0</td>\n",
              "      <td>10.872987</td>\n",
              "      <td>2.0</td>\n",
              "      <td>90.000000</td>\n",
              "      <td>5</td>\n",
              "      <td>71002.0</td>\n",
              "      <td>1.000000</td>\n",
              "    </tr>\n",
              "    <tr>\n",
              "      <th>1123</th>\n",
              "      <td>Not Eligible</td>\n",
              "      <td>58998054</td>\n",
              "      <td>4.0</td>\n",
              "      <td>1250.000000</td>\n",
              "      <td>3.0</td>\n",
              "      <td>137000.000000</td>\n",
              "      <td>2.0</td>\n",
              "      <td>8.000000</td>\n",
              "      <td>5.0</td>\n",
              "      <td>100.746619</td>\n",
              "      <td>5</td>\n",
              "      <td>72000.0</td>\n",
              "      <td>1.000000</td>\n",
              "    </tr>\n",
              "    <tr>\n",
              "      <th>1124</th>\n",
              "      <td>Not Eligible</td>\n",
              "      <td>54989781</td>\n",
              "      <td>4.0</td>\n",
              "      <td>1415.000000</td>\n",
              "      <td>3.0</td>\n",
              "      <td>93000.000000</td>\n",
              "      <td>2.0</td>\n",
              "      <td>8.000000</td>\n",
              "      <td>5.0</td>\n",
              "      <td>113.000000</td>\n",
              "      <td>4</td>\n",
              "      <td>151300.0</td>\n",
              "      <td>273.861279</td>\n",
              "    </tr>\n",
              "  </tbody>\n",
              "</table>\n",
              "<p>1125 rows × 13 columns</p>\n",
              "</div>"
            ],
            "text/plain": [
              "             label        id  fea_1  ...  fea_9    fea_10      fea_11\n",
              "0         Eligible  54982665    5.0  ...      5  151300.0  244.948974\n",
              "1     Not Eligible  59004779    4.0  ...      3  341759.0  207.173840\n",
              "2     Not Eligible  58990862    7.0  ...      5   72001.0    1.000000\n",
              "3         Eligible  58995168    7.0  ...      3   60084.0    1.000000\n",
              "4     Not Eligible  54987320    7.0  ...      4  450081.0  197.403141\n",
              "...            ...       ...    ...  ...    ...       ...         ...\n",
              "1120  Not Eligible  58988196    5.0  ...      3  350702.0  200.000000\n",
              "1121  Not Eligible  58987926    5.0  ...      4  450000.0  169.000000\n",
              "1122  Not Eligible  58995381    7.0  ...      5   71002.0    1.000000\n",
              "1123  Not Eligible  58998054    4.0  ...      5   72000.0    1.000000\n",
              "1124  Not Eligible  54989781    4.0  ...      4  151300.0  273.861279\n",
              "\n",
              "[1125 rows x 13 columns]"
            ]
          },
          "metadata": {},
          "execution_count": 59
        }
      ]
    },
    {
      "cell_type": "code",
      "metadata": {
        "colab": {
          "base_uri": "https://localhost:8080/"
        },
        "id": "AIT6gdgqkrTq",
        "outputId": "8ccaeb82-3337-471d-d52b-7931a1d2002c"
      },
      "source": [
        "q1=custData.quantile(0.25)\n",
        "q3=custData.quantile(0.75)\n",
        "iqr=q3-q1\n",
        "print(iqr)\n",
        "print((custData<(q1-1.5*iqr))|(custData>(q3+1.5*iqr)))"
      ],
      "execution_count": null,
      "outputs": [
        {
          "output_type": "stream",
          "name": "stdout",
          "text": [
            "id        4.007497e+06\n",
            "fea_1     3.000000e+00\n",
            "fea_2     6.000000e+01\n",
            "fea_3     2.000000e+00\n",
            "fea_4     6.500000e+04\n",
            "fea_5     0.000000e+00\n",
            "fea_6     3.000000e+00\n",
            "fea_7     0.000000e+00\n",
            "fea_8     2.100000e+01\n",
            "fea_9     2.000000e+00\n",
            "fea_10    1.049131e+05\n",
            "fea_11    2.014846e+02\n",
            "dtype: float64\n",
            "      fea_1  fea_10  fea_11  fea_2  fea_3  ...  fea_7  fea_8  fea_9     id  label\n",
            "0     False   False   False  False  False  ...  False  False  False  False  False\n",
            "1     False    True   False  False  False  ...   True  False  False  False  False\n",
            "2     False   False   False  False  False  ...   True  False  False  False  False\n",
            "3     False   False   False  False  False  ...  False  False  False  False  False\n",
            "4     False    True   False  False  False  ...  False  False  False  False  False\n",
            "...     ...     ...     ...    ...    ...  ...    ...    ...    ...    ...    ...\n",
            "1120  False    True   False  False  False  ...  False  False  False  False  False\n",
            "1121  False    True   False  False  False  ...  False  False  False  False  False\n",
            "1122  False   False   False  False  False  ...   True  False  False  False  False\n",
            "1123  False   False   False  False  False  ...  False  False  False  False  False\n",
            "1124  False   False   False   True  False  ...  False  False  False  False  False\n",
            "\n",
            "[1125 rows x 13 columns]\n"
          ]
        }
      ]
    },
    {
      "cell_type": "code",
      "metadata": {
        "colab": {
          "base_uri": "https://localhost:8080/",
          "height": 424
        },
        "id": "KzbtRReMktRb",
        "outputId": "30c1b619-e1d8-4c9b-a3b8-3531399f9bba"
      },
      "source": [
        "r_custData=custData[~((custData<(q1-1.5*iqr))|(custData>(q3+1.5*iqr))).any(axis=1)]\n",
        "r_custData"
      ],
      "execution_count": null,
      "outputs": [
        {
          "output_type": "execute_result",
          "data": {
            "text/html": [
              "<div>\n",
              "<style scoped>\n",
              "    .dataframe tbody tr th:only-of-type {\n",
              "        vertical-align: middle;\n",
              "    }\n",
              "\n",
              "    .dataframe tbody tr th {\n",
              "        vertical-align: top;\n",
              "    }\n",
              "\n",
              "    .dataframe thead th {\n",
              "        text-align: right;\n",
              "    }\n",
              "</style>\n",
              "<table border=\"1\" class=\"dataframe\">\n",
              "  <thead>\n",
              "    <tr style=\"text-align: right;\">\n",
              "      <th></th>\n",
              "      <th>label</th>\n",
              "      <th>id</th>\n",
              "      <th>fea_1</th>\n",
              "      <th>fea_2</th>\n",
              "      <th>fea_3</th>\n",
              "      <th>fea_4</th>\n",
              "      <th>fea_5</th>\n",
              "      <th>fea_6</th>\n",
              "      <th>fea_7</th>\n",
              "      <th>fea_8</th>\n",
              "      <th>fea_9</th>\n",
              "      <th>fea_10</th>\n",
              "      <th>fea_11</th>\n",
              "    </tr>\n",
              "  </thead>\n",
              "  <tbody>\n",
              "    <tr>\n",
              "      <th>0</th>\n",
              "      <td>Eligible</td>\n",
              "      <td>54982665</td>\n",
              "      <td>5.0</td>\n",
              "      <td>1245.500000</td>\n",
              "      <td>3.0</td>\n",
              "      <td>77000.000000</td>\n",
              "      <td>2.0</td>\n",
              "      <td>15.000000</td>\n",
              "      <td>5.0</td>\n",
              "      <td>109.000000</td>\n",
              "      <td>5</td>\n",
              "      <td>151300.0</td>\n",
              "      <td>244.948974</td>\n",
              "    </tr>\n",
              "    <tr>\n",
              "      <th>3</th>\n",
              "      <td>Eligible</td>\n",
              "      <td>58995168</td>\n",
              "      <td>7.0</td>\n",
              "      <td>1335.500000</td>\n",
              "      <td>1.0</td>\n",
              "      <td>151000.000000</td>\n",
              "      <td>2.0</td>\n",
              "      <td>11.000000</td>\n",
              "      <td>5.0</td>\n",
              "      <td>110.000000</td>\n",
              "      <td>3</td>\n",
              "      <td>60084.0</td>\n",
              "      <td>1.000000</td>\n",
              "    </tr>\n",
              "    <tr>\n",
              "      <th>8</th>\n",
              "      <td>Not Eligible</td>\n",
              "      <td>58984557</td>\n",
              "      <td>5.0</td>\n",
              "      <td>1323.500000</td>\n",
              "      <td>3.0</td>\n",
              "      <td>218000.000000</td>\n",
              "      <td>2.0</td>\n",
              "      <td>15.000000</td>\n",
              "      <td>5.0</td>\n",
              "      <td>100.746619</td>\n",
              "      <td>4</td>\n",
              "      <td>151300.0</td>\n",
              "      <td>282.842713</td>\n",
              "    </tr>\n",
              "    <tr>\n",
              "      <th>9</th>\n",
              "      <td>Not Eligible</td>\n",
              "      <td>54990497</td>\n",
              "      <td>4.0</td>\n",
              "      <td>1283.998972</td>\n",
              "      <td>2.0</td>\n",
              "      <td>35000.000000</td>\n",
              "      <td>2.0</td>\n",
              "      <td>8.000000</td>\n",
              "      <td>5.0</td>\n",
              "      <td>101.000000</td>\n",
              "      <td>3</td>\n",
              "      <td>60029.0</td>\n",
              "      <td>237.301496</td>\n",
              "    </tr>\n",
              "    <tr>\n",
              "      <th>12</th>\n",
              "      <td>Not Eligible</td>\n",
              "      <td>58989327</td>\n",
              "      <td>7.0</td>\n",
              "      <td>1223.000000</td>\n",
              "      <td>3.0</td>\n",
              "      <td>81000.000000</td>\n",
              "      <td>2.0</td>\n",
              "      <td>11.000000</td>\n",
              "      <td>5.0</td>\n",
              "      <td>114.000000</td>\n",
              "      <td>4</td>\n",
              "      <td>151300.0</td>\n",
              "      <td>194.935887</td>\n",
              "    </tr>\n",
              "    <tr>\n",
              "      <th>...</th>\n",
              "      <td>...</td>\n",
              "      <td>...</td>\n",
              "      <td>...</td>\n",
              "      <td>...</td>\n",
              "      <td>...</td>\n",
              "      <td>...</td>\n",
              "      <td>...</td>\n",
              "      <td>...</td>\n",
              "      <td>...</td>\n",
              "      <td>...</td>\n",
              "      <td>...</td>\n",
              "      <td>...</td>\n",
              "      <td>...</td>\n",
              "    </tr>\n",
              "    <tr>\n",
              "      <th>1108</th>\n",
              "      <td>Not Eligible</td>\n",
              "      <td>59003741</td>\n",
              "      <td>4.0</td>\n",
              "      <td>1283.998972</td>\n",
              "      <td>2.0</td>\n",
              "      <td>120891.402715</td>\n",
              "      <td>2.0</td>\n",
              "      <td>8.000000</td>\n",
              "      <td>5.0</td>\n",
              "      <td>90.000000</td>\n",
              "      <td>3</td>\n",
              "      <td>60001.0</td>\n",
              "      <td>153.267740</td>\n",
              "    </tr>\n",
              "    <tr>\n",
              "      <th>1112</th>\n",
              "      <td>Not Eligible</td>\n",
              "      <td>54982859</td>\n",
              "      <td>5.0</td>\n",
              "      <td>1322.000000</td>\n",
              "      <td>3.0</td>\n",
              "      <td>154000.000000</td>\n",
              "      <td>2.0</td>\n",
              "      <td>15.000000</td>\n",
              "      <td>5.0</td>\n",
              "      <td>110.000000</td>\n",
              "      <td>5</td>\n",
              "      <td>72000.0</td>\n",
              "      <td>204.939015</td>\n",
              "    </tr>\n",
              "    <tr>\n",
              "      <th>1113</th>\n",
              "      <td>Not Eligible</td>\n",
              "      <td>59001195</td>\n",
              "      <td>4.0</td>\n",
              "      <td>1311.500000</td>\n",
              "      <td>3.0</td>\n",
              "      <td>120891.402715</td>\n",
              "      <td>2.0</td>\n",
              "      <td>10.872987</td>\n",
              "      <td>5.0</td>\n",
              "      <td>98.000000</td>\n",
              "      <td>4</td>\n",
              "      <td>72000.0</td>\n",
              "      <td>187.082869</td>\n",
              "    </tr>\n",
              "    <tr>\n",
              "      <th>1117</th>\n",
              "      <td>Not Eligible</td>\n",
              "      <td>59001031</td>\n",
              "      <td>4.0</td>\n",
              "      <td>1283.998972</td>\n",
              "      <td>2.0</td>\n",
              "      <td>58000.000000</td>\n",
              "      <td>2.0</td>\n",
              "      <td>8.000000</td>\n",
              "      <td>5.0</td>\n",
              "      <td>100.000000</td>\n",
              "      <td>5</td>\n",
              "      <td>151300.0</td>\n",
              "      <td>196.214169</td>\n",
              "    </tr>\n",
              "    <tr>\n",
              "      <th>1123</th>\n",
              "      <td>Not Eligible</td>\n",
              "      <td>58998054</td>\n",
              "      <td>4.0</td>\n",
              "      <td>1250.000000</td>\n",
              "      <td>3.0</td>\n",
              "      <td>137000.000000</td>\n",
              "      <td>2.0</td>\n",
              "      <td>8.000000</td>\n",
              "      <td>5.0</td>\n",
              "      <td>100.746619</td>\n",
              "      <td>5</td>\n",
              "      <td>72000.0</td>\n",
              "      <td>1.000000</td>\n",
              "    </tr>\n",
              "  </tbody>\n",
              "</table>\n",
              "<p>463 rows × 13 columns</p>\n",
              "</div>"
            ],
            "text/plain": [
              "             label        id  fea_1  ...  fea_9    fea_10      fea_11\n",
              "0         Eligible  54982665    5.0  ...      5  151300.0  244.948974\n",
              "3         Eligible  58995168    7.0  ...      3   60084.0    1.000000\n",
              "8     Not Eligible  58984557    5.0  ...      4  151300.0  282.842713\n",
              "9     Not Eligible  54990497    4.0  ...      3   60029.0  237.301496\n",
              "12    Not Eligible  58989327    7.0  ...      4  151300.0  194.935887\n",
              "...            ...       ...    ...  ...    ...       ...         ...\n",
              "1108  Not Eligible  59003741    4.0  ...      3   60001.0  153.267740\n",
              "1112  Not Eligible  54982859    5.0  ...      5   72000.0  204.939015\n",
              "1113  Not Eligible  59001195    4.0  ...      4   72000.0  187.082869\n",
              "1117  Not Eligible  59001031    4.0  ...      5  151300.0  196.214169\n",
              "1123  Not Eligible  58998054    4.0  ...      5   72000.0    1.000000\n",
              "\n",
              "[463 rows x 13 columns]"
            ]
          },
          "metadata": {},
          "execution_count": 61
        }
      ]
    },
    {
      "cell_type": "code",
      "metadata": {
        "colab": {
          "base_uri": "https://localhost:8080/",
          "height": 298
        },
        "id": "VB7Cpy0YiZIJ",
        "outputId": "ae8dacde-c884-46c5-a71d-b4810f4b1949"
      },
      "source": [
        "import seaborn as sns\n",
        "sns.countplot(x='label',data=custData)"
      ],
      "execution_count": null,
      "outputs": [
        {
          "output_type": "execute_result",
          "data": {
            "text/plain": [
              "<matplotlib.axes._subplots.AxesSubplot at 0x7f5c818e7310>"
            ]
          },
          "metadata": {},
          "execution_count": 79
        },
        {
          "output_type": "display_data",
          "data": {
            "image/png": "[encoded data removed]",
            "text/plain": [
              "<Figure size 432x288 with 1 Axes>"
            ]
          },
          "metadata": {
            "needs_background": "light"
          }
        }
      ]
    },
    {
      "cell_type": "code",
      "metadata": {
        "id": "6GzuU0s9pZKx"
      },
      "source": [
        ""
      ],
      "execution_count": null,
      "outputs": []
    },
    {
      "cell_type": "code",
      "metadata": {
        "id": "usaedA4qieDd"
      },
      "source": [
        "from sklearn import preprocessing\n",
        "from sklearn.model_selection import train_test_split\n",
        "from sklearn import metrics\n",
        "from numpy import percentile\n",
        "from sklearn.tree import DecisionTreeClassifier\n",
        "from sklearn.linear_model import LogisticRegression\n",
        "from sklearn.naive_bayes import GaussianNB\n",
        "from sklearn.neighbors import KNeighborsClassifier\n",
        "from sklearn.metrics import classification_report,confusion_matrix\n",
        "from sklearn.preprocessing import StandardScaler\n",
        "from sklearn.preprocessing import MinMaxScaler\n",
        "from sklearn.metrics import accuracy_score\n",
        "from sklearn.metrics import classification_report\n",
        "from sklearn.metrics import confusion_matrix\n",
        "from scipy.stats import zscore"
      ],
      "execution_count": null,
      "outputs": []
    },
    {
      "cell_type": "code",
      "metadata": {
        "colab": {
          "base_uri": "https://localhost:8080/"
        },
        "id": "hcayISIejTnp",
        "outputId": "7e3dc555-9807-443d-bda4-8ed38826e2df"
      },
      "source": [
        "label_enc=preprocessing.LabelEncoder()\n",
        "r_custData['label']= label_enc.fit_transform(r_custData['label'])"
      ],
      "execution_count": null,
      "outputs": [
        {
          "output_type": "stream",
          "name": "stderr",
          "text": [
            "/usr/local/lib/python3.7/dist-packages/ipykernel_launcher.py:2: SettingWithCopyWarning: \n",
            "A value is trying to be set on a copy of a slice from a DataFrame.\n",
            "Try using .loc[row_indexer,col_indexer] = value instead\n",
            "\n",
            "See the caveats in the documentation: https://pandas.pydata.org/pandas-docs/stable/user_guide/indexing.html#returning-a-view-versus-a-copy\n",
            "  \n"
          ]
        }
      ]
    },
    {
      "cell_type": "code",
      "metadata": {
        "colab": {
          "base_uri": "https://localhost:8080/",
          "height": 206
        },
        "id": "sM2Ef1uCjxaV",
        "outputId": "c7f4713e-f84d-4197-e069-1f0fe7f4d265"
      },
      "source": [
        "x=r_custData.drop('label',axis =1)\n",
        "y=r_custData['label']\n",
        "#Training the data\n",
        "x_train,x_test,y_train,y_test = train_test_split(x,y,test_size=0.4,random_state = 0)\n",
        "x_train.head()"
      ],
      "execution_count": null,
      "outputs": [
        {
          "output_type": "execute_result",
          "data": {
            "text/html": [
              "<div>\n",
              "<style scoped>\n",
              "    .dataframe tbody tr th:only-of-type {\n",
              "        vertical-align: middle;\n",
              "    }\n",
              "\n",
              "    .dataframe tbody tr th {\n",
              "        vertical-align: top;\n",
              "    }\n",
              "\n",
              "    .dataframe thead th {\n",
              "        text-align: right;\n",
              "    }\n",
              "</style>\n",
              "<table border=\"1\" class=\"dataframe\">\n",
              "  <thead>\n",
              "    <tr style=\"text-align: right;\">\n",
              "      <th></th>\n",
              "      <th>id</th>\n",
              "      <th>fea_1</th>\n",
              "      <th>fea_2</th>\n",
              "      <th>fea_3</th>\n",
              "      <th>fea_4</th>\n",
              "      <th>fea_5</th>\n",
              "      <th>fea_6</th>\n",
              "      <th>fea_7</th>\n",
              "      <th>fea_8</th>\n",
              "      <th>fea_9</th>\n",
              "      <th>fea_10</th>\n",
              "      <th>fea_11</th>\n",
              "    </tr>\n",
              "  </thead>\n",
              "  <tbody>\n",
              "    <tr>\n",
              "      <th>687</th>\n",
              "      <td>58996120</td>\n",
              "      <td>7.0</td>\n",
              "      <td>1211.0</td>\n",
              "      <td>3.0</td>\n",
              "      <td>66000.0</td>\n",
              "      <td>2.0</td>\n",
              "      <td>11.0</td>\n",
              "      <td>5.0</td>\n",
              "      <td>101.0</td>\n",
              "      <td>4</td>\n",
              "      <td>60015.0</td>\n",
              "      <td>1.000000</td>\n",
              "    </tr>\n",
              "    <tr>\n",
              "      <th>429</th>\n",
              "      <td>58995532</td>\n",
              "      <td>7.0</td>\n",
              "      <td>1304.0</td>\n",
              "      <td>3.0</td>\n",
              "      <td>129000.0</td>\n",
              "      <td>2.0</td>\n",
              "      <td>11.0</td>\n",
              "      <td>5.0</td>\n",
              "      <td>103.0</td>\n",
              "      <td>3</td>\n",
              "      <td>151300.0</td>\n",
              "      <td>161.245155</td>\n",
              "    </tr>\n",
              "    <tr>\n",
              "      <th>499</th>\n",
              "      <td>54985432</td>\n",
              "      <td>7.0</td>\n",
              "      <td>1260.5</td>\n",
              "      <td>3.0</td>\n",
              "      <td>115000.0</td>\n",
              "      <td>2.0</td>\n",
              "      <td>11.0</td>\n",
              "      <td>5.0</td>\n",
              "      <td>85.0</td>\n",
              "      <td>5</td>\n",
              "      <td>60084.0</td>\n",
              "      <td>1.000000</td>\n",
              "    </tr>\n",
              "    <tr>\n",
              "      <th>288</th>\n",
              "      <td>54987040</td>\n",
              "      <td>7.0</td>\n",
              "      <td>1190.0</td>\n",
              "      <td>3.0</td>\n",
              "      <td>95000.0</td>\n",
              "      <td>2.0</td>\n",
              "      <td>11.0</td>\n",
              "      <td>5.0</td>\n",
              "      <td>88.0</td>\n",
              "      <td>3</td>\n",
              "      <td>60019.0</td>\n",
              "      <td>1.000000</td>\n",
              "    </tr>\n",
              "    <tr>\n",
              "      <th>415</th>\n",
              "      <td>59005240</td>\n",
              "      <td>4.0</td>\n",
              "      <td>1253.0</td>\n",
              "      <td>1.0</td>\n",
              "      <td>97000.0</td>\n",
              "      <td>2.0</td>\n",
              "      <td>8.0</td>\n",
              "      <td>5.0</td>\n",
              "      <td>115.0</td>\n",
              "      <td>3</td>\n",
              "      <td>60034.0</td>\n",
              "      <td>1.000000</td>\n",
              "    </tr>\n",
              "  </tbody>\n",
              "</table>\n",
              "</div>"
            ],
            "text/plain": [
              "           id  fea_1   fea_2  fea_3  ...  fea_8  fea_9    fea_10      fea_11\n",
              "687  58996120    7.0  1211.0    3.0  ...  101.0      4   60015.0    1.000000\n",
              "429  58995532    7.0  1304.0    3.0  ...  103.0      3  151300.0  161.245155\n",
              "499  54985432    7.0  1260.5    3.0  ...   85.0      5   60084.0    1.000000\n",
              "288  54987040    7.0  1190.0    3.0  ...   88.0      3   60019.0    1.000000\n",
              "415  59005240    4.0  1253.0    1.0  ...  115.0      3   60034.0    1.000000\n",
              "\n",
              "[5 rows x 12 columns]"
            ]
          },
          "metadata": {},
          "execution_count": 64
        }
      ]
    },
    {
      "cell_type": "code",
      "metadata": {
        "colab": {
          "base_uri": "https://localhost:8080/",
          "height": 424
        },
        "id": "CdYAB5NWmQuY",
        "outputId": "9a6c0e41-0055-4b02-d212-8adb54f68c89"
      },
      "source": [
        "r_custData"
      ],
      "execution_count": null,
      "outputs": [
        {
          "output_type": "execute_result",
          "data": {
            "text/html": [
              "<div>\n",
              "<style scoped>\n",
              "    .dataframe tbody tr th:only-of-type {\n",
              "        vertical-align: middle;\n",
              "    }\n",
              "\n",
              "    .dataframe tbody tr th {\n",
              "        vertical-align: top;\n",
              "    }\n",
              "\n",
              "    .dataframe thead th {\n",
              "        text-align: right;\n",
              "    }\n",
              "</style>\n",
              "<table border=\"1\" class=\"dataframe\">\n",
              "  <thead>\n",
              "    <tr style=\"text-align: right;\">\n",
              "      <th></th>\n",
              "      <th>label</th>\n",
              "      <th>id</th>\n",
              "      <th>fea_1</th>\n",
              "      <th>fea_2</th>\n",
              "      <th>fea_3</th>\n",
              "      <th>fea_4</th>\n",
              "      <th>fea_5</th>\n",
              "      <th>fea_6</th>\n",
              "      <th>fea_7</th>\n",
              "      <th>fea_8</th>\n",
              "      <th>fea_9</th>\n",
              "      <th>fea_10</th>\n",
              "      <th>fea_11</th>\n",
              "    </tr>\n",
              "  </thead>\n",
              "  <tbody>\n",
              "    <tr>\n",
              "      <th>0</th>\n",
              "      <td>0</td>\n",
              "      <td>54982665</td>\n",
              "      <td>5.0</td>\n",
              "      <td>1245.500000</td>\n",
              "      <td>3.0</td>\n",
              "      <td>77000.000000</td>\n",
              "      <td>2.0</td>\n",
              "      <td>15.000000</td>\n",
              "      <td>5.0</td>\n",
              "      <td>109.000000</td>\n",
              "      <td>5</td>\n",
              "      <td>151300.0</td>\n",
              "      <td>244.948974</td>\n",
              "    </tr>\n",
              "    <tr>\n",
              "      <th>3</th>\n",
              "      <td>0</td>\n",
              "      <td>58995168</td>\n",
              "      <td>7.0</td>\n",
              "      <td>1335.500000</td>\n",
              "      <td>1.0</td>\n",
              "      <td>151000.000000</td>\n",
              "      <td>2.0</td>\n",
              "      <td>11.000000</td>\n",
              "      <td>5.0</td>\n",
              "      <td>110.000000</td>\n",
              "      <td>3</td>\n",
              "      <td>60084.0</td>\n",
              "      <td>1.000000</td>\n",
              "    </tr>\n",
              "    <tr>\n",
              "      <th>8</th>\n",
              "      <td>1</td>\n",
              "      <td>58984557</td>\n",
              "      <td>5.0</td>\n",
              "      <td>1323.500000</td>\n",
              "      <td>3.0</td>\n",
              "      <td>218000.000000</td>\n",
              "      <td>2.0</td>\n",
              "      <td>15.000000</td>\n",
              "      <td>5.0</td>\n",
              "      <td>100.746619</td>\n",
              "      <td>4</td>\n",
              "      <td>151300.0</td>\n",
              "      <td>282.842713</td>\n",
              "    </tr>\n",
              "    <tr>\n",
              "      <th>9</th>\n",
              "      <td>1</td>\n",
              "      <td>54990497</td>\n",
              "      <td>4.0</td>\n",
              "      <td>1283.998972</td>\n",
              "      <td>2.0</td>\n",
              "      <td>35000.000000</td>\n",
              "      <td>2.0</td>\n",
              "      <td>8.000000</td>\n",
              "      <td>5.0</td>\n",
              "      <td>101.000000</td>\n",
              "      <td>3</td>\n",
              "      <td>60029.0</td>\n",
              "      <td>237.301496</td>\n",
              "    </tr>\n",
              "    <tr>\n",
              "      <th>12</th>\n",
              "      <td>1</td>\n",
              "      <td>58989327</td>\n",
              "      <td>7.0</td>\n",
              "      <td>1223.000000</td>\n",
              "      <td>3.0</td>\n",
              "      <td>81000.000000</td>\n",
              "      <td>2.0</td>\n",
              "      <td>11.000000</td>\n",
              "      <td>5.0</td>\n",
              "      <td>114.000000</td>\n",
              "      <td>4</td>\n",
              "      <td>151300.0</td>\n",
              "      <td>194.935887</td>\n",
              "    </tr>\n",
              "    <tr>\n",
              "      <th>...</th>\n",
              "      <td>...</td>\n",
              "      <td>...</td>\n",
              "      <td>...</td>\n",
              "      <td>...</td>\n",
              "      <td>...</td>\n",
              "      <td>...</td>\n",
              "      <td>...</td>\n",
              "      <td>...</td>\n",
              "      <td>...</td>\n",
              "      <td>...</td>\n",
              "      <td>...</td>\n",
              "      <td>...</td>\n",
              "      <td>...</td>\n",
              "    </tr>\n",
              "    <tr>\n",
              "      <th>1108</th>\n",
              "      <td>1</td>\n",
              "      <td>59003741</td>\n",
              "      <td>4.0</td>\n",
              "      <td>1283.998972</td>\n",
              "      <td>2.0</td>\n",
              "      <td>120891.402715</td>\n",
              "      <td>2.0</td>\n",
              "      <td>8.000000</td>\n",
              "      <td>5.0</td>\n",
              "      <td>90.000000</td>\n",
              "      <td>3</td>\n",
              "      <td>60001.0</td>\n",
              "      <td>153.267740</td>\n",
              "    </tr>\n",
              "    <tr>\n",
              "      <th>1112</th>\n",
              "      <td>1</td>\n",
              "      <td>54982859</td>\n",
              "      <td>5.0</td>\n",
              "      <td>1322.000000</td>\n",
              "      <td>3.0</td>\n",
              "      <td>154000.000000</td>\n",
              "      <td>2.0</td>\n",
              "      <td>15.000000</td>\n",
              "      <td>5.0</td>\n",
              "      <td>110.000000</td>\n",
              "      <td>5</td>\n",
              "      <td>72000.0</td>\n",
              "      <td>204.939015</td>\n",
              "    </tr>\n",
              "    <tr>\n",
              "      <th>1113</th>\n",
              "      <td>1</td>\n",
              "      <td>59001195</td>\n",
              "      <td>4.0</td>\n",
              "      <td>1311.500000</td>\n",
              "      <td>3.0</td>\n",
              "      <td>120891.402715</td>\n",
              "      <td>2.0</td>\n",
              "      <td>10.872987</td>\n",
              "      <td>5.0</td>\n",
              "      <td>98.000000</td>\n",
              "      <td>4</td>\n",
              "      <td>72000.0</td>\n",
              "      <td>187.082869</td>\n",
              "    </tr>\n",
              "    <tr>\n",
              "      <th>1117</th>\n",
              "      <td>1</td>\n",
              "      <td>59001031</td>\n",
              "      <td>4.0</td>\n",
              "      <td>1283.998972</td>\n",
              "      <td>2.0</td>\n",
              "      <td>58000.000000</td>\n",
              "      <td>2.0</td>\n",
              "      <td>8.000000</td>\n",
              "      <td>5.0</td>\n",
              "      <td>100.000000</td>\n",
              "      <td>5</td>\n",
              "      <td>151300.0</td>\n",
              "      <td>196.214169</td>\n",
              "    </tr>\n",
              "    <tr>\n",
              "      <th>1123</th>\n",
              "      <td>1</td>\n",
              "      <td>58998054</td>\n",
              "      <td>4.0</td>\n",
              "      <td>1250.000000</td>\n",
              "      <td>3.0</td>\n",
              "      <td>137000.000000</td>\n",
              "      <td>2.0</td>\n",
              "      <td>8.000000</td>\n",
              "      <td>5.0</td>\n",
              "      <td>100.746619</td>\n",
              "      <td>5</td>\n",
              "      <td>72000.0</td>\n",
              "      <td>1.000000</td>\n",
              "    </tr>\n",
              "  </tbody>\n",
              "</table>\n",
              "<p>463 rows × 13 columns</p>\n",
              "</div>"
            ],
            "text/plain": [
              "      label        id  fea_1  ...  fea_9    fea_10      fea_11\n",
              "0         0  54982665    5.0  ...      5  151300.0  244.948974\n",
              "3         0  58995168    7.0  ...      3   60084.0    1.000000\n",
              "8         1  58984557    5.0  ...      4  151300.0  282.842713\n",
              "9         1  54990497    4.0  ...      3   60029.0  237.301496\n",
              "12        1  58989327    7.0  ...      4  151300.0  194.935887\n",
              "...     ...       ...    ...  ...    ...       ...         ...\n",
              "1108      1  59003741    4.0  ...      3   60001.0  153.267740\n",
              "1112      1  54982859    5.0  ...      5   72000.0  204.939015\n",
              "1113      1  59001195    4.0  ...      4   72000.0  187.082869\n",
              "1117      1  59001031    4.0  ...      5  151300.0  196.214169\n",
              "1123      1  58998054    4.0  ...      5   72000.0    1.000000\n",
              "\n",
              "[463 rows x 13 columns]"
            ]
          },
          "metadata": {},
          "execution_count": 65
        }
      ]
    },
    {
      "cell_type": "code",
      "metadata": {
        "colab": {
          "base_uri": "https://localhost:8080/",
          "height": 298
        },
        "id": "T26EQagspcCo",
        "outputId": "b4408e64-e5c1-47c4-f7c8-eca394b0ee32"
      },
      "source": [
        "import seaborn as sns\n",
        "sns.countplot(x='label',data=r_custData)"
      ],
      "execution_count": null,
      "outputs": [
        {
          "output_type": "execute_result",
          "data": {
            "text/plain": [
              "<matplotlib.axes._subplots.AxesSubplot at 0x7f5c81405b90>"
            ]
          },
          "metadata": {},
          "execution_count": 80
        },
        {
          "output_type": "display_data",
          "data": {
            "image/png": "[encoded data removed]",
            "text/plain": [
              "<Figure size 432x288 with 1 Axes>"
            ]
          },
          "metadata": {
            "needs_background": "light"
          }
        }
      ]
    },
    {
      "cell_type": "code",
      "metadata": {
        "id": "Ad4cktknrdb3"
      },
      "source": [
        ""
      ],
      "execution_count": null,
      "outputs": []
    },
    {
      "cell_type": "code",
      "metadata": {
        "colab": {
          "base_uri": "https://localhost:8080/"
        },
        "id": "L4s-C9Fhneb1",
        "outputId": "3bae903a-5842-46f4-bb24-43a6c7d8df4e"
      },
      "source": [
        "std_scl=StandardScaler()\n",
        "x_train=std_scl.fit_transform(x_train)\n",
        "x_test=std_scl.transform(x_test)\n",
        "print(x_train)\n",
        "print(x_test)"
      ],
      "execution_count": null,
      "outputs": [
        {
          "output_type": "stream",
          "name": "stdout",
          "text": [
            "[[ 0.62080222  1.33313215 -1.5416733  ... -0.08367132 -0.66348313\n",
            "  -1.10983785]\n",
            " [ 0.62047476  1.33313215  0.6099169  ... -1.18733581  1.72389341\n",
            "   0.42468336]\n",
            " [-1.61271327  1.33313215 -0.39647206 ...  1.01999318 -0.66167857\n",
            "  -1.10983785]\n",
            " ...\n",
            " [ 0.61419471 -0.1896621  -1.26404876 ... -1.18733581  1.72389341\n",
            "  -1.10983785]\n",
            " [ 0.62449217 -0.95105923 -0.88231501 ... -1.18733581 -0.66337851\n",
            "   0.53921262]\n",
            " [-1.60880445  1.33313215  0.57521383 ... -1.18733581 -0.66387542\n",
            "  -1.10983785]]\n",
            "[[ 0.61341617 -0.1896621  -0.11884752 ...  1.01999318 -0.66167857\n",
            "  -1.10983785]\n",
            " [ 0.61655091  1.33313215 -2.09692238 ...  1.01999318 -0.66144319\n",
            "  -1.10983785]\n",
            " [ 0.6146146  -0.1896621   2.06744574 ...  1.01999318 -0.66332621\n",
            "   1.22623824]\n",
            " ...\n",
            " [ 0.62568336 -0.95105923 -0.11884752 ... -1.18733581  1.72389341\n",
            "  -1.10983785]\n",
            " [ 0.62068137  1.33313215 -1.02112728 ... -1.18733581 -0.66293391\n",
            "  -1.10983785]\n",
            " [-1.61230507  1.33313215  0.7140261  ... -0.08367132 -0.66377081\n",
            "  -1.10983785]]\n"
          ]
        }
      ]
    },
    {
      "cell_type": "code",
      "metadata": {
        "colab": {
          "base_uri": "https://localhost:8080/"
        },
        "id": "aZ9nmyP-kcT4",
        "outputId": "5f029c92-5bda-42ce-f0a4-1224cbc6b3db"
      },
      "source": [
        "#Naive-Bayes\n",
        "from sklearn.metrics import accuracy_score\n",
        "nb=GaussianNB()\n",
        "nb.fit(x_train,y_train)\n",
        "y_pred=nb.predict(x_test)\n",
        "print(\"Accuracy of the Model: \", accuracy_score(y_test, y_pred))"
      ],
      "execution_count": null,
      "outputs": [
        {
          "output_type": "stream",
          "name": "stdout",
          "text": [
            "Accuracy of the Model:  0.7903225806451613\n"
          ]
        }
      ]
    },
    {
      "cell_type": "code",
      "metadata": {
        "colab": {
          "base_uri": "https://localhost:8080/"
        },
        "id": "txqRnZxfsHD5",
        "outputId": "ee3ab63c-36ff-4907-ad90-fb79fa660498"
      },
      "source": [
        "print(confusion_matrix(y_test,y_pred))\n",
        "print(classification_report(y_test,y_pred))"
      ],
      "execution_count": null,
      "outputs": [
        {
          "output_type": "stream",
          "name": "stdout",
          "text": [
            "[[  0  39]\n",
            " [  0 147]]\n",
            "              precision    recall  f1-score   support\n",
            "\n",
            "           0       0.00      0.00      0.00        39\n",
            "           1       0.79      1.00      0.88       147\n",
            "\n",
            "    accuracy                           0.79       186\n",
            "   macro avg       0.40      0.50      0.44       186\n",
            "weighted avg       0.62      0.79      0.70       186\n",
            "\n"
          ]
        },
        {
          "output_type": "stream",
          "name": "stderr",
          "text": [
            "/usr/local/lib/python3.7/dist-packages/sklearn/metrics/_classification.py:1272: UndefinedMetricWarning: Precision and F-score are ill-defined and being set to 0.0 in labels with no predicted samples. Use `zero_division` parameter to control this behavior.\n",
            "  _warn_prf(average, modifier, msg_start, len(result))\n"
          ]
        }
      ]
    },
    {
      "cell_type": "code",
      "metadata": {
        "id": "J8Q-8wxPp9Pu"
      },
      "source": [
        "result=[]\n",
        "result.append(accuracy_score(y_test, y_pred))"
      ],
      "execution_count": null,
      "outputs": []
    },
    {
      "cell_type": "code",
      "metadata": {
        "id": "GbW0LMw-mn-n"
      },
      "source": [
        "#DecisionTree\n",
        "dt=DecisionTreeClassifier(criterion=\"entropy\",max_depth=5)\n",
        "dt=dt.fit(x_train,y_train)\n",
        "y_pred_dt=dt.predict(x_test)"
      ],
      "execution_count": null,
      "outputs": []
    },
    {
      "cell_type": "code",
      "metadata": {
        "colab": {
          "base_uri": "https://localhost:8080/"
        },
        "id": "uIEUrkefnxb1",
        "outputId": "4090c431-00c1-4eea-e4b8-6fb0d497aa72"
      },
      "source": [
        "print('Accuracy of the Decision Tree: {:.3f}'.format(metrics.accuracy_score(y_test, y_pred_dt)))\n",
        "result.append(metrics.accuracy_score(y_test, y_pred_dt))"
      ],
      "execution_count": null,
      "outputs": [
        {
          "output_type": "stream",
          "name": "stdout",
          "text": [
            "Accuracy of the Decision Tree: 0.753\n"
          ]
        }
      ]
    },
    {
      "cell_type": "code",
      "metadata": {
        "colab": {
          "base_uri": "https://localhost:8080/"
        },
        "id": "kzGryoOYoC58",
        "outputId": "bba5ed88-8c5a-4bd0-c649-74da8121170d"
      },
      "source": [
        "#RandomForest\n",
        "from sklearn.ensemble import RandomForestClassifier\n",
        "rf=RandomForestClassifier(n_estimators=100,random_state=1)\n",
        "rf.fit(x_train,y_train)\n",
        "print(\"Accuracy of random forest=\",rf.score(x_test,y_test))\n",
        "result.append(rf.score(x_test,y_test))"
      ],
      "execution_count": null,
      "outputs": [
        {
          "output_type": "stream",
          "name": "stdout",
          "text": [
            "Accuracy of random forest= 0.7849462365591398\n"
          ]
        }
      ]
    },
    {
      "cell_type": "code",
      "metadata": {
        "id": "63jmSZp0oLYJ"
      },
      "source": [
        "#KNN\n",
        "knn = KNeighborsClassifier(n_neighbors=3)\n",
        "knn.fit(x_train,y_train)\n",
        "y_pred_knn = knn.predict(x_test)"
      ],
      "execution_count": null,
      "outputs": []
    },
    {
      "cell_type": "code",
      "metadata": {
        "colab": {
          "base_uri": "https://localhost:8080/"
        },
        "id": "Vchc2xUloPts",
        "outputId": "8e5e3abd-aeaa-47f8-8c1c-7071b9c734a5"
      },
      "source": [
        "print('Accuracy of KNN: {:.3f}'.format(knn.score(x_test,y_test)))\n",
        "result.append(knn.score(x_test,y_test))"
      ],
      "execution_count": null,
      "outputs": [
        {
          "output_type": "stream",
          "name": "stdout",
          "text": [
            "Accuracy of KNN: 0.747\n"
          ]
        }
      ]
    },
    {
      "cell_type": "code",
      "metadata": {
        "colab": {
          "base_uri": "https://localhost:8080/"
        },
        "id": "slJAm15doVu6",
        "outputId": "575c58c8-e577-420a-b9b8-e130118f183f"
      },
      "source": [
        "#K-Fold\n",
        "from numpy import array\n",
        "from sklearn.model_selection import KFold\n",
        "\n",
        "kf=KFold(3, True, 1)\n",
        "for train, test in kf.split(r_custData):\n",
        "\tprint('train: %s, test: %s' % (x_train,x_test))"
      ],
      "execution_count": null,
      "outputs": [
        {
          "output_type": "stream",
          "name": "stdout",
          "text": [
            "train: [[ 0.62080222  1.33313215 -1.5416733  ... -0.08367132 -0.66348313\n",
            "  -1.10983785]\n",
            " [ 0.62047476  1.33313215  0.6099169  ... -1.18733581  1.72389341\n",
            "   0.42468336]\n",
            " [-1.61271327  1.33313215 -0.39647206 ...  1.01999318 -0.66167857\n",
            "  -1.10983785]\n",
            " ...\n",
            " [ 0.61419471 -0.1896621  -1.26404876 ... -1.18733581  1.72389341\n",
            "  -1.10983785]\n",
            " [ 0.62449217 -0.95105923 -0.88231501 ... -1.18733581 -0.66337851\n",
            "   0.53921262]\n",
            " [-1.60880445  1.33313215  0.57521383 ... -1.18733581 -0.66387542\n",
            "  -1.10983785]], test: [[ 0.61341617 -0.1896621  -0.11884752 ...  1.01999318 -0.66167857\n",
            "  -1.10983785]\n",
            " [ 0.61655091  1.33313215 -2.09692238 ...  1.01999318 -0.66144319\n",
            "  -1.10983785]\n",
            " [ 0.6146146  -0.1896621   2.06744574 ...  1.01999318 -0.66332621\n",
            "   1.22623824]\n",
            " ...\n",
            " [ 0.62568336 -0.95105923 -0.11884752 ... -1.18733581  1.72389341\n",
            "  -1.10983785]\n",
            " [ 0.62068137  1.33313215 -1.02112728 ... -1.18733581 -0.66293391\n",
            "  -1.10983785]\n",
            " [-1.61230507  1.33313215  0.7140261  ... -0.08367132 -0.66377081\n",
            "  -1.10983785]]\n",
            "train: [[ 0.62080222  1.33313215 -1.5416733  ... -0.08367132 -0.66348313\n",
            "  -1.10983785]\n",
            " [ 0.62047476  1.33313215  0.6099169  ... -1.18733581  1.72389341\n",
            "   0.42468336]\n",
            " [-1.61271327  1.33313215 -0.39647206 ...  1.01999318 -0.66167857\n",
            "  -1.10983785]\n",
            " ...\n",
            " [ 0.61419471 -0.1896621  -1.26404876 ... -1.18733581  1.72389341\n",
            "  -1.10983785]\n",
            " [ 0.62449217 -0.95105923 -0.88231501 ... -1.18733581 -0.66337851\n",
            "   0.53921262]\n",
            " [-1.60880445  1.33313215  0.57521383 ... -1.18733581 -0.66387542\n",
            "  -1.10983785]], test: [[ 0.61341617 -0.1896621  -0.11884752 ...  1.01999318 -0.66167857\n",
            "  -1.10983785]\n",
            " [ 0.61655091  1.33313215 -2.09692238 ...  1.01999318 -0.66144319\n",
            "  -1.10983785]\n",
            " [ 0.6146146  -0.1896621   2.06744574 ...  1.01999318 -0.66332621\n",
            "   1.22623824]\n",
            " ...\n",
            " [ 0.62568336 -0.95105923 -0.11884752 ... -1.18733581  1.72389341\n",
            "  -1.10983785]\n",
            " [ 0.62068137  1.33313215 -1.02112728 ... -1.18733581 -0.66293391\n",
            "  -1.10983785]\n",
            " [-1.61230507  1.33313215  0.7140261  ... -0.08367132 -0.66377081\n",
            "  -1.10983785]]\n",
            "train: [[ 0.62080222  1.33313215 -1.5416733  ... -0.08367132 -0.66348313\n",
            "  -1.10983785]\n",
            " [ 0.62047476  1.33313215  0.6099169  ... -1.18733581  1.72389341\n",
            "   0.42468336]\n",
            " [-1.61271327  1.33313215 -0.39647206 ...  1.01999318 -0.66167857\n",
            "  -1.10983785]\n",
            " ...\n",
            " [ 0.61419471 -0.1896621  -1.26404876 ... -1.18733581  1.72389341\n",
            "  -1.10983785]\n",
            " [ 0.62449217 -0.95105923 -0.88231501 ... -1.18733581 -0.66337851\n",
            "   0.53921262]\n",
            " [-1.60880445  1.33313215  0.57521383 ... -1.18733581 -0.66387542\n",
            "  -1.10983785]], test: [[ 0.61341617 -0.1896621  -0.11884752 ...  1.01999318 -0.66167857\n",
            "  -1.10983785]\n",
            " [ 0.61655091  1.33313215 -2.09692238 ...  1.01999318 -0.66144319\n",
            "  -1.10983785]\n",
            " [ 0.6146146  -0.1896621   2.06744574 ...  1.01999318 -0.66332621\n",
            "   1.22623824]\n",
            " ...\n",
            " [ 0.62568336 -0.95105923 -0.11884752 ... -1.18733581  1.72389341\n",
            "  -1.10983785]\n",
            " [ 0.62068137  1.33313215 -1.02112728 ... -1.18733581 -0.66293391\n",
            "  -1.10983785]\n",
            " [-1.61230507  1.33313215  0.7140261  ... -0.08367132 -0.66377081\n",
            "  -1.10983785]]\n"
          ]
        }
      ]
    },
    {
      "cell_type": "markdown",
      "metadata": {
        "id": "HlkaMi6KrRws"
      },
      "source": [
        "According to the accuracy scores => Naive-Bayes model is the most accurate model"
      ]
    },
    {
      "cell_type": "code",
      "metadata": {
        "id": "ZKAxgCraolmV"
      },
      "source": [
        "#Model Comparison"
      ],
      "execution_count": null,
      "outputs": []
    },
    {
      "cell_type": "code",
      "metadata": {
        "colab": {
          "base_uri": "https://localhost:8080/"
        },
        "id": "2Xkiq-ehrfA7",
        "outputId": "a3b69b5d-dea4-46b5-e4fa-5343ee44ebae"
      },
      "source": [
        "#For Random Forest\n",
        "print(confusion_matrix(y_test,y_pred))\n",
        "print(classification_report(y_test,y_pred))"
      ],
      "execution_count": null,
      "outputs": [
        {
          "output_type": "stream",
          "name": "stdout",
          "text": [
            "[[  0  39]\n",
            " [  0 147]]\n",
            "              precision    recall  f1-score   support\n",
            "\n",
            "           0       0.00      0.00      0.00        39\n",
            "           1       0.79      1.00      0.88       147\n",
            "\n",
            "    accuracy                           0.79       186\n",
            "   macro avg       0.40      0.50      0.44       186\n",
            "weighted avg       0.62      0.79      0.70       186\n",
            "\n"
          ]
        },
        {
          "output_type": "stream",
          "name": "stderr",
          "text": [
            "/usr/local/lib/python3.7/dist-packages/sklearn/metrics/_classification.py:1272: UndefinedMetricWarning: Precision and F-score are ill-defined and being set to 0.0 in labels with no predicted samples. Use `zero_division` parameter to control this behavior.\n",
            "  _warn_prf(average, modifier, msg_start, len(result))\n"
          ]
        }
      ]
    },
    {
      "cell_type": "code",
      "metadata": {
        "colab": {
          "base_uri": "https://localhost:8080/"
        },
        "id": "T6IZmwxXoTcp",
        "outputId": "b5a20e8c-9348-45ad-b662-cb7d801817cc"
      },
      "source": [
        "#For Decision Trees\n",
        "print(confusion_matrix(y_test,y_pred_dt))\n",
        "print(classification_report(y_test,y_pred_dt))"
      ],
      "execution_count": null,
      "outputs": [
        {
          "output_type": "stream",
          "name": "stdout",
          "text": [
            "[[  6  33]\n",
            " [ 13 134]]\n",
            "              precision    recall  f1-score   support\n",
            "\n",
            "           0       0.32      0.15      0.21        39\n",
            "           1       0.80      0.91      0.85       147\n",
            "\n",
            "    accuracy                           0.75       186\n",
            "   macro avg       0.56      0.53      0.53       186\n",
            "weighted avg       0.70      0.75      0.72       186\n",
            "\n"
          ]
        }
      ]
    },
    {
      "cell_type": "code",
      "metadata": {
        "colab": {
          "base_uri": "https://localhost:8080/"
        },
        "id": "WWCsEOPUq23g",
        "outputId": "3362985f-4fd1-4f44-a571-a8e2e868835a"
      },
      "source": [
        "#KNN\n",
        "print(confusion_matrix(y_test,y_pred_knn))\n",
        "print(classification_report(y_test,y_pred_knn))"
      ],
      "execution_count": null,
      "outputs": [
        {
          "output_type": "stream",
          "name": "stdout",
          "text": [
            "[[  4  35]\n",
            " [ 12 135]]\n",
            "              precision    recall  f1-score   support\n",
            "\n",
            "           0       0.25      0.10      0.15        39\n",
            "           1       0.79      0.92      0.85       147\n",
            "\n",
            "    accuracy                           0.75       186\n",
            "   macro avg       0.52      0.51      0.50       186\n",
            "weighted avg       0.68      0.75      0.70       186\n",
            "\n"
          ]
        }
      ]
    }
  ]
}