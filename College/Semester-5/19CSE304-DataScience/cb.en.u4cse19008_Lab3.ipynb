{
  "nbformat": 4,
  "nbformat_minor": 0,
  "metadata": {
    "colab": {
      "name": "cb.en.u4cse19008_Lab3.ipynb",
      "provenance": [],
      "collapsed_sections": [],
      "include_colab_link": true
    },
    "kernelspec": {
      "display_name": "Python 3",
      "language": "python",
      "name": "python3"
    },
    "language_info": {
      "codemirror_mode": {
        "name": "ipython",
        "version": 3
      },
      "file_extension": ".py",
      "mimetype": "text/x-python",
      "name": "python",
      "nbconvert_exporter": "python",
      "pygments_lexer": "ipython3",
      "version": "3.7.7"
    }
  },
  "cells": [
    {
      "cell_type": "markdown",
      "metadata": {
        "id": "view-in-github",
        "colab_type": "text"
      },
      "source": [
        "<a href=\"https://colab.research.google.com/github/bsudharshan2001/MyRespository/blob/master/College/Semester-5/19CSE304-DataScience/cb.en.u4cse19008_Lab3.ipynb\" target=\"_parent\"><img src=\"https://colab.research.google.com/assets/colab-badge.svg\" alt=\"Open In Colab\"/></a>"
      ]
    },
    {
      "cell_type": "markdown",
      "metadata": {
        "id": "vCi9lUOuuCVW"
      },
      "source": [
        "19CSE304 - Fundamentals of Data Science\n",
        "--------------------------------\n",
        "\n",
        "---\n",
        "\n",
        "\n",
        "Lab 3 - Assignment"
      ]
    },
    {
      "cell_type": "markdown",
      "metadata": {
        "id": "GxcLPuzFuCEZ"
      },
      "source": [
        "B Sudharshan - CB.EN.U4CSE19008 - CSE A"
      ]
    },
    {
      "cell_type": "markdown",
      "metadata": {
        "id": "AhpweuhzcMpP"
      },
      "source": [
        "# 0. Import data"
      ]
    },
    {
      "cell_type": "code",
      "metadata": {
        "id": "QRCHDjJxRnB4"
      },
      "source": [
        "import pandas as pd"
      ],
      "execution_count": 1,
      "outputs": []
    },
    {
      "cell_type": "code",
      "metadata": {
        "id": "HunJ2a3zRtxq",
        "colab": {
          "base_uri": "https://localhost:8080/",
          "height": 363
        },
        "outputId": "f200ac00-a517-4e6d-b44b-8d315711d26a"
      },
      "source": [
        "insurance = pd.read_csv('https://raw.githubusercontent.com/dhanyahari07/Data_Science/master/insurance.csv')\n",
        "insurance.head(10)"
      ],
      "execution_count": 2,
      "outputs": [
        {
          "output_type": "execute_result",
          "data": {
            "text/html": [
              "<div>\n",
              "<style scoped>\n",
              "    .dataframe tbody tr th:only-of-type {\n",
              "        vertical-align: middle;\n",
              "    }\n",
              "\n",
              "    .dataframe tbody tr th {\n",
              "        vertical-align: top;\n",
              "    }\n",
              "\n",
              "    .dataframe thead th {\n",
              "        text-align: right;\n",
              "    }\n",
              "</style>\n",
              "<table border=\"1\" class=\"dataframe\">\n",
              "  <thead>\n",
              "    <tr style=\"text-align: right;\">\n",
              "      <th></th>\n",
              "      <th>age</th>\n",
              "      <th>sex</th>\n",
              "      <th>bmi</th>\n",
              "      <th>children</th>\n",
              "      <th>smoker</th>\n",
              "      <th>region</th>\n",
              "      <th>charges</th>\n",
              "    </tr>\n",
              "  </thead>\n",
              "  <tbody>\n",
              "    <tr>\n",
              "      <th>0</th>\n",
              "      <td>19</td>\n",
              "      <td>female</td>\n",
              "      <td>27.900</td>\n",
              "      <td>0</td>\n",
              "      <td>yes</td>\n",
              "      <td>southwest</td>\n",
              "      <td>16884.92400</td>\n",
              "    </tr>\n",
              "    <tr>\n",
              "      <th>1</th>\n",
              "      <td>18</td>\n",
              "      <td>male</td>\n",
              "      <td>33.770</td>\n",
              "      <td>1</td>\n",
              "      <td>no</td>\n",
              "      <td>southeast</td>\n",
              "      <td>1725.55230</td>\n",
              "    </tr>\n",
              "    <tr>\n",
              "      <th>2</th>\n",
              "      <td>28</td>\n",
              "      <td>male</td>\n",
              "      <td>33.000</td>\n",
              "      <td>3</td>\n",
              "      <td>no</td>\n",
              "      <td>southeast</td>\n",
              "      <td>4449.46200</td>\n",
              "    </tr>\n",
              "    <tr>\n",
              "      <th>3</th>\n",
              "      <td>33</td>\n",
              "      <td>male</td>\n",
              "      <td>22.705</td>\n",
              "      <td>0</td>\n",
              "      <td>no</td>\n",
              "      <td>northwest</td>\n",
              "      <td>21984.47061</td>\n",
              "    </tr>\n",
              "    <tr>\n",
              "      <th>4</th>\n",
              "      <td>32</td>\n",
              "      <td>male</td>\n",
              "      <td>28.880</td>\n",
              "      <td>0</td>\n",
              "      <td>no</td>\n",
              "      <td>northwest</td>\n",
              "      <td>3866.85520</td>\n",
              "    </tr>\n",
              "    <tr>\n",
              "      <th>5</th>\n",
              "      <td>31</td>\n",
              "      <td>female</td>\n",
              "      <td>25.740</td>\n",
              "      <td>0</td>\n",
              "      <td>no</td>\n",
              "      <td>southeast</td>\n",
              "      <td>3756.62160</td>\n",
              "    </tr>\n",
              "    <tr>\n",
              "      <th>6</th>\n",
              "      <td>46</td>\n",
              "      <td>female</td>\n",
              "      <td>33.440</td>\n",
              "      <td>1</td>\n",
              "      <td>no</td>\n",
              "      <td>southeast</td>\n",
              "      <td>8240.58960</td>\n",
              "    </tr>\n",
              "    <tr>\n",
              "      <th>7</th>\n",
              "      <td>37</td>\n",
              "      <td>female</td>\n",
              "      <td>27.740</td>\n",
              "      <td>3</td>\n",
              "      <td>no</td>\n",
              "      <td>northwest</td>\n",
              "      <td>7281.50560</td>\n",
              "    </tr>\n",
              "    <tr>\n",
              "      <th>8</th>\n",
              "      <td>37</td>\n",
              "      <td>male</td>\n",
              "      <td>29.830</td>\n",
              "      <td>2</td>\n",
              "      <td>no</td>\n",
              "      <td>northeast</td>\n",
              "      <td>6406.41070</td>\n",
              "    </tr>\n",
              "    <tr>\n",
              "      <th>9</th>\n",
              "      <td>60</td>\n",
              "      <td>female</td>\n",
              "      <td>25.840</td>\n",
              "      <td>0</td>\n",
              "      <td>no</td>\n",
              "      <td>northwest</td>\n",
              "      <td>28923.13692</td>\n",
              "    </tr>\n",
              "  </tbody>\n",
              "</table>\n",
              "</div>"
            ],
            "text/plain": [
              "   age     sex     bmi  children smoker     region      charges\n",
              "0   19  female  27.900         0    yes  southwest  16884.92400\n",
              "1   18    male  33.770         1     no  southeast   1725.55230\n",
              "2   28    male  33.000         3     no  southeast   4449.46200\n",
              "3   33    male  22.705         0     no  northwest  21984.47061\n",
              "4   32    male  28.880         0     no  northwest   3866.85520\n",
              "5   31  female  25.740         0     no  southeast   3756.62160\n",
              "6   46  female  33.440         1     no  southeast   8240.58960\n",
              "7   37  female  27.740         3     no  northwest   7281.50560\n",
              "8   37    male  29.830         2     no  northeast   6406.41070\n",
              "9   60  female  25.840         0     no  northwest  28923.13692"
            ]
          },
          "metadata": {
            "tags": []
          },
          "execution_count": 2
        }
      ]
    },
    {
      "cell_type": "markdown",
      "metadata": {
        "id": "33W2dX4zTDde"
      },
      "source": [
        "# 1.The largest amount paid by the insurance company last year to any beneficiary . 2 Decimal Places"
      ]
    },
    {
      "cell_type": "code",
      "metadata": {
        "id": "ZS3gIJPIatWj",
        "colab": {
          "base_uri": "https://localhost:8080/"
        },
        "outputId": "60a07c3e-2843-4355-998d-32b7d2e2ad26"
      },
      "source": [
        "def max_charge(insurance):\n",
        "    #write code here\n",
        "    amt=insurance['charges'].max()\n",
        "    print('Largest amount paid: %.2f'%(amt))\n",
        "    return \n",
        "#write code here\n",
        "max_charge(insurance)"
      ],
      "execution_count": 7,
      "outputs": [
        {
          "output_type": "stream",
          "text": [
            "Largest amount paid: 63770.43\n"
          ],
          "name": "stdout"
        }
      ]
    },
    {
      "cell_type": "markdown",
      "metadata": {
        "id": "gei-QhM8TFxn"
      },
      "source": [
        "# 2. A table similar to insurance, but with only the rows for smokers, and without the smoker column."
      ]
    },
    {
      "cell_type": "code",
      "metadata": {
        "id": "3Nh1qlzWazUJ",
        "colab": {
          "base_uri": "https://localhost:8080/"
        },
        "outputId": "24dd2093-b9d2-491c-de82-d017a6554a93"
      },
      "source": [
        "def new_table(insurance):\n",
        "    #write code here\n",
        "    x=insurance.loc[insurance['smoker']=='yes']\n",
        "    y=x.drop(['smoker'],axis=1)\n",
        "    print(y)\n",
        "    return \n",
        "#write code here\n",
        "new_table(insurance)"
      ],
      "execution_count": 8,
      "outputs": [
        {
          "output_type": "stream",
          "text": [
            "      age     sex     bmi  children     region      charges\n",
            "0      19  female  27.900         0  southwest  16884.92400\n",
            "11     62  female  26.290         0  southeast  27808.72510\n",
            "14     27    male  42.130         0  southeast  39611.75770\n",
            "19     30    male  35.300         0  southwest  36837.46700\n",
            "23     34  female  31.920         1  northeast  37701.87680\n",
            "...   ...     ...     ...       ...        ...          ...\n",
            "1313   19  female  34.700         2  southwest  36397.57600\n",
            "1314   30  female  23.655         3  northwest  18765.87545\n",
            "1321   62    male  26.695         0  northeast  28101.33305\n",
            "1323   42  female  40.370         2  southeast  43896.37630\n",
            "1337   61  female  29.070         0  northwest  29141.36030\n",
            "\n",
            "[274 rows x 6 columns]\n"
          ],
          "name": "stdout"
        }
      ]
    },
    {
      "cell_type": "markdown",
      "metadata": {
        "id": "OsDZ5mafTgKC"
      },
      "source": [
        "# 3. Add column named predicted_paid that shows the amount we predict to pay to that beneficiary this year, if we predict that their cost this year will be the cost last year increased by 5% to insurance. round to 2 decimal places and enter"
      ]
    },
    {
      "cell_type": "code",
      "metadata": {
        "id": "tDUqmm8jb78q",
        "colab": {
          "base_uri": "https://localhost:8080/"
        },
        "outputId": "feea8217-d835-4d28-f851-b318480a4764"
      },
      "source": [
        "def predicted(insurance):\n",
        "    #write code here\n",
        "    insurance['predicted_paid']=round(insurance['charges']+(insurance['charges']*0.05),2)\n",
        "    print(insurance)\n",
        "    return \n",
        "#write code here\n",
        "predicted(insurance)"
      ],
      "execution_count": 9,
      "outputs": [
        {
          "output_type": "stream",
          "text": [
            "      age     sex     bmi  ...     region      charges predicted_paid\n",
            "0      19  female  27.900  ...  southwest  16884.92400       17729.17\n",
            "1      18    male  33.770  ...  southeast   1725.55230        1811.83\n",
            "2      28    male  33.000  ...  southeast   4449.46200        4671.94\n",
            "3      33    male  22.705  ...  northwest  21984.47061       23083.69\n",
            "4      32    male  28.880  ...  northwest   3866.85520        4060.20\n",
            "...   ...     ...     ...  ...        ...          ...            ...\n",
            "1333   50    male  30.970  ...  northwest  10600.54830       11130.58\n",
            "1334   18  female  31.920  ...  northeast   2205.98080        2316.28\n",
            "1335   18  female  36.850  ...  southeast   1629.83350        1711.33\n",
            "1336   21  female  25.800  ...  southwest   2007.94500        2108.34\n",
            "1337   61  female  29.070  ...  northwest  29141.36030       30598.43\n",
            "\n",
            "[1338 rows x 8 columns]\n"
          ],
          "name": "stdout"
        }
      ]
    },
    {
      "cell_type": "markdown",
      "metadata": {
        "id": "GRGJDWQ8URzU"
      },
      "source": [
        "# 4.  A table containing one row per region, listing for each region the total amount of charges paid by the insurance company last year to all beneficiaries in that region. round 1 decimal places\n"
      ]
    },
    {
      "cell_type": "code",
      "metadata": {
        "id": "ITLnaxx8cGWZ",
        "colab": {
          "base_uri": "https://localhost:8080/"
        },
        "outputId": "e224d6d7-b582-4815-df92-aec6cbba4a28"
      },
      "source": [
        "def row_region(insurance):\n",
        "    #write code here\n",
        "    x=round(insurance.groupby(['region']).sum(),1)\n",
        "    y=x[['charges']]\n",
        "    print(y)\n",
        "    return \n",
        "#write code here\n",
        "row_region(insurance)"
      ],
      "execution_count": 15,
      "outputs": [
        {
          "output_type": "stream",
          "text": [
            "             charges\n",
            "region              \n",
            "northeast  4343668.6\n",
            "northwest  4035712.0\n",
            "southeast  5363689.8\n",
            "southwest  4012754.6\n"
          ],
          "name": "stdout"
        }
      ]
    },
    {
      "cell_type": "markdown",
      "metadata": {
        "id": "AdMO-BJIVkIx"
      },
      "source": [
        "# 5. The name of the region with the smallest number of beneficiaries."
      ]
    },
    {
      "cell_type": "code",
      "metadata": {
        "id": "o1tvt4OYcNpx",
        "colab": {
          "base_uri": "https://localhost:8080/"
        },
        "outputId": "a89d0e07-7f2b-464c-d4da-640acbe80f7d"
      },
      "source": [
        "def smallest(insurance):\n",
        "    #write code here\n",
        "    x=insurance.groupby(['region']).count()\n",
        "    x=x.nsmallest(1,'age')\n",
        "    x=x[['age']]\n",
        "    print(x)\n",
        "    return \n",
        "#write code here\n",
        "smallest(insurance)"
      ],
      "execution_count": 28,
      "outputs": [
        {
          "output_type": "stream",
          "text": [
            "           age\n",
            "region        \n",
            "northeast  324\n"
          ],
          "name": "stdout"
        }
      ]
    },
    {
      "cell_type": "markdown",
      "metadata": {
        "id": "UtDgmq0gXK6y"
      },
      "source": [
        "# 6. Write a function that takes an age as a parameter, and returns the average BMI of all beneficiaries of that age. Round to 2 decimal points"
      ]
    },
    {
      "cell_type": "code",
      "metadata": {
        "id": "5zHEegsNcTyD",
        "colab": {
          "base_uri": "https://localhost:8080/"
        },
        "outputId": "65ca6de9-5fca-4158-9178-c23affed7a8e"
      },
      "source": [
        "def avg_bmi(age,insurance):\n",
        "    #write code here\n",
        "    x=insurance.loc[insurance['age']==age]\n",
        "    y=x.groupby(['age']).mean()\n",
        "    y=round(y[['bmi']],2)\n",
        "    print(y)\n",
        "    return \n",
        "#write code here\n",
        "age=int(input())\n",
        "avg_bmi(age,insurance)"
      ],
      "execution_count": 31,
      "outputs": [
        {
          "output_type": "stream",
          "text": [
            "20\n",
            "       bmi\n",
            "age       \n",
            "20   30.63\n"
          ],
          "name": "stdout"
        }
      ]
    },
    {
      "cell_type": "markdown",
      "metadata": {
        "id": "OLjq6nqvnz0C"
      },
      "source": [
        "# 7. The number of times the charges increased by more than $10,000.00 from one person to next in order"
      ]
    },
    {
      "cell_type": "code",
      "metadata": {
        "id": "JCCeqfmscieC",
        "colab": {
          "base_uri": "https://localhost:8080/"
        },
        "outputId": "e386c30a-0269-4690-a39f-73c76b24a76c"
      },
      "source": [
        "def charge_increased(insurance):\n",
        "    #write code here\n",
        "    ct=0\n",
        "    for i in range(1,len(insurance)):\n",
        "      x=insurance.loc[i,'charges']\n",
        "      y=insurance.loc[i-1,'charges']+10000\n",
        "      if(x>y):\n",
        "        ct+=1\n",
        "    return ct   \n",
        "#write code here\n",
        "charge_increased(insurance)"
      ],
      "execution_count": 32,
      "outputs": [
        {
          "output_type": "execute_result",
          "data": {
            "text/plain": [
              "281"
            ]
          },
          "metadata": {
            "tags": []
          },
          "execution_count": 32
        }
      ]
    },
    {
      "cell_type": "markdown",
      "metadata": {
        "id": "TCfFIpzwqVqb"
      },
      "source": [
        "# 8. Whether or not the charges has ever been $2000.00 or less (your code should evaluate to True or False)."
      ]
    },
    {
      "cell_type": "code",
      "metadata": {
        "id": "TfXK7YNLdIqi",
        "colab": {
          "base_uri": "https://localhost:8080/"
        },
        "outputId": "b35af846-c291-4ffa-ba3d-a54f7f78f8b7"
      },
      "source": [
        "def charge_less():\n",
        "    #write code here\n",
        "    x=False\n",
        "    for i in range(1,len(insurance)):\n",
        "      if(insurance.loc[i,\"charges\"]<2000):\n",
        "        x=True\n",
        "    return x\n",
        "#write code here\n",
        "charge_less()"
      ],
      "execution_count": 33,
      "outputs": [
        {
          "output_type": "execute_result",
          "data": {
            "text/plain": [
              "True"
            ]
          },
          "metadata": {
            "tags": []
          },
          "execution_count": 33
        }
      ]
    },
    {
      "cell_type": "markdown",
      "metadata": {
        "id": "Pp3A5e8Dq2wk"
      },
      "source": [
        "# 9. The probability of choosing a charge greater than $2500.00, if I pick one of the charge uniformly at random . 2 decimal places"
      ]
    },
    {
      "cell_type": "code",
      "metadata": {
        "id": "JXu2JaBDdNyR",
        "colab": {
          "base_uri": "https://localhost:8080/"
        },
        "outputId": "2ab96468-3746-4631-f53e-fe38f05b7f22"
      },
      "source": [
        "def prob_greater(insurance):\n",
        "    #write code here\n",
        "    insurance[\"probability\"]=[1 if x<2500 else 2 for x in insurance[\"charges\"]]\n",
        "    x=insurance.groupby(\"probability\")[\"probability\"].size()\n",
        "    return round((x.loc[1]/x.sum().sum()),2)\n",
        "#write code here\n",
        "prob_greater(insurance)"
      ],
      "execution_count": 36,
      "outputs": [
        {
          "output_type": "execute_result",
          "data": {
            "text/plain": [
              "0.11"
            ]
          },
          "metadata": {
            "tags": []
          },
          "execution_count": 36
        }
      ]
    },
    {
      "cell_type": "markdown",
      "metadata": {
        "id": "zalMMwKVdw4p"
      },
      "source": [
        "# 10. Create box-plots to detect outliers"
      ]
    },
    {
      "cell_type": "code",
      "metadata": {
        "id": "DcUQjBAvdnBx"
      },
      "source": [
        ""
      ],
      "execution_count": null,
      "outputs": []
    }
  ]
}