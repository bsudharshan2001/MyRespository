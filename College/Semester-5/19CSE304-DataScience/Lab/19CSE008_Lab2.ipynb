{
  "nbformat": 4,
  "nbformat_minor": 0,
  "metadata": {
    "colab": {
      "name": "19CSE008-Lab2.ipynb",
      "provenance": [],
      "authorship_tag": "ABX9TyPSyzj285KZRoGJh5j0DR42",
      "include_colab_link": true
    },
    "kernelspec": {
      "name": "python3",
      "display_name": "Python 3"
    },
    "language_info": {
      "name": "python"
    }
  },
  "cells": [
    {
      "cell_type": "markdown",
      "metadata": {
        "id": "view-in-github",
        "colab_type": "text"
      },
      "source": [
        "<a href=\"https://colab.research.google.com/github/bsudharshan2001/MyRespository/blob/master/College/Semester-5/19CSE204-DataScience/Lab/19CSE008_Lab2.ipynb\" target=\"_parent\"><img src=\"https://colab.research.google.com/assets/colab-badge.svg\" alt=\"Open In Colab\"/></a>"
      ]
    },
    {
      "cell_type": "markdown",
      "metadata": {
        "id": "UTJHwmr6d_wR"
      },
      "source": [
        "**Fundamental of Data Science - Lab 2**\n",
        "\n",
        "B Sudharshan - CB.EN.U4CSE19008 - CSE A"
      ]
    },
    {
      "cell_type": "markdown",
      "metadata": {
        "id": "JxtISuk5jXd_"
      },
      "source": [
        "**Question 1**"
      ]
    },
    {
      "cell_type": "code",
      "metadata": {
        "colab": {
          "base_uri": "https://localhost:8080/"
        },
        "id": "I44lmfZQXjYK",
        "outputId": "5d008b56-7220-4932-eb21-3370b2ebe171"
      },
      "source": [
        "#Question 1\n",
        "import pandas as pd\n",
        "df=pd.DataFrame({'Name':['Bhalaji','Anirudh','Vicky'],\n",
        "                 'City':['Hosur','Bangalore','Pollachi'],\n",
        "                 'RollNo':[19026,19004,19060]})\n",
        "print(df)"
      ],
      "execution_count": 7,
      "outputs": [
        {
          "output_type": "stream",
          "text": [
            "      Name       City  RollNo        Hobby\n",
            "0  Bhalaji      Hosur   19026      Cricket\n",
            "1  Anirudh  Bangalore   19004      Reading\n",
            "2    Vicky   Pollachi   19060  Video games\n"
          ],
          "name": "stdout"
        }
      ]
    },
    {
      "cell_type": "markdown",
      "metadata": {
        "id": "ED4O5QHljb1V"
      },
      "source": [
        "**Question 2**"
      ]
    },
    {
      "cell_type": "code",
      "metadata": {
        "colab": {
          "base_uri": "https://localhost:8080/"
        },
        "id": "0v__TwK3epPF",
        "outputId": "54247529-5b87-4d32-c910-f88351608327"
      },
      "source": [
        "#Question 2\n",
        "df1=pd.DataFrame({'RollNo':[19026,19004,19060],\n",
        "                  'Hobby':['Cricket','Reading','Video games']})\n",
        "print(df1)"
      ],
      "execution_count": 13,
      "outputs": [
        {
          "output_type": "stream",
          "text": [
            "   RollNo        Hobby\n",
            "0   19026      Cricket\n",
            "1   19004      Reading\n",
            "2   19060  Video games\n"
          ],
          "name": "stdout"
        }
      ]
    },
    {
      "cell_type": "markdown",
      "metadata": {
        "id": "LLO8a3q9jeEP"
      },
      "source": [
        "**Question 3a**"
      ]
    },
    {
      "cell_type": "code",
      "metadata": {
        "colab": {
          "base_uri": "https://localhost:8080/"
        },
        "id": "3lA8-it_epUl",
        "outputId": "a029d855-29b5-4005-ce34-b64832db6129"
      },
      "source": [
        "#Question 3a\n",
        "result_inner=pd.merge(df,df1,how='inner')\n",
        "print(result_inner)"
      ],
      "execution_count": 20,
      "outputs": [
        {
          "output_type": "stream",
          "text": [
            "      Name       City  RollNo        Hobby\n",
            "0  Bhalaji      Hosur   19026      Cricket\n",
            "1  Anirudh  Bangalore   19004      Reading\n",
            "2    Vicky   Pollachi   19060  Video games\n"
          ],
          "name": "stdout"
        }
      ]
    },
    {
      "cell_type": "markdown",
      "metadata": {
        "id": "cp7B867GjgDx"
      },
      "source": [
        "**Question 3b**"
      ]
    },
    {
      "cell_type": "code",
      "metadata": {
        "colab": {
          "base_uri": "https://localhost:8080/"
        },
        "id": "m0WY8VzPegWo",
        "outputId": "b3729e50-c326-4ece-bf83-3c44eed85e33"
      },
      "source": [
        "#Question 3b\n",
        "result_outer=pd.merge(df,df1,how='outer')\n",
        "print(result_outer)"
      ],
      "execution_count": 11,
      "outputs": [
        {
          "output_type": "stream",
          "text": [
            "      Name       City  RollNo        Hobby\n",
            "0  Bhalaji      Hosur   19026      Cricket\n",
            "1  Anirudh  Bangalore   19004      Reading\n",
            "2    Vicky   Pollachi   19060  Video games\n"
          ],
          "name": "stdout"
        }
      ]
    },
    {
      "cell_type": "markdown",
      "metadata": {
        "id": "j_5GTqvvjiUT"
      },
      "source": [
        "**Question 3c**"
      ]
    },
    {
      "cell_type": "code",
      "metadata": {
        "colab": {
          "base_uri": "https://localhost:8080/"
        },
        "id": "pEXQZ5L_eaS6",
        "outputId": "cae9f334-b2a0-4bd9-b4f0-1a658c54ab17"
      },
      "source": [
        "#Question 3c\n",
        "result_right=pd.merge(df,df1,how='right')\n",
        "print(result_right)"
      ],
      "execution_count": 10,
      "outputs": [
        {
          "output_type": "stream",
          "text": [
            "      Name       City  RollNo        Hobby\n",
            "0  Bhalaji      Hosur   19026      Cricket\n",
            "1  Anirudh  Bangalore   19004      Reading\n",
            "2    Vicky   Pollachi   19060  Video games\n"
          ],
          "name": "stdout"
        }
      ]
    },
    {
      "cell_type": "markdown",
      "metadata": {
        "id": "1z3cirTajkWE"
      },
      "source": [
        "**Question 3d**"
      ]
    },
    {
      "cell_type": "code",
      "metadata": {
        "colab": {
          "base_uri": "https://localhost:8080/"
        },
        "id": "b3yn3c7meUUJ",
        "outputId": "c78e009c-7440-4339-ae89-d2b3224f23a5"
      },
      "source": [
        "#Question 3d\n",
        "result_left=pd.merge(df,df1,how='left')\n",
        "print(result_right)"
      ],
      "execution_count": 12,
      "outputs": [
        {
          "output_type": "stream",
          "text": [
            "      Name       City  RollNo        Hobby\n",
            "0  Bhalaji      Hosur   19026      Cricket\n",
            "1  Anirudh  Bangalore   19004      Reading\n",
            "2    Vicky   Pollachi   19060  Video games\n"
          ],
          "name": "stdout"
        }
      ]
    },
    {
      "cell_type": "markdown",
      "metadata": {
        "id": "0PJVp_-5jmzQ"
      },
      "source": [
        "**Question 4**"
      ]
    },
    {
      "cell_type": "code",
      "metadata": {
        "colab": {
          "base_uri": "https://localhost:8080/"
        },
        "id": "RmsyZEene-d4",
        "outputId": "4287357c-0457-4092-b047-57477480fa69"
      },
      "source": [
        "#Question 4\n",
        "#outer\n",
        "concat_outer=pd.concat([df,df1],join='outer',axis=1)\n",
        "print(concat_outer)"
      ],
      "execution_count": 14,
      "outputs": [
        {
          "output_type": "stream",
          "text": [
            "      Name       City  RollNo  RollNo        Hobby\n",
            "0  Bhalaji      Hosur   19026   19026      Cricket\n",
            "1  Anirudh  Bangalore   19004   19004      Reading\n",
            "2    Vicky   Pollachi   19060   19060  Video games\n"
          ],
          "name": "stdout"
        }
      ]
    },
    {
      "cell_type": "code",
      "metadata": {
        "colab": {
          "base_uri": "https://localhost:8080/"
        },
        "id": "J2wTeUQKfnE-",
        "outputId": "085b166e-80cc-49bc-b133-196913a6bbb1"
      },
      "source": [
        "#inner\n",
        "concat_inner=pd.concat([df,df1],join='inner',axis=1)\n",
        "print(concat_inner)"
      ],
      "execution_count": 15,
      "outputs": [
        {
          "output_type": "stream",
          "text": [
            "      Name       City  RollNo  RollNo        Hobby\n",
            "0  Bhalaji      Hosur   19026   19026      Cricket\n",
            "1  Anirudh  Bangalore   19004   19004      Reading\n",
            "2    Vicky   Pollachi   19060   19060  Video games\n"
          ],
          "name": "stdout"
        }
      ]
    },
    {
      "cell_type": "markdown",
      "metadata": {
        "id": "pxCyoMlZjrL6"
      },
      "source": [
        "**Question 5**"
      ]
    },
    {
      "cell_type": "code",
      "metadata": {
        "colab": {
          "base_uri": "https://localhost:8080/"
        },
        "id": "ZQctVvRGe-kj",
        "outputId": "2e6375df-8b74-4087-c4d3-6b879de18ef4"
      },
      "source": [
        "#Question 5\n",
        "result_melted =pd.melt(df,id_vars='RollNo', value_vars=[\"Name\",\"City\"])\n",
        "print(result_melted)"
      ],
      "execution_count": 27,
      "outputs": [
        {
          "output_type": "stream",
          "text": [
            "   RollNo variable      value\n",
            "0   19026     Name    Bhalaji\n",
            "1   19004     Name    Anirudh\n",
            "2   19060     Name      Vicky\n",
            "3   19026     City      Hosur\n",
            "4   19004     City  Bangalore\n",
            "5   19060     City   Pollachi\n"
          ],
          "name": "stdout"
        }
      ]
    },
    {
      "cell_type": "markdown",
      "metadata": {
        "id": "5V1kfyVUjs20"
      },
      "source": [
        "**Question 6**"
      ]
    },
    {
      "cell_type": "code",
      "metadata": {
        "colab": {
          "base_uri": "https://localhost:8080/"
        },
        "id": "jr0y8OObfCHn",
        "outputId": "1b551c45-2ff8-4e16-96dc-89fcf6b743a9"
      },
      "source": [
        "#Question 6\n",
        "result_unmelt = result_melted.pivot(index='RollNo',columns='variable')\n",
        "result_unmelt = result_unmelt['value'].reset_index()\n",
        "result_unmelt.columns.name = None\n",
        "print(result_unmelt)"
      ],
      "execution_count": 28,
      "outputs": [
        {
          "output_type": "stream",
          "text": [
            "   RollNo       City     Name\n",
            "0   19004  Bangalore  Anirudh\n",
            "1   19026      Hosur  Bhalaji\n",
            "2   19060   Pollachi    Vicky\n"
          ],
          "name": "stdout"
        }
      ]
    },
    {
      "cell_type": "markdown",
      "metadata": {
        "id": "jbGACOlnjuSs"
      },
      "source": [
        "**Question 7**"
      ]
    },
    {
      "cell_type": "code",
      "metadata": {
        "colab": {
          "base_uri": "https://localhost:8080/",
          "height": 143
        },
        "id": "RR8QnHZtfCe8",
        "outputId": "f754c493-d8e8-4767-980a-8d4f652a351a"
      },
      "source": [
        "#Question 7\n",
        "df.set_index('RollNo')\n",
        "df1.set_index('RollNo')\n",
        "df.join(df1, lsuffix = 'df', rsuffix = 'df1')"
      ],
      "execution_count": 32,
      "outputs": [
        {
          "output_type": "execute_result",
          "data": {
            "text/html": [
              "<div>\n",
              "<style scoped>\n",
              "    .dataframe tbody tr th:only-of-type {\n",
              "        vertical-align: middle;\n",
              "    }\n",
              "\n",
              "    .dataframe tbody tr th {\n",
              "        vertical-align: top;\n",
              "    }\n",
              "\n",
              "    .dataframe thead th {\n",
              "        text-align: right;\n",
              "    }\n",
              "</style>\n",
              "<table border=\"1\" class=\"dataframe\">\n",
              "  <thead>\n",
              "    <tr style=\"text-align: right;\">\n",
              "      <th></th>\n",
              "      <th>Name</th>\n",
              "      <th>City</th>\n",
              "      <th>RollNodf</th>\n",
              "      <th>RollNodf1</th>\n",
              "      <th>Hobby</th>\n",
              "    </tr>\n",
              "  </thead>\n",
              "  <tbody>\n",
              "    <tr>\n",
              "      <th>0</th>\n",
              "      <td>Bhalaji</td>\n",
              "      <td>Hosur</td>\n",
              "      <td>19026</td>\n",
              "      <td>19026</td>\n",
              "      <td>Cricket</td>\n",
              "    </tr>\n",
              "    <tr>\n",
              "      <th>1</th>\n",
              "      <td>Anirudh</td>\n",
              "      <td>Bangalore</td>\n",
              "      <td>19004</td>\n",
              "      <td>19004</td>\n",
              "      <td>Reading</td>\n",
              "    </tr>\n",
              "    <tr>\n",
              "      <th>2</th>\n",
              "      <td>Vicky</td>\n",
              "      <td>Pollachi</td>\n",
              "      <td>19060</td>\n",
              "      <td>19060</td>\n",
              "      <td>Video games</td>\n",
              "    </tr>\n",
              "  </tbody>\n",
              "</table>\n",
              "</div>"
            ],
            "text/plain": [
              "      Name       City  RollNodf  RollNodf1        Hobby\n",
              "0  Bhalaji      Hosur     19026      19026      Cricket\n",
              "1  Anirudh  Bangalore     19004      19004      Reading\n",
              "2    Vicky   Pollachi     19060      19060  Video games"
            ]
          },
          "metadata": {
            "tags": []
          },
          "execution_count": 32
        }
      ]
    }
  ]
}