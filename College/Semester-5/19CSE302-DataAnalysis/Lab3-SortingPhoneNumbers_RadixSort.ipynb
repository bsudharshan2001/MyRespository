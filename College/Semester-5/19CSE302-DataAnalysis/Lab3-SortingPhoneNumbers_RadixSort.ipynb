{
  "nbformat": 4,
  "nbformat_minor": 0,
  "metadata": {
    "colab": {
      "name": "SortingPhoneNumbers_RadixSort.ipynb",
      "provenance": [],
      "authorship_tag": "ABX9TyMcGEQWne6aFHntOa1r/nY2",
      "include_colab_link": true
    },
    "kernelspec": {
      "name": "python3",
      "display_name": "Python 3"
    },
    "language_info": {
      "name": "python"
    }
  },
  "cells": [
    {
      "cell_type": "markdown",
      "metadata": {
        "id": "view-in-github",
        "colab_type": "text"
      },
      "source": [
        "<a href=\"https://colab.research.google.com/github/bsudharshan2001/MyRespository/blob/master/College/Semester-5/19CSE302-DataAnalysis/Lab3-SortingPhoneNumbers_RadixSort.ipynb\" target=\"_parent\"><img src=\"https://colab.research.google.com/assets/colab-badge.svg\" alt=\"Open In Colab\"/></a>"
      ]
    },
    {
      "cell_type": "code",
      "metadata": {
        "colab": {
          "base_uri": "https://localhost:8080/"
        },
        "id": "uFOFhiC7psU-",
        "outputId": "831eb71f-594e-4756-d71e-e3b250470c1a"
      },
      "source": [
        "def extractAreacode(no, d):\n",
        "    return int(no//pow(10, d-1))%10\n",
        "\n",
        "def funSort(list,numberofphones, digitpos,maxdigits):\n",
        "\n",
        "    if digitpos > maxdigits:\n",
        "        return\n",
        "    #@start-editable@\n",
        "\n",
        "    k=0\n",
        "    temp=[0]*numberofphones\n",
        "    count=[0]*10\n",
        "    for no in list:\n",
        "        f2d=extractAreacode(no,digitpos)\n",
        "        count[int(f2d%10)]=count[int(f2d%10)]+1\n",
        "    for j in range(1,10):\n",
        "        count[j]+=count[j-1]\n",
        "    l=numberofphones-1\n",
        "    while(l>=0):\n",
        "        f2d=extractAreacode(list[l],digitpos)\n",
        "        temp[count[int(f2d%10)]-1]=list[l]\n",
        "        count[int(f2d%10)]-=1\n",
        "        l-=1\n",
        "    for k in range(0,numberofphones):\n",
        "        list[k]=temp[k]\n",
        "    print(list)\n",
        "    funSort(list,numberofphones,digitpos+1,maxdigits)\n",
        "    \n",
        "    #@end-editable@\n",
        "    \n",
        "    \n",
        "\n",
        "def getPhoneNumbers():\n",
        "    phone = []\n",
        "    noOfElements = int(input())\n",
        "    while noOfElements > 0:\n",
        "        element=int(input())\n",
        "        phone.append(element)\n",
        "        noOfElements-=1\n",
        "    funSort(phone,len(phone), 6,7)\n",
        "\n",
        "def main():\n",
        "    getPhoneNumbers()\n",
        "    \n",
        "if __name__ == '__main__':\n",
        "    main()"
      ],
      "execution_count": 3,
      "outputs": [
        {
          "output_type": "stream",
          "text": [
            "5\n",
            "9156678\n",
            "7123456\n",
            "1178934\n",
            "8734567\n",
            "9111111\n",
            "[9156678, 7123456, 1178934, 9111111, 8734567]\n",
            "[1178934, 7123456, 8734567, 9156678, 9111111]\n"
          ],
          "name": "stdout"
        }
      ]
    }
  ]
}