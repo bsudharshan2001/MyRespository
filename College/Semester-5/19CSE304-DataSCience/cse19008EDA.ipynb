{
  "nbformat": 4,
  "nbformat_minor": 0,
  "metadata": {
    "colab": {
      "name": "cse19008EDA.ipynb",
      "provenance": [],
      "collapsed_sections": [],
      "include_colab_link": true
    },
    "kernelspec": {
      "display_name": "Python 3",
      "language": "python",
      "name": "python3"
    },
    "language_info": {
      "codemirror_mode": {
        "name": "ipython",
        "version": 3
      },
      "file_extension": ".py",
      "mimetype": "text/x-python",
      "name": "python",
      "nbconvert_exporter": "python",
      "pygments_lexer": "ipython3",
      "version": "3.7.7"
    }
  },
  "cells": [
    {
      "cell_type": "markdown",
      "metadata": {
        "id": "view-in-github",
        "colab_type": "text"
      },
      "source": [
        "<a href=\"https://colab.research.google.com/github/bsudharshan2001/MyRespository/blob/master/College/Semester-5/19CSE304-DataSCience/cse19008EDA.ipynb\" target=\"_parent\"><img src=\"https://colab.research.google.com/assets/colab-badge.svg\" alt=\"Open In Colab\"/></a>"
      ]
    },
    {
      "cell_type": "markdown",
      "metadata": {
        "id": "dwdobVghw_--"
      },
      "source": [
        "19CSE304 - Data Science - Lab Evaluation 3\n",
        "--------------\n",
        "---\n",
        "B Sudharshan - CB.EN.U4CSE19008 - CSE A"
      ]
    },
    {
      "cell_type": "markdown",
      "metadata": {
        "id": "OPt4O_lBhYFP"
      },
      "source": [
        "# 0. Import the Libraries and read data"
      ]
    },
    {
      "cell_type": "code",
      "metadata": {
        "id": "MKq3bMIp5hZk"
      },
      "source": [
        "import pandas as pd\n",
        "import seaborn as sns\n",
        "import matplotlib.pyplot as plt\n",
        "import numpy as np\n",
        "from sklearn.datasets import load_boston\n",
        "import math\n",
        "from scipy.stats import chi2_contingency\n"
      ],
      "execution_count": null,
      "outputs": []
    },
    {
      "cell_type": "code",
      "metadata": {
        "colab": {
          "base_uri": "https://localhost:8080/",
          "height": 424
        },
        "id": "jfqULS9LCydL",
        "outputId": "cb89599e-35a9-47b4-807e-37ee4d8aeff1"
      },
      "source": [
        "boston = load_boston()\n",
        "x = boston.data\n",
        "y = boston.target\n",
        "columns = boston.feature_names\n",
        "# creating dataframes\n",
        "df = pd.DataFrame(boston.data)\n",
        "df.columns = columns\n",
        "df"
      ],
      "execution_count": null,
      "outputs": [
        {
          "output_type": "execute_result",
          "data": {
            "text/html": [
              "<div>\n",
              "<style scoped>\n",
              "    .dataframe tbody tr th:only-of-type {\n",
              "        vertical-align: middle;\n",
              "    }\n",
              "\n",
              "    .dataframe tbody tr th {\n",
              "        vertical-align: top;\n",
              "    }\n",
              "\n",
              "    .dataframe thead th {\n",
              "        text-align: right;\n",
              "    }\n",
              "</style>\n",
              "<table border=\"1\" class=\"dataframe\">\n",
              "  <thead>\n",
              "    <tr style=\"text-align: right;\">\n",
              "      <th></th>\n",
              "      <th>CRIM</th>\n",
              "      <th>ZN</th>\n",
              "      <th>INDUS</th>\n",
              "      <th>CHAS</th>\n",
              "      <th>NOX</th>\n",
              "      <th>RM</th>\n",
              "      <th>AGE</th>\n",
              "      <th>DIS</th>\n",
              "      <th>RAD</th>\n",
              "      <th>TAX</th>\n",
              "      <th>PTRATIO</th>\n",
              "      <th>B</th>\n",
              "      <th>LSTAT</th>\n",
              "    </tr>\n",
              "  </thead>\n",
              "  <tbody>\n",
              "    <tr>\n",
              "      <th>0</th>\n",
              "      <td>0.00632</td>\n",
              "      <td>18.0</td>\n",
              "      <td>2.31</td>\n",
              "      <td>0.0</td>\n",
              "      <td>0.538</td>\n",
              "      <td>6.575</td>\n",
              "      <td>65.2</td>\n",
              "      <td>4.0900</td>\n",
              "      <td>1.0</td>\n",
              "      <td>296.0</td>\n",
              "      <td>15.3</td>\n",
              "      <td>396.90</td>\n",
              "      <td>4.98</td>\n",
              "    </tr>\n",
              "    <tr>\n",
              "      <th>1</th>\n",
              "      <td>0.02731</td>\n",
              "      <td>0.0</td>\n",
              "      <td>7.07</td>\n",
              "      <td>0.0</td>\n",
              "      <td>0.469</td>\n",
              "      <td>6.421</td>\n",
              "      <td>78.9</td>\n",
              "      <td>4.9671</td>\n",
              "      <td>2.0</td>\n",
              "      <td>242.0</td>\n",
              "      <td>17.8</td>\n",
              "      <td>396.90</td>\n",
              "      <td>9.14</td>\n",
              "    </tr>\n",
              "    <tr>\n",
              "      <th>2</th>\n",
              "      <td>0.02729</td>\n",
              "      <td>0.0</td>\n",
              "      <td>7.07</td>\n",
              "      <td>0.0</td>\n",
              "      <td>0.469</td>\n",
              "      <td>7.185</td>\n",
              "      <td>61.1</td>\n",
              "      <td>4.9671</td>\n",
              "      <td>2.0</td>\n",
              "      <td>242.0</td>\n",
              "      <td>17.8</td>\n",
              "      <td>392.83</td>\n",
              "      <td>4.03</td>\n",
              "    </tr>\n",
              "    <tr>\n",
              "      <th>3</th>\n",
              "      <td>0.03237</td>\n",
              "      <td>0.0</td>\n",
              "      <td>2.18</td>\n",
              "      <td>0.0</td>\n",
              "      <td>0.458</td>\n",
              "      <td>6.998</td>\n",
              "      <td>45.8</td>\n",
              "      <td>6.0622</td>\n",
              "      <td>3.0</td>\n",
              "      <td>222.0</td>\n",
              "      <td>18.7</td>\n",
              "      <td>394.63</td>\n",
              "      <td>2.94</td>\n",
              "    </tr>\n",
              "    <tr>\n",
              "      <th>4</th>\n",
              "      <td>0.06905</td>\n",
              "      <td>0.0</td>\n",
              "      <td>2.18</td>\n",
              "      <td>0.0</td>\n",
              "      <td>0.458</td>\n",
              "      <td>7.147</td>\n",
              "      <td>54.2</td>\n",
              "      <td>6.0622</td>\n",
              "      <td>3.0</td>\n",
              "      <td>222.0</td>\n",
              "      <td>18.7</td>\n",
              "      <td>396.90</td>\n",
              "      <td>5.33</td>\n",
              "    </tr>\n",
              "    <tr>\n",
              "      <th>...</th>\n",
              "      <td>...</td>\n",
              "      <td>...</td>\n",
              "      <td>...</td>\n",
              "      <td>...</td>\n",
              "      <td>...</td>\n",
              "      <td>...</td>\n",
              "      <td>...</td>\n",
              "      <td>...</td>\n",
              "      <td>...</td>\n",
              "      <td>...</td>\n",
              "      <td>...</td>\n",
              "      <td>...</td>\n",
              "      <td>...</td>\n",
              "    </tr>\n",
              "    <tr>\n",
              "      <th>501</th>\n",
              "      <td>0.06263</td>\n",
              "      <td>0.0</td>\n",
              "      <td>11.93</td>\n",
              "      <td>0.0</td>\n",
              "      <td>0.573</td>\n",
              "      <td>6.593</td>\n",
              "      <td>69.1</td>\n",
              "      <td>2.4786</td>\n",
              "      <td>1.0</td>\n",
              "      <td>273.0</td>\n",
              "      <td>21.0</td>\n",
              "      <td>391.99</td>\n",
              "      <td>9.67</td>\n",
              "    </tr>\n",
              "    <tr>\n",
              "      <th>502</th>\n",
              "      <td>0.04527</td>\n",
              "      <td>0.0</td>\n",
              "      <td>11.93</td>\n",
              "      <td>0.0</td>\n",
              "      <td>0.573</td>\n",
              "      <td>6.120</td>\n",
              "      <td>76.7</td>\n",
              "      <td>2.2875</td>\n",
              "      <td>1.0</td>\n",
              "      <td>273.0</td>\n",
              "      <td>21.0</td>\n",
              "      <td>396.90</td>\n",
              "      <td>9.08</td>\n",
              "    </tr>\n",
              "    <tr>\n",
              "      <th>503</th>\n",
              "      <td>0.06076</td>\n",
              "      <td>0.0</td>\n",
              "      <td>11.93</td>\n",
              "      <td>0.0</td>\n",
              "      <td>0.573</td>\n",
              "      <td>6.976</td>\n",
              "      <td>91.0</td>\n",
              "      <td>2.1675</td>\n",
              "      <td>1.0</td>\n",
              "      <td>273.0</td>\n",
              "      <td>21.0</td>\n",
              "      <td>396.90</td>\n",
              "      <td>5.64</td>\n",
              "    </tr>\n",
              "    <tr>\n",
              "      <th>504</th>\n",
              "      <td>0.10959</td>\n",
              "      <td>0.0</td>\n",
              "      <td>11.93</td>\n",
              "      <td>0.0</td>\n",
              "      <td>0.573</td>\n",
              "      <td>6.794</td>\n",
              "      <td>89.3</td>\n",
              "      <td>2.3889</td>\n",
              "      <td>1.0</td>\n",
              "      <td>273.0</td>\n",
              "      <td>21.0</td>\n",
              "      <td>393.45</td>\n",
              "      <td>6.48</td>\n",
              "    </tr>\n",
              "    <tr>\n",
              "      <th>505</th>\n",
              "      <td>0.04741</td>\n",
              "      <td>0.0</td>\n",
              "      <td>11.93</td>\n",
              "      <td>0.0</td>\n",
              "      <td>0.573</td>\n",
              "      <td>6.030</td>\n",
              "      <td>80.8</td>\n",
              "      <td>2.5050</td>\n",
              "      <td>1.0</td>\n",
              "      <td>273.0</td>\n",
              "      <td>21.0</td>\n",
              "      <td>396.90</td>\n",
              "      <td>7.88</td>\n",
              "    </tr>\n",
              "  </tbody>\n",
              "</table>\n",
              "<p>506 rows × 13 columns</p>\n",
              "</div>"
            ],
            "text/plain": [
              "        CRIM    ZN  INDUS  CHAS    NOX  ...  RAD    TAX  PTRATIO       B  LSTAT\n",
              "0    0.00632  18.0   2.31   0.0  0.538  ...  1.0  296.0     15.3  396.90   4.98\n",
              "1    0.02731   0.0   7.07   0.0  0.469  ...  2.0  242.0     17.8  396.90   9.14\n",
              "2    0.02729   0.0   7.07   0.0  0.469  ...  2.0  242.0     17.8  392.83   4.03\n",
              "3    0.03237   0.0   2.18   0.0  0.458  ...  3.0  222.0     18.7  394.63   2.94\n",
              "4    0.06905   0.0   2.18   0.0  0.458  ...  3.0  222.0     18.7  396.90   5.33\n",
              "..       ...   ...    ...   ...    ...  ...  ...    ...      ...     ...    ...\n",
              "501  0.06263   0.0  11.93   0.0  0.573  ...  1.0  273.0     21.0  391.99   9.67\n",
              "502  0.04527   0.0  11.93   0.0  0.573  ...  1.0  273.0     21.0  396.90   9.08\n",
              "503  0.06076   0.0  11.93   0.0  0.573  ...  1.0  273.0     21.0  396.90   5.64\n",
              "504  0.10959   0.0  11.93   0.0  0.573  ...  1.0  273.0     21.0  393.45   6.48\n",
              "505  0.04741   0.0  11.93   0.0  0.573  ...  1.0  273.0     21.0  396.90   7.88\n",
              "\n",
              "[506 rows x 13 columns]"
            ]
          },
          "metadata": {},
          "execution_count": 2
        }
      ]
    },
    {
      "cell_type": "markdown",
      "metadata": {
        "id": "2J5LfkWfYFMG"
      },
      "source": [
        "# 1. What are the values of the mean and the median of age ? Compare the answers and state which you prefer as a measure of age for these data and why."
      ]
    },
    {
      "cell_type": "code",
      "metadata": {
        "colab": {
          "base_uri": "https://localhost:8080/"
        },
        "id": "H4WZtsYnYtvQ",
        "outputId": "72db0de5-6c8b-4f54-dd25-1ad30a8a4e87"
      },
      "source": [
        "def mean_val():\n",
        "#Write the code here\n",
        "  m=df.AGE.mean()\n",
        "  return m \n",
        "#Write the code here\n",
        "print(round(mean_val(),2))"
      ],
      "execution_count": null,
      "outputs": [
        {
          "output_type": "stream",
          "name": "stdout",
          "text": [
            "68.57\n"
          ]
        }
      ]
    },
    {
      "cell_type": "code",
      "metadata": {
        "colab": {
          "base_uri": "https://localhost:8080/"
        },
        "id": "NUOU0KIYYJrc",
        "outputId": "4428d980-3d48-471a-f45d-f78c39cfc2c9"
      },
      "source": [
        "def median_val():\n",
        "  #Write the code here\n",
        "  med=df.AGE.median()\n",
        "  return med\n",
        "#Write the code here\n",
        "print(round(median_val(),2))"
      ],
      "execution_count": null,
      "outputs": [
        {
          "output_type": "stream",
          "name": "stdout",
          "text": [
            "77.5\n"
          ]
        }
      ]
    },
    {
      "cell_type": "markdown",
      "metadata": {
        "id": "AOkWufd5heYU"
      },
      "source": [
        "## Why?\n",
        "---\n",
        "The prefered measure of age is median because as most of the values in age is close to median"
      ]
    },
    {
      "cell_type": "markdown",
      "metadata": {
        "id": "t_E7cMfrZP1N"
      },
      "source": [
        "# 2. What are the values of the range and interquartile range of age? How do they differ?"
      ]
    },
    {
      "cell_type": "code",
      "metadata": {
        "colab": {
          "base_uri": "https://localhost:8080/"
        },
        "id": "PKQj99lOZF7f",
        "outputId": "a4fb7c8c-2004-4e03-f2b7-c7e3fc34f83e"
      },
      "source": [
        "def range_val():\n",
        "  #Write the code here\n",
        "  range=df.AGE.max()-df.AGE.min()\n",
        "  return range#Write the code here\n",
        "#Write the code here\n",
        "print(round(range_val(),2))"
      ],
      "execution_count": null,
      "outputs": [
        {
          "output_type": "stream",
          "name": "stdout",
          "text": [
            "97.1\n"
          ]
        }
      ]
    },
    {
      "cell_type": "code",
      "metadata": {
        "colab": {
          "base_uri": "https://localhost:8080/"
        },
        "id": "g0fpFU_mZYZ0",
        "outputId": "db79fd50-8ee2-480b-f090-452d0d658e87"
      },
      "source": [
        "import numpy as np\n",
        "def iqr_val():\n",
        "  #Write the code here\n",
        "  q1=df['AGE'].quantile(q=0.25)\n",
        "  q3=df['AGE'].quantile(q=0.75)\n",
        "  iqr=q3-q1\n",
        "  return iqr\n",
        "#Write the code here\n",
        "print(round(iqr_val(),2))"
      ],
      "execution_count": null,
      "outputs": [
        {
          "output_type": "stream",
          "name": "stdout",
          "text": [
            "49.05\n"
          ]
        }
      ]
    },
    {
      "cell_type": "markdown",
      "metadata": {
        "id": "aQNsuotiZ751"
      },
      "source": [
        "# 3. What are the values of variance and standard deviation(round off to 2 decimal places) for these data?"
      ]
    },
    {
      "cell_type": "code",
      "metadata": {
        "colab": {
          "base_uri": "https://localhost:8080/"
        },
        "id": "S24qSzhGZeOR",
        "outputId": "5c791029-edf1-463b-e0a8-447dd0f415d9"
      },
      "source": [
        "import statistics\n",
        "def std_val():\n",
        "  #Write the code here\n",
        "  std=statistics.stdev(df['AGE'])\n",
        "  return std\n",
        "#Write the code here\n",
        "print(round(std_val(),2))"
      ],
      "execution_count": null,
      "outputs": [
        {
          "output_type": "stream",
          "name": "stdout",
          "text": [
            "28.15\n"
          ]
        }
      ]
    },
    {
      "cell_type": "code",
      "metadata": {
        "colab": {
          "base_uri": "https://localhost:8080/"
        },
        "id": "Yog613pmaB69",
        "outputId": "a518fcb5-7f87-45d9-a8b7-59a47bb2e388"
      },
      "source": [
        "def variance_val():\n",
        "  #Write the code here\n",
        "  var=statistics.variance(df['AGE'])\n",
        "  return var\n",
        "#Write the code here\n",
        "print(round(variance_val(),2))"
      ],
      "execution_count": null,
      "outputs": [
        {
          "output_type": "stream",
          "name": "stdout",
          "text": [
            "792.36\n"
          ]
        }
      ]
    },
    {
      "cell_type": "markdown",
      "metadata": {
        "id": "Hfo_HwxzbwIw"
      },
      "source": [
        "# 4. What is the z score for Age is 61.1? What is the z score for Age 80.8? Interpret these z scores. Round off to 2 decimal places"
      ]
    },
    {
      "cell_type": "code",
      "metadata": {
        "colab": {
          "base_uri": "https://localhost:8080/"
        },
        "id": "MAmH7yxlaJO2",
        "outputId": "bfce1274-9c00-4205-9064-7c6dcf63fbcf"
      },
      "source": [
        "import scipy.stats as stats\n",
        "def z_age1():\n",
        "  #Write the code here\n",
        "  for i in range(len(df)):\n",
        "    if(df['AGE'][i]==61.1):\n",
        "      pos=i\n",
        "  z1=stats.zscore(df['AGE'])\n",
        "  return z1[pos]\n",
        "#Write the code here-0.69\n",
        "print(round(z_age1(),2))"
      ],
      "execution_count": null,
      "outputs": [
        {
          "output_type": "stream",
          "name": "stdout",
          "text": [
            "-0.27\n"
          ]
        }
      ]
    },
    {
      "cell_type": "code",
      "metadata": {
        "colab": {
          "base_uri": "https://localhost:8080/"
        },
        "id": "5XuIJY-7b2Ho",
        "outputId": "ece89fef-b220-44cf-8a80-842a188235bc"
      },
      "source": [
        "def z_age2():\n",
        "  #Write the code here\n",
        "  for i in range(len(df)):\n",
        "    if(df['AGE'][i]==80.8):\n",
        "      pos=i\n",
        "  z1=stats.zscore(df['AGE'])\n",
        "  return z1[pos]\n",
        "#Write the code here-0.69\n",
        "print(round(z_age2(),2))"
      ],
      "execution_count": null,
      "outputs": [
        {
          "output_type": "stream",
          "name": "stdout",
          "text": [
            "0.43\n"
          ]
        }
      ]
    },
    {
      "cell_type": "markdown",
      "metadata": {
        "id": "2-PFl1qacR51"
      },
      "source": [
        "# 5. Calculate the Pearson coefficient of skewness and kurtosis for tax and comment on the skewness and kurtosis of this distribution. Round off to 2 decimal places"
      ]
    },
    {
      "cell_type": "code",
      "metadata": {
        "colab": {
          "base_uri": "https://localhost:8080/"
        },
        "id": "RehuBE8ScJJH",
        "outputId": "fcf8273c-5a55-4940-d399-f6466314f989"
      },
      "source": [
        "from scipy.stats import skew\n",
        "def skew_val():\n",
        "  #Write the code here\n",
        "  skw=skew(df['TAX'])\n",
        "  return skw\n",
        "#Write the code here0.78\n",
        "print(round(skew_val(),2))"
      ],
      "execution_count": null,
      "outputs": [
        {
          "output_type": "stream",
          "name": "stdout",
          "text": [
            "0.67\n"
          ]
        }
      ]
    },
    {
      "cell_type": "code",
      "metadata": {
        "colab": {
          "base_uri": "https://localhost:8080/"
        },
        "id": "owEwgUqOgVux",
        "outputId": "3d4aa62e-998f-4bf9-d14f-6b3b775ef467"
      },
      "source": [
        "from scipy.stats import kurtosis \n",
        "def kurtosis_val():\n",
        "  #Write the code here\n",
        "  kurt=df['TAX'].kurtosis()\n",
        "  return kurt\n",
        "#Write the code here-0.79\n",
        "print(round(kurtosis_val(),2))"
      ],
      "execution_count": null,
      "outputs": [
        {
          "output_type": "stream",
          "name": "stdout",
          "text": [
            "-1.14\n"
          ]
        }
      ]
    },
    {
      "cell_type": "markdown",
      "metadata": {
        "id": "7XRcYa_fYyZt"
      },
      "source": [
        "# Comment on kurtosis and skew of Tax"
      ]
    },
    {
      "cell_type": "markdown",
      "metadata": {
        "id": "9Gc6rpnRgR5d"
      },
      "source": [
        "# 6. Check if Age is in normal distribution\n",
        "\n",
        "Note:\n",
        "The Shapiro-Wilk test evaluates a data sample and quantifies how likely it is that the data was drawn from a Gaussian distribution, named for Samuel Shapiro and Martin Wilk.\n",
        "\n",
        "The shapiro() SciPy function will calculate the Shapiro-Wilk on a given dataset. \n",
        "\n",
        "The function returns both the W-statistic calculated by the test and the p-value."
      ]
    },
    {
      "cell_type": "code",
      "metadata": {
        "id": "zcuZWSYGepO6",
        "colab": {
          "base_uri": "https://localhost:8080/"
        },
        "outputId": "3ea4697b-ebe1-436d-e571-8a754c703c63"
      },
      "source": [
        "from scipy.stats import shapiro\n",
        "def chi2():\n",
        "  #write code here\n",
        "  stat, p = shapiro(df.AGE)\n",
        "  # interpret\n",
        "  alpha = 0.05\n",
        "  if(p>alpha):#write code here\n",
        "\t  print('Follows normal distribution (fail to reject H0)')\n",
        "  else:\n",
        "\t  print('Does not Follow normal distribution (reject H0)')\n",
        " \n",
        "#write code here\n",
        "chi2()"
      ],
      "execution_count": null,
      "outputs": [
        {
          "output_type": "stream",
          "name": "stdout",
          "text": [
            "Does not Follow normal distribution (reject H0)\n"
          ]
        }
      ]
    },
    {
      "cell_type": "markdown",
      "metadata": {
        "id": "3ltdFTEQmE2z"
      },
      "source": [
        "\n",
        "---\n",
        "\n",
        "# Holding breath (Question 7 to 10)\n",
        "In Ooty school,a small test was done. Twenty students were timed to see how long (in seconds) they could hold their breath in a relaxed position. After a two-minute rest, they timed themselves while jumping. The students thought that the mean difference between their jumping and relaxed times would be zero. Test their hypothesis.\n",
        "\n",
        "\n",
        "relax = [26, 47, 30, 22, 23, 45, 37, 29, 23, 29, 27, 24, 36, 29, 37, 23, 26, 21, 30, 29]\n",
        "\n",
        "\n",
        "jump = [23, 43, 25, 20, 20,40, 33, 25, 20, 25, 25, 20, 33, 23, 33, 22, 23, 19, 27, 25]\n"
      ]
    },
    {
      "cell_type": "markdown",
      "metadata": {
        "id": "EdAUUg-1awTq"
      },
      "source": [
        "#7. a.Using the above information, construct a dataframe named 'tt' in the code block below. Apart from the row index, the dataframe should have two columns namely 'relax' and 'jump'. Also, use this dataframe to answer the following questions.\n"
      ]
    },
    {
      "cell_type": "code",
      "metadata": {
        "id": "v1F3YiV3jV69",
        "colab": {
          "base_uri": "https://localhost:8080/",
          "height": 677
        },
        "outputId": "6962dabb-45e6-4af0-ff8a-d09d73f4c0f4"
      },
      "source": [
        "relax = [26, 47, 30, 22, 23, 45, 37, 29, 23, 29, 27, 24, 36, 29, 37, 23, 26, 21, 30, 29]\n",
        "jump = [23, 43, 25, 20, 20,40, 33, 25, 20, 25, 25, 20, 33, 23, 33, 22, 23, 19, 27, 25]\n",
        "#write code here\n",
        "comb={'relax': relax, 'jump': jump}  \n",
        "tt=pd.DataFrame(comb)\n",
        "tt"
      ],
      "execution_count": null,
      "outputs": [
        {
          "output_type": "execute_result",
          "data": {
            "text/html": [
              "<div>\n",
              "<style scoped>\n",
              "    .dataframe tbody tr th:only-of-type {\n",
              "        vertical-align: middle;\n",
              "    }\n",
              "\n",
              "    .dataframe tbody tr th {\n",
              "        vertical-align: top;\n",
              "    }\n",
              "\n",
              "    .dataframe thead th {\n",
              "        text-align: right;\n",
              "    }\n",
              "</style>\n",
              "<table border=\"1\" class=\"dataframe\">\n",
              "  <thead>\n",
              "    <tr style=\"text-align: right;\">\n",
              "      <th></th>\n",
              "      <th>relax</th>\n",
              "      <th>jump</th>\n",
              "    </tr>\n",
              "  </thead>\n",
              "  <tbody>\n",
              "    <tr>\n",
              "      <th>0</th>\n",
              "      <td>26</td>\n",
              "      <td>23</td>\n",
              "    </tr>\n",
              "    <tr>\n",
              "      <th>1</th>\n",
              "      <td>47</td>\n",
              "      <td>43</td>\n",
              "    </tr>\n",
              "    <tr>\n",
              "      <th>2</th>\n",
              "      <td>30</td>\n",
              "      <td>25</td>\n",
              "    </tr>\n",
              "    <tr>\n",
              "      <th>3</th>\n",
              "      <td>22</td>\n",
              "      <td>20</td>\n",
              "    </tr>\n",
              "    <tr>\n",
              "      <th>4</th>\n",
              "      <td>23</td>\n",
              "      <td>20</td>\n",
              "    </tr>\n",
              "    <tr>\n",
              "      <th>5</th>\n",
              "      <td>45</td>\n",
              "      <td>40</td>\n",
              "    </tr>\n",
              "    <tr>\n",
              "      <th>6</th>\n",
              "      <td>37</td>\n",
              "      <td>33</td>\n",
              "    </tr>\n",
              "    <tr>\n",
              "      <th>7</th>\n",
              "      <td>29</td>\n",
              "      <td>25</td>\n",
              "    </tr>\n",
              "    <tr>\n",
              "      <th>8</th>\n",
              "      <td>23</td>\n",
              "      <td>20</td>\n",
              "    </tr>\n",
              "    <tr>\n",
              "      <th>9</th>\n",
              "      <td>29</td>\n",
              "      <td>25</td>\n",
              "    </tr>\n",
              "    <tr>\n",
              "      <th>10</th>\n",
              "      <td>27</td>\n",
              "      <td>25</td>\n",
              "    </tr>\n",
              "    <tr>\n",
              "      <th>11</th>\n",
              "      <td>24</td>\n",
              "      <td>20</td>\n",
              "    </tr>\n",
              "    <tr>\n",
              "      <th>12</th>\n",
              "      <td>36</td>\n",
              "      <td>33</td>\n",
              "    </tr>\n",
              "    <tr>\n",
              "      <th>13</th>\n",
              "      <td>29</td>\n",
              "      <td>23</td>\n",
              "    </tr>\n",
              "    <tr>\n",
              "      <th>14</th>\n",
              "      <td>37</td>\n",
              "      <td>33</td>\n",
              "    </tr>\n",
              "    <tr>\n",
              "      <th>15</th>\n",
              "      <td>23</td>\n",
              "      <td>22</td>\n",
              "    </tr>\n",
              "    <tr>\n",
              "      <th>16</th>\n",
              "      <td>26</td>\n",
              "      <td>23</td>\n",
              "    </tr>\n",
              "    <tr>\n",
              "      <th>17</th>\n",
              "      <td>21</td>\n",
              "      <td>19</td>\n",
              "    </tr>\n",
              "    <tr>\n",
              "      <th>18</th>\n",
              "      <td>30</td>\n",
              "      <td>27</td>\n",
              "    </tr>\n",
              "    <tr>\n",
              "      <th>19</th>\n",
              "      <td>29</td>\n",
              "      <td>25</td>\n",
              "    </tr>\n",
              "  </tbody>\n",
              "</table>\n",
              "</div>"
            ],
            "text/plain": [
              "    relax  jump\n",
              "0      26    23\n",
              "1      47    43\n",
              "2      30    25\n",
              "3      22    20\n",
              "4      23    20\n",
              "5      45    40\n",
              "6      37    33\n",
              "7      29    25\n",
              "8      23    20\n",
              "9      29    25\n",
              "10     27    25\n",
              "11     24    20\n",
              "12     36    33\n",
              "13     29    23\n",
              "14     37    33\n",
              "15     23    22\n",
              "16     26    23\n",
              "17     21    19\n",
              "18     30    27\n",
              "19     29    25"
            ]
          },
          "metadata": {},
          "execution_count": 45
        }
      ]
    },
    {
      "cell_type": "markdown",
      "metadata": {
        "id": "fAqMqV4cd4W6"
      },
      "source": [
        "# 7.b From the values in the dataframe, use pandas functions to print a good estimate for the population mean and standard deviation. Display as a tuple\n"
      ]
    },
    {
      "cell_type": "code",
      "metadata": {
        "colab": {
          "base_uri": "https://localhost:8080/"
        },
        "id": "HTxxKdyLirpi",
        "outputId": "1d6686ee-d648-443e-c649-51210c5a42bf"
      },
      "source": [
        "def estimate_mean_std():\n",
        "  #write code here\n",
        "  x=(round(tt.relax.mean(),2),round(tt.jump.mean(),2))\n",
        "  y=(round(tt.relax.std(),2),round(tt.jump.std(),2))\n",
        "  return x,y\n",
        "#write code here\n",
        "mean,std = estimate_mean_std()\n",
        "print(mean)\n",
        "#print(std)"
      ],
      "execution_count": null,
      "outputs": [
        {
          "output_type": "stream",
          "name": "stdout",
          "text": [
            "(29.65, 26.2)\n"
          ]
        }
      ]
    },
    {
      "cell_type": "markdown",
      "metadata": {
        "id": "iZIIRfOBiucS"
      },
      "source": [
        "# 8. Calculate the mean and standard deviation of the means.  Display as a tuple. 2 decimal places\n"
      ]
    },
    {
      "cell_type": "code",
      "metadata": {
        "id": "XNRwm9M0zraG",
        "colab": {
          "base_uri": "https://localhost:8080/"
        },
        "outputId": "9b6ffb02-774c-4317-91d3-3c5cee8cd313"
      },
      "source": [
        "def mean_stdev():\n",
        "  ms=np.array(mean)\n",
        "  m=ms.mean()\n",
        "  s=ms.std()\n",
        "  return round(m,2),round(s,2)\n",
        "#write code here\n",
        "print(mean_stdev())"
      ],
      "execution_count": null,
      "outputs": [
        {
          "output_type": "stream",
          "name": "stdout",
          "text": [
            "(27.92, 1.72)\n"
          ]
        }
      ]
    },
    {
      "cell_type": "markdown",
      "metadata": {
        "id": "z7fnBRE4zr-t"
      },
      "source": [
        "# 9.a. Check the sampling error for students 3, 7, and 14 (Indices 2, 6 and 13).  Display as a tuple"
      ]
    },
    {
      "cell_type": "code",
      "metadata": {
        "id": "ahhinaWG09bh"
      },
      "source": [
        "from scipy.stats import sem\n",
        "def error_val():\n",
        "  #write code here\n",
        "  err=sem(tt[0][2],tt[0][6],tt[0][12])\n",
        "  return err\n",
        "#write code here\n",
        "print(error_val())"
      ],
      "execution_count": null,
      "outputs": []
    },
    {
      "cell_type": "markdown",
      "metadata": {
        "id": "L30dA40g2MhM"
      },
      "source": [
        "# 9b. Compare the standard deviation of the sample of the 20 means. Is that equal to the standard deviation from student 3 divided by the square root of the sample size? How about for student 7, or 14? (Indices 2, 6 and 13). Print \"True\" or \"False\" boolean value for comparison done for each student.  Display as a tuple\n"
      ]
    },
    {
      "cell_type": "code",
      "metadata": {
        "colab": {
          "base_uri": "https://localhost:8080/"
        },
        "id": "AtKpc8Sx2kMp",
        "outputId": "7b9123b0-e831-4372-82fd-601af617eb92"
      },
      "source": [
        "import math\n",
        "\n",
        "def compare_val():\n",
        "  #write code here\n",
        "  return #write code here\n",
        "#write code here"
      ],
      "execution_count": null,
      "outputs": [
        {
          "output_type": "execute_result",
          "data": {
            "text/plain": [
              "(False, False, False)"
            ]
          },
          "metadata": {},
          "execution_count": 41
        }
      ]
    },
    {
      "cell_type": "markdown",
      "metadata": {
        "id": "BnKDWlDBhtiV"
      },
      "source": [
        "10. Find the Chi sq stat and check whether hypothesis can be rejected"
      ]
    },
    {
      "cell_type": "code",
      "metadata": {
        "id": "U8DC3lwHOJ9Z",
        "colab": {
          "base_uri": "https://localhost:8080/"
        },
        "outputId": "8986b8a3-35db-424a-efc7-c77e014c4165"
      },
      "source": [
        "def chi2():\n",
        "  #write code here\n",
        "  # interpret p-value\n",
        "  stat, p = shapiro(tt.relax)\n",
        "  alpha = 0.05\n",
        "  #write code here\n",
        "  if(p>alpha)  :#write code here\n",
        "    print('Dependent (reject H0)')\n",
        "  else:\n",
        "    print('Independent (H0 holds true)')\n",
        "  \n",
        "#write code here\n",
        "chi2()"
      ],
      "execution_count": null,
      "outputs": [
        {
          "output_type": "stream",
          "name": "stdout",
          "text": [
            "Independent (H0 holds true)\n"
          ]
        }
      ]
    }
  ]
}